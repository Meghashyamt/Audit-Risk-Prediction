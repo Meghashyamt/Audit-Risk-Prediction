{
 "cells": [
  {
   "cell_type": "markdown",
   "metadata": {},
   "source": [
    "# <font color='green'>UCI Audit Risk Project Part 1: Classification\n",
    "### MIS 6V99.003 Machine Learning \n",
    "#### Abhishek Patil \n"
   ]
  },
  {
   "cell_type": "markdown",
   "metadata": {},
   "source": [
    "### Table of Contents:\n",
    "1. [Data Pre-processing](#Data-Pre-processing)\n",
    "    * [Importing Datasets](#Importing-Datasets)\n",
    "    * [Exploring Data](#Exploring-Data)\n",
    "    * [Merging Dataframes](#Merging-Dataframes)\n",
    "    * [Data Cleaning](#Data-Cleaning)\n",
    "    \n",
    "    \n",
    "2. [Correlation Matrix](#Correlation-Matrix)\n",
    "\n",
    "\n",
    "3. [Classification](#Classification)\n",
    "    * [Classification: Train-Test Split](#Classification:-Train-Test-Split)\n",
    "    * [Classification: Feature Scaling](#Classification:-Feature-Scaling)\n",
    "    * [Classification Models](#Classification:-Models)\n",
    "        * [Voting Classifiers](#Voting-Classifiers)\n",
    "            * [Hard Voting Classifier 1](#Hard-Voting-Classifier-1)\n",
    "            * [Hard Voting Classifier 2](#Hard-Voting-Classifier-2)\n",
    "            * [Soft Voting Classifier 1](#Soft-Voting-Classifier-1)\n",
    "            * [Soft Voting Classifier 2](#Soft-Voting-Classifier-2)\n",
    "        * [Bagging](#Bagging)\n",
    "            * [KNN with Bagging](#KNN-with-Bagging)\n",
    "            * [Logistic Regression with Bagging](#Logistic-Regression-with-Bagging)\n",
    "        * [Pasting](#Pasting)\n",
    "            * [Decision Tree with Pasting](#Decision-Tree-with-Pasting)\n",
    "            * [Linear SVC with Pasting](#Linear-SVC-with-Pasting)\n",
    "        * [Adaboost](#Adaboost)\n",
    "            * [Decision Tree with Adaboost](#Decision-Tree-with-Adaboost)\n",
    "            * [Logistic Regression with Adaboost](#Logistic-Regression-with-Adaboost)\n",
    "        * [Gradient Boosting Classifier](#Gradient-Boosting-Classifier)\n",
    "        * [Voting, Boosting, Pasting and Bagging: Generating a Report table](#Voting,-Boosting,-Pasting-and-Bagging:-Generating-a-Report-table)\n",
    "        * [Principal Component Analysis](#Principal-Component-Analysis)\n",
    "            * [KNN Classifier with PCA](#KNN-Classifier-with-PCA)\n",
    "            * [SVM Classifier with PCA](#SVM-Classifier-with-PCA)\n",
    "            * [Logistic Regression with PCA](#Logistic-Regression-with-PCA)\n",
    "            * [Decision Tree Classifier with PCA](#Decision-Tree-Classifier-with-PCA)\n",
    "        * [Generating a Report table: PCA](#Generating-a-Report-table:-PCA)\n",
    "        * [Neural Network Model](#Neural-Network-Model) \n",
    "        \n",
    "        \n",
    "4. [Model Selection](#Model-Selection)   \n",
    "        \n",
    "        \n",
    "        "
   ]
  },
  {
   "cell_type": "markdown",
   "metadata": {},
   "source": [
    "# Data Pre-processing"
   ]
  },
  {
   "cell_type": "code",
   "execution_count": 1,
   "metadata": {},
   "outputs": [],
   "source": [
    "#Importing all the required libraries\n",
    "import warnings\n",
    "warnings.filterwarnings('ignore')\n",
    "import pandas as pd\n",
    "import numpy as np\n",
    "pd.set_option('display.max_columns', 50)"
   ]
  },
  {
   "cell_type": "markdown",
   "metadata": {},
   "source": [
    "## Importing Datasets"
   ]
  },
  {
   "cell_type": "code",
   "execution_count": 2,
   "metadata": {},
   "outputs": [],
   "source": [
    "audit_risk = pd.read_csv(\"audit_risk.csv\")\n",
    "trial = pd.read_csv(\"trial.csv\")"
   ]
  },
  {
   "cell_type": "markdown",
   "metadata": {},
   "source": [
    "## Exploring Data"
   ]
  },
  {
   "cell_type": "code",
   "execution_count": 3,
   "metadata": {},
   "outputs": [
    {
     "data": {
      "text/html": [
       "<div>\n",
       "<style scoped>\n",
       "    .dataframe tbody tr th:only-of-type {\n",
       "        vertical-align: middle;\n",
       "    }\n",
       "\n",
       "    .dataframe tbody tr th {\n",
       "        vertical-align: top;\n",
       "    }\n",
       "\n",
       "    .dataframe thead th {\n",
       "        text-align: right;\n",
       "    }\n",
       "</style>\n",
       "<table border=\"1\" class=\"dataframe\">\n",
       "  <thead>\n",
       "    <tr style=\"text-align: right;\">\n",
       "      <th></th>\n",
       "      <th>Sector_score</th>\n",
       "      <th>PARA_A</th>\n",
       "      <th>Score_A</th>\n",
       "      <th>Risk_A</th>\n",
       "      <th>PARA_B</th>\n",
       "      <th>Score_B</th>\n",
       "      <th>Risk_B</th>\n",
       "      <th>TOTAL</th>\n",
       "      <th>numbers</th>\n",
       "      <th>Score_B.1</th>\n",
       "      <th>Risk_C</th>\n",
       "      <th>Money_Value</th>\n",
       "      <th>Score_MV</th>\n",
       "      <th>Risk_D</th>\n",
       "      <th>District_Loss</th>\n",
       "      <th>PROB</th>\n",
       "      <th>RiSk_E</th>\n",
       "      <th>History</th>\n",
       "      <th>Prob</th>\n",
       "      <th>Risk_F</th>\n",
       "      <th>Score</th>\n",
       "      <th>Inherent_Risk</th>\n",
       "      <th>CONTROL_RISK</th>\n",
       "      <th>Detection_Risk</th>\n",
       "      <th>Audit_Risk</th>\n",
       "      <th>Risk</th>\n",
       "    </tr>\n",
       "  </thead>\n",
       "  <tbody>\n",
       "    <tr>\n",
       "      <th>count</th>\n",
       "      <td>776.000000</td>\n",
       "      <td>776.000000</td>\n",
       "      <td>776.000000</td>\n",
       "      <td>776.000000</td>\n",
       "      <td>776.000000</td>\n",
       "      <td>776.000000</td>\n",
       "      <td>776.000000</td>\n",
       "      <td>776.000000</td>\n",
       "      <td>776.000000</td>\n",
       "      <td>776.000000</td>\n",
       "      <td>776.000000</td>\n",
       "      <td>775.000000</td>\n",
       "      <td>776.000000</td>\n",
       "      <td>776.000000</td>\n",
       "      <td>776.000000</td>\n",
       "      <td>776.000000</td>\n",
       "      <td>776.000000</td>\n",
       "      <td>776.000000</td>\n",
       "      <td>776.000000</td>\n",
       "      <td>776.000000</td>\n",
       "      <td>776.000000</td>\n",
       "      <td>776.000000</td>\n",
       "      <td>776.000000</td>\n",
       "      <td>776.0</td>\n",
       "      <td>776.000000</td>\n",
       "      <td>776.000000</td>\n",
       "    </tr>\n",
       "    <tr>\n",
       "      <th>mean</th>\n",
       "      <td>20.184536</td>\n",
       "      <td>2.450194</td>\n",
       "      <td>0.351289</td>\n",
       "      <td>1.351029</td>\n",
       "      <td>10.799988</td>\n",
       "      <td>0.313144</td>\n",
       "      <td>6.334008</td>\n",
       "      <td>13.218481</td>\n",
       "      <td>5.067655</td>\n",
       "      <td>0.223711</td>\n",
       "      <td>1.152964</td>\n",
       "      <td>14.137631</td>\n",
       "      <td>0.290979</td>\n",
       "      <td>8.265434</td>\n",
       "      <td>2.505155</td>\n",
       "      <td>0.206186</td>\n",
       "      <td>0.519072</td>\n",
       "      <td>0.104381</td>\n",
       "      <td>0.216753</td>\n",
       "      <td>0.053608</td>\n",
       "      <td>2.702577</td>\n",
       "      <td>17.680612</td>\n",
       "      <td>0.572680</td>\n",
       "      <td>0.5</td>\n",
       "      <td>7.168158</td>\n",
       "      <td>0.393041</td>\n",
       "    </tr>\n",
       "    <tr>\n",
       "      <th>std</th>\n",
       "      <td>24.319017</td>\n",
       "      <td>5.678870</td>\n",
       "      <td>0.174055</td>\n",
       "      <td>3.440447</td>\n",
       "      <td>50.083624</td>\n",
       "      <td>0.169804</td>\n",
       "      <td>30.072845</td>\n",
       "      <td>51.312829</td>\n",
       "      <td>0.264449</td>\n",
       "      <td>0.080352</td>\n",
       "      <td>0.537417</td>\n",
       "      <td>66.606519</td>\n",
       "      <td>0.159745</td>\n",
       "      <td>39.970849</td>\n",
       "      <td>1.228678</td>\n",
       "      <td>0.037508</td>\n",
       "      <td>0.290312</td>\n",
       "      <td>0.531031</td>\n",
       "      <td>0.067987</td>\n",
       "      <td>0.305835</td>\n",
       "      <td>0.858923</td>\n",
       "      <td>54.740244</td>\n",
       "      <td>0.444581</td>\n",
       "      <td>0.0</td>\n",
       "      <td>38.667494</td>\n",
       "      <td>0.488741</td>\n",
       "    </tr>\n",
       "    <tr>\n",
       "      <th>min</th>\n",
       "      <td>1.850000</td>\n",
       "      <td>0.000000</td>\n",
       "      <td>0.200000</td>\n",
       "      <td>0.000000</td>\n",
       "      <td>0.000000</td>\n",
       "      <td>0.200000</td>\n",
       "      <td>0.000000</td>\n",
       "      <td>0.000000</td>\n",
       "      <td>5.000000</td>\n",
       "      <td>0.200000</td>\n",
       "      <td>1.000000</td>\n",
       "      <td>0.000000</td>\n",
       "      <td>0.200000</td>\n",
       "      <td>0.000000</td>\n",
       "      <td>2.000000</td>\n",
       "      <td>0.200000</td>\n",
       "      <td>0.400000</td>\n",
       "      <td>0.000000</td>\n",
       "      <td>0.200000</td>\n",
       "      <td>0.000000</td>\n",
       "      <td>2.000000</td>\n",
       "      <td>1.400000</td>\n",
       "      <td>0.400000</td>\n",
       "      <td>0.5</td>\n",
       "      <td>0.280000</td>\n",
       "      <td>0.000000</td>\n",
       "    </tr>\n",
       "    <tr>\n",
       "      <th>25%</th>\n",
       "      <td>2.370000</td>\n",
       "      <td>0.210000</td>\n",
       "      <td>0.200000</td>\n",
       "      <td>0.042000</td>\n",
       "      <td>0.000000</td>\n",
       "      <td>0.200000</td>\n",
       "      <td>0.000000</td>\n",
       "      <td>0.537500</td>\n",
       "      <td>5.000000</td>\n",
       "      <td>0.200000</td>\n",
       "      <td>1.000000</td>\n",
       "      <td>0.000000</td>\n",
       "      <td>0.200000</td>\n",
       "      <td>0.000000</td>\n",
       "      <td>2.000000</td>\n",
       "      <td>0.200000</td>\n",
       "      <td>0.400000</td>\n",
       "      <td>0.000000</td>\n",
       "      <td>0.200000</td>\n",
       "      <td>0.000000</td>\n",
       "      <td>2.000000</td>\n",
       "      <td>1.583500</td>\n",
       "      <td>0.400000</td>\n",
       "      <td>0.5</td>\n",
       "      <td>0.316700</td>\n",
       "      <td>0.000000</td>\n",
       "    </tr>\n",
       "    <tr>\n",
       "      <th>50%</th>\n",
       "      <td>3.890000</td>\n",
       "      <td>0.875000</td>\n",
       "      <td>0.200000</td>\n",
       "      <td>0.175000</td>\n",
       "      <td>0.405000</td>\n",
       "      <td>0.200000</td>\n",
       "      <td>0.081000</td>\n",
       "      <td>1.370000</td>\n",
       "      <td>5.000000</td>\n",
       "      <td>0.200000</td>\n",
       "      <td>1.000000</td>\n",
       "      <td>0.090000</td>\n",
       "      <td>0.200000</td>\n",
       "      <td>0.018000</td>\n",
       "      <td>2.000000</td>\n",
       "      <td>0.200000</td>\n",
       "      <td>0.400000</td>\n",
       "      <td>0.000000</td>\n",
       "      <td>0.200000</td>\n",
       "      <td>0.000000</td>\n",
       "      <td>2.400000</td>\n",
       "      <td>2.214000</td>\n",
       "      <td>0.400000</td>\n",
       "      <td>0.5</td>\n",
       "      <td>0.555600</td>\n",
       "      <td>0.000000</td>\n",
       "    </tr>\n",
       "    <tr>\n",
       "      <th>75%</th>\n",
       "      <td>55.570000</td>\n",
       "      <td>2.480000</td>\n",
       "      <td>0.600000</td>\n",
       "      <td>1.488000</td>\n",
       "      <td>4.160000</td>\n",
       "      <td>0.400000</td>\n",
       "      <td>1.840500</td>\n",
       "      <td>7.707500</td>\n",
       "      <td>5.000000</td>\n",
       "      <td>0.200000</td>\n",
       "      <td>1.000000</td>\n",
       "      <td>5.595000</td>\n",
       "      <td>0.400000</td>\n",
       "      <td>2.235000</td>\n",
       "      <td>2.000000</td>\n",
       "      <td>0.200000</td>\n",
       "      <td>0.400000</td>\n",
       "      <td>0.000000</td>\n",
       "      <td>0.200000</td>\n",
       "      <td>0.000000</td>\n",
       "      <td>3.250000</td>\n",
       "      <td>10.663500</td>\n",
       "      <td>0.400000</td>\n",
       "      <td>0.5</td>\n",
       "      <td>3.249900</td>\n",
       "      <td>1.000000</td>\n",
       "    </tr>\n",
       "    <tr>\n",
       "      <th>max</th>\n",
       "      <td>59.850000</td>\n",
       "      <td>85.000000</td>\n",
       "      <td>0.600000</td>\n",
       "      <td>51.000000</td>\n",
       "      <td>1264.630000</td>\n",
       "      <td>0.600000</td>\n",
       "      <td>758.778000</td>\n",
       "      <td>1268.910000</td>\n",
       "      <td>9.000000</td>\n",
       "      <td>0.600000</td>\n",
       "      <td>5.400000</td>\n",
       "      <td>935.030000</td>\n",
       "      <td>0.600000</td>\n",
       "      <td>561.018000</td>\n",
       "      <td>6.000000</td>\n",
       "      <td>0.600000</td>\n",
       "      <td>2.400000</td>\n",
       "      <td>9.000000</td>\n",
       "      <td>0.600000</td>\n",
       "      <td>5.400000</td>\n",
       "      <td>5.200000</td>\n",
       "      <td>801.262000</td>\n",
       "      <td>5.800000</td>\n",
       "      <td>0.5</td>\n",
       "      <td>961.514400</td>\n",
       "      <td>1.000000</td>\n",
       "    </tr>\n",
       "  </tbody>\n",
       "</table>\n",
       "</div>"
      ],
      "text/plain": [
       "       Sector_score      PARA_A     Score_A      Risk_A       PARA_B  \\\n",
       "count    776.000000  776.000000  776.000000  776.000000   776.000000   \n",
       "mean      20.184536    2.450194    0.351289    1.351029    10.799988   \n",
       "std       24.319017    5.678870    0.174055    3.440447    50.083624   \n",
       "min        1.850000    0.000000    0.200000    0.000000     0.000000   \n",
       "25%        2.370000    0.210000    0.200000    0.042000     0.000000   \n",
       "50%        3.890000    0.875000    0.200000    0.175000     0.405000   \n",
       "75%       55.570000    2.480000    0.600000    1.488000     4.160000   \n",
       "max       59.850000   85.000000    0.600000   51.000000  1264.630000   \n",
       "\n",
       "          Score_B      Risk_B        TOTAL     numbers   Score_B.1  \\\n",
       "count  776.000000  776.000000   776.000000  776.000000  776.000000   \n",
       "mean     0.313144    6.334008    13.218481    5.067655    0.223711   \n",
       "std      0.169804   30.072845    51.312829    0.264449    0.080352   \n",
       "min      0.200000    0.000000     0.000000    5.000000    0.200000   \n",
       "25%      0.200000    0.000000     0.537500    5.000000    0.200000   \n",
       "50%      0.200000    0.081000     1.370000    5.000000    0.200000   \n",
       "75%      0.400000    1.840500     7.707500    5.000000    0.200000   \n",
       "max      0.600000  758.778000  1268.910000    9.000000    0.600000   \n",
       "\n",
       "           Risk_C  Money_Value    Score_MV      Risk_D  District_Loss  \\\n",
       "count  776.000000   775.000000  776.000000  776.000000     776.000000   \n",
       "mean     1.152964    14.137631    0.290979    8.265434       2.505155   \n",
       "std      0.537417    66.606519    0.159745   39.970849       1.228678   \n",
       "min      1.000000     0.000000    0.200000    0.000000       2.000000   \n",
       "25%      1.000000     0.000000    0.200000    0.000000       2.000000   \n",
       "50%      1.000000     0.090000    0.200000    0.018000       2.000000   \n",
       "75%      1.000000     5.595000    0.400000    2.235000       2.000000   \n",
       "max      5.400000   935.030000    0.600000  561.018000       6.000000   \n",
       "\n",
       "             PROB      RiSk_E     History        Prob      Risk_F       Score  \\\n",
       "count  776.000000  776.000000  776.000000  776.000000  776.000000  776.000000   \n",
       "mean     0.206186    0.519072    0.104381    0.216753    0.053608    2.702577   \n",
       "std      0.037508    0.290312    0.531031    0.067987    0.305835    0.858923   \n",
       "min      0.200000    0.400000    0.000000    0.200000    0.000000    2.000000   \n",
       "25%      0.200000    0.400000    0.000000    0.200000    0.000000    2.000000   \n",
       "50%      0.200000    0.400000    0.000000    0.200000    0.000000    2.400000   \n",
       "75%      0.200000    0.400000    0.000000    0.200000    0.000000    3.250000   \n",
       "max      0.600000    2.400000    9.000000    0.600000    5.400000    5.200000   \n",
       "\n",
       "       Inherent_Risk  CONTROL_RISK  Detection_Risk  Audit_Risk        Risk  \n",
       "count     776.000000    776.000000           776.0  776.000000  776.000000  \n",
       "mean       17.680612      0.572680             0.5    7.168158    0.393041  \n",
       "std        54.740244      0.444581             0.0   38.667494    0.488741  \n",
       "min         1.400000      0.400000             0.5    0.280000    0.000000  \n",
       "25%         1.583500      0.400000             0.5    0.316700    0.000000  \n",
       "50%         2.214000      0.400000             0.5    0.555600    0.000000  \n",
       "75%        10.663500      0.400000             0.5    3.249900    1.000000  \n",
       "max       801.262000      5.800000             0.5  961.514400    1.000000  "
      ]
     },
     "execution_count": 3,
     "metadata": {},
     "output_type": "execute_result"
    }
   ],
   "source": [
    "audit_risk.describe()"
   ]
  },
  {
   "cell_type": "code",
   "execution_count": 4,
   "metadata": {
    "scrolled": true
   },
   "outputs": [
    {
     "data": {
      "text/html": [
       "<div>\n",
       "<style scoped>\n",
       "    .dataframe tbody tr th:only-of-type {\n",
       "        vertical-align: middle;\n",
       "    }\n",
       "\n",
       "    .dataframe tbody tr th {\n",
       "        vertical-align: top;\n",
       "    }\n",
       "\n",
       "    .dataframe thead th {\n",
       "        text-align: right;\n",
       "    }\n",
       "</style>\n",
       "<table border=\"1\" class=\"dataframe\">\n",
       "  <thead>\n",
       "    <tr style=\"text-align: right;\">\n",
       "      <th></th>\n",
       "      <th>Sector_score</th>\n",
       "      <th>PARA_A</th>\n",
       "      <th>SCORE_A</th>\n",
       "      <th>PARA_B</th>\n",
       "      <th>SCORE_B</th>\n",
       "      <th>TOTAL</th>\n",
       "      <th>numbers</th>\n",
       "      <th>Marks</th>\n",
       "      <th>Money_Value</th>\n",
       "      <th>MONEY_Marks</th>\n",
       "      <th>District</th>\n",
       "      <th>Loss</th>\n",
       "      <th>LOSS_SCORE</th>\n",
       "      <th>History</th>\n",
       "      <th>History_score</th>\n",
       "      <th>Score</th>\n",
       "      <th>Risk</th>\n",
       "    </tr>\n",
       "  </thead>\n",
       "  <tbody>\n",
       "    <tr>\n",
       "      <th>count</th>\n",
       "      <td>776.000000</td>\n",
       "      <td>776.000000</td>\n",
       "      <td>776.000000</td>\n",
       "      <td>776.000000</td>\n",
       "      <td>776.000000</td>\n",
       "      <td>776.000000</td>\n",
       "      <td>776.000000</td>\n",
       "      <td>776.000000</td>\n",
       "      <td>775.000000</td>\n",
       "      <td>776.000000</td>\n",
       "      <td>776.000000</td>\n",
       "      <td>776.000000</td>\n",
       "      <td>776.000000</td>\n",
       "      <td>776.000000</td>\n",
       "      <td>776.000000</td>\n",
       "      <td>776.000000</td>\n",
       "      <td>776.000000</td>\n",
       "    </tr>\n",
       "    <tr>\n",
       "      <th>mean</th>\n",
       "      <td>20.184536</td>\n",
       "      <td>2.450194</td>\n",
       "      <td>3.512887</td>\n",
       "      <td>10.799988</td>\n",
       "      <td>3.131443</td>\n",
       "      <td>13.218481</td>\n",
       "      <td>5.067655</td>\n",
       "      <td>2.237113</td>\n",
       "      <td>14.137631</td>\n",
       "      <td>2.909794</td>\n",
       "      <td>2.505155</td>\n",
       "      <td>0.029639</td>\n",
       "      <td>2.061856</td>\n",
       "      <td>0.104381</td>\n",
       "      <td>2.167526</td>\n",
       "      <td>2.702577</td>\n",
       "      <td>0.626289</td>\n",
       "    </tr>\n",
       "    <tr>\n",
       "      <th>std</th>\n",
       "      <td>24.319017</td>\n",
       "      <td>5.678870</td>\n",
       "      <td>1.740549</td>\n",
       "      <td>50.083624</td>\n",
       "      <td>1.698042</td>\n",
       "      <td>51.312829</td>\n",
       "      <td>0.264449</td>\n",
       "      <td>0.803517</td>\n",
       "      <td>66.606519</td>\n",
       "      <td>1.597452</td>\n",
       "      <td>1.228678</td>\n",
       "      <td>0.184280</td>\n",
       "      <td>0.375080</td>\n",
       "      <td>0.531031</td>\n",
       "      <td>0.679869</td>\n",
       "      <td>0.858923</td>\n",
       "      <td>0.484100</td>\n",
       "    </tr>\n",
       "    <tr>\n",
       "      <th>min</th>\n",
       "      <td>1.850000</td>\n",
       "      <td>0.000000</td>\n",
       "      <td>2.000000</td>\n",
       "      <td>0.000000</td>\n",
       "      <td>2.000000</td>\n",
       "      <td>0.000000</td>\n",
       "      <td>5.000000</td>\n",
       "      <td>2.000000</td>\n",
       "      <td>0.000000</td>\n",
       "      <td>2.000000</td>\n",
       "      <td>2.000000</td>\n",
       "      <td>0.000000</td>\n",
       "      <td>2.000000</td>\n",
       "      <td>0.000000</td>\n",
       "      <td>2.000000</td>\n",
       "      <td>2.000000</td>\n",
       "      <td>0.000000</td>\n",
       "    </tr>\n",
       "    <tr>\n",
       "      <th>25%</th>\n",
       "      <td>2.370000</td>\n",
       "      <td>0.210000</td>\n",
       "      <td>2.000000</td>\n",
       "      <td>0.000000</td>\n",
       "      <td>2.000000</td>\n",
       "      <td>0.537500</td>\n",
       "      <td>5.000000</td>\n",
       "      <td>2.000000</td>\n",
       "      <td>0.000000</td>\n",
       "      <td>2.000000</td>\n",
       "      <td>2.000000</td>\n",
       "      <td>0.000000</td>\n",
       "      <td>2.000000</td>\n",
       "      <td>0.000000</td>\n",
       "      <td>2.000000</td>\n",
       "      <td>2.000000</td>\n",
       "      <td>0.000000</td>\n",
       "    </tr>\n",
       "    <tr>\n",
       "      <th>50%</th>\n",
       "      <td>3.890000</td>\n",
       "      <td>0.875000</td>\n",
       "      <td>2.000000</td>\n",
       "      <td>0.405000</td>\n",
       "      <td>2.000000</td>\n",
       "      <td>1.370000</td>\n",
       "      <td>5.000000</td>\n",
       "      <td>2.000000</td>\n",
       "      <td>0.090000</td>\n",
       "      <td>2.000000</td>\n",
       "      <td>2.000000</td>\n",
       "      <td>0.000000</td>\n",
       "      <td>2.000000</td>\n",
       "      <td>0.000000</td>\n",
       "      <td>2.000000</td>\n",
       "      <td>2.400000</td>\n",
       "      <td>1.000000</td>\n",
       "    </tr>\n",
       "    <tr>\n",
       "      <th>75%</th>\n",
       "      <td>55.570000</td>\n",
       "      <td>2.480000</td>\n",
       "      <td>6.000000</td>\n",
       "      <td>4.160000</td>\n",
       "      <td>4.000000</td>\n",
       "      <td>7.707500</td>\n",
       "      <td>5.000000</td>\n",
       "      <td>2.000000</td>\n",
       "      <td>5.595000</td>\n",
       "      <td>4.000000</td>\n",
       "      <td>2.000000</td>\n",
       "      <td>0.000000</td>\n",
       "      <td>2.000000</td>\n",
       "      <td>0.000000</td>\n",
       "      <td>2.000000</td>\n",
       "      <td>3.250000</td>\n",
       "      <td>1.000000</td>\n",
       "    </tr>\n",
       "    <tr>\n",
       "      <th>max</th>\n",
       "      <td>59.850000</td>\n",
       "      <td>85.000000</td>\n",
       "      <td>6.000000</td>\n",
       "      <td>1264.630000</td>\n",
       "      <td>6.000000</td>\n",
       "      <td>1268.910000</td>\n",
       "      <td>9.000000</td>\n",
       "      <td>6.000000</td>\n",
       "      <td>935.030000</td>\n",
       "      <td>6.000000</td>\n",
       "      <td>6.000000</td>\n",
       "      <td>2.000000</td>\n",
       "      <td>6.000000</td>\n",
       "      <td>9.000000</td>\n",
       "      <td>6.000000</td>\n",
       "      <td>5.200000</td>\n",
       "      <td>1.000000</td>\n",
       "    </tr>\n",
       "  </tbody>\n",
       "</table>\n",
       "</div>"
      ],
      "text/plain": [
       "       Sector_score      PARA_A     SCORE_A       PARA_B     SCORE_B  \\\n",
       "count    776.000000  776.000000  776.000000   776.000000  776.000000   \n",
       "mean      20.184536    2.450194    3.512887    10.799988    3.131443   \n",
       "std       24.319017    5.678870    1.740549    50.083624    1.698042   \n",
       "min        1.850000    0.000000    2.000000     0.000000    2.000000   \n",
       "25%        2.370000    0.210000    2.000000     0.000000    2.000000   \n",
       "50%        3.890000    0.875000    2.000000     0.405000    2.000000   \n",
       "75%       55.570000    2.480000    6.000000     4.160000    4.000000   \n",
       "max       59.850000   85.000000    6.000000  1264.630000    6.000000   \n",
       "\n",
       "             TOTAL     numbers       Marks  Money_Value  MONEY_Marks  \\\n",
       "count   776.000000  776.000000  776.000000   775.000000   776.000000   \n",
       "mean     13.218481    5.067655    2.237113    14.137631     2.909794   \n",
       "std      51.312829    0.264449    0.803517    66.606519     1.597452   \n",
       "min       0.000000    5.000000    2.000000     0.000000     2.000000   \n",
       "25%       0.537500    5.000000    2.000000     0.000000     2.000000   \n",
       "50%       1.370000    5.000000    2.000000     0.090000     2.000000   \n",
       "75%       7.707500    5.000000    2.000000     5.595000     4.000000   \n",
       "max    1268.910000    9.000000    6.000000   935.030000     6.000000   \n",
       "\n",
       "         District        Loss  LOSS_SCORE     History  History_score  \\\n",
       "count  776.000000  776.000000  776.000000  776.000000     776.000000   \n",
       "mean     2.505155    0.029639    2.061856    0.104381       2.167526   \n",
       "std      1.228678    0.184280    0.375080    0.531031       0.679869   \n",
       "min      2.000000    0.000000    2.000000    0.000000       2.000000   \n",
       "25%      2.000000    0.000000    2.000000    0.000000       2.000000   \n",
       "50%      2.000000    0.000000    2.000000    0.000000       2.000000   \n",
       "75%      2.000000    0.000000    2.000000    0.000000       2.000000   \n",
       "max      6.000000    2.000000    6.000000    9.000000       6.000000   \n",
       "\n",
       "            Score        Risk  \n",
       "count  776.000000  776.000000  \n",
       "mean     2.702577    0.626289  \n",
       "std      0.858923    0.484100  \n",
       "min      2.000000    0.000000  \n",
       "25%      2.000000    0.000000  \n",
       "50%      2.400000    1.000000  \n",
       "75%      3.250000    1.000000  \n",
       "max      5.200000    1.000000  "
      ]
     },
     "execution_count": 4,
     "metadata": {},
     "output_type": "execute_result"
    }
   ],
   "source": [
    "trial.describe()"
   ]
  },
  {
   "cell_type": "markdown",
   "metadata": {},
   "source": [
    "Most columns from the 2 dataframes have similar feature names and also similar description. Some columns are in all capital letters, some have values in multiples of 10. The only columns in **'trial'** that are entirely differrent are **'Loss'** and **'Risk'**."
   ]
  },
  {
   "cell_type": "code",
   "execution_count": 5,
   "metadata": {},
   "outputs": [],
   "source": [
    "#Renaming columns\n",
    "trial.columns = ['Sector_score','LOCATION_ID', 'PARA_A', 'Score_A', 'PARA_B',\n",
    "       'Score_B',  'TOTAL', 'numbers', 'Marks',\n",
    "       'Money_Value', 'MONEY_Marks', 'District',\n",
    "       'Loss', 'LOSS_SCORE', 'History', 'History_score', 'Score', 'Risk_trial' ]"
   ]
  },
  {
   "cell_type": "code",
   "execution_count": 6,
   "metadata": {},
   "outputs": [],
   "source": [
    "trial['Score_A'] = trial['Score_A']/10\n",
    "trial['Score_B'] = trial['Score_B']/10"
   ]
  },
  {
   "cell_type": "markdown",
   "metadata": {},
   "source": [
    "## Merging Dataframes"
   ]
  },
  {
   "cell_type": "code",
   "execution_count": 7,
   "metadata": {},
   "outputs": [
    {
     "data": {
      "text/plain": [
       "array(['History', 'LOCATION_ID', 'Money_Value', 'PARA_A', 'PARA_B',\n",
       "       'Score', 'Score_A', 'Score_B', 'Sector_score', 'TOTAL', 'numbers'],\n",
       "      dtype=object)"
      ]
     },
     "execution_count": 7,
     "metadata": {},
     "output_type": "execute_result"
    }
   ],
   "source": [
    "same_columns = np.intersect1d(audit_risk.columns, trial.columns)\n",
    "same_columns"
   ]
  },
  {
   "cell_type": "code",
   "execution_count": 8,
   "metadata": {},
   "outputs": [
    {
     "data": {
      "text/plain": [
       "Index(['Sector_score', 'LOCATION_ID', 'PARA_A', 'Score_A', 'Risk_A', 'PARA_B',\n",
       "       'Score_B', 'Risk_B', 'TOTAL', 'numbers', 'Score_B.1', 'Risk_C',\n",
       "       'Money_Value', 'Score_MV', 'Risk_D', 'District_Loss', 'PROB', 'RiSk_E',\n",
       "       'History', 'Prob', 'Risk_F', 'Score', 'Inherent_Risk', 'CONTROL_RISK',\n",
       "       'Detection_Risk', 'Audit_Risk', 'Risk', 'Marks', 'MONEY_Marks',\n",
       "       'District', 'Loss', 'LOSS_SCORE', 'History_score', 'Risk_trial'],\n",
       "      dtype='object')"
      ]
     },
     "execution_count": 8,
     "metadata": {},
     "output_type": "execute_result"
    }
   ],
   "source": [
    "# Merge two Dataframes  on common columns  using outer join\n",
    "merged_df = pd.merge(audit_risk, trial, how='outer', on = ['History', 'LOCATION_ID', 'Money_Value', 'PARA_A', 'PARA_B',\n",
    "       'Score', 'Score_A', 'Score_B', 'Sector_score', 'TOTAL', 'numbers'])\n",
    "merged_df.columns"
   ]
  },
  {
   "cell_type": "markdown",
   "metadata": {},
   "source": [
    "The dataframes have been succesfully merged."
   ]
  },
  {
   "cell_type": "markdown",
   "metadata": {},
   "source": [
    "## Data Cleaning"
   ]
  },
  {
   "cell_type": "code",
   "execution_count": 9,
   "metadata": {},
   "outputs": [],
   "source": [
    "df = merged_df.drop(['Risk_trial'], axis = 1)"
   ]
  },
  {
   "cell_type": "markdown",
   "metadata": {},
   "source": [
    "Here, I deleted the 'Risk_trial' column which as originally 'Risk' from 'trial.csv' as it had some values that were different from the 'Risk' column from 'audit_risk.csv'. \n",
    "\n",
    "The paper provided by professor states that the values of 'Audit_Risk' being greater or equal to 1 are classified as 1 and 0 otherwise. \n",
    "\n",
    "This condition is being satisfied by the 'Risk' column in 'audit_risk.csv' and not by the 'Risk' column in 'trial.csv'."
   ]
  },
  {
   "cell_type": "code",
   "execution_count": 10,
   "metadata": {},
   "outputs": [
    {
     "name": "stdout",
     "output_type": "stream",
     "text": [
      "<class 'pandas.core.frame.DataFrame'>\n",
      "Int64Index: 810 entries, 0 to 809\n",
      "Data columns (total 33 columns):\n",
      " #   Column          Non-Null Count  Dtype  \n",
      "---  ------          --------------  -----  \n",
      " 0   Sector_score    810 non-null    float64\n",
      " 1   LOCATION_ID     810 non-null    object \n",
      " 2   PARA_A          810 non-null    float64\n",
      " 3   Score_A         810 non-null    float64\n",
      " 4   Risk_A          810 non-null    float64\n",
      " 5   PARA_B          810 non-null    float64\n",
      " 6   Score_B         810 non-null    float64\n",
      " 7   Risk_B          810 non-null    float64\n",
      " 8   TOTAL           810 non-null    float64\n",
      " 9   numbers         810 non-null    float64\n",
      " 10  Score_B.1       810 non-null    float64\n",
      " 11  Risk_C          810 non-null    float64\n",
      " 12  Money_Value     809 non-null    float64\n",
      " 13  Score_MV        810 non-null    float64\n",
      " 14  Risk_D          810 non-null    float64\n",
      " 15  District_Loss   810 non-null    int64  \n",
      " 16  PROB            810 non-null    float64\n",
      " 17  RiSk_E          810 non-null    float64\n",
      " 18  History         810 non-null    int64  \n",
      " 19  Prob            810 non-null    float64\n",
      " 20  Risk_F          810 non-null    float64\n",
      " 21  Score           810 non-null    float64\n",
      " 22  Inherent_Risk   810 non-null    float64\n",
      " 23  CONTROL_RISK    810 non-null    float64\n",
      " 24  Detection_Risk  810 non-null    float64\n",
      " 25  Audit_Risk      810 non-null    float64\n",
      " 26  Risk            810 non-null    int64  \n",
      " 27  Marks           810 non-null    int64  \n",
      " 28  MONEY_Marks     810 non-null    int64  \n",
      " 29  District        810 non-null    int64  \n",
      " 30  Loss            810 non-null    int64  \n",
      " 31  LOSS_SCORE      810 non-null    int64  \n",
      " 32  History_score   810 non-null    int64  \n",
      "dtypes: float64(23), int64(9), object(1)\n",
      "memory usage: 215.2+ KB\n"
     ]
    }
   ],
   "source": [
    "df.info()"
   ]
  },
  {
   "cell_type": "markdown",
   "metadata": {},
   "source": [
    "Money_Value has 1 missing value."
   ]
  },
  {
   "cell_type": "code",
   "execution_count": 11,
   "metadata": {},
   "outputs": [],
   "source": [
    "#Replacing the missing value by the median of the column\n",
    "df['Money_Value'] = df['Money_Value'].fillna(df['Money_Value'].median())"
   ]
  },
  {
   "cell_type": "code",
   "execution_count": 12,
   "metadata": {},
   "outputs": [
    {
     "data": {
      "text/html": [
       "<div>\n",
       "<style scoped>\n",
       "    .dataframe tbody tr th:only-of-type {\n",
       "        vertical-align: middle;\n",
       "    }\n",
       "\n",
       "    .dataframe tbody tr th {\n",
       "        vertical-align: top;\n",
       "    }\n",
       "\n",
       "    .dataframe thead th {\n",
       "        text-align: right;\n",
       "    }\n",
       "</style>\n",
       "<table border=\"1\" class=\"dataframe\">\n",
       "  <thead>\n",
       "    <tr style=\"text-align: right;\">\n",
       "      <th></th>\n",
       "      <th>Sector_score</th>\n",
       "      <th>PARA_A</th>\n",
       "      <th>Score_A</th>\n",
       "      <th>Risk_A</th>\n",
       "      <th>PARA_B</th>\n",
       "      <th>Score_B</th>\n",
       "      <th>Risk_B</th>\n",
       "      <th>TOTAL</th>\n",
       "      <th>numbers</th>\n",
       "      <th>Score_B.1</th>\n",
       "      <th>Risk_C</th>\n",
       "      <th>Money_Value</th>\n",
       "      <th>Score_MV</th>\n",
       "      <th>Risk_D</th>\n",
       "      <th>District_Loss</th>\n",
       "      <th>PROB</th>\n",
       "      <th>RiSk_E</th>\n",
       "      <th>History</th>\n",
       "      <th>Prob</th>\n",
       "      <th>Risk_F</th>\n",
       "      <th>Score</th>\n",
       "      <th>Inherent_Risk</th>\n",
       "      <th>CONTROL_RISK</th>\n",
       "      <th>Detection_Risk</th>\n",
       "      <th>Audit_Risk</th>\n",
       "      <th>Risk</th>\n",
       "      <th>Marks</th>\n",
       "      <th>MONEY_Marks</th>\n",
       "      <th>District</th>\n",
       "      <th>Loss</th>\n",
       "      <th>LOSS_SCORE</th>\n",
       "      <th>History_score</th>\n",
       "    </tr>\n",
       "  </thead>\n",
       "  <tbody>\n",
       "    <tr>\n",
       "      <th>count</th>\n",
       "      <td>810.000000</td>\n",
       "      <td>810.000000</td>\n",
       "      <td>810.000000</td>\n",
       "      <td>810.000000</td>\n",
       "      <td>810.000000</td>\n",
       "      <td>810.000000</td>\n",
       "      <td>810.000000</td>\n",
       "      <td>810.000000</td>\n",
       "      <td>810.000000</td>\n",
       "      <td>810.000000</td>\n",
       "      <td>810.000000</td>\n",
       "      <td>810.000000</td>\n",
       "      <td>810.000000</td>\n",
       "      <td>810.000000</td>\n",
       "      <td>810.000000</td>\n",
       "      <td>810.000000</td>\n",
       "      <td>810.000000</td>\n",
       "      <td>810.000000</td>\n",
       "      <td>810.000000</td>\n",
       "      <td>810.000000</td>\n",
       "      <td>810.000000</td>\n",
       "      <td>810.000000</td>\n",
       "      <td>810.000000</td>\n",
       "      <td>810.0</td>\n",
       "      <td>810.000000</td>\n",
       "      <td>810.000000</td>\n",
       "      <td>810.000000</td>\n",
       "      <td>810.000000</td>\n",
       "      <td>810.000000</td>\n",
       "      <td>810.000000</td>\n",
       "      <td>810.000000</td>\n",
       "      <td>810.000000</td>\n",
       "    </tr>\n",
       "    <tr>\n",
       "      <th>mean</th>\n",
       "      <td>21.406716</td>\n",
       "      <td>2.348556</td>\n",
       "      <td>0.344938</td>\n",
       "      <td>1.294561</td>\n",
       "      <td>10.347643</td>\n",
       "      <td>0.308395</td>\n",
       "      <td>6.068334</td>\n",
       "      <td>12.665829</td>\n",
       "      <td>5.064815</td>\n",
       "      <td>0.222716</td>\n",
       "      <td>1.146543</td>\n",
       "      <td>13.526807</td>\n",
       "      <td>0.287160</td>\n",
       "      <td>7.918490</td>\n",
       "      <td>2.493827</td>\n",
       "      <td>0.205926</td>\n",
       "      <td>0.516049</td>\n",
       "      <td>0.100000</td>\n",
       "      <td>0.216049</td>\n",
       "      <td>0.051358</td>\n",
       "      <td>2.674074</td>\n",
       "      <td>16.999643</td>\n",
       "      <td>0.567407</td>\n",
       "      <td>0.5</td>\n",
       "      <td>6.881682</td>\n",
       "      <td>0.379012</td>\n",
       "      <td>2.227160</td>\n",
       "      <td>2.871605</td>\n",
       "      <td>2.493827</td>\n",
       "      <td>0.028395</td>\n",
       "      <td>2.059259</td>\n",
       "      <td>2.160494</td>\n",
       "    </tr>\n",
       "    <tr>\n",
       "      <th>std</th>\n",
       "      <td>24.760476</td>\n",
       "      <td>5.579501</td>\n",
       "      <td>0.173042</td>\n",
       "      <td>3.378180</td>\n",
       "      <td>49.067564</td>\n",
       "      <td>0.167741</td>\n",
       "      <td>29.461510</td>\n",
       "      <td>50.292444</td>\n",
       "      <td>0.259188</td>\n",
       "      <td>0.078789</td>\n",
       "      <td>0.526897</td>\n",
       "      <td>65.213233</td>\n",
       "      <td>0.157414</td>\n",
       "      <td>39.157042</td>\n",
       "      <td>1.219166</td>\n",
       "      <td>0.036732</td>\n",
       "      <td>0.287118</td>\n",
       "      <td>0.520174</td>\n",
       "      <td>0.066628</td>\n",
       "      <td>0.299533</td>\n",
       "      <td>0.851869</td>\n",
       "      <td>53.676423</td>\n",
       "      <td>0.437573</td>\n",
       "      <td>0.0</td>\n",
       "      <td>37.871031</td>\n",
       "      <td>0.485441</td>\n",
       "      <td>0.787889</td>\n",
       "      <td>1.574145</td>\n",
       "      <td>1.219166</td>\n",
       "      <td>0.180464</td>\n",
       "      <td>0.367323</td>\n",
       "      <td>0.666277</td>\n",
       "    </tr>\n",
       "    <tr>\n",
       "      <th>min</th>\n",
       "      <td>1.850000</td>\n",
       "      <td>0.000000</td>\n",
       "      <td>0.200000</td>\n",
       "      <td>0.000000</td>\n",
       "      <td>0.000000</td>\n",
       "      <td>0.200000</td>\n",
       "      <td>0.000000</td>\n",
       "      <td>0.000000</td>\n",
       "      <td>5.000000</td>\n",
       "      <td>0.200000</td>\n",
       "      <td>1.000000</td>\n",
       "      <td>0.000000</td>\n",
       "      <td>0.200000</td>\n",
       "      <td>0.000000</td>\n",
       "      <td>2.000000</td>\n",
       "      <td>0.200000</td>\n",
       "      <td>0.400000</td>\n",
       "      <td>0.000000</td>\n",
       "      <td>0.200000</td>\n",
       "      <td>0.000000</td>\n",
       "      <td>2.000000</td>\n",
       "      <td>1.400000</td>\n",
       "      <td>0.400000</td>\n",
       "      <td>0.5</td>\n",
       "      <td>0.280000</td>\n",
       "      <td>0.000000</td>\n",
       "      <td>2.000000</td>\n",
       "      <td>2.000000</td>\n",
       "      <td>2.000000</td>\n",
       "      <td>0.000000</td>\n",
       "      <td>2.000000</td>\n",
       "      <td>2.000000</td>\n",
       "    </tr>\n",
       "    <tr>\n",
       "      <th>25%</th>\n",
       "      <td>2.370000</td>\n",
       "      <td>0.070000</td>\n",
       "      <td>0.200000</td>\n",
       "      <td>0.014000</td>\n",
       "      <td>0.000000</td>\n",
       "      <td>0.200000</td>\n",
       "      <td>0.000000</td>\n",
       "      <td>0.430000</td>\n",
       "      <td>5.000000</td>\n",
       "      <td>0.200000</td>\n",
       "      <td>1.000000</td>\n",
       "      <td>0.000000</td>\n",
       "      <td>0.200000</td>\n",
       "      <td>0.000000</td>\n",
       "      <td>2.000000</td>\n",
       "      <td>0.200000</td>\n",
       "      <td>0.400000</td>\n",
       "      <td>0.000000</td>\n",
       "      <td>0.200000</td>\n",
       "      <td>0.000000</td>\n",
       "      <td>2.000000</td>\n",
       "      <td>1.564500</td>\n",
       "      <td>0.400000</td>\n",
       "      <td>0.5</td>\n",
       "      <td>0.312900</td>\n",
       "      <td>0.000000</td>\n",
       "      <td>2.000000</td>\n",
       "      <td>2.000000</td>\n",
       "      <td>2.000000</td>\n",
       "      <td>0.000000</td>\n",
       "      <td>2.000000</td>\n",
       "      <td>2.000000</td>\n",
       "    </tr>\n",
       "    <tr>\n",
       "      <th>50%</th>\n",
       "      <td>3.890000</td>\n",
       "      <td>0.820000</td>\n",
       "      <td>0.200000</td>\n",
       "      <td>0.164000</td>\n",
       "      <td>0.335000</td>\n",
       "      <td>0.200000</td>\n",
       "      <td>0.067000</td>\n",
       "      <td>1.290000</td>\n",
       "      <td>5.000000</td>\n",
       "      <td>0.200000</td>\n",
       "      <td>1.000000</td>\n",
       "      <td>0.050000</td>\n",
       "      <td>0.200000</td>\n",
       "      <td>0.010000</td>\n",
       "      <td>2.000000</td>\n",
       "      <td>0.200000</td>\n",
       "      <td>0.400000</td>\n",
       "      <td>0.000000</td>\n",
       "      <td>0.200000</td>\n",
       "      <td>0.000000</td>\n",
       "      <td>2.200000</td>\n",
       "      <td>2.116000</td>\n",
       "      <td>0.400000</td>\n",
       "      <td>0.5</td>\n",
       "      <td>0.470800</td>\n",
       "      <td>0.000000</td>\n",
       "      <td>2.000000</td>\n",
       "      <td>2.000000</td>\n",
       "      <td>2.000000</td>\n",
       "      <td>0.000000</td>\n",
       "      <td>2.000000</td>\n",
       "      <td>2.000000</td>\n",
       "    </tr>\n",
       "    <tr>\n",
       "      <th>75%</th>\n",
       "      <td>55.570000</td>\n",
       "      <td>2.397500</td>\n",
       "      <td>0.600000</td>\n",
       "      <td>1.438500</td>\n",
       "      <td>2.985000</td>\n",
       "      <td>0.400000</td>\n",
       "      <td>1.347000</td>\n",
       "      <td>7.337500</td>\n",
       "      <td>5.000000</td>\n",
       "      <td>0.200000</td>\n",
       "      <td>1.000000</td>\n",
       "      <td>4.862500</td>\n",
       "      <td>0.200000</td>\n",
       "      <td>0.972500</td>\n",
       "      <td>2.000000</td>\n",
       "      <td>0.200000</td>\n",
       "      <td>0.400000</td>\n",
       "      <td>0.000000</td>\n",
       "      <td>0.200000</td>\n",
       "      <td>0.000000</td>\n",
       "      <td>3.200000</td>\n",
       "      <td>9.210500</td>\n",
       "      <td>0.400000</td>\n",
       "      <td>0.5</td>\n",
       "      <td>2.882700</td>\n",
       "      <td>1.000000</td>\n",
       "      <td>2.000000</td>\n",
       "      <td>2.000000</td>\n",
       "      <td>2.000000</td>\n",
       "      <td>0.000000</td>\n",
       "      <td>2.000000</td>\n",
       "      <td>2.000000</td>\n",
       "    </tr>\n",
       "    <tr>\n",
       "      <th>max</th>\n",
       "      <td>59.850000</td>\n",
       "      <td>85.000000</td>\n",
       "      <td>0.600000</td>\n",
       "      <td>51.000000</td>\n",
       "      <td>1264.630000</td>\n",
       "      <td>0.600000</td>\n",
       "      <td>758.778000</td>\n",
       "      <td>1268.910000</td>\n",
       "      <td>9.000000</td>\n",
       "      <td>0.600000</td>\n",
       "      <td>5.400000</td>\n",
       "      <td>935.030000</td>\n",
       "      <td>0.600000</td>\n",
       "      <td>561.018000</td>\n",
       "      <td>6.000000</td>\n",
       "      <td>0.600000</td>\n",
       "      <td>2.400000</td>\n",
       "      <td>9.000000</td>\n",
       "      <td>0.600000</td>\n",
       "      <td>5.400000</td>\n",
       "      <td>5.200000</td>\n",
       "      <td>801.262000</td>\n",
       "      <td>5.800000</td>\n",
       "      <td>0.5</td>\n",
       "      <td>961.514400</td>\n",
       "      <td>1.000000</td>\n",
       "      <td>6.000000</td>\n",
       "      <td>6.000000</td>\n",
       "      <td>6.000000</td>\n",
       "      <td>2.000000</td>\n",
       "      <td>6.000000</td>\n",
       "      <td>6.000000</td>\n",
       "    </tr>\n",
       "  </tbody>\n",
       "</table>\n",
       "</div>"
      ],
      "text/plain": [
       "       Sector_score      PARA_A     Score_A      Risk_A       PARA_B  \\\n",
       "count    810.000000  810.000000  810.000000  810.000000   810.000000   \n",
       "mean      21.406716    2.348556    0.344938    1.294561    10.347643   \n",
       "std       24.760476    5.579501    0.173042    3.378180    49.067564   \n",
       "min        1.850000    0.000000    0.200000    0.000000     0.000000   \n",
       "25%        2.370000    0.070000    0.200000    0.014000     0.000000   \n",
       "50%        3.890000    0.820000    0.200000    0.164000     0.335000   \n",
       "75%       55.570000    2.397500    0.600000    1.438500     2.985000   \n",
       "max       59.850000   85.000000    0.600000   51.000000  1264.630000   \n",
       "\n",
       "          Score_B      Risk_B        TOTAL     numbers   Score_B.1  \\\n",
       "count  810.000000  810.000000   810.000000  810.000000  810.000000   \n",
       "mean     0.308395    6.068334    12.665829    5.064815    0.222716   \n",
       "std      0.167741   29.461510    50.292444    0.259188    0.078789   \n",
       "min      0.200000    0.000000     0.000000    5.000000    0.200000   \n",
       "25%      0.200000    0.000000     0.430000    5.000000    0.200000   \n",
       "50%      0.200000    0.067000     1.290000    5.000000    0.200000   \n",
       "75%      0.400000    1.347000     7.337500    5.000000    0.200000   \n",
       "max      0.600000  758.778000  1268.910000    9.000000    0.600000   \n",
       "\n",
       "           Risk_C  Money_Value    Score_MV      Risk_D  District_Loss  \\\n",
       "count  810.000000   810.000000  810.000000  810.000000     810.000000   \n",
       "mean     1.146543    13.526807    0.287160    7.918490       2.493827   \n",
       "std      0.526897    65.213233    0.157414   39.157042       1.219166   \n",
       "min      1.000000     0.000000    0.200000    0.000000       2.000000   \n",
       "25%      1.000000     0.000000    0.200000    0.000000       2.000000   \n",
       "50%      1.000000     0.050000    0.200000    0.010000       2.000000   \n",
       "75%      1.000000     4.862500    0.200000    0.972500       2.000000   \n",
       "max      5.400000   935.030000    0.600000  561.018000       6.000000   \n",
       "\n",
       "             PROB      RiSk_E     History        Prob      Risk_F       Score  \\\n",
       "count  810.000000  810.000000  810.000000  810.000000  810.000000  810.000000   \n",
       "mean     0.205926    0.516049    0.100000    0.216049    0.051358    2.674074   \n",
       "std      0.036732    0.287118    0.520174    0.066628    0.299533    0.851869   \n",
       "min      0.200000    0.400000    0.000000    0.200000    0.000000    2.000000   \n",
       "25%      0.200000    0.400000    0.000000    0.200000    0.000000    2.000000   \n",
       "50%      0.200000    0.400000    0.000000    0.200000    0.000000    2.200000   \n",
       "75%      0.200000    0.400000    0.000000    0.200000    0.000000    3.200000   \n",
       "max      0.600000    2.400000    9.000000    0.600000    5.400000    5.200000   \n",
       "\n",
       "       Inherent_Risk  CONTROL_RISK  Detection_Risk  Audit_Risk        Risk  \\\n",
       "count     810.000000    810.000000           810.0  810.000000  810.000000   \n",
       "mean       16.999643      0.567407             0.5    6.881682    0.379012   \n",
       "std        53.676423      0.437573             0.0   37.871031    0.485441   \n",
       "min         1.400000      0.400000             0.5    0.280000    0.000000   \n",
       "25%         1.564500      0.400000             0.5    0.312900    0.000000   \n",
       "50%         2.116000      0.400000             0.5    0.470800    0.000000   \n",
       "75%         9.210500      0.400000             0.5    2.882700    1.000000   \n",
       "max       801.262000      5.800000             0.5  961.514400    1.000000   \n",
       "\n",
       "            Marks  MONEY_Marks    District        Loss  LOSS_SCORE  \\\n",
       "count  810.000000   810.000000  810.000000  810.000000  810.000000   \n",
       "mean     2.227160     2.871605    2.493827    0.028395    2.059259   \n",
       "std      0.787889     1.574145    1.219166    0.180464    0.367323   \n",
       "min      2.000000     2.000000    2.000000    0.000000    2.000000   \n",
       "25%      2.000000     2.000000    2.000000    0.000000    2.000000   \n",
       "50%      2.000000     2.000000    2.000000    0.000000    2.000000   \n",
       "75%      2.000000     2.000000    2.000000    0.000000    2.000000   \n",
       "max      6.000000     6.000000    6.000000    2.000000    6.000000   \n",
       "\n",
       "       History_score  \n",
       "count     810.000000  \n",
       "mean        2.160494  \n",
       "std         0.666277  \n",
       "min         2.000000  \n",
       "25%         2.000000  \n",
       "50%         2.000000  \n",
       "75%         2.000000  \n",
       "max         6.000000  "
      ]
     },
     "execution_count": 12,
     "metadata": {},
     "output_type": "execute_result"
    }
   ],
   "source": [
    "df.describe()"
   ]
  },
  {
   "cell_type": "markdown",
   "metadata": {},
   "source": [
    "'Detection_Risk' and 'Risk_F' have the same values throughout the columns. Deleting these columns."
   ]
  },
  {
   "cell_type": "code",
   "execution_count": 13,
   "metadata": {},
   "outputs": [
    {
     "name": "stdout",
     "output_type": "stream",
     "text": [
      "<class 'pandas.core.frame.DataFrame'>\n",
      "Int64Index: 810 entries, 0 to 809\n",
      "Data columns (total 31 columns):\n",
      " #   Column         Non-Null Count  Dtype  \n",
      "---  ------         --------------  -----  \n",
      " 0   Sector_score   810 non-null    float64\n",
      " 1   LOCATION_ID    810 non-null    object \n",
      " 2   PARA_A         810 non-null    float64\n",
      " 3   Score_A        810 non-null    float64\n",
      " 4   Risk_A         810 non-null    float64\n",
      " 5   PARA_B         810 non-null    float64\n",
      " 6   Score_B        810 non-null    float64\n",
      " 7   Risk_B         810 non-null    float64\n",
      " 8   TOTAL          810 non-null    float64\n",
      " 9   numbers        810 non-null    float64\n",
      " 10  Score_B.1      810 non-null    float64\n",
      " 11  Risk_C         810 non-null    float64\n",
      " 12  Money_Value    810 non-null    float64\n",
      " 13  Score_MV       810 non-null    float64\n",
      " 14  Risk_D         810 non-null    float64\n",
      " 15  District_Loss  810 non-null    int64  \n",
      " 16  PROB           810 non-null    float64\n",
      " 17  RiSk_E         810 non-null    float64\n",
      " 18  History        810 non-null    int64  \n",
      " 19  Prob           810 non-null    float64\n",
      " 20  Score          810 non-null    float64\n",
      " 21  Inherent_Risk  810 non-null    float64\n",
      " 22  CONTROL_RISK   810 non-null    float64\n",
      " 23  Audit_Risk     810 non-null    float64\n",
      " 24  Risk           810 non-null    int64  \n",
      " 25  Marks          810 non-null    int64  \n",
      " 26  MONEY_Marks    810 non-null    int64  \n",
      " 27  District       810 non-null    int64  \n",
      " 28  Loss           810 non-null    int64  \n",
      " 29  LOSS_SCORE     810 non-null    int64  \n",
      " 30  History_score  810 non-null    int64  \n",
      "dtypes: float64(21), int64(9), object(1)\n",
      "memory usage: 202.5+ KB\n"
     ]
    }
   ],
   "source": [
    "df = df.drop(['Detection_Risk', 'Risk_F'], axis = 1) \n",
    "df.info()"
   ]
  },
  {
   "cell_type": "markdown",
   "metadata": {},
   "source": [
    "LOCATION_ID has object datatype. However there are numerical values in the column. There must be non-numeric values present."
   ]
  },
  {
   "cell_type": "code",
   "execution_count": 14,
   "metadata": {},
   "outputs": [
    {
     "data": {
      "text/plain": [
       "array(['23', '6', '7', '8', '13', '37', '24', '3', '4', '14', '5', '20',\n",
       "       '19', '21', '22', '9', '11', '12', '29', '30', '38', '31', '2',\n",
       "       '32', '16', '33', '15', '36', '34', '18', '25', '39', '27', '35',\n",
       "       '40', '41', '42', '1', '28', 'LOHARU', 'NUH', 'SAFIDON', '43',\n",
       "       '44', '17'], dtype=object)"
      ]
     },
     "execution_count": 14,
     "metadata": {},
     "output_type": "execute_result"
    }
   ],
   "source": [
    "#Unique values in LOCATION_ID column\n",
    "df[\"LOCATION_ID\"].unique()"
   ]
  },
  {
   "cell_type": "code",
   "execution_count": 15,
   "metadata": {},
   "outputs": [
    {
     "name": "stdout",
     "output_type": "stream",
     "text": [
      "These are the number of non-numeric values in LOCATION_ID:  3\n"
     ]
    }
   ],
   "source": [
    "print(\"These are the number of non-numeric values in LOCATION_ID: \", len(df[(df[\"LOCATION_ID\"] == 'LOHARU') | (df[\"LOCATION_ID\"] ==  'NUH') | (df[\"LOCATION_ID\"] == 'SAFIDON')]))"
   ]
  },
  {
   "cell_type": "markdown",
   "metadata": {},
   "source": [
    "Deleting the rows with these 3 values as there is no information about the sequencing of the numbers present in the LOCATION_ID column."
   ]
  },
  {
   "cell_type": "code",
   "execution_count": 16,
   "metadata": {},
   "outputs": [
    {
     "name": "stdout",
     "output_type": "stream",
     "text": [
      "Updated number of rows in the dataset:  807\n"
     ]
    }
   ],
   "source": [
    "df = df[(df.LOCATION_ID != 'LOHARU')]\n",
    "df = df[(df.LOCATION_ID != 'NUH')]\n",
    "df = df[(df.LOCATION_ID != 'SAFIDON')]\n",
    "df = df.astype(float)\n",
    "print(\"Updated number of rows in the dataset: \",len(df))"
   ]
  },
  {
   "cell_type": "markdown",
   "metadata": {},
   "source": [
    "Dropping duplicate values if any. Here the rows which intersected with both dataframes get deleted.  "
   ]
  },
  {
   "cell_type": "code",
   "execution_count": 17,
   "metadata": {},
   "outputs": [
    {
     "name": "stdout",
     "output_type": "stream",
     "text": [
      "Updated number of rows in the dataset:  760\n"
     ]
    }
   ],
   "source": [
    "df = df.drop_duplicates(keep = 'first')\n",
    "print(\"Updated number of rows in the dataset: \",len(df))"
   ]
  },
  {
   "cell_type": "code",
   "execution_count": 18,
   "metadata": {},
   "outputs": [
    {
     "name": "stdout",
     "output_type": "stream",
     "text": [
      "Sector_score : 13\n",
      "LOCATION_ID : 42\n",
      "PARA_A : 362\n",
      "Score_A : 3\n",
      "Risk_A : 362\n",
      "PARA_B : 358\n",
      "Score_B : 3\n",
      "Risk_B : 360\n",
      "TOTAL : 470\n",
      "numbers : 5\n",
      "Score_B.1 : 3\n",
      "Risk_C : 5\n",
      "Money_Value : 327\n",
      "Score_MV : 3\n",
      "Risk_D : 327\n",
      "District_Loss : 3\n",
      "PROB : 3\n",
      "RiSk_E : 5\n",
      "History : 7\n",
      "Prob : 3\n",
      "Score : 17\n",
      "Inherent_Risk : 583\n",
      "CONTROL_RISK : 11\n",
      "Audit_Risk : 600\n",
      "Risk : 2\n",
      "Marks : 3\n",
      "MONEY_Marks : 3\n",
      "District : 3\n",
      "Loss : 3\n",
      "LOSS_SCORE : 3\n",
      "History_score : 3\n"
     ]
    }
   ],
   "source": [
    "#Number of unique values in each columns\n",
    "for i in range(0, len(df.columns)):\n",
    "    print(df.columns[i], \":\", df.iloc[:,i].nunique())"
   ]
  },
  {
   "cell_type": "markdown",
   "metadata": {},
   "source": [
    "# Correlation Matrix"
   ]
  },
  {
   "cell_type": "code",
   "execution_count": 19,
   "metadata": {},
   "outputs": [
    {
     "data": {
      "text/html": [
       "<style type=\"text/css\">\n",
       "#T_d79db_row0_col0, #T_d79db_row1_col1, #T_d79db_row2_col2, #T_d79db_row2_col4, #T_d79db_row3_col3, #T_d79db_row4_col2, #T_d79db_row4_col4, #T_d79db_row5_col5, #T_d79db_row5_col7, #T_d79db_row6_col6, #T_d79db_row7_col5, #T_d79db_row7_col7, #T_d79db_row8_col8, #T_d79db_row9_col9, #T_d79db_row10_col10, #T_d79db_row10_col25, #T_d79db_row11_col11, #T_d79db_row12_col12, #T_d79db_row12_col14, #T_d79db_row13_col13, #T_d79db_row13_col26, #T_d79db_row14_col12, #T_d79db_row14_col14, #T_d79db_row15_col15, #T_d79db_row15_col27, #T_d79db_row16_col16, #T_d79db_row16_col29, #T_d79db_row17_col17, #T_d79db_row18_col18, #T_d79db_row19_col19, #T_d79db_row19_col30, #T_d79db_row20_col20, #T_d79db_row21_col21, #T_d79db_row22_col22, #T_d79db_row23_col23, #T_d79db_row24_col24, #T_d79db_row25_col10, #T_d79db_row25_col25, #T_d79db_row26_col13, #T_d79db_row26_col26, #T_d79db_row27_col15, #T_d79db_row27_col27, #T_d79db_row28_col28, #T_d79db_row29_col16, #T_d79db_row29_col29, #T_d79db_row30_col19, #T_d79db_row30_col30 {\n",
       "  background-color: #c3553a;\n",
       "  color: #f1f1f1;\n",
       "}\n",
       "#T_d79db_row0_col1, #T_d79db_row19_col1, #T_d79db_row30_col1 {\n",
       "  background-color: #578fa0;\n",
       "  color: #f1f1f1;\n",
       "}\n",
       "#T_d79db_row0_col2, #T_d79db_row0_col3, #T_d79db_row0_col4, #T_d79db_row0_col5, #T_d79db_row0_col6, #T_d79db_row0_col7, #T_d79db_row0_col8, #T_d79db_row0_col9, #T_d79db_row0_col10, #T_d79db_row0_col11, #T_d79db_row0_col12, #T_d79db_row0_col13, #T_d79db_row0_col14, #T_d79db_row0_col15, #T_d79db_row0_col16, #T_d79db_row0_col17, #T_d79db_row0_col18, #T_d79db_row0_col19, #T_d79db_row0_col20, #T_d79db_row0_col21, #T_d79db_row0_col22, #T_d79db_row0_col23, #T_d79db_row0_col24, #T_d79db_row0_col25, #T_d79db_row0_col26, #T_d79db_row0_col27, #T_d79db_row0_col28, #T_d79db_row0_col29, #T_d79db_row0_col30, #T_d79db_row1_col23, #T_d79db_row3_col0, #T_d79db_row22_col1 {\n",
       "  background-color: #3f7f93;\n",
       "  color: #f1f1f1;\n",
       "}\n",
       "#T_d79db_row1_col0, #T_d79db_row2_col5, #T_d79db_row2_col11, #T_d79db_row3_col18, #T_d79db_row4_col5, #T_d79db_row4_col7 {\n",
       "  background-color: #a2c0c9;\n",
       "  color: #000000;\n",
       "}\n",
       "#T_d79db_row1_col2, #T_d79db_row13_col15, #T_d79db_row13_col27, #T_d79db_row15_col6, #T_d79db_row16_col8, #T_d79db_row16_col11, #T_d79db_row19_col28, #T_d79db_row21_col15, #T_d79db_row21_col27, #T_d79db_row26_col15, #T_d79db_row26_col27, #T_d79db_row27_col6, #T_d79db_row29_col8, #T_d79db_row29_col11, #T_d79db_row30_col28 {\n",
       "  background-color: #80a9b6;\n",
       "  color: #f1f1f1;\n",
       "}\n",
       "#T_d79db_row1_col3 {\n",
       "  background-color: #c6d7dc;\n",
       "  color: #000000;\n",
       "}\n",
       "#T_d79db_row1_col4, #T_d79db_row5_col15, #T_d79db_row5_col27, #T_d79db_row7_col15, #T_d79db_row7_col27, #T_d79db_row12_col18, #T_d79db_row14_col18, #T_d79db_row16_col10, #T_d79db_row16_col25, #T_d79db_row18_col12, #T_d79db_row18_col14, #T_d79db_row19_col15, #T_d79db_row19_col27, #T_d79db_row28_col8, #T_d79db_row29_col10, #T_d79db_row29_col25, #T_d79db_row30_col15, #T_d79db_row30_col27 {\n",
       "  background-color: #81aab7;\n",
       "  color: #f1f1f1;\n",
       "}\n",
       "#T_d79db_row1_col5, #T_d79db_row12_col15, #T_d79db_row12_col27, #T_d79db_row14_col15, #T_d79db_row14_col27, #T_d79db_row28_col14 {\n",
       "  background-color: #6d9dac;\n",
       "  color: #f1f1f1;\n",
       "}\n",
       "#T_d79db_row1_col6, #T_d79db_row3_col22, #T_d79db_row6_col18, #T_d79db_row12_col8, #T_d79db_row15_col2, #T_d79db_row17_col10, #T_d79db_row17_col25, #T_d79db_row22_col5, #T_d79db_row22_col6, #T_d79db_row22_col7, #T_d79db_row23_col15, #T_d79db_row23_col27, #T_d79db_row27_col2 {\n",
       "  background-color: #aac4cd;\n",
       "  color: #000000;\n",
       "}\n",
       "#T_d79db_row1_col7, #T_d79db_row2_col16, #T_d79db_row2_col29, #T_d79db_row4_col16, #T_d79db_row4_col29, #T_d79db_row5_col16, #T_d79db_row5_col29, #T_d79db_row7_col16, #T_d79db_row7_col29, #T_d79db_row8_col16, #T_d79db_row8_col28, #T_d79db_row8_col29, #T_d79db_row21_col28, #T_d79db_row23_col28 {\n",
       "  background-color: #6c9cab;\n",
       "  color: #f1f1f1;\n",
       "}\n",
       "#T_d79db_row1_col8 {\n",
       "  background-color: #73a1af;\n",
       "  color: #f1f1f1;\n",
       "}\n",
       "#T_d79db_row1_col9, #T_d79db_row17_col12 {\n",
       "  background-color: #72a0af;\n",
       "  color: #f1f1f1;\n",
       "}\n",
       "#T_d79db_row1_col10, #T_d79db_row1_col25, #T_d79db_row15_col12, #T_d79db_row15_col16, #T_d79db_row15_col29, #T_d79db_row16_col12, #T_d79db_row16_col14, #T_d79db_row17_col14, #T_d79db_row18_col28, #T_d79db_row27_col12, #T_d79db_row27_col16, #T_d79db_row27_col29, #T_d79db_row28_col15, #T_d79db_row28_col27, #T_d79db_row29_col12, #T_d79db_row29_col14 {\n",
       "  background-color: #719fae;\n",
       "  color: #f1f1f1;\n",
       "}\n",
       "#T_d79db_row1_col11, #T_d79db_row6_col17, #T_d79db_row15_col14, #T_d79db_row21_col16, #T_d79db_row21_col29, #T_d79db_row27_col14, #T_d79db_row28_col9, #T_d79db_row28_col12, #T_d79db_row28_col23 {\n",
       "  background-color: #6f9fad;\n",
       "  color: #f1f1f1;\n",
       "}\n",
       "#T_d79db_row1_col12 {\n",
       "  background-color: #508a9c;\n",
       "  color: #f1f1f1;\n",
       "}\n",
       "#T_d79db_row1_col13, #T_d79db_row1_col26, #T_d79db_row10_col23, #T_d79db_row13_col18, #T_d79db_row13_col22, #T_d79db_row19_col4, #T_d79db_row20_col17, #T_d79db_row23_col9, #T_d79db_row25_col23, #T_d79db_row26_col18, #T_d79db_row26_col22, #T_d79db_row30_col4 {\n",
       "  background-color: #bacfd6;\n",
       "  color: #000000;\n",
       "}\n",
       "#T_d79db_row1_col14 {\n",
       "  background-color: #4d899b;\n",
       "  color: #f1f1f1;\n",
       "}\n",
       "#T_d79db_row1_col15, #T_d79db_row1_col27 {\n",
       "  background-color: #408094;\n",
       "  color: #f1f1f1;\n",
       "}\n",
       "#T_d79db_row1_col16, #T_d79db_row1_col29, #T_d79db_row11_col28 {\n",
       "  background-color: #5b92a2;\n",
       "  color: #f1f1f1;\n",
       "}\n",
       "#T_d79db_row1_col17, #T_d79db_row1_col18 {\n",
       "  background-color: #498699;\n",
       "  color: #f1f1f1;\n",
       "}\n",
       "#T_d79db_row1_col19, #T_d79db_row1_col30, #T_d79db_row9_col28, #T_d79db_row13_col0, #T_d79db_row26_col0 {\n",
       "  background-color: #5a91a2;\n",
       "  color: #f1f1f1;\n",
       "}\n",
       "#T_d79db_row1_col20, #T_d79db_row5_col4, #T_d79db_row7_col4, #T_d79db_row18_col8, #T_d79db_row24_col18 {\n",
       "  background-color: #b7cdd4;\n",
       "  color: #000000;\n",
       "}\n",
       "#T_d79db_row1_col21, #T_d79db_row4_col1, #T_d79db_row12_col16, #T_d79db_row12_col29, #T_d79db_row14_col16, #T_d79db_row14_col29, #T_d79db_row15_col28, #T_d79db_row16_col1, #T_d79db_row27_col28, #T_d79db_row29_col1 {\n",
       "  background-color: #689aa9;\n",
       "  color: #f1f1f1;\n",
       "}\n",
       "#T_d79db_row1_col22, #T_d79db_row17_col1 {\n",
       "  background-color: #488598;\n",
       "  color: #f1f1f1;\n",
       "}\n",
       "#T_d79db_row1_col24, #T_d79db_row7_col11, #T_d79db_row9_col22, #T_d79db_row11_col8, #T_d79db_row18_col11, #T_d79db_row22_col9, #T_d79db_row24_col14, #T_d79db_row28_col13, #T_d79db_row28_col26 {\n",
       "  background-color: #bdd1d7;\n",
       "  color: #000000;\n",
       "}\n",
       "#T_d79db_row1_col28, #T_d79db_row10_col28, #T_d79db_row25_col28 {\n",
       "  background-color: #5d92a3;\n",
       "  color: #f1f1f1;\n",
       "}\n",
       "#T_d79db_row2_col0, #T_d79db_row6_col0, #T_d79db_row23_col16, #T_d79db_row23_col29, #T_d79db_row28_col10, #T_d79db_row28_col25 {\n",
       "  background-color: #76a3b1;\n",
       "  color: #f1f1f1;\n",
       "}\n",
       "#T_d79db_row2_col1 {\n",
       "  background-color: #6698a8;\n",
       "  color: #f1f1f1;\n",
       "}\n",
       "#T_d79db_row2_col3, #T_d79db_row3_col6, #T_d79db_row13_col6, #T_d79db_row26_col6 {\n",
       "  background-color: #e8cec8;\n",
       "  color: #000000;\n",
       "}\n",
       "#T_d79db_row2_col6, #T_d79db_row2_col12, #T_d79db_row2_col14, #T_d79db_row4_col6, #T_d79db_row4_col12, #T_d79db_row4_col14, #T_d79db_row5_col3, #T_d79db_row5_col6, #T_d79db_row5_col13, #T_d79db_row5_col24, #T_d79db_row5_col26, #T_d79db_row6_col2, #T_d79db_row6_col4, #T_d79db_row7_col3, #T_d79db_row7_col6, #T_d79db_row7_col13, #T_d79db_row7_col24, #T_d79db_row7_col26, #T_d79db_row8_col3, #T_d79db_row8_col6, #T_d79db_row8_col13, #T_d79db_row8_col24, #T_d79db_row8_col26, #T_d79db_row9_col3, #T_d79db_row9_col24, #T_d79db_row10_col3, #T_d79db_row10_col24, #T_d79db_row11_col3, #T_d79db_row11_col24, #T_d79db_row12_col13, #T_d79db_row12_col20, #T_d79db_row12_col24, #T_d79db_row12_col26, #T_d79db_row13_col9, #T_d79db_row14_col13, #T_d79db_row14_col20, #T_d79db_row14_col24, #T_d79db_row14_col26, #T_d79db_row16_col17, #T_d79db_row18_col20, #T_d79db_row19_col3, #T_d79db_row19_col13, #T_d79db_row19_col23, #T_d79db_row19_col24, #T_d79db_row19_col26, #T_d79db_row20_col2, #T_d79db_row20_col4, #T_d79db_row20_col5, #T_d79db_row20_col7, #T_d79db_row20_col8, #T_d79db_row20_col19, #T_d79db_row20_col30, #T_d79db_row21_col3, #T_d79db_row21_col6, #T_d79db_row21_col24, #T_d79db_row22_col20, #T_d79db_row23_col13, #T_d79db_row23_col19, #T_d79db_row23_col20, #T_d79db_row23_col26, #T_d79db_row23_col30, #T_d79db_row24_col2, #T_d79db_row24_col4, #T_d79db_row24_col17, #T_d79db_row24_col22, #T_d79db_row25_col3, #T_d79db_row25_col24, #T_d79db_row26_col9, #T_d79db_row29_col17, #T_d79db_row30_col3, #T_d79db_row30_col13, #T_d79db_row30_col23, #T_d79db_row30_col24, #T_d79db_row30_col26 {\n",
       "  background-color: #f2f2f2;\n",
       "  color: #000000;\n",
       "}\n",
       "#T_d79db_row2_col7, #T_d79db_row8_col12, #T_d79db_row10_col17, #T_d79db_row25_col17, #T_d79db_row28_col6 {\n",
       "  background-color: #a1bfc8;\n",
       "  color: #000000;\n",
       "}\n",
       "#T_d79db_row2_col8, #T_d79db_row16_col3, #T_d79db_row20_col14, #T_d79db_row21_col19, #T_d79db_row21_col30, #T_d79db_row22_col10, #T_d79db_row22_col25, #T_d79db_row23_col4, #T_d79db_row28_col3, #T_d79db_row29_col3 {\n",
       "  background-color: #c9d9de;\n",
       "  color: #000000;\n",
       "}\n",
       "#T_d79db_row2_col9, #T_d79db_row6_col22, #T_d79db_row16_col19, #T_d79db_row16_col30, #T_d79db_row29_col19, #T_d79db_row29_col30 {\n",
       "  background-color: #9cbcc5;\n",
       "  color: #000000;\n",
       "}\n",
       "#T_d79db_row2_col10, #T_d79db_row2_col22, #T_d79db_row2_col25, #T_d79db_row4_col10, #T_d79db_row4_col11, #T_d79db_row4_col22, #T_d79db_row4_col25 {\n",
       "  background-color: #a3c0ca;\n",
       "  color: #000000;\n",
       "}\n",
       "#T_d79db_row2_col13, #T_d79db_row2_col26, #T_d79db_row6_col21, #T_d79db_row13_col12, #T_d79db_row17_col16, #T_d79db_row17_col29, #T_d79db_row18_col24, #T_d79db_row26_col12 {\n",
       "  background-color: #edf0f1;\n",
       "  color: #000000;\n",
       "}\n",
       "#T_d79db_row2_col15, #T_d79db_row2_col27, #T_d79db_row4_col15, #T_d79db_row4_col27, #T_d79db_row5_col14, #T_d79db_row7_col14, #T_d79db_row9_col15, #T_d79db_row9_col27, #T_d79db_row12_col0, #T_d79db_row15_col8, #T_d79db_row16_col2, #T_d79db_row16_col4, #T_d79db_row18_col17, #T_d79db_row27_col8, #T_d79db_row28_col2, #T_d79db_row28_col4, #T_d79db_row29_col2, #T_d79db_row29_col4 {\n",
       "  background-color: #90b4bf;\n",
       "  color: #000000;\n",
       "}\n",
       "#T_d79db_row2_col17, #T_d79db_row4_col17, #T_d79db_row6_col1, #T_d79db_row15_col0, #T_d79db_row20_col28, #T_d79db_row27_col0 {\n",
       "  background-color: #93b6c1;\n",
       "  color: #000000;\n",
       "}\n",
       "#T_d79db_row2_col18, #T_d79db_row3_col17, #T_d79db_row5_col0, #T_d79db_row7_col0, #T_d79db_row13_col1, #T_d79db_row13_col17, #T_d79db_row17_col0, #T_d79db_row19_col12, #T_d79db_row26_col1, #T_d79db_row26_col17, #T_d79db_row30_col12 {\n",
       "  background-color: #8db2bd;\n",
       "  color: #000000;\n",
       "}\n",
       "#T_d79db_row2_col19, #T_d79db_row2_col30, #T_d79db_row4_col19, #T_d79db_row4_col30, #T_d79db_row6_col23, #T_d79db_row9_col12, #T_d79db_row9_col14, #T_d79db_row15_col10, #T_d79db_row15_col25, #T_d79db_row17_col2, #T_d79db_row18_col2, #T_d79db_row27_col10, #T_d79db_row27_col25 {\n",
       "  background-color: #a6c2cb;\n",
       "  color: #000000;\n",
       "}\n",
       "#T_d79db_row2_col20, #T_d79db_row15_col24, #T_d79db_row20_col9, #T_d79db_row27_col24 {\n",
       "  background-color: #efe7e5;\n",
       "  color: #000000;\n",
       "}\n",
       "#T_d79db_row2_col21, #T_d79db_row4_col21, #T_d79db_row4_col24, #T_d79db_row13_col21, #T_d79db_row26_col21 {\n",
       "  background-color: #f1ebea;\n",
       "  color: #000000;\n",
       "}\n",
       "#T_d79db_row2_col23, #T_d79db_row3_col14, #T_d79db_row5_col18, #T_d79db_row6_col14, #T_d79db_row7_col18, #T_d79db_row9_col2, #T_d79db_row9_col18, #T_d79db_row15_col4, #T_d79db_row21_col22, #T_d79db_row24_col23, #T_d79db_row27_col4 {\n",
       "  background-color: #abc5ce;\n",
       "  color: #000000;\n",
       "}\n",
       "#T_d79db_row2_col24 {\n",
       "  background-color: #f1edec;\n",
       "  color: #000000;\n",
       "}\n",
       "#T_d79db_row2_col28, #T_d79db_row4_col28, #T_d79db_row5_col1, #T_d79db_row5_col28, #T_d79db_row7_col1, #T_d79db_row7_col28, #T_d79db_row8_col1, #T_d79db_row9_col1, #T_d79db_row28_col1 {\n",
       "  background-color: #6a9bab;\n",
       "  color: #f1f1f1;\n",
       "}\n",
       "#T_d79db_row3_col1, #T_d79db_row8_col15, #T_d79db_row8_col27, #T_d79db_row11_col0 {\n",
       "  background-color: #84acb8;\n",
       "  color: #f1f1f1;\n",
       "}\n",
       "#T_d79db_row3_col2 {\n",
       "  background-color: #eee2df;\n",
       "  color: #000000;\n",
       "}\n",
       "#T_d79db_row3_col4 {\n",
       "  background-color: #eddfdc;\n",
       "  color: #000000;\n",
       "}\n",
       "#T_d79db_row3_col5, #T_d79db_row3_col7, #T_d79db_row5_col11, #T_d79db_row12_col10, #T_d79db_row12_col25, #T_d79db_row14_col10, #T_d79db_row14_col25, #T_d79db_row22_col28, #T_d79db_row24_col12 {\n",
       "  background-color: #bed2d8;\n",
       "  color: #000000;\n",
       "}\n",
       "#T_d79db_row3_col8, #T_d79db_row6_col19, #T_d79db_row6_col30, #T_d79db_row12_col23, #T_d79db_row14_col23, #T_d79db_row20_col23, #T_d79db_row22_col16, #T_d79db_row22_col29 {\n",
       "  background-color: #d4e0e4;\n",
       "  color: #000000;\n",
       "}\n",
       "#T_d79db_row3_col9, #T_d79db_row8_col11, #T_d79db_row10_col8, #T_d79db_row10_col19, #T_d79db_row10_col30, #T_d79db_row16_col13, #T_d79db_row16_col26, #T_d79db_row18_col6, #T_d79db_row18_col10, #T_d79db_row18_col25, #T_d79db_row24_col7, #T_d79db_row25_col8, #T_d79db_row25_col19, #T_d79db_row25_col30, #T_d79db_row29_col13, #T_d79db_row29_col26 {\n",
       "  background-color: #c0d3d9;\n",
       "  color: #000000;\n",
       "}\n",
       "#T_d79db_row3_col10, #T_d79db_row3_col25, #T_d79db_row9_col21 {\n",
       "  background-color: #d0dde1;\n",
       "  color: #000000;\n",
       "}\n",
       "#T_d79db_row3_col11, #T_d79db_row6_col9 {\n",
       "  background-color: #ccdbe0;\n",
       "  color: #000000;\n",
       "}\n",
       "#T_d79db_row3_col12, #T_d79db_row4_col23, #T_d79db_row6_col12, #T_d79db_row9_col4, #T_d79db_row9_col23, #T_d79db_row20_col15, #T_d79db_row20_col27 {\n",
       "  background-color: #acc6ce;\n",
       "  color: #000000;\n",
       "}\n",
       "#T_d79db_row3_col13, #T_d79db_row3_col26 {\n",
       "  background-color: #ecddd9;\n",
       "  color: #000000;\n",
       "}\n",
       "#T_d79db_row3_col15, #T_d79db_row3_col27, #T_d79db_row10_col0, #T_d79db_row18_col16, #T_d79db_row18_col29, #T_d79db_row21_col0, #T_d79db_row25_col0 {\n",
       "  background-color: #82abb8;\n",
       "  color: #f1f1f1;\n",
       "}\n",
       "#T_d79db_row3_col16, #T_d79db_row3_col29, #T_d79db_row6_col16, #T_d79db_row6_col29, #T_d79db_row15_col18, #T_d79db_row16_col9, #T_d79db_row18_col15, #T_d79db_row18_col27, #T_d79db_row27_col18, #T_d79db_row29_col9 {\n",
       "  background-color: #7ca7b4;\n",
       "  color: #f1f1f1;\n",
       "}\n",
       "#T_d79db_row3_col19, #T_d79db_row3_col30, #T_d79db_row11_col22, #T_d79db_row13_col23, #T_d79db_row26_col23 {\n",
       "  background-color: #c5d6db;\n",
       "  color: #000000;\n",
       "}\n",
       "#T_d79db_row3_col20, #T_d79db_row18_col22, #T_d79db_row23_col21 {\n",
       "  background-color: #d99d8e;\n",
       "  color: #f1f1f1;\n",
       "}\n",
       "#T_d79db_row3_col21, #T_d79db_row6_col7, #T_d79db_row18_col3 {\n",
       "  background-color: #e0e8ea;\n",
       "  color: #000000;\n",
       "}\n",
       "#T_d79db_row3_col23, #T_d79db_row15_col11, #T_d79db_row15_col23, #T_d79db_row17_col23, #T_d79db_row21_col18, #T_d79db_row27_col11, #T_d79db_row27_col23 {\n",
       "  background-color: #a5c1ca;\n",
       "  color: #000000;\n",
       "}\n",
       "#T_d79db_row3_col24 {\n",
       "  background-color: #dfb2a7;\n",
       "  color: #000000;\n",
       "}\n",
       "#T_d79db_row3_col28 {\n",
       "  background-color: #7ba6b3;\n",
       "  color: #f1f1f1;\n",
       "}\n",
       "#T_d79db_row4_col0, #T_d79db_row12_col17, #T_d79db_row14_col17, #T_d79db_row28_col11 {\n",
       "  background-color: #75a2b0;\n",
       "  color: #f1f1f1;\n",
       "}\n",
       "#T_d79db_row4_col3 {\n",
       "  background-color: #e7cbc4;\n",
       "  color: #000000;\n",
       "}\n",
       "#T_d79db_row4_col8, #T_d79db_row17_col3, #T_d79db_row20_col12, #T_d79db_row21_col9, #T_d79db_row23_col10, #T_d79db_row23_col25, #T_d79db_row28_col20 {\n",
       "  background-color: #cbdadf;\n",
       "  color: #000000;\n",
       "}\n",
       "#T_d79db_row4_col9, #T_d79db_row17_col9 {\n",
       "  background-color: #9dbcc6;\n",
       "  color: #000000;\n",
       "}\n",
       "#T_d79db_row4_col13, #T_d79db_row4_col26, #T_d79db_row6_col8, #T_d79db_row24_col15, #T_d79db_row24_col27 {\n",
       "  background-color: #eff1f2;\n",
       "  color: #000000;\n",
       "}\n",
       "#T_d79db_row4_col18, #T_d79db_row17_col8, #T_d79db_row19_col16, #T_d79db_row19_col29, #T_d79db_row28_col19, #T_d79db_row28_col30, #T_d79db_row30_col16, #T_d79db_row30_col29 {\n",
       "  background-color: #8eb3be;\n",
       "  color: #000000;\n",
       "}\n",
       "#T_d79db_row4_col20, #T_d79db_row21_col2 {\n",
       "  background-color: #efe6e4;\n",
       "  color: #000000;\n",
       "}\n",
       "#T_d79db_row5_col2, #T_d79db_row7_col2, #T_d79db_row18_col9 {\n",
       "  background-color: #b4cbd2;\n",
       "  color: #000000;\n",
       "}\n",
       "#T_d79db_row5_col8, #T_d79db_row7_col8, #T_d79db_row8_col5, #T_d79db_row8_col7 {\n",
       "  background-color: #c3573b;\n",
       "  color: #f1f1f1;\n",
       "}\n",
       "#T_d79db_row5_col9, #T_d79db_row7_col9, #T_d79db_row11_col5, #T_d79db_row11_col7, #T_d79db_row11_col23, #T_d79db_row19_col9, #T_d79db_row30_col9 {\n",
       "  background-color: #b5ccd3;\n",
       "  color: #000000;\n",
       "}\n",
       "#T_d79db_row5_col10, #T_d79db_row5_col25, #T_d79db_row7_col10, #T_d79db_row7_col25, #T_d79db_row12_col6, #T_d79db_row14_col6, #T_d79db_row24_col5 {\n",
       "  background-color: #c2d4da;\n",
       "  color: #000000;\n",
       "}\n",
       "#T_d79db_row5_col12, #T_d79db_row7_col12, #T_d79db_row12_col19, #T_d79db_row12_col30, #T_d79db_row14_col0, #T_d79db_row14_col19, #T_d79db_row14_col30, #T_d79db_row15_col21, #T_d79db_row17_col21, #T_d79db_row18_col0, #T_d79db_row27_col21 {\n",
       "  background-color: #92b5c0;\n",
       "  color: #000000;\n",
       "}\n",
       "#T_d79db_row5_col17, #T_d79db_row7_col17, #T_d79db_row13_col28, #T_d79db_row17_col5, #T_d79db_row17_col6, #T_d79db_row17_col7, #T_d79db_row22_col0, #T_d79db_row26_col28, #T_d79db_row28_col21 {\n",
       "  background-color: #85adb9;\n",
       "  color: #f1f1f1;\n",
       "}\n",
       "#T_d79db_row5_col19, #T_d79db_row5_col30, #T_d79db_row7_col19, #T_d79db_row7_col30, #T_d79db_row8_col2, #T_d79db_row19_col5, #T_d79db_row23_col18, #T_d79db_row24_col9, #T_d79db_row30_col5 {\n",
       "  background-color: #d6e1e5;\n",
       "  color: #000000;\n",
       "}\n",
       "#T_d79db_row5_col20, #T_d79db_row7_col20 {\n",
       "  background-color: #f2eeed;\n",
       "  color: #000000;\n",
       "}\n",
       "#T_d79db_row5_col21, #T_d79db_row7_col21 {\n",
       "  background-color: #e1b9af;\n",
       "  color: #000000;\n",
       "}\n",
       "#T_d79db_row5_col22, #T_d79db_row7_col22, #T_d79db_row10_col4, #T_d79db_row11_col4, #T_d79db_row11_col12, #T_d79db_row11_col14, #T_d79db_row18_col5, #T_d79db_row18_col7, #T_d79db_row22_col21, #T_d79db_row23_col17, #T_d79db_row25_col4 {\n",
       "  background-color: #b0c8d0;\n",
       "  color: #000000;\n",
       "}\n",
       "#T_d79db_row5_col23, #T_d79db_row7_col23, #T_d79db_row8_col23 {\n",
       "  background-color: #cd7762;\n",
       "  color: #f1f1f1;\n",
       "}\n",
       "#T_d79db_row6_col3, #T_d79db_row24_col6 {\n",
       "  background-color: #e2bbb2;\n",
       "  color: #000000;\n",
       "}\n",
       "#T_d79db_row6_col5, #T_d79db_row11_col6, #T_d79db_row13_col8, #T_d79db_row17_col20, #T_d79db_row26_col8 {\n",
       "  background-color: #e1e9eb;\n",
       "  color: #000000;\n",
       "}\n",
       "#T_d79db_row6_col10, #T_d79db_row6_col25, #T_d79db_row13_col19, #T_d79db_row13_col30, #T_d79db_row22_col23, #T_d79db_row26_col19, #T_d79db_row26_col30 {\n",
       "  background-color: #dde5e9;\n",
       "  color: #000000;\n",
       "}\n",
       "#T_d79db_row6_col11, #T_d79db_row8_col4, #T_d79db_row11_col21, #T_d79db_row21_col11, #T_d79db_row23_col14 {\n",
       "  background-color: #d8e3e6;\n",
       "  color: #000000;\n",
       "}\n",
       "#T_d79db_row6_col13, #T_d79db_row6_col26 {\n",
       "  background-color: #e5c4bc;\n",
       "  color: #000000;\n",
       "}\n",
       "#T_d79db_row6_col15, #T_d79db_row6_col27 {\n",
       "  background-color: #6196a6;\n",
       "  color: #f1f1f1;\n",
       "}\n",
       "#T_d79db_row6_col20, #T_d79db_row15_col17, #T_d79db_row27_col17 {\n",
       "  background-color: #ca6e57;\n",
       "  color: #f1f1f1;\n",
       "}\n",
       "#T_d79db_row6_col24, #T_d79db_row8_col21 {\n",
       "  background-color: #deaea2;\n",
       "  color: #000000;\n",
       "}\n",
       "#T_d79db_row6_col28, #T_d79db_row22_col12, #T_d79db_row22_col14, #T_d79db_row24_col1 {\n",
       "  background-color: #7ea8b5;\n",
       "  color: #f1f1f1;\n",
       "}\n",
       "#T_d79db_row8_col0, #T_d79db_row9_col0, #T_d79db_row15_col5, #T_d79db_row15_col7, #T_d79db_row16_col21, #T_d79db_row20_col1, #T_d79db_row21_col17, #T_d79db_row27_col5, #T_d79db_row27_col7, #T_d79db_row29_col21 {\n",
       "  background-color: #87aeba;\n",
       "  color: #f1f1f1;\n",
       "}\n",
       "#T_d79db_row8_col9, #T_d79db_row9_col8, #T_d79db_row10_col5, #T_d79db_row10_col7, #T_d79db_row17_col13, #T_d79db_row17_col26, #T_d79db_row19_col2, #T_d79db_row25_col5, #T_d79db_row25_col7, #T_d79db_row30_col2 {\n",
       "  background-color: #b9ced5;\n",
       "  color: #000000;\n",
       "}\n",
       "#T_d79db_row8_col10, #T_d79db_row8_col25, #T_d79db_row19_col11, #T_d79db_row23_col6, #T_d79db_row30_col11 {\n",
       "  background-color: #c3d5db;\n",
       "  color: #000000;\n",
       "}\n",
       "#T_d79db_row8_col14, #T_d79db_row11_col17, #T_d79db_row16_col6, #T_d79db_row29_col6 {\n",
       "  background-color: #9fbec7;\n",
       "  color: #000000;\n",
       "}\n",
       "#T_d79db_row8_col17, #T_d79db_row12_col22, #T_d79db_row14_col22, #T_d79db_row15_col19, #T_d79db_row15_col30, #T_d79db_row27_col19, #T_d79db_row27_col30 {\n",
       "  background-color: #89afbb;\n",
       "  color: #f1f1f1;\n",
       "}\n",
       "#T_d79db_row8_col18, #T_d79db_row10_col2, #T_d79db_row11_col2, #T_d79db_row12_col9, #T_d79db_row14_col9, #T_d79db_row25_col2 {\n",
       "  background-color: #aec7cf;\n",
       "  color: #000000;\n",
       "}\n",
       "#T_d79db_row8_col19, #T_d79db_row8_col30, #T_d79db_row9_col6, #T_d79db_row15_col20, #T_d79db_row22_col13, #T_d79db_row22_col26, #T_d79db_row23_col12, #T_d79db_row27_col20, #T_d79db_row28_col24 {\n",
       "  background-color: #dae4e7;\n",
       "  color: #000000;\n",
       "}\n",
       "#T_d79db_row8_col20, #T_d79db_row13_col10, #T_d79db_row13_col25, #T_d79db_row17_col24, #T_d79db_row21_col4, #T_d79db_row26_col10, #T_d79db_row26_col25 {\n",
       "  background-color: #efe5e2;\n",
       "  color: #000000;\n",
       "}\n",
       "#T_d79db_row8_col22, #T_d79db_row9_col5, #T_d79db_row9_col19, #T_d79db_row9_col30, #T_d79db_row10_col12, #T_d79db_row10_col18, #T_d79db_row18_col21, #T_d79db_row22_col8, #T_d79db_row25_col12, #T_d79db_row25_col18 {\n",
       "  background-color: #b3cad2;\n",
       "  color: #000000;\n",
       "}\n",
       "#T_d79db_row9_col7, #T_d79db_row10_col14, #T_d79db_row11_col18, #T_d79db_row15_col13, #T_d79db_row15_col26, #T_d79db_row22_col2, #T_d79db_row22_col4, #T_d79db_row25_col14, #T_d79db_row27_col13, #T_d79db_row27_col26 {\n",
       "  background-color: #b1c9d1;\n",
       "  color: #000000;\n",
       "}\n",
       "#T_d79db_row9_col10, #T_d79db_row9_col25, #T_d79db_row10_col9, #T_d79db_row17_col15, #T_d79db_row17_col27, #T_d79db_row25_col9 {\n",
       "  background-color: #cb6f58;\n",
       "  color: #f1f1f1;\n",
       "}\n",
       "#T_d79db_row9_col11, #T_d79db_row11_col9 {\n",
       "  background-color: #c66147;\n",
       "  color: #f1f1f1;\n",
       "}\n",
       "#T_d79db_row9_col13, #T_d79db_row9_col26, #T_d79db_row19_col20, #T_d79db_row22_col24, #T_d79db_row30_col20 {\n",
       "  background-color: #eee3e1;\n",
       "  color: #000000;\n",
       "}\n",
       "#T_d79db_row9_col16, #T_d79db_row9_col29, #T_d79db_row10_col16, #T_d79db_row10_col29, #T_d79db_row11_col16, #T_d79db_row11_col29, #T_d79db_row25_col16, #T_d79db_row25_col29 {\n",
       "  background-color: #699baa;\n",
       "  color: #f1f1f1;\n",
       "}\n",
       "#T_d79db_row9_col17, #T_d79db_row10_col15, #T_d79db_row10_col27, #T_d79db_row16_col0, #T_d79db_row25_col15, #T_d79db_row25_col27, #T_d79db_row29_col0 {\n",
       "  background-color: #99bac4;\n",
       "  color: #000000;\n",
       "}\n",
       "#T_d79db_row9_col20, #T_d79db_row20_col10, #T_d79db_row20_col25 {\n",
       "  background-color: #e9d3ce;\n",
       "  color: #000000;\n",
       "}\n",
       "#T_d79db_row10_col1, #T_d79db_row11_col1, #T_d79db_row25_col1 {\n",
       "  background-color: #6396a6;\n",
       "  color: #f1f1f1;\n",
       "}\n",
       "#T_d79db_row10_col6, #T_d79db_row25_col6 {\n",
       "  background-color: #e4eaed;\n",
       "  color: #000000;\n",
       "}\n",
       "#T_d79db_row10_col11, #T_d79db_row11_col10, #T_d79db_row11_col25, #T_d79db_row25_col11 {\n",
       "  background-color: #c3583c;\n",
       "  color: #f1f1f1;\n",
       "}\n",
       "#T_d79db_row10_col13, #T_d79db_row10_col26, #T_d79db_row25_col13, #T_d79db_row25_col26 {\n",
       "  background-color: #ead5d0;\n",
       "  color: #000000;\n",
       "}\n",
       "#T_d79db_row10_col20, #T_d79db_row25_col20 {\n",
       "  background-color: #e4c3bb;\n",
       "  color: #000000;\n",
       "}\n",
       "#T_d79db_row10_col21, #T_d79db_row13_col2, #T_d79db_row16_col24, #T_d79db_row21_col10, #T_d79db_row21_col25, #T_d79db_row25_col21, #T_d79db_row26_col2, #T_d79db_row29_col24 {\n",
       "  background-color: #dbe5e8;\n",
       "  color: #000000;\n",
       "}\n",
       "#T_d79db_row10_col22, #T_d79db_row15_col3, #T_d79db_row19_col10, #T_d79db_row19_col25, #T_d79db_row22_col11, #T_d79db_row23_col2, #T_d79db_row23_col11, #T_d79db_row25_col22, #T_d79db_row27_col3, #T_d79db_row30_col10, #T_d79db_row30_col25 {\n",
       "  background-color: #c8d8dd;\n",
       "  color: #000000;\n",
       "}\n",
       "#T_d79db_row11_col13, #T_d79db_row11_col26, #T_d79db_row20_col11 {\n",
       "  background-color: #ebd7d3;\n",
       "  color: #000000;\n",
       "}\n",
       "#T_d79db_row11_col15, #T_d79db_row11_col27, #T_d79db_row20_col16, #T_d79db_row20_col29, #T_d79db_row23_col0, #T_d79db_row24_col28 {\n",
       "  background-color: #98b9c3;\n",
       "  color: #000000;\n",
       "}\n",
       "#T_d79db_row11_col19, #T_d79db_row11_col30, #T_d79db_row12_col11, #T_d79db_row14_col11 {\n",
       "  background-color: #bcd0d7;\n",
       "  color: #000000;\n",
       "}\n",
       "#T_d79db_row11_col20 {\n",
       "  background-color: #e6c7c0;\n",
       "  color: #000000;\n",
       "}\n",
       "#T_d79db_row12_col1, #T_d79db_row14_col1 {\n",
       "  background-color: #528c9d;\n",
       "  color: #f1f1f1;\n",
       "}\n",
       "#T_d79db_row12_col2, #T_d79db_row12_col4, #T_d79db_row14_col2, #T_d79db_row14_col4 {\n",
       "  background-color: #f2efee;\n",
       "  color: #000000;\n",
       "}\n",
       "#T_d79db_row12_col3, #T_d79db_row14_col3, #T_d79db_row20_col22, #T_d79db_row23_col24 {\n",
       "  background-color: #e8edee;\n",
       "  color: #000000;\n",
       "}\n",
       "#T_d79db_row12_col5, #T_d79db_row12_col7, #T_d79db_row14_col5, #T_d79db_row14_col7, #T_d79db_row19_col17, #T_d79db_row30_col17 {\n",
       "  background-color: #94b7c1;\n",
       "  color: #000000;\n",
       "}\n",
       "#T_d79db_row12_col21, #T_d79db_row14_col21 {\n",
       "  background-color: #d28673;\n",
       "  color: #f1f1f1;\n",
       "}\n",
       "#T_d79db_row12_col28, #T_d79db_row14_col28 {\n",
       "  background-color: #6497a7;\n",
       "  color: #f1f1f1;\n",
       "}\n",
       "#T_d79db_row13_col3, #T_d79db_row26_col3 {\n",
       "  background-color: #e9d2cc;\n",
       "  color: #000000;\n",
       "}\n",
       "#T_d79db_row13_col4, #T_d79db_row17_col28, #T_d79db_row19_col8, #T_d79db_row22_col3, #T_d79db_row26_col4, #T_d79db_row30_col8 {\n",
       "  background-color: #dee6e9;\n",
       "  color: #000000;\n",
       "}\n",
       "#T_d79db_row13_col5, #T_d79db_row13_col7, #T_d79db_row19_col7, #T_d79db_row20_col18, #T_d79db_row26_col5, #T_d79db_row26_col7, #T_d79db_row30_col7 {\n",
       "  background-color: #d5e1e4;\n",
       "  color: #000000;\n",
       "}\n",
       "#T_d79db_row13_col11, #T_d79db_row26_col11 {\n",
       "  background-color: #f0e8e7;\n",
       "  color: #000000;\n",
       "}\n",
       "#T_d79db_row13_col14, #T_d79db_row24_col21, #T_d79db_row26_col14 {\n",
       "  background-color: #eceff1;\n",
       "  color: #000000;\n",
       "}\n",
       "#T_d79db_row13_col16, #T_d79db_row13_col29, #T_d79db_row26_col16, #T_d79db_row26_col29 {\n",
       "  background-color: #8ab0bc;\n",
       "  color: #f1f1f1;\n",
       "}\n",
       "#T_d79db_row13_col20, #T_d79db_row26_col20 {\n",
       "  background-color: #d59281;\n",
       "  color: #f1f1f1;\n",
       "}\n",
       "#T_d79db_row13_col24, #T_d79db_row26_col24 {\n",
       "  background-color: #daa192;\n",
       "  color: #000000;\n",
       "}\n",
       "#T_d79db_row14_col8, #T_d79db_row17_col4, #T_d79db_row17_col11, #T_d79db_row18_col4 {\n",
       "  background-color: #a8c4cc;\n",
       "  color: #000000;\n",
       "}\n",
       "#T_d79db_row15_col1, #T_d79db_row24_col0, #T_d79db_row27_col1 {\n",
       "  background-color: #458396;\n",
       "  color: #f1f1f1;\n",
       "}\n",
       "#T_d79db_row15_col9, #T_d79db_row24_col16, #T_d79db_row24_col29, #T_d79db_row27_col9, #T_d79db_row28_col0 {\n",
       "  background-color: #9bbbc5;\n",
       "  color: #000000;\n",
       "}\n",
       "#T_d79db_row15_col22, #T_d79db_row19_col22, #T_d79db_row27_col22, #T_d79db_row30_col22 {\n",
       "  background-color: #e3beb5;\n",
       "  color: #000000;\n",
       "}\n",
       "#T_d79db_row16_col5, #T_d79db_row28_col5, #T_d79db_row28_col7, #T_d79db_row28_col18, #T_d79db_row29_col5 {\n",
       "  background-color: #7aa5b3;\n",
       "  color: #f1f1f1;\n",
       "}\n",
       "#T_d79db_row16_col7, #T_d79db_row16_col15, #T_d79db_row16_col23, #T_d79db_row16_col27, #T_d79db_row29_col7, #T_d79db_row29_col15, #T_d79db_row29_col23, #T_d79db_row29_col27 {\n",
       "  background-color: #78a4b2;\n",
       "  color: #f1f1f1;\n",
       "}\n",
       "#T_d79db_row16_col18, #T_d79db_row17_col18, #T_d79db_row19_col0, #T_d79db_row19_col14, #T_d79db_row29_col18, #T_d79db_row30_col0, #T_d79db_row30_col14 {\n",
       "  background-color: #8bb1bc;\n",
       "  color: #f1f1f1;\n",
       "}\n",
       "#T_d79db_row16_col20, #T_d79db_row28_col22, #T_d79db_row29_col20 {\n",
       "  background-color: #cddce0;\n",
       "  color: #000000;\n",
       "}\n",
       "#T_d79db_row16_col22, #T_d79db_row18_col13, #T_d79db_row18_col26, #T_d79db_row19_col6, #T_d79db_row29_col22, #T_d79db_row30_col6 {\n",
       "  background-color: #e3e9ec;\n",
       "  color: #000000;\n",
       "}\n",
       "#T_d79db_row16_col28, #T_d79db_row28_col16, #T_d79db_row28_col29, #T_d79db_row29_col28 {\n",
       "  background-color: #c45a3f;\n",
       "  color: #f1f1f1;\n",
       "}\n",
       "#T_d79db_row17_col19, #T_d79db_row17_col30 {\n",
       "  background-color: #96b7c2;\n",
       "  color: #000000;\n",
       "}\n",
       "#T_d79db_row17_col22, #T_d79db_row24_col13, #T_d79db_row24_col26 {\n",
       "  background-color: #dba597;\n",
       "  color: #000000;\n",
       "}\n",
       "#T_d79db_row18_col1 {\n",
       "  background-color: #4c889a;\n",
       "  color: #f1f1f1;\n",
       "}\n",
       "#T_d79db_row18_col19, #T_d79db_row18_col30 {\n",
       "  background-color: #cf7e69;\n",
       "  color: #f1f1f1;\n",
       "}\n",
       "#T_d79db_row18_col23, #T_d79db_row24_col8 {\n",
       "  background-color: #d2dfe3;\n",
       "  color: #000000;\n",
       "}\n",
       "#T_d79db_row19_col18, #T_d79db_row30_col18 {\n",
       "  background-color: #d0806c;\n",
       "  color: #f1f1f1;\n",
       "}\n",
       "#T_d79db_row19_col21, #T_d79db_row24_col19, #T_d79db_row24_col30, #T_d79db_row30_col21 {\n",
       "  background-color: #d1dee2;\n",
       "  color: #000000;\n",
       "}\n",
       "#T_d79db_row20_col0 {\n",
       "  background-color: #558e9f;\n",
       "  color: #f1f1f1;\n",
       "}\n",
       "#T_d79db_row20_col3 {\n",
       "  background-color: #d79989;\n",
       "  color: #f1f1f1;\n",
       "}\n",
       "#T_d79db_row20_col6 {\n",
       "  background-color: #cb715a;\n",
       "  color: #f1f1f1;\n",
       "}\n",
       "#T_d79db_row20_col13, #T_d79db_row20_col26 {\n",
       "  background-color: #d69383;\n",
       "  color: #f1f1f1;\n",
       "}\n",
       "#T_d79db_row20_col21 {\n",
       "  background-color: #f2f0f0;\n",
       "  color: #000000;\n",
       "}\n",
       "#T_d79db_row20_col24, #T_d79db_row21_col12, #T_d79db_row21_col14 {\n",
       "  background-color: #d38976;\n",
       "  color: #f1f1f1;\n",
       "}\n",
       "#T_d79db_row21_col1 {\n",
       "  background-color: #5890a1;\n",
       "  color: #f1f1f1;\n",
       "}\n",
       "#T_d79db_row21_col5, #T_d79db_row21_col7 {\n",
       "  background-color: #e2bdb3;\n",
       "  color: #000000;\n",
       "}\n",
       "#T_d79db_row21_col8, #T_d79db_row24_col3 {\n",
       "  background-color: #dfb0a5;\n",
       "  color: #000000;\n",
       "}\n",
       "#T_d79db_row21_col13, #T_d79db_row21_col26 {\n",
       "  background-color: #ebdad5;\n",
       "  color: #000000;\n",
       "}\n",
       "#T_d79db_row21_col20 {\n",
       "  background-color: #eddeda;\n",
       "  color: #000000;\n",
       "}\n",
       "#T_d79db_row21_col23 {\n",
       "  background-color: #daa294;\n",
       "  color: #000000;\n",
       "}\n",
       "#T_d79db_row22_col15, #T_d79db_row22_col27 {\n",
       "  background-color: #e4c2ba;\n",
       "  color: #000000;\n",
       "}\n",
       "#T_d79db_row22_col17 {\n",
       "  background-color: #dca699;\n",
       "  color: #000000;\n",
       "}\n",
       "#T_d79db_row22_col18 {\n",
       "  background-color: #d99f91;\n",
       "  color: #000000;\n",
       "}\n",
       "#T_d79db_row22_col19, #T_d79db_row22_col30 {\n",
       "  background-color: #e3c0b7;\n",
       "  color: #000000;\n",
       "}\n",
       "#T_d79db_row23_col1 {\n",
       "  background-color: #4b8799;\n",
       "  color: #f1f1f1;\n",
       "}\n",
       "#T_d79db_row23_col3, #T_d79db_row24_col11 {\n",
       "  background-color: #e6ebed;\n",
       "  color: #000000;\n",
       "}\n",
       "#T_d79db_row23_col5, #T_d79db_row23_col7 {\n",
       "  background-color: #cd7660;\n",
       "  color: #f1f1f1;\n",
       "}\n",
       "#T_d79db_row23_col8 {\n",
       "  background-color: #cc755f;\n",
       "  color: #f1f1f1;\n",
       "}\n",
       "#T_d79db_row23_col22, #T_d79db_row28_col17 {\n",
       "  background-color: #e9edef;\n",
       "  color: #000000;\n",
       "}\n",
       "#T_d79db_row24_col10, #T_d79db_row24_col25 {\n",
       "  background-color: #eaeef0;\n",
       "  color: #000000;\n",
       "}\n",
       "#T_d79db_row24_col20 {\n",
       "  background-color: #d38b79;\n",
       "  color: #f1f1f1;\n",
       "}\n",
       "</style>\n",
       "<table id=\"T_d79db\">\n",
       "  <thead>\n",
       "    <tr>\n",
       "      <th class=\"blank level0\" >&nbsp;</th>\n",
       "      <th id=\"T_d79db_level0_col0\" class=\"col_heading level0 col0\" >Sector_score</th>\n",
       "      <th id=\"T_d79db_level0_col1\" class=\"col_heading level0 col1\" >LOCATION_ID</th>\n",
       "      <th id=\"T_d79db_level0_col2\" class=\"col_heading level0 col2\" >PARA_A</th>\n",
       "      <th id=\"T_d79db_level0_col3\" class=\"col_heading level0 col3\" >Score_A</th>\n",
       "      <th id=\"T_d79db_level0_col4\" class=\"col_heading level0 col4\" >Risk_A</th>\n",
       "      <th id=\"T_d79db_level0_col5\" class=\"col_heading level0 col5\" >PARA_B</th>\n",
       "      <th id=\"T_d79db_level0_col6\" class=\"col_heading level0 col6\" >Score_B</th>\n",
       "      <th id=\"T_d79db_level0_col7\" class=\"col_heading level0 col7\" >Risk_B</th>\n",
       "      <th id=\"T_d79db_level0_col8\" class=\"col_heading level0 col8\" >TOTAL</th>\n",
       "      <th id=\"T_d79db_level0_col9\" class=\"col_heading level0 col9\" >numbers</th>\n",
       "      <th id=\"T_d79db_level0_col10\" class=\"col_heading level0 col10\" >Score_B.1</th>\n",
       "      <th id=\"T_d79db_level0_col11\" class=\"col_heading level0 col11\" >Risk_C</th>\n",
       "      <th id=\"T_d79db_level0_col12\" class=\"col_heading level0 col12\" >Money_Value</th>\n",
       "      <th id=\"T_d79db_level0_col13\" class=\"col_heading level0 col13\" >Score_MV</th>\n",
       "      <th id=\"T_d79db_level0_col14\" class=\"col_heading level0 col14\" >Risk_D</th>\n",
       "      <th id=\"T_d79db_level0_col15\" class=\"col_heading level0 col15\" >District_Loss</th>\n",
       "      <th id=\"T_d79db_level0_col16\" class=\"col_heading level0 col16\" >PROB</th>\n",
       "      <th id=\"T_d79db_level0_col17\" class=\"col_heading level0 col17\" >RiSk_E</th>\n",
       "      <th id=\"T_d79db_level0_col18\" class=\"col_heading level0 col18\" >History</th>\n",
       "      <th id=\"T_d79db_level0_col19\" class=\"col_heading level0 col19\" >Prob</th>\n",
       "      <th id=\"T_d79db_level0_col20\" class=\"col_heading level0 col20\" >Score</th>\n",
       "      <th id=\"T_d79db_level0_col21\" class=\"col_heading level0 col21\" >Inherent_Risk</th>\n",
       "      <th id=\"T_d79db_level0_col22\" class=\"col_heading level0 col22\" >CONTROL_RISK</th>\n",
       "      <th id=\"T_d79db_level0_col23\" class=\"col_heading level0 col23\" >Audit_Risk</th>\n",
       "      <th id=\"T_d79db_level0_col24\" class=\"col_heading level0 col24\" >Risk</th>\n",
       "      <th id=\"T_d79db_level0_col25\" class=\"col_heading level0 col25\" >Marks</th>\n",
       "      <th id=\"T_d79db_level0_col26\" class=\"col_heading level0 col26\" >MONEY_Marks</th>\n",
       "      <th id=\"T_d79db_level0_col27\" class=\"col_heading level0 col27\" >District</th>\n",
       "      <th id=\"T_d79db_level0_col28\" class=\"col_heading level0 col28\" >Loss</th>\n",
       "      <th id=\"T_d79db_level0_col29\" class=\"col_heading level0 col29\" >LOSS_SCORE</th>\n",
       "      <th id=\"T_d79db_level0_col30\" class=\"col_heading level0 col30\" >History_score</th>\n",
       "    </tr>\n",
       "  </thead>\n",
       "  <tbody>\n",
       "    <tr>\n",
       "      <th id=\"T_d79db_level0_row0\" class=\"row_heading level0 row0\" >Sector_score</th>\n",
       "      <td id=\"T_d79db_row0_col0\" class=\"data row0 col0\" >1.00</td>\n",
       "      <td id=\"T_d79db_row0_col1\" class=\"data row0 col1\" >-0.05</td>\n",
       "      <td id=\"T_d79db_row0_col2\" class=\"data row0 col2\" >-0.21</td>\n",
       "      <td id=\"T_d79db_row0_col3\" class=\"data row0 col3\" >-0.42</td>\n",
       "      <td id=\"T_d79db_row0_col4\" class=\"data row0 col4\" >-0.22</td>\n",
       "      <td id=\"T_d79db_row0_col5\" class=\"data row0 col5\" >-0.13</td>\n",
       "      <td id=\"T_d79db_row0_col6\" class=\"data row0 col6\" >-0.21</td>\n",
       "      <td id=\"T_d79db_row0_col7\" class=\"data row0 col7\" >-0.13</td>\n",
       "      <td id=\"T_d79db_row0_col8\" class=\"data row0 col8\" >-0.15</td>\n",
       "      <td id=\"T_d79db_row0_col9\" class=\"data row0 col9\" >-0.15</td>\n",
       "      <td id=\"T_d79db_row0_col10\" class=\"data row0 col10\" >-0.17</td>\n",
       "      <td id=\"T_d79db_row0_col11\" class=\"data row0 col11\" >-0.16</td>\n",
       "      <td id=\"T_d79db_row0_col12\" class=\"data row0 col12\" >-0.12</td>\n",
       "      <td id=\"T_d79db_row0_col13\" class=\"data row0 col13\" >-0.32</td>\n",
       "      <td id=\"T_d79db_row0_col14\" class=\"data row0 col14\" >-0.11</td>\n",
       "      <td id=\"T_d79db_row0_col15\" class=\"data row0 col15\" >-0.11</td>\n",
       "      <td id=\"T_d79db_row0_col16\" class=\"data row0 col16\" >-0.09</td>\n",
       "      <td id=\"T_d79db_row0_col17\" class=\"data row0 col17\" >-0.13</td>\n",
       "      <td id=\"T_d79db_row0_col18\" class=\"data row0 col18\" >-0.11</td>\n",
       "      <td id=\"T_d79db_row0_col19\" class=\"data row0 col19\" >-0.14</td>\n",
       "      <td id=\"T_d79db_row0_col20\" class=\"data row0 col20\" >-0.33</td>\n",
       "      <td id=\"T_d79db_row0_col21\" class=\"data row0 col21\" >-0.17</td>\n",
       "      <td id=\"T_d79db_row0_col22\" class=\"data row0 col22\" >-0.16</td>\n",
       "      <td id=\"T_d79db_row0_col23\" class=\"data row0 col23\" >-0.09</td>\n",
       "      <td id=\"T_d79db_row0_col24\" class=\"data row0 col24\" >-0.39</td>\n",
       "      <td id=\"T_d79db_row0_col25\" class=\"data row0 col25\" >-0.17</td>\n",
       "      <td id=\"T_d79db_row0_col26\" class=\"data row0 col26\" >-0.32</td>\n",
       "      <td id=\"T_d79db_row0_col27\" class=\"data row0 col27\" >-0.11</td>\n",
       "      <td id=\"T_d79db_row0_col28\" class=\"data row0 col28\" >-0.08</td>\n",
       "      <td id=\"T_d79db_row0_col29\" class=\"data row0 col29\" >-0.09</td>\n",
       "      <td id=\"T_d79db_row0_col30\" class=\"data row0 col30\" >-0.14</td>\n",
       "    </tr>\n",
       "    <tr>\n",
       "      <th id=\"T_d79db_level0_row1\" class=\"row_heading level0 row1\" >LOCATION_ID</th>\n",
       "      <td id=\"T_d79db_row1_col0\" class=\"data row1 col0\" >-0.05</td>\n",
       "      <td id=\"T_d79db_row1_col1\" class=\"data row1 col1\" >1.00</td>\n",
       "      <td id=\"T_d79db_row1_col2\" class=\"data row1 col2\" >-0.01</td>\n",
       "      <td id=\"T_d79db_row1_col3\" class=\"data row1 col3\" >0.08</td>\n",
       "      <td id=\"T_d79db_row1_col4\" class=\"data row1 col4\" >-0.00</td>\n",
       "      <td id=\"T_d79db_row1_col5\" class=\"data row1 col5\" >0.01</td>\n",
       "      <td id=\"T_d79db_row1_col6\" class=\"data row1 col6\" >0.13</td>\n",
       "      <td id=\"T_d79db_row1_col7\" class=\"data row1 col7\" >0.01</td>\n",
       "      <td id=\"T_d79db_row1_col8\" class=\"data row1 col8\" >0.01</td>\n",
       "      <td id=\"T_d79db_row1_col9\" class=\"data row1 col9\" >0.01</td>\n",
       "      <td id=\"T_d79db_row1_col10\" class=\"data row1 col10\" >-0.02</td>\n",
       "      <td id=\"T_d79db_row1_col11\" class=\"data row1 col11\" >-0.02</td>\n",
       "      <td id=\"T_d79db_row1_col12\" class=\"data row1 col12\" >-0.07</td>\n",
       "      <td id=\"T_d79db_row1_col13\" class=\"data row1 col13\" >0.11</td>\n",
       "      <td id=\"T_d79db_row1_col14\" class=\"data row1 col14\" >-0.07</td>\n",
       "      <td id=\"T_d79db_row1_col15\" class=\"data row1 col15\" >-0.11</td>\n",
       "      <td id=\"T_d79db_row1_col16\" class=\"data row1 col16\" >-0.00</td>\n",
       "      <td id=\"T_d79db_row1_col17\" class=\"data row1 col17\" >-0.10</td>\n",
       "      <td id=\"T_d79db_row1_col18\" class=\"data row1 col18\" >-0.08</td>\n",
       "      <td id=\"T_d79db_row1_col19\" class=\"data row1 col19\" >-0.05</td>\n",
       "      <td id=\"T_d79db_row1_col20\" class=\"data row1 col20\" >0.09</td>\n",
       "      <td id=\"T_d79db_row1_col21\" class=\"data row1 col21\" >-0.05</td>\n",
       "      <td id=\"T_d79db_row1_col22\" class=\"data row1 col22\" >-0.12</td>\n",
       "      <td id=\"T_d79db_row1_col23\" class=\"data row1 col23\" >-0.09</td>\n",
       "      <td id=\"T_d79db_row1_col24\" class=\"data row1 col24\" >0.06</td>\n",
       "      <td id=\"T_d79db_row1_col25\" class=\"data row1 col25\" >-0.02</td>\n",
       "      <td id=\"T_d79db_row1_col26\" class=\"data row1 col26\" >0.11</td>\n",
       "      <td id=\"T_d79db_row1_col27\" class=\"data row1 col27\" >-0.11</td>\n",
       "      <td id=\"T_d79db_row1_col28\" class=\"data row1 col28\" >0.01</td>\n",
       "      <td id=\"T_d79db_row1_col29\" class=\"data row1 col29\" >-0.00</td>\n",
       "      <td id=\"T_d79db_row1_col30\" class=\"data row1 col30\" >-0.05</td>\n",
       "    </tr>\n",
       "    <tr>\n",
       "      <th id=\"T_d79db_level0_row2\" class=\"row_heading level0 row2\" >PARA_A</th>\n",
       "      <td id=\"T_d79db_row2_col0\" class=\"data row2 col0\" >-0.21</td>\n",
       "      <td id=\"T_d79db_row2_col1\" class=\"data row2 col1\" >-0.01</td>\n",
       "      <td id=\"T_d79db_row2_col2\" class=\"data row2 col2\" >1.00</td>\n",
       "      <td id=\"T_d79db_row2_col3\" class=\"data row2 col3\" >0.49</td>\n",
       "      <td id=\"T_d79db_row2_col4\" class=\"data row2 col4\" >1.00</td>\n",
       "      <td id=\"T_d79db_row2_col5\" class=\"data row2 col5\" >0.16</td>\n",
       "      <td id=\"T_d79db_row2_col6\" class=\"data row2 col6\" >0.36</td>\n",
       "      <td id=\"T_d79db_row2_col7\" class=\"data row2 col7\" >0.16</td>\n",
       "      <td id=\"T_d79db_row2_col8\" class=\"data row2 col8\" >0.27</td>\n",
       "      <td id=\"T_d79db_row2_col9\" class=\"data row2 col9\" >0.13</td>\n",
       "      <td id=\"T_d79db_row2_col10\" class=\"data row2 col10\" >0.14</td>\n",
       "      <td id=\"T_d79db_row2_col11\" class=\"data row2 col11\" >0.14</td>\n",
       "      <td id=\"T_d79db_row2_col12\" class=\"data row2 col12\" >0.45</td>\n",
       "      <td id=\"T_d79db_row2_col13\" class=\"data row2 col13\" >0.28</td>\n",
       "      <td id=\"T_d79db_row2_col14\" class=\"data row2 col14\" >0.45</td>\n",
       "      <td id=\"T_d79db_row2_col15\" class=\"data row2 col15\" >0.13</td>\n",
       "      <td id=\"T_d79db_row2_col16\" class=\"data row2 col16\" >0.04</td>\n",
       "      <td id=\"T_d79db_row2_col17\" class=\"data row2 col17\" >0.12</td>\n",
       "      <td id=\"T_d79db_row2_col18\" class=\"data row2 col18\" >0.12</td>\n",
       "      <td id=\"T_d79db_row2_col19\" class=\"data row2 col19\" >0.17</td>\n",
       "      <td id=\"T_d79db_row2_col20\" class=\"data row2 col20\" >0.42</td>\n",
       "      <td id=\"T_d79db_row2_col21\" class=\"data row2 col21\" >0.48</td>\n",
       "      <td id=\"T_d79db_row2_col22\" class=\"data row2 col22\" >0.15</td>\n",
       "      <td id=\"T_d79db_row2_col23\" class=\"data row2 col23\" >0.22</td>\n",
       "      <td id=\"T_d79db_row2_col24\" class=\"data row2 col24\" >0.38</td>\n",
       "      <td id=\"T_d79db_row2_col25\" class=\"data row2 col25\" >0.14</td>\n",
       "      <td id=\"T_d79db_row2_col26\" class=\"data row2 col26\" >0.28</td>\n",
       "      <td id=\"T_d79db_row2_col27\" class=\"data row2 col27\" >0.13</td>\n",
       "      <td id=\"T_d79db_row2_col28\" class=\"data row2 col28\" >0.04</td>\n",
       "      <td id=\"T_d79db_row2_col29\" class=\"data row2 col29\" >0.04</td>\n",
       "      <td id=\"T_d79db_row2_col30\" class=\"data row2 col30\" >0.17</td>\n",
       "    </tr>\n",
       "    <tr>\n",
       "      <th id=\"T_d79db_level0_row3\" class=\"row_heading level0 row3\" >Score_A</th>\n",
       "      <td id=\"T_d79db_row3_col0\" class=\"data row3 col0\" >-0.42</td>\n",
       "      <td id=\"T_d79db_row3_col1\" class=\"data row3 col1\" >0.08</td>\n",
       "      <td id=\"T_d79db_row3_col2\" class=\"data row3 col2\" >0.49</td>\n",
       "      <td id=\"T_d79db_row3_col3\" class=\"data row3 col3\" >1.00</td>\n",
       "      <td id=\"T_d79db_row3_col4\" class=\"data row3 col4\" >0.50</td>\n",
       "      <td id=\"T_d79db_row3_col5\" class=\"data row3 col5\" >0.25</td>\n",
       "      <td id=\"T_d79db_row3_col6\" class=\"data row3 col6\" >0.57</td>\n",
       "      <td id=\"T_d79db_row3_col7\" class=\"data row3 col7\" >0.25</td>\n",
       "      <td id=\"T_d79db_row3_col8\" class=\"data row3 col8\" >0.30</td>\n",
       "      <td id=\"T_d79db_row3_col9\" class=\"data row3 col9\" >0.24</td>\n",
       "      <td id=\"T_d79db_row3_col10\" class=\"data row3 col10\" >0.27</td>\n",
       "      <td id=\"T_d79db_row3_col11\" class=\"data row3 col11\" >0.26</td>\n",
       "      <td id=\"T_d79db_row3_col12\" class=\"data row3 col12\" >0.20</td>\n",
       "      <td id=\"T_d79db_row3_col13\" class=\"data row3 col13\" >0.47</td>\n",
       "      <td id=\"T_d79db_row3_col14\" class=\"data row3 col14\" >0.20</td>\n",
       "      <td id=\"T_d79db_row3_col15\" class=\"data row3 col15\" >0.09</td>\n",
       "      <td id=\"T_d79db_row3_col16\" class=\"data row3 col16\" >0.09</td>\n",
       "      <td id=\"T_d79db_row3_col17\" class=\"data row3 col17\" >0.10</td>\n",
       "      <td id=\"T_d79db_row3_col18\" class=\"data row3 col18\" >0.18</td>\n",
       "      <td id=\"T_d79db_row3_col19\" class=\"data row3 col19\" >0.26</td>\n",
       "      <td id=\"T_d79db_row3_col20\" class=\"data row3 col20\" >0.72</td>\n",
       "      <td id=\"T_d79db_row3_col21\" class=\"data row3 col21\" >0.32</td>\n",
       "      <td id=\"T_d79db_row3_col22\" class=\"data row3 col22\" >0.17</td>\n",
       "      <td id=\"T_d79db_row3_col23\" class=\"data row3 col23\" >0.20</td>\n",
       "      <td id=\"T_d79db_row3_col24\" class=\"data row3 col24\" >0.62</td>\n",
       "      <td id=\"T_d79db_row3_col25\" class=\"data row3 col25\" >0.27</td>\n",
       "      <td id=\"T_d79db_row3_col26\" class=\"data row3 col26\" >0.47</td>\n",
       "      <td id=\"T_d79db_row3_col27\" class=\"data row3 col27\" >0.09</td>\n",
       "      <td id=\"T_d79db_row3_col28\" class=\"data row3 col28\" >0.09</td>\n",
       "      <td id=\"T_d79db_row3_col29\" class=\"data row3 col29\" >0.09</td>\n",
       "      <td id=\"T_d79db_row3_col30\" class=\"data row3 col30\" >0.26</td>\n",
       "    </tr>\n",
       "    <tr>\n",
       "      <th id=\"T_d79db_level0_row4\" class=\"row_heading level0 row4\" >Risk_A</th>\n",
       "      <td id=\"T_d79db_row4_col0\" class=\"data row4 col0\" >-0.22</td>\n",
       "      <td id=\"T_d79db_row4_col1\" class=\"data row4 col1\" >-0.00</td>\n",
       "      <td id=\"T_d79db_row4_col2\" class=\"data row4 col2\" >1.00</td>\n",
       "      <td id=\"T_d79db_row4_col3\" class=\"data row4 col3\" >0.50</td>\n",
       "      <td id=\"T_d79db_row4_col4\" class=\"data row4 col4\" >1.00</td>\n",
       "      <td id=\"T_d79db_row4_col5\" class=\"data row4 col5\" >0.16</td>\n",
       "      <td id=\"T_d79db_row4_col6\" class=\"data row4 col6\" >0.36</td>\n",
       "      <td id=\"T_d79db_row4_col7\" class=\"data row4 col7\" >0.16</td>\n",
       "      <td id=\"T_d79db_row4_col8\" class=\"data row4 col8\" >0.27</td>\n",
       "      <td id=\"T_d79db_row4_col9\" class=\"data row4 col9\" >0.13</td>\n",
       "      <td id=\"T_d79db_row4_col10\" class=\"data row4 col10\" >0.14</td>\n",
       "      <td id=\"T_d79db_row4_col11\" class=\"data row4 col11\" >0.14</td>\n",
       "      <td id=\"T_d79db_row4_col12\" class=\"data row4 col12\" >0.45</td>\n",
       "      <td id=\"T_d79db_row4_col13\" class=\"data row4 col13\" >0.29</td>\n",
       "      <td id=\"T_d79db_row4_col14\" class=\"data row4 col14\" >0.45</td>\n",
       "      <td id=\"T_d79db_row4_col15\" class=\"data row4 col15\" >0.13</td>\n",
       "      <td id=\"T_d79db_row4_col16\" class=\"data row4 col16\" >0.04</td>\n",
       "      <td id=\"T_d79db_row4_col17\" class=\"data row4 col17\" >0.12</td>\n",
       "      <td id=\"T_d79db_row4_col18\" class=\"data row4 col18\" >0.12</td>\n",
       "      <td id=\"T_d79db_row4_col19\" class=\"data row4 col19\" >0.17</td>\n",
       "      <td id=\"T_d79db_row4_col20\" class=\"data row4 col20\" >0.43</td>\n",
       "      <td id=\"T_d79db_row4_col21\" class=\"data row4 col21\" >0.48</td>\n",
       "      <td id=\"T_d79db_row4_col22\" class=\"data row4 col22\" >0.15</td>\n",
       "      <td id=\"T_d79db_row4_col23\" class=\"data row4 col23\" >0.22</td>\n",
       "      <td id=\"T_d79db_row4_col24\" class=\"data row4 col24\" >0.38</td>\n",
       "      <td id=\"T_d79db_row4_col25\" class=\"data row4 col25\" >0.14</td>\n",
       "      <td id=\"T_d79db_row4_col26\" class=\"data row4 col26\" >0.29</td>\n",
       "      <td id=\"T_d79db_row4_col27\" class=\"data row4 col27\" >0.13</td>\n",
       "      <td id=\"T_d79db_row4_col28\" class=\"data row4 col28\" >0.04</td>\n",
       "      <td id=\"T_d79db_row4_col29\" class=\"data row4 col29\" >0.04</td>\n",
       "      <td id=\"T_d79db_row4_col30\" class=\"data row4 col30\" >0.17</td>\n",
       "    </tr>\n",
       "    <tr>\n",
       "      <th id=\"T_d79db_level0_row5\" class=\"row_heading level0 row5\" >PARA_B</th>\n",
       "      <td id=\"T_d79db_row5_col0\" class=\"data row5 col0\" >-0.13</td>\n",
       "      <td id=\"T_d79db_row5_col1\" class=\"data row5 col1\" >0.01</td>\n",
       "      <td id=\"T_d79db_row5_col2\" class=\"data row5 col2\" >0.16</td>\n",
       "      <td id=\"T_d79db_row5_col3\" class=\"data row5 col3\" >0.25</td>\n",
       "      <td id=\"T_d79db_row5_col4\" class=\"data row5 col4\" >0.16</td>\n",
       "      <td id=\"T_d79db_row5_col5\" class=\"data row5 col5\" >1.00</td>\n",
       "      <td id=\"T_d79db_row5_col6\" class=\"data row5 col6\" >0.35</td>\n",
       "      <td id=\"T_d79db_row5_col7\" class=\"data row5 col7\" >1.00</td>\n",
       "      <td id=\"T_d79db_row5_col8\" class=\"data row5 col8\" >0.99</td>\n",
       "      <td id=\"T_d79db_row5_col9\" class=\"data row5 col9\" >0.21</td>\n",
       "      <td id=\"T_d79db_row5_col10\" class=\"data row5 col10\" >0.23</td>\n",
       "      <td id=\"T_d79db_row5_col11\" class=\"data row5 col11\" >0.22</td>\n",
       "      <td id=\"T_d79db_row5_col12\" class=\"data row5 col12\" >0.12</td>\n",
       "      <td id=\"T_d79db_row5_col13\" class=\"data row5 col13\" >0.31</td>\n",
       "      <td id=\"T_d79db_row5_col14\" class=\"data row5 col14\" >0.12</td>\n",
       "      <td id=\"T_d79db_row5_col15\" class=\"data row5 col15\" >0.08</td>\n",
       "      <td id=\"T_d79db_row5_col16\" class=\"data row5 col16\" >0.04</td>\n",
       "      <td id=\"T_d79db_row5_col17\" class=\"data row5 col17\" >0.08</td>\n",
       "      <td id=\"T_d79db_row5_col18\" class=\"data row5 col18\" >0.20</td>\n",
       "      <td id=\"T_d79db_row5_col19\" class=\"data row5 col19\" >0.32</td>\n",
       "      <td id=\"T_d79db_row5_col20\" class=\"data row5 col20\" >0.40</td>\n",
       "      <td id=\"T_d79db_row5_col21\" class=\"data row5 col21\" >0.65</td>\n",
       "      <td id=\"T_d79db_row5_col22\" class=\"data row5 col22\" >0.19</td>\n",
       "      <td id=\"T_d79db_row5_col23\" class=\"data row5 col23\" >0.89</td>\n",
       "      <td id=\"T_d79db_row5_col24\" class=\"data row5 col24\" >0.26</td>\n",
       "      <td id=\"T_d79db_row5_col25\" class=\"data row5 col25\" >0.23</td>\n",
       "      <td id=\"T_d79db_row5_col26\" class=\"data row5 col26\" >0.31</td>\n",
       "      <td id=\"T_d79db_row5_col27\" class=\"data row5 col27\" >0.08</td>\n",
       "      <td id=\"T_d79db_row5_col28\" class=\"data row5 col28\" >0.04</td>\n",
       "      <td id=\"T_d79db_row5_col29\" class=\"data row5 col29\" >0.04</td>\n",
       "      <td id=\"T_d79db_row5_col30\" class=\"data row5 col30\" >0.32</td>\n",
       "    </tr>\n",
       "    <tr>\n",
       "      <th id=\"T_d79db_level0_row6\" class=\"row_heading level0 row6\" >Score_B</th>\n",
       "      <td id=\"T_d79db_row6_col0\" class=\"data row6 col0\" >-0.21</td>\n",
       "      <td id=\"T_d79db_row6_col1\" class=\"data row6 col1\" >0.13</td>\n",
       "      <td id=\"T_d79db_row6_col2\" class=\"data row6 col2\" >0.36</td>\n",
       "      <td id=\"T_d79db_row6_col3\" class=\"data row6 col3\" >0.57</td>\n",
       "      <td id=\"T_d79db_row6_col4\" class=\"data row6 col4\" >0.36</td>\n",
       "      <td id=\"T_d79db_row6_col5\" class=\"data row6 col5\" >0.35</td>\n",
       "      <td id=\"T_d79db_row6_col6\" class=\"data row6 col6\" >1.00</td>\n",
       "      <td id=\"T_d79db_row6_col7\" class=\"data row6 col7\" >0.35</td>\n",
       "      <td id=\"T_d79db_row6_col8\" class=\"data row6 col8\" >0.38</td>\n",
       "      <td id=\"T_d79db_row6_col9\" class=\"data row6 col9\" >0.28</td>\n",
       "      <td id=\"T_d79db_row6_col10\" class=\"data row6 col10\" >0.31</td>\n",
       "      <td id=\"T_d79db_row6_col11\" class=\"data row6 col11\" >0.30</td>\n",
       "      <td id=\"T_d79db_row6_col12\" class=\"data row6 col12\" >0.20</td>\n",
       "      <td id=\"T_d79db_row6_col13\" class=\"data row6 col13\" >0.56</td>\n",
       "      <td id=\"T_d79db_row6_col14\" class=\"data row6 col14\" >0.20</td>\n",
       "      <td id=\"T_d79db_row6_col15\" class=\"data row6 col15\" >-0.01</td>\n",
       "      <td id=\"T_d79db_row6_col16\" class=\"data row6 col16\" >0.09</td>\n",
       "      <td id=\"T_d79db_row6_col17\" class=\"data row6 col17\" >0.01</td>\n",
       "      <td id=\"T_d79db_row6_col18\" class=\"data row6 col18\" >0.20</td>\n",
       "      <td id=\"T_d79db_row6_col19\" class=\"data row6 col19\" >0.31</td>\n",
       "      <td id=\"T_d79db_row6_col20\" class=\"data row6 col20\" >0.90</td>\n",
       "      <td id=\"T_d79db_row6_col21\" class=\"data row6 col21\" >0.36</td>\n",
       "      <td id=\"T_d79db_row6_col22\" class=\"data row6 col22\" >0.12</td>\n",
       "      <td id=\"T_d79db_row6_col23\" class=\"data row6 col23\" >0.21</td>\n",
       "      <td id=\"T_d79db_row6_col24\" class=\"data row6 col24\" >0.63</td>\n",
       "      <td id=\"T_d79db_row6_col25\" class=\"data row6 col25\" >0.31</td>\n",
       "      <td id=\"T_d79db_row6_col26\" class=\"data row6 col26\" >0.56</td>\n",
       "      <td id=\"T_d79db_row6_col27\" class=\"data row6 col27\" >-0.01</td>\n",
       "      <td id=\"T_d79db_row6_col28\" class=\"data row6 col28\" >0.10</td>\n",
       "      <td id=\"T_d79db_row6_col29\" class=\"data row6 col29\" >0.09</td>\n",
       "      <td id=\"T_d79db_row6_col30\" class=\"data row6 col30\" >0.31</td>\n",
       "    </tr>\n",
       "    <tr>\n",
       "      <th id=\"T_d79db_level0_row7\" class=\"row_heading level0 row7\" >Risk_B</th>\n",
       "      <td id=\"T_d79db_row7_col0\" class=\"data row7 col0\" >-0.13</td>\n",
       "      <td id=\"T_d79db_row7_col1\" class=\"data row7 col1\" >0.01</td>\n",
       "      <td id=\"T_d79db_row7_col2\" class=\"data row7 col2\" >0.16</td>\n",
       "      <td id=\"T_d79db_row7_col3\" class=\"data row7 col3\" >0.25</td>\n",
       "      <td id=\"T_d79db_row7_col4\" class=\"data row7 col4\" >0.16</td>\n",
       "      <td id=\"T_d79db_row7_col5\" class=\"data row7 col5\" >1.00</td>\n",
       "      <td id=\"T_d79db_row7_col6\" class=\"data row7 col6\" >0.35</td>\n",
       "      <td id=\"T_d79db_row7_col7\" class=\"data row7 col7\" >1.00</td>\n",
       "      <td id=\"T_d79db_row7_col8\" class=\"data row7 col8\" >0.99</td>\n",
       "      <td id=\"T_d79db_row7_col9\" class=\"data row7 col9\" >0.21</td>\n",
       "      <td id=\"T_d79db_row7_col10\" class=\"data row7 col10\" >0.23</td>\n",
       "      <td id=\"T_d79db_row7_col11\" class=\"data row7 col11\" >0.22</td>\n",
       "      <td id=\"T_d79db_row7_col12\" class=\"data row7 col12\" >0.12</td>\n",
       "      <td id=\"T_d79db_row7_col13\" class=\"data row7 col13\" >0.31</td>\n",
       "      <td id=\"T_d79db_row7_col14\" class=\"data row7 col14\" >0.12</td>\n",
       "      <td id=\"T_d79db_row7_col15\" class=\"data row7 col15\" >0.08</td>\n",
       "      <td id=\"T_d79db_row7_col16\" class=\"data row7 col16\" >0.04</td>\n",
       "      <td id=\"T_d79db_row7_col17\" class=\"data row7 col17\" >0.08</td>\n",
       "      <td id=\"T_d79db_row7_col18\" class=\"data row7 col18\" >0.20</td>\n",
       "      <td id=\"T_d79db_row7_col19\" class=\"data row7 col19\" >0.32</td>\n",
       "      <td id=\"T_d79db_row7_col20\" class=\"data row7 col20\" >0.40</td>\n",
       "      <td id=\"T_d79db_row7_col21\" class=\"data row7 col21\" >0.65</td>\n",
       "      <td id=\"T_d79db_row7_col22\" class=\"data row7 col22\" >0.19</td>\n",
       "      <td id=\"T_d79db_row7_col23\" class=\"data row7 col23\" >0.89</td>\n",
       "      <td id=\"T_d79db_row7_col24\" class=\"data row7 col24\" >0.25</td>\n",
       "      <td id=\"T_d79db_row7_col25\" class=\"data row7 col25\" >0.23</td>\n",
       "      <td id=\"T_d79db_row7_col26\" class=\"data row7 col26\" >0.31</td>\n",
       "      <td id=\"T_d79db_row7_col27\" class=\"data row7 col27\" >0.08</td>\n",
       "      <td id=\"T_d79db_row7_col28\" class=\"data row7 col28\" >0.04</td>\n",
       "      <td id=\"T_d79db_row7_col29\" class=\"data row7 col29\" >0.04</td>\n",
       "      <td id=\"T_d79db_row7_col30\" class=\"data row7 col30\" >0.32</td>\n",
       "    </tr>\n",
       "    <tr>\n",
       "      <th id=\"T_d79db_level0_row8\" class=\"row_heading level0 row8\" >TOTAL</th>\n",
       "      <td id=\"T_d79db_row8_col0\" class=\"data row8 col0\" >-0.15</td>\n",
       "      <td id=\"T_d79db_row8_col1\" class=\"data row8 col1\" >0.01</td>\n",
       "      <td id=\"T_d79db_row8_col2\" class=\"data row8 col2\" >0.27</td>\n",
       "      <td id=\"T_d79db_row8_col3\" class=\"data row8 col3\" >0.30</td>\n",
       "      <td id=\"T_d79db_row8_col4\" class=\"data row8 col4\" >0.27</td>\n",
       "      <td id=\"T_d79db_row8_col5\" class=\"data row8 col5\" >0.99</td>\n",
       "      <td id=\"T_d79db_row8_col6\" class=\"data row8 col6\" >0.38</td>\n",
       "      <td id=\"T_d79db_row8_col7\" class=\"data row8 col7\" >0.99</td>\n",
       "      <td id=\"T_d79db_row8_col8\" class=\"data row8 col8\" >1.00</td>\n",
       "      <td id=\"T_d79db_row8_col9\" class=\"data row8 col9\" >0.22</td>\n",
       "      <td id=\"T_d79db_row8_col10\" class=\"data row8 col10\" >0.24</td>\n",
       "      <td id=\"T_d79db_row8_col11\" class=\"data row8 col11\" >0.23</td>\n",
       "      <td id=\"T_d79db_row8_col12\" class=\"data row8 col12\" >0.17</td>\n",
       "      <td id=\"T_d79db_row8_col13\" class=\"data row8 col13\" >0.34</td>\n",
       "      <td id=\"T_d79db_row8_col14\" class=\"data row8 col14\" >0.17</td>\n",
       "      <td id=\"T_d79db_row8_col15\" class=\"data row8 col15\" >0.09</td>\n",
       "      <td id=\"T_d79db_row8_col16\" class=\"data row8 col16\" >0.05</td>\n",
       "      <td id=\"T_d79db_row8_col17\" class=\"data row8 col17\" >0.09</td>\n",
       "      <td id=\"T_d79db_row8_col18\" class=\"data row8 col18\" >0.21</td>\n",
       "      <td id=\"T_d79db_row8_col19\" class=\"data row8 col19\" >0.33</td>\n",
       "      <td id=\"T_d79db_row8_col20\" class=\"data row8 col20\" >0.43</td>\n",
       "      <td id=\"T_d79db_row8_col21\" class=\"data row8 col21\" >0.69</td>\n",
       "      <td id=\"T_d79db_row8_col22\" class=\"data row8 col22\" >0.20</td>\n",
       "      <td id=\"T_d79db_row8_col23\" class=\"data row8 col23\" >0.89</td>\n",
       "      <td id=\"T_d79db_row8_col24\" class=\"data row8 col24\" >0.29</td>\n",
       "      <td id=\"T_d79db_row8_col25\" class=\"data row8 col25\" >0.24</td>\n",
       "      <td id=\"T_d79db_row8_col26\" class=\"data row8 col26\" >0.34</td>\n",
       "      <td id=\"T_d79db_row8_col27\" class=\"data row8 col27\" >0.09</td>\n",
       "      <td id=\"T_d79db_row8_col28\" class=\"data row8 col28\" >0.05</td>\n",
       "      <td id=\"T_d79db_row8_col29\" class=\"data row8 col29\" >0.05</td>\n",
       "      <td id=\"T_d79db_row8_col30\" class=\"data row8 col30\" >0.33</td>\n",
       "    </tr>\n",
       "    <tr>\n",
       "      <th id=\"T_d79db_level0_row9\" class=\"row_heading level0 row9\" >numbers</th>\n",
       "      <td id=\"T_d79db_row9_col0\" class=\"data row9 col0\" >-0.15</td>\n",
       "      <td id=\"T_d79db_row9_col1\" class=\"data row9 col1\" >0.01</td>\n",
       "      <td id=\"T_d79db_row9_col2\" class=\"data row9 col2\" >0.13</td>\n",
       "      <td id=\"T_d79db_row9_col3\" class=\"data row9 col3\" >0.24</td>\n",
       "      <td id=\"T_d79db_row9_col4\" class=\"data row9 col4\" >0.13</td>\n",
       "      <td id=\"T_d79db_row9_col5\" class=\"data row9 col5\" >0.21</td>\n",
       "      <td id=\"T_d79db_row9_col6\" class=\"data row9 col6\" >0.28</td>\n",
       "      <td id=\"T_d79db_row9_col7\" class=\"data row9 col7\" >0.21</td>\n",
       "      <td id=\"T_d79db_row9_col8\" class=\"data row9 col8\" >0.22</td>\n",
       "      <td id=\"T_d79db_row9_col9\" class=\"data row9 col9\" >1.00</td>\n",
       "      <td id=\"T_d79db_row9_col10\" class=\"data row9 col10\" >0.91</td>\n",
       "      <td id=\"T_d79db_row9_col11\" class=\"data row9 col11\" >0.96</td>\n",
       "      <td id=\"T_d79db_row9_col12\" class=\"data row9 col12\" >0.19</td>\n",
       "      <td id=\"T_d79db_row9_col13\" class=\"data row9 col13\" >0.45</td>\n",
       "      <td id=\"T_d79db_row9_col14\" class=\"data row9 col14\" >0.19</td>\n",
       "      <td id=\"T_d79db_row9_col15\" class=\"data row9 col15\" >0.12</td>\n",
       "      <td id=\"T_d79db_row9_col16\" class=\"data row9 col16\" >0.03</td>\n",
       "      <td id=\"T_d79db_row9_col17\" class=\"data row9 col17\" >0.14</td>\n",
       "      <td id=\"T_d79db_row9_col18\" class=\"data row9 col18\" >0.20</td>\n",
       "      <td id=\"T_d79db_row9_col19\" class=\"data row9 col19\" >0.21</td>\n",
       "      <td id=\"T_d79db_row9_col20\" class=\"data row9 col20\" >0.50</td>\n",
       "      <td id=\"T_d79db_row9_col21\" class=\"data row9 col21\" >0.27</td>\n",
       "      <td id=\"T_d79db_row9_col22\" class=\"data row9 col22\" >0.23</td>\n",
       "      <td id=\"T_d79db_row9_col23\" class=\"data row9 col23\" >0.22</td>\n",
       "      <td id=\"T_d79db_row9_col24\" class=\"data row9 col24\" >0.31</td>\n",
       "      <td id=\"T_d79db_row9_col25\" class=\"data row9 col25\" >0.91</td>\n",
       "      <td id=\"T_d79db_row9_col26\" class=\"data row9 col26\" >0.45</td>\n",
       "      <td id=\"T_d79db_row9_col27\" class=\"data row9 col27\" >0.12</td>\n",
       "      <td id=\"T_d79db_row9_col28\" class=\"data row9 col28\" >-0.00</td>\n",
       "      <td id=\"T_d79db_row9_col29\" class=\"data row9 col29\" >0.03</td>\n",
       "      <td id=\"T_d79db_row9_col30\" class=\"data row9 col30\" >0.21</td>\n",
       "    </tr>\n",
       "    <tr>\n",
       "      <th id=\"T_d79db_level0_row10\" class=\"row_heading level0 row10\" >Score_B.1</th>\n",
       "      <td id=\"T_d79db_row10_col0\" class=\"data row10 col0\" >-0.17</td>\n",
       "      <td id=\"T_d79db_row10_col1\" class=\"data row10 col1\" >-0.02</td>\n",
       "      <td id=\"T_d79db_row10_col2\" class=\"data row10 col2\" >0.14</td>\n",
       "      <td id=\"T_d79db_row10_col3\" class=\"data row10 col3\" >0.27</td>\n",
       "      <td id=\"T_d79db_row10_col4\" class=\"data row10 col4\" >0.14</td>\n",
       "      <td id=\"T_d79db_row10_col5\" class=\"data row10 col5\" >0.23</td>\n",
       "      <td id=\"T_d79db_row10_col6\" class=\"data row10 col6\" >0.31</td>\n",
       "      <td id=\"T_d79db_row10_col7\" class=\"data row10 col7\" >0.23</td>\n",
       "      <td id=\"T_d79db_row10_col8\" class=\"data row10 col8\" >0.24</td>\n",
       "      <td id=\"T_d79db_row10_col9\" class=\"data row10 col9\" >0.91</td>\n",
       "      <td id=\"T_d79db_row10_col10\" class=\"data row10 col10\" >1.00</td>\n",
       "      <td id=\"T_d79db_row10_col11\" class=\"data row10 col11\" >0.99</td>\n",
       "      <td id=\"T_d79db_row10_col12\" class=\"data row10 col12\" >0.22</td>\n",
       "      <td id=\"T_d79db_row10_col13\" class=\"data row10 col13\" >0.51</td>\n",
       "      <td id=\"T_d79db_row10_col14\" class=\"data row10 col14\" >0.22</td>\n",
       "      <td id=\"T_d79db_row10_col15\" class=\"data row10 col15\" >0.15</td>\n",
       "      <td id=\"T_d79db_row10_col16\" class=\"data row10 col16\" >0.04</td>\n",
       "      <td id=\"T_d79db_row10_col17\" class=\"data row10 col17\" >0.16</td>\n",
       "      <td id=\"T_d79db_row10_col18\" class=\"data row10 col18\" >0.23</td>\n",
       "      <td id=\"T_d79db_row10_col19\" class=\"data row10 col19\" >0.25</td>\n",
       "      <td id=\"T_d79db_row10_col20\" class=\"data row10 col20\" >0.57</td>\n",
       "      <td id=\"T_d79db_row10_col21\" class=\"data row10 col21\" >0.31</td>\n",
       "      <td id=\"T_d79db_row10_col22\" class=\"data row10 col22\" >0.26</td>\n",
       "      <td id=\"T_d79db_row10_col23\" class=\"data row10 col23\" >0.26</td>\n",
       "      <td id=\"T_d79db_row10_col24\" class=\"data row10 col24\" >0.35</td>\n",
       "      <td id=\"T_d79db_row10_col25\" class=\"data row10 col25\" >1.00</td>\n",
       "      <td id=\"T_d79db_row10_col26\" class=\"data row10 col26\" >0.51</td>\n",
       "      <td id=\"T_d79db_row10_col27\" class=\"data row10 col27\" >0.15</td>\n",
       "      <td id=\"T_d79db_row10_col28\" class=\"data row10 col28\" >0.00</td>\n",
       "      <td id=\"T_d79db_row10_col29\" class=\"data row10 col29\" >0.04</td>\n",
       "      <td id=\"T_d79db_row10_col30\" class=\"data row10 col30\" >0.25</td>\n",
       "    </tr>\n",
       "    <tr>\n",
       "      <th id=\"T_d79db_level0_row11\" class=\"row_heading level0 row11\" >Risk_C</th>\n",
       "      <td id=\"T_d79db_row11_col0\" class=\"data row11 col0\" >-0.16</td>\n",
       "      <td id=\"T_d79db_row11_col1\" class=\"data row11 col1\" >-0.02</td>\n",
       "      <td id=\"T_d79db_row11_col2\" class=\"data row11 col2\" >0.14</td>\n",
       "      <td id=\"T_d79db_row11_col3\" class=\"data row11 col3\" >0.26</td>\n",
       "      <td id=\"T_d79db_row11_col4\" class=\"data row11 col4\" >0.14</td>\n",
       "      <td id=\"T_d79db_row11_col5\" class=\"data row11 col5\" >0.22</td>\n",
       "      <td id=\"T_d79db_row11_col6\" class=\"data row11 col6\" >0.30</td>\n",
       "      <td id=\"T_d79db_row11_col7\" class=\"data row11 col7\" >0.22</td>\n",
       "      <td id=\"T_d79db_row11_col8\" class=\"data row11 col8\" >0.23</td>\n",
       "      <td id=\"T_d79db_row11_col9\" class=\"data row11 col9\" >0.96</td>\n",
       "      <td id=\"T_d79db_row11_col10\" class=\"data row11 col10\" >0.99</td>\n",
       "      <td id=\"T_d79db_row11_col11\" class=\"data row11 col11\" >1.00</td>\n",
       "      <td id=\"T_d79db_row11_col12\" class=\"data row11 col12\" >0.21</td>\n",
       "      <td id=\"T_d79db_row11_col13\" class=\"data row11 col13\" >0.49</td>\n",
       "      <td id=\"T_d79db_row11_col14\" class=\"data row11 col14\" >0.21</td>\n",
       "      <td id=\"T_d79db_row11_col15\" class=\"data row11 col15\" >0.15</td>\n",
       "      <td id=\"T_d79db_row11_col16\" class=\"data row11 col16\" >0.04</td>\n",
       "      <td id=\"T_d79db_row11_col17\" class=\"data row11 col17\" >0.15</td>\n",
       "      <td id=\"T_d79db_row11_col18\" class=\"data row11 col18\" >0.22</td>\n",
       "      <td id=\"T_d79db_row11_col19\" class=\"data row11 col19\" >0.24</td>\n",
       "      <td id=\"T_d79db_row11_col20\" class=\"data row11 col20\" >0.55</td>\n",
       "      <td id=\"T_d79db_row11_col21\" class=\"data row11 col21\" >0.30</td>\n",
       "      <td id=\"T_d79db_row11_col22\" class=\"data row11 col22\" >0.25</td>\n",
       "      <td id=\"T_d79db_row11_col23\" class=\"data row11 col23\" >0.25</td>\n",
       "      <td id=\"T_d79db_row11_col24\" class=\"data row11 col24\" >0.34</td>\n",
       "      <td id=\"T_d79db_row11_col25\" class=\"data row11 col25\" >0.99</td>\n",
       "      <td id=\"T_d79db_row11_col26\" class=\"data row11 col26\" >0.49</td>\n",
       "      <td id=\"T_d79db_row11_col27\" class=\"data row11 col27\" >0.15</td>\n",
       "      <td id=\"T_d79db_row11_col28\" class=\"data row11 col28\" >0.00</td>\n",
       "      <td id=\"T_d79db_row11_col29\" class=\"data row11 col29\" >0.04</td>\n",
       "      <td id=\"T_d79db_row11_col30\" class=\"data row11 col30\" >0.24</td>\n",
       "    </tr>\n",
       "    <tr>\n",
       "      <th id=\"T_d79db_level0_row12\" class=\"row_heading level0 row12\" >Money_Value</th>\n",
       "      <td id=\"T_d79db_row12_col0\" class=\"data row12 col0\" >-0.12</td>\n",
       "      <td id=\"T_d79db_row12_col1\" class=\"data row12 col1\" >-0.07</td>\n",
       "      <td id=\"T_d79db_row12_col2\" class=\"data row12 col2\" >0.45</td>\n",
       "      <td id=\"T_d79db_row12_col3\" class=\"data row12 col3\" >0.20</td>\n",
       "      <td id=\"T_d79db_row12_col4\" class=\"data row12 col4\" >0.45</td>\n",
       "      <td id=\"T_d79db_row12_col5\" class=\"data row12 col5\" >0.12</td>\n",
       "      <td id=\"T_d79db_row12_col6\" class=\"data row12 col6\" >0.20</td>\n",
       "      <td id=\"T_d79db_row12_col7\" class=\"data row12 col7\" >0.12</td>\n",
       "      <td id=\"T_d79db_row12_col8\" class=\"data row12 col8\" >0.17</td>\n",
       "      <td id=\"T_d79db_row12_col9\" class=\"data row12 col9\" >0.19</td>\n",
       "      <td id=\"T_d79db_row12_col10\" class=\"data row12 col10\" >0.22</td>\n",
       "      <td id=\"T_d79db_row12_col11\" class=\"data row12 col11\" >0.21</td>\n",
       "      <td id=\"T_d79db_row12_col12\" class=\"data row12 col12\" >1.00</td>\n",
       "      <td id=\"T_d79db_row12_col13\" class=\"data row12 col13\" >0.39</td>\n",
       "      <td id=\"T_d79db_row12_col14\" class=\"data row12 col14\" >1.00</td>\n",
       "      <td id=\"T_d79db_row12_col15\" class=\"data row12 col15\" >0.03</td>\n",
       "      <td id=\"T_d79db_row12_col16\" class=\"data row12 col16\" >0.03</td>\n",
       "      <td id=\"T_d79db_row12_col17\" class=\"data row12 col17\" >0.03</td>\n",
       "      <td id=\"T_d79db_row12_col18\" class=\"data row12 col18\" >0.08</td>\n",
       "      <td id=\"T_d79db_row12_col19\" class=\"data row12 col19\" >0.11</td>\n",
       "      <td id=\"T_d79db_row12_col20\" class=\"data row12 col20\" >0.29</td>\n",
       "      <td id=\"T_d79db_row12_col21\" class=\"data row12 col21\" >0.83</td>\n",
       "      <td id=\"T_d79db_row12_col22\" class=\"data row12 col22\" >0.07</td>\n",
       "      <td id=\"T_d79db_row12_col23\" class=\"data row12 col23\" >0.33</td>\n",
       "      <td id=\"T_d79db_row12_col24\" class=\"data row12 col24\" >0.26</td>\n",
       "      <td id=\"T_d79db_row12_col25\" class=\"data row12 col25\" >0.22</td>\n",
       "      <td id=\"T_d79db_row12_col26\" class=\"data row12 col26\" >0.39</td>\n",
       "      <td id=\"T_d79db_row12_col27\" class=\"data row12 col27\" >0.03</td>\n",
       "      <td id=\"T_d79db_row12_col28\" class=\"data row12 col28\" >0.02</td>\n",
       "      <td id=\"T_d79db_row12_col29\" class=\"data row12 col29\" >0.03</td>\n",
       "      <td id=\"T_d79db_row12_col30\" class=\"data row12 col30\" >0.11</td>\n",
       "    </tr>\n",
       "    <tr>\n",
       "      <th id=\"T_d79db_level0_row13\" class=\"row_heading level0 row13\" >Score_MV</th>\n",
       "      <td id=\"T_d79db_row13_col0\" class=\"data row13 col0\" >-0.32</td>\n",
       "      <td id=\"T_d79db_row13_col1\" class=\"data row13 col1\" >0.11</td>\n",
       "      <td id=\"T_d79db_row13_col2\" class=\"data row13 col2\" >0.28</td>\n",
       "      <td id=\"T_d79db_row13_col3\" class=\"data row13 col3\" >0.47</td>\n",
       "      <td id=\"T_d79db_row13_col4\" class=\"data row13 col4\" >0.29</td>\n",
       "      <td id=\"T_d79db_row13_col5\" class=\"data row13 col5\" >0.31</td>\n",
       "      <td id=\"T_d79db_row13_col6\" class=\"data row13 col6\" >0.56</td>\n",
       "      <td id=\"T_d79db_row13_col7\" class=\"data row13 col7\" >0.31</td>\n",
       "      <td id=\"T_d79db_row13_col8\" class=\"data row13 col8\" >0.34</td>\n",
       "      <td id=\"T_d79db_row13_col9\" class=\"data row13 col9\" >0.45</td>\n",
       "      <td id=\"T_d79db_row13_col10\" class=\"data row13 col10\" >0.51</td>\n",
       "      <td id=\"T_d79db_row13_col11\" class=\"data row13 col11\" >0.49</td>\n",
       "      <td id=\"T_d79db_row13_col12\" class=\"data row13 col12\" >0.39</td>\n",
       "      <td id=\"T_d79db_row13_col13\" class=\"data row13 col13\" >1.00</td>\n",
       "      <td id=\"T_d79db_row13_col14\" class=\"data row13 col14\" >0.39</td>\n",
       "      <td id=\"T_d79db_row13_col15\" class=\"data row13 col15\" >0.08</td>\n",
       "      <td id=\"T_d79db_row13_col16\" class=\"data row13 col16\" >0.13</td>\n",
       "      <td id=\"T_d79db_row13_col17\" class=\"data row13 col17\" >0.10</td>\n",
       "      <td id=\"T_d79db_row13_col18\" class=\"data row13 col18\" >0.25</td>\n",
       "      <td id=\"T_d79db_row13_col19\" class=\"data row13 col19\" >0.33</td>\n",
       "      <td id=\"T_d79db_row13_col20\" class=\"data row13 col20\" >0.76</td>\n",
       "      <td id=\"T_d79db_row13_col21\" class=\"data row13 col21\" >0.48</td>\n",
       "      <td id=\"T_d79db_row13_col22\" class=\"data row13 col22\" >0.22</td>\n",
       "      <td id=\"T_d79db_row13_col23\" class=\"data row13 col23\" >0.29</td>\n",
       "      <td id=\"T_d79db_row13_col24\" class=\"data row13 col24\" >0.69</td>\n",
       "      <td id=\"T_d79db_row13_col25\" class=\"data row13 col25\" >0.51</td>\n",
       "      <td id=\"T_d79db_row13_col26\" class=\"data row13 col26\" >1.00</td>\n",
       "      <td id=\"T_d79db_row13_col27\" class=\"data row13 col27\" >0.08</td>\n",
       "      <td id=\"T_d79db_row13_col28\" class=\"data row13 col28\" >0.12</td>\n",
       "      <td id=\"T_d79db_row13_col29\" class=\"data row13 col29\" >0.13</td>\n",
       "      <td id=\"T_d79db_row13_col30\" class=\"data row13 col30\" >0.33</td>\n",
       "    </tr>\n",
       "    <tr>\n",
       "      <th id=\"T_d79db_level0_row14\" class=\"row_heading level0 row14\" >Risk_D</th>\n",
       "      <td id=\"T_d79db_row14_col0\" class=\"data row14 col0\" >-0.11</td>\n",
       "      <td id=\"T_d79db_row14_col1\" class=\"data row14 col1\" >-0.07</td>\n",
       "      <td id=\"T_d79db_row14_col2\" class=\"data row14 col2\" >0.45</td>\n",
       "      <td id=\"T_d79db_row14_col3\" class=\"data row14 col3\" >0.20</td>\n",
       "      <td id=\"T_d79db_row14_col4\" class=\"data row14 col4\" >0.45</td>\n",
       "      <td id=\"T_d79db_row14_col5\" class=\"data row14 col5\" >0.12</td>\n",
       "      <td id=\"T_d79db_row14_col6\" class=\"data row14 col6\" >0.20</td>\n",
       "      <td id=\"T_d79db_row14_col7\" class=\"data row14 col7\" >0.12</td>\n",
       "      <td id=\"T_d79db_row14_col8\" class=\"data row14 col8\" >0.17</td>\n",
       "      <td id=\"T_d79db_row14_col9\" class=\"data row14 col9\" >0.19</td>\n",
       "      <td id=\"T_d79db_row14_col10\" class=\"data row14 col10\" >0.22</td>\n",
       "      <td id=\"T_d79db_row14_col11\" class=\"data row14 col11\" >0.21</td>\n",
       "      <td id=\"T_d79db_row14_col12\" class=\"data row14 col12\" >1.00</td>\n",
       "      <td id=\"T_d79db_row14_col13\" class=\"data row14 col13\" >0.39</td>\n",
       "      <td id=\"T_d79db_row14_col14\" class=\"data row14 col14\" >1.00</td>\n",
       "      <td id=\"T_d79db_row14_col15\" class=\"data row14 col15\" >0.03</td>\n",
       "      <td id=\"T_d79db_row14_col16\" class=\"data row14 col16\" >0.03</td>\n",
       "      <td id=\"T_d79db_row14_col17\" class=\"data row14 col17\" >0.03</td>\n",
       "      <td id=\"T_d79db_row14_col18\" class=\"data row14 col18\" >0.08</td>\n",
       "      <td id=\"T_d79db_row14_col19\" class=\"data row14 col19\" >0.11</td>\n",
       "      <td id=\"T_d79db_row14_col20\" class=\"data row14 col20\" >0.29</td>\n",
       "      <td id=\"T_d79db_row14_col21\" class=\"data row14 col21\" >0.83</td>\n",
       "      <td id=\"T_d79db_row14_col22\" class=\"data row14 col22\" >0.07</td>\n",
       "      <td id=\"T_d79db_row14_col23\" class=\"data row14 col23\" >0.33</td>\n",
       "      <td id=\"T_d79db_row14_col24\" class=\"data row14 col24\" >0.25</td>\n",
       "      <td id=\"T_d79db_row14_col25\" class=\"data row14 col25\" >0.22</td>\n",
       "      <td id=\"T_d79db_row14_col26\" class=\"data row14 col26\" >0.39</td>\n",
       "      <td id=\"T_d79db_row14_col27\" class=\"data row14 col27\" >0.03</td>\n",
       "      <td id=\"T_d79db_row14_col28\" class=\"data row14 col28\" >0.02</td>\n",
       "      <td id=\"T_d79db_row14_col29\" class=\"data row14 col29\" >0.03</td>\n",
       "      <td id=\"T_d79db_row14_col30\" class=\"data row14 col30\" >0.11</td>\n",
       "    </tr>\n",
       "    <tr>\n",
       "      <th id=\"T_d79db_level0_row15\" class=\"row_heading level0 row15\" >District_Loss</th>\n",
       "      <td id=\"T_d79db_row15_col0\" class=\"data row15 col0\" >-0.11</td>\n",
       "      <td id=\"T_d79db_row15_col1\" class=\"data row15 col1\" >-0.11</td>\n",
       "      <td id=\"T_d79db_row15_col2\" class=\"data row15 col2\" >0.13</td>\n",
       "      <td id=\"T_d79db_row15_col3\" class=\"data row15 col3\" >0.09</td>\n",
       "      <td id=\"T_d79db_row15_col4\" class=\"data row15 col4\" >0.13</td>\n",
       "      <td id=\"T_d79db_row15_col5\" class=\"data row15 col5\" >0.08</td>\n",
       "      <td id=\"T_d79db_row15_col6\" class=\"data row15 col6\" >-0.01</td>\n",
       "      <td id=\"T_d79db_row15_col7\" class=\"data row15 col7\" >0.08</td>\n",
       "      <td id=\"T_d79db_row15_col8\" class=\"data row15 col8\" >0.09</td>\n",
       "      <td id=\"T_d79db_row15_col9\" class=\"data row15 col9\" >0.12</td>\n",
       "      <td id=\"T_d79db_row15_col10\" class=\"data row15 col10\" >0.15</td>\n",
       "      <td id=\"T_d79db_row15_col11\" class=\"data row15 col11\" >0.15</td>\n",
       "      <td id=\"T_d79db_row15_col12\" class=\"data row15 col12\" >0.03</td>\n",
       "      <td id=\"T_d79db_row15_col13\" class=\"data row15 col13\" >0.08</td>\n",
       "      <td id=\"T_d79db_row15_col14\" class=\"data row15 col14\" >0.03</td>\n",
       "      <td id=\"T_d79db_row15_col15\" class=\"data row15 col15\" >1.00</td>\n",
       "      <td id=\"T_d79db_row15_col16\" class=\"data row15 col16\" >0.05</td>\n",
       "      <td id=\"T_d79db_row15_col17\" class=\"data row15 col17\" >0.91</td>\n",
       "      <td id=\"T_d79db_row15_col18\" class=\"data row15 col18\" >0.07</td>\n",
       "      <td id=\"T_d79db_row15_col19\" class=\"data row15 col19\" >0.08</td>\n",
       "      <td id=\"T_d79db_row15_col20\" class=\"data row15 col20\" >0.21</td>\n",
       "      <td id=\"T_d79db_row15_col21\" class=\"data row15 col21\" >0.08</td>\n",
       "      <td id=\"T_d79db_row15_col22\" class=\"data row15 col22\" >0.64</td>\n",
       "      <td id=\"T_d79db_row15_col23\" class=\"data row15 col23\" >0.20</td>\n",
       "      <td id=\"T_d79db_row15_col24\" class=\"data row15 col24\" >0.40</td>\n",
       "      <td id=\"T_d79db_row15_col25\" class=\"data row15 col25\" >0.15</td>\n",
       "      <td id=\"T_d79db_row15_col26\" class=\"data row15 col26\" >0.08</td>\n",
       "      <td id=\"T_d79db_row15_col27\" class=\"data row15 col27\" >1.00</td>\n",
       "      <td id=\"T_d79db_row15_col28\" class=\"data row15 col28\" >0.04</td>\n",
       "      <td id=\"T_d79db_row15_col29\" class=\"data row15 col29\" >0.05</td>\n",
       "      <td id=\"T_d79db_row15_col30\" class=\"data row15 col30\" >0.08</td>\n",
       "    </tr>\n",
       "    <tr>\n",
       "      <th id=\"T_d79db_level0_row16\" class=\"row_heading level0 row16\" >PROB</th>\n",
       "      <td id=\"T_d79db_row16_col0\" class=\"data row16 col0\" >-0.09</td>\n",
       "      <td id=\"T_d79db_row16_col1\" class=\"data row16 col1\" >-0.00</td>\n",
       "      <td id=\"T_d79db_row16_col2\" class=\"data row16 col2\" >0.04</td>\n",
       "      <td id=\"T_d79db_row16_col3\" class=\"data row16 col3\" >0.09</td>\n",
       "      <td id=\"T_d79db_row16_col4\" class=\"data row16 col4\" >0.04</td>\n",
       "      <td id=\"T_d79db_row16_col5\" class=\"data row16 col5\" >0.04</td>\n",
       "      <td id=\"T_d79db_row16_col6\" class=\"data row16 col6\" >0.09</td>\n",
       "      <td id=\"T_d79db_row16_col7\" class=\"data row16 col7\" >0.04</td>\n",
       "      <td id=\"T_d79db_row16_col8\" class=\"data row16 col8\" >0.05</td>\n",
       "      <td id=\"T_d79db_row16_col9\" class=\"data row16 col9\" >0.03</td>\n",
       "      <td id=\"T_d79db_row16_col10\" class=\"data row16 col10\" >0.04</td>\n",
       "      <td id=\"T_d79db_row16_col11\" class=\"data row16 col11\" >0.04</td>\n",
       "      <td id=\"T_d79db_row16_col12\" class=\"data row16 col12\" >0.03</td>\n",
       "      <td id=\"T_d79db_row16_col13\" class=\"data row16 col13\" >0.13</td>\n",
       "      <td id=\"T_d79db_row16_col14\" class=\"data row16 col14\" >0.03</td>\n",
       "      <td id=\"T_d79db_row16_col15\" class=\"data row16 col15\" >0.05</td>\n",
       "      <td id=\"T_d79db_row16_col16\" class=\"data row16 col16\" >1.00</td>\n",
       "      <td id=\"T_d79db_row16_col17\" class=\"data row16 col17\" >0.41</td>\n",
       "      <td id=\"T_d79db_row16_col18\" class=\"data row16 col18\" >0.11</td>\n",
       "      <td id=\"T_d79db_row16_col19\" class=\"data row16 col19\" >0.14</td>\n",
       "      <td id=\"T_d79db_row16_col20\" class=\"data row16 col20\" >0.17</td>\n",
       "      <td id=\"T_d79db_row16_col21\" class=\"data row16 col21\" >0.05</td>\n",
       "      <td id=\"T_d79db_row16_col22\" class=\"data row16 col22\" >0.34</td>\n",
       "      <td id=\"T_d79db_row16_col23\" class=\"data row16 col23\" >0.07</td>\n",
       "      <td id=\"T_d79db_row16_col24\" class=\"data row16 col24\" >0.18</td>\n",
       "      <td id=\"T_d79db_row16_col25\" class=\"data row16 col25\" >0.04</td>\n",
       "      <td id=\"T_d79db_row16_col26\" class=\"data row16 col26\" >0.13</td>\n",
       "      <td id=\"T_d79db_row16_col27\" class=\"data row16 col27\" >0.05</td>\n",
       "      <td id=\"T_d79db_row16_col28\" class=\"data row16 col28\" >0.98</td>\n",
       "      <td id=\"T_d79db_row16_col29\" class=\"data row16 col29\" >1.00</td>\n",
       "      <td id=\"T_d79db_row16_col30\" class=\"data row16 col30\" >0.14</td>\n",
       "    </tr>\n",
       "    <tr>\n",
       "      <th id=\"T_d79db_level0_row17\" class=\"row_heading level0 row17\" >RiSk_E</th>\n",
       "      <td id=\"T_d79db_row17_col0\" class=\"data row17 col0\" >-0.13</td>\n",
       "      <td id=\"T_d79db_row17_col1\" class=\"data row17 col1\" >-0.10</td>\n",
       "      <td id=\"T_d79db_row17_col2\" class=\"data row17 col2\" >0.12</td>\n",
       "      <td id=\"T_d79db_row17_col3\" class=\"data row17 col3\" >0.10</td>\n",
       "      <td id=\"T_d79db_row17_col4\" class=\"data row17 col4\" >0.12</td>\n",
       "      <td id=\"T_d79db_row17_col5\" class=\"data row17 col5\" >0.08</td>\n",
       "      <td id=\"T_d79db_row17_col6\" class=\"data row17 col6\" >0.01</td>\n",
       "      <td id=\"T_d79db_row17_col7\" class=\"data row17 col7\" >0.08</td>\n",
       "      <td id=\"T_d79db_row17_col8\" class=\"data row17 col8\" >0.09</td>\n",
       "      <td id=\"T_d79db_row17_col9\" class=\"data row17 col9\" >0.14</td>\n",
       "      <td id=\"T_d79db_row17_col10\" class=\"data row17 col10\" >0.16</td>\n",
       "      <td id=\"T_d79db_row17_col11\" class=\"data row17 col11\" >0.15</td>\n",
       "      <td id=\"T_d79db_row17_col12\" class=\"data row17 col12\" >0.03</td>\n",
       "      <td id=\"T_d79db_row17_col13\" class=\"data row17 col13\" >0.10</td>\n",
       "      <td id=\"T_d79db_row17_col14\" class=\"data row17 col14\" >0.03</td>\n",
       "      <td id=\"T_d79db_row17_col15\" class=\"data row17 col15\" >0.91</td>\n",
       "      <td id=\"T_d79db_row17_col16\" class=\"data row17 col16\" >0.41</td>\n",
       "      <td id=\"T_d79db_row17_col17\" class=\"data row17 col17\" >1.00</td>\n",
       "      <td id=\"T_d79db_row17_col18\" class=\"data row17 col18\" >0.11</td>\n",
       "      <td id=\"T_d79db_row17_col19\" class=\"data row17 col19\" >0.12</td>\n",
       "      <td id=\"T_d79db_row17_col20\" class=\"data row17 col20\" >0.23</td>\n",
       "      <td id=\"T_d79db_row17_col21\" class=\"data row17 col21\" >0.08</td>\n",
       "      <td id=\"T_d79db_row17_col22\" class=\"data row17 col22\" >0.73</td>\n",
       "      <td id=\"T_d79db_row17_col23\" class=\"data row17 col23\" >0.20</td>\n",
       "      <td id=\"T_d79db_row17_col24\" class=\"data row17 col24\" >0.41</td>\n",
       "      <td id=\"T_d79db_row17_col25\" class=\"data row17 col25\" >0.16</td>\n",
       "      <td id=\"T_d79db_row17_col26\" class=\"data row17 col26\" >0.10</td>\n",
       "      <td id=\"T_d79db_row17_col27\" class=\"data row17 col27\" >0.91</td>\n",
       "      <td id=\"T_d79db_row17_col28\" class=\"data row17 col28\" >0.37</td>\n",
       "      <td id=\"T_d79db_row17_col29\" class=\"data row17 col29\" >0.41</td>\n",
       "      <td id=\"T_d79db_row17_col30\" class=\"data row17 col30\" >0.12</td>\n",
       "    </tr>\n",
       "    <tr>\n",
       "      <th id=\"T_d79db_level0_row18\" class=\"row_heading level0 row18\" >History</th>\n",
       "      <td id=\"T_d79db_row18_col0\" class=\"data row18 col0\" >-0.11</td>\n",
       "      <td id=\"T_d79db_row18_col1\" class=\"data row18 col1\" >-0.08</td>\n",
       "      <td id=\"T_d79db_row18_col2\" class=\"data row18 col2\" >0.12</td>\n",
       "      <td id=\"T_d79db_row18_col3\" class=\"data row18 col3\" >0.18</td>\n",
       "      <td id=\"T_d79db_row18_col4\" class=\"data row18 col4\" >0.12</td>\n",
       "      <td id=\"T_d79db_row18_col5\" class=\"data row18 col5\" >0.20</td>\n",
       "      <td id=\"T_d79db_row18_col6\" class=\"data row18 col6\" >0.20</td>\n",
       "      <td id=\"T_d79db_row18_col7\" class=\"data row18 col7\" >0.20</td>\n",
       "      <td id=\"T_d79db_row18_col8\" class=\"data row18 col8\" >0.21</td>\n",
       "      <td id=\"T_d79db_row18_col9\" class=\"data row18 col9\" >0.20</td>\n",
       "      <td id=\"T_d79db_row18_col10\" class=\"data row18 col10\" >0.23</td>\n",
       "      <td id=\"T_d79db_row18_col11\" class=\"data row18 col11\" >0.22</td>\n",
       "      <td id=\"T_d79db_row18_col12\" class=\"data row18 col12\" >0.08</td>\n",
       "      <td id=\"T_d79db_row18_col13\" class=\"data row18 col13\" >0.25</td>\n",
       "      <td id=\"T_d79db_row18_col14\" class=\"data row18 col14\" >0.08</td>\n",
       "      <td id=\"T_d79db_row18_col15\" class=\"data row18 col15\" >0.07</td>\n",
       "      <td id=\"T_d79db_row18_col16\" class=\"data row18 col16\" >0.11</td>\n",
       "      <td id=\"T_d79db_row18_col17\" class=\"data row18 col17\" >0.11</td>\n",
       "      <td id=\"T_d79db_row18_col18\" class=\"data row18 col18\" >1.00</td>\n",
       "      <td id=\"T_d79db_row18_col19\" class=\"data row18 col19\" >0.86</td>\n",
       "      <td id=\"T_d79db_row18_col20\" class=\"data row18 col20\" >0.33</td>\n",
       "      <td id=\"T_d79db_row18_col21\" class=\"data row18 col21\" >0.18</td>\n",
       "      <td id=\"T_d79db_row18_col22\" class=\"data row18 col22\" >0.76</td>\n",
       "      <td id=\"T_d79db_row18_col23\" class=\"data row18 col23\" >0.33</td>\n",
       "      <td id=\"T_d79db_row18_col24\" class=\"data row18 col24\" >0.24</td>\n",
       "      <td id=\"T_d79db_row18_col25\" class=\"data row18 col25\" >0.23</td>\n",
       "      <td id=\"T_d79db_row18_col26\" class=\"data row18 col26\" >0.25</td>\n",
       "      <td id=\"T_d79db_row18_col27\" class=\"data row18 col27\" >0.07</td>\n",
       "      <td id=\"T_d79db_row18_col28\" class=\"data row18 col28\" >0.06</td>\n",
       "      <td id=\"T_d79db_row18_col29\" class=\"data row18 col29\" >0.11</td>\n",
       "      <td id=\"T_d79db_row18_col30\" class=\"data row18 col30\" >0.86</td>\n",
       "    </tr>\n",
       "    <tr>\n",
       "      <th id=\"T_d79db_level0_row19\" class=\"row_heading level0 row19\" >Prob</th>\n",
       "      <td id=\"T_d79db_row19_col0\" class=\"data row19 col0\" >-0.14</td>\n",
       "      <td id=\"T_d79db_row19_col1\" class=\"data row19 col1\" >-0.05</td>\n",
       "      <td id=\"T_d79db_row19_col2\" class=\"data row19 col2\" >0.17</td>\n",
       "      <td id=\"T_d79db_row19_col3\" class=\"data row19 col3\" >0.26</td>\n",
       "      <td id=\"T_d79db_row19_col4\" class=\"data row19 col4\" >0.17</td>\n",
       "      <td id=\"T_d79db_row19_col5\" class=\"data row19 col5\" >0.32</td>\n",
       "      <td id=\"T_d79db_row19_col6\" class=\"data row19 col6\" >0.31</td>\n",
       "      <td id=\"T_d79db_row19_col7\" class=\"data row19 col7\" >0.32</td>\n",
       "      <td id=\"T_d79db_row19_col8\" class=\"data row19 col8\" >0.33</td>\n",
       "      <td id=\"T_d79db_row19_col9\" class=\"data row19 col9\" >0.21</td>\n",
       "      <td id=\"T_d79db_row19_col10\" class=\"data row19 col10\" >0.25</td>\n",
       "      <td id=\"T_d79db_row19_col11\" class=\"data row19 col11\" >0.24</td>\n",
       "      <td id=\"T_d79db_row19_col12\" class=\"data row19 col12\" >0.11</td>\n",
       "      <td id=\"T_d79db_row19_col13\" class=\"data row19 col13\" >0.33</td>\n",
       "      <td id=\"T_d79db_row19_col14\" class=\"data row19 col14\" >0.11</td>\n",
       "      <td id=\"T_d79db_row19_col15\" class=\"data row19 col15\" >0.08</td>\n",
       "      <td id=\"T_d79db_row19_col16\" class=\"data row19 col16\" >0.14</td>\n",
       "      <td id=\"T_d79db_row19_col17\" class=\"data row19 col17\" >0.12</td>\n",
       "      <td id=\"T_d79db_row19_col18\" class=\"data row19 col18\" >0.86</td>\n",
       "      <td id=\"T_d79db_row19_col19\" class=\"data row19 col19\" >1.00</td>\n",
       "      <td id=\"T_d79db_row19_col20\" class=\"data row19 col20\" >0.44</td>\n",
       "      <td id=\"T_d79db_row19_col21\" class=\"data row19 col21\" >0.27</td>\n",
       "      <td id=\"T_d79db_row19_col22\" class=\"data row19 col22\" >0.64</td>\n",
       "      <td id=\"T_d79db_row19_col23\" class=\"data row19 col23\" >0.43</td>\n",
       "      <td id=\"T_d79db_row19_col24\" class=\"data row19 col24\" >0.30</td>\n",
       "      <td id=\"T_d79db_row19_col25\" class=\"data row19 col25\" >0.25</td>\n",
       "      <td id=\"T_d79db_row19_col26\" class=\"data row19 col26\" >0.33</td>\n",
       "      <td id=\"T_d79db_row19_col27\" class=\"data row19 col27\" >0.08</td>\n",
       "      <td id=\"T_d79db_row19_col28\" class=\"data row19 col28\" >0.10</td>\n",
       "      <td id=\"T_d79db_row19_col29\" class=\"data row19 col29\" >0.14</td>\n",
       "      <td id=\"T_d79db_row19_col30\" class=\"data row19 col30\" >1.00</td>\n",
       "    </tr>\n",
       "    <tr>\n",
       "      <th id=\"T_d79db_level0_row20\" class=\"row_heading level0 row20\" >Score</th>\n",
       "      <td id=\"T_d79db_row20_col0\" class=\"data row20 col0\" >-0.33</td>\n",
       "      <td id=\"T_d79db_row20_col1\" class=\"data row20 col1\" >0.09</td>\n",
       "      <td id=\"T_d79db_row20_col2\" class=\"data row20 col2\" >0.42</td>\n",
       "      <td id=\"T_d79db_row20_col3\" class=\"data row20 col3\" >0.72</td>\n",
       "      <td id=\"T_d79db_row20_col4\" class=\"data row20 col4\" >0.43</td>\n",
       "      <td id=\"T_d79db_row20_col5\" class=\"data row20 col5\" >0.40</td>\n",
       "      <td id=\"T_d79db_row20_col6\" class=\"data row20 col6\" >0.90</td>\n",
       "      <td id=\"T_d79db_row20_col7\" class=\"data row20 col7\" >0.40</td>\n",
       "      <td id=\"T_d79db_row20_col8\" class=\"data row20 col8\" >0.43</td>\n",
       "      <td id=\"T_d79db_row20_col9\" class=\"data row20 col9\" >0.50</td>\n",
       "      <td id=\"T_d79db_row20_col10\" class=\"data row20 col10\" >0.57</td>\n",
       "      <td id=\"T_d79db_row20_col11\" class=\"data row20 col11\" >0.55</td>\n",
       "      <td id=\"T_d79db_row20_col12\" class=\"data row20 col12\" >0.29</td>\n",
       "      <td id=\"T_d79db_row20_col13\" class=\"data row20 col13\" >0.76</td>\n",
       "      <td id=\"T_d79db_row20_col14\" class=\"data row20 col14\" >0.29</td>\n",
       "      <td id=\"T_d79db_row20_col15\" class=\"data row20 col15\" >0.21</td>\n",
       "      <td id=\"T_d79db_row20_col16\" class=\"data row20 col16\" >0.17</td>\n",
       "      <td id=\"T_d79db_row20_col17\" class=\"data row20 col17\" >0.23</td>\n",
       "      <td id=\"T_d79db_row20_col18\" class=\"data row20 col18\" >0.33</td>\n",
       "      <td id=\"T_d79db_row20_col19\" class=\"data row20 col19\" >0.44</td>\n",
       "      <td id=\"T_d79db_row20_col20\" class=\"data row20 col20\" >1.00</td>\n",
       "      <td id=\"T_d79db_row20_col21\" class=\"data row20 col21\" >0.46</td>\n",
       "      <td id=\"T_d79db_row20_col22\" class=\"data row20 col22\" >0.35</td>\n",
       "      <td id=\"T_d79db_row20_col23\" class=\"data row20 col23\" >0.33</td>\n",
       "      <td id=\"T_d79db_row20_col24\" class=\"data row20 col24\" >0.78</td>\n",
       "      <td id=\"T_d79db_row20_col25\" class=\"data row20 col25\" >0.57</td>\n",
       "      <td id=\"T_d79db_row20_col26\" class=\"data row20 col26\" >0.76</td>\n",
       "      <td id=\"T_d79db_row20_col27\" class=\"data row20 col27\" >0.21</td>\n",
       "      <td id=\"T_d79db_row20_col28\" class=\"data row20 col28\" >0.16</td>\n",
       "      <td id=\"T_d79db_row20_col29\" class=\"data row20 col29\" >0.17</td>\n",
       "      <td id=\"T_d79db_row20_col30\" class=\"data row20 col30\" >0.44</td>\n",
       "    </tr>\n",
       "    <tr>\n",
       "      <th id=\"T_d79db_level0_row21\" class=\"row_heading level0 row21\" >Inherent_Risk</th>\n",
       "      <td id=\"T_d79db_row21_col0\" class=\"data row21 col0\" >-0.17</td>\n",
       "      <td id=\"T_d79db_row21_col1\" class=\"data row21 col1\" >-0.05</td>\n",
       "      <td id=\"T_d79db_row21_col2\" class=\"data row21 col2\" >0.48</td>\n",
       "      <td id=\"T_d79db_row21_col3\" class=\"data row21 col3\" >0.32</td>\n",
       "      <td id=\"T_d79db_row21_col4\" class=\"data row21 col4\" >0.48</td>\n",
       "      <td id=\"T_d79db_row21_col5\" class=\"data row21 col5\" >0.65</td>\n",
       "      <td id=\"T_d79db_row21_col6\" class=\"data row21 col6\" >0.36</td>\n",
       "      <td id=\"T_d79db_row21_col7\" class=\"data row21 col7\" >0.65</td>\n",
       "      <td id=\"T_d79db_row21_col8\" class=\"data row21 col8\" >0.69</td>\n",
       "      <td id=\"T_d79db_row21_col9\" class=\"data row21 col9\" >0.27</td>\n",
       "      <td id=\"T_d79db_row21_col10\" class=\"data row21 col10\" >0.31</td>\n",
       "      <td id=\"T_d79db_row21_col11\" class=\"data row21 col11\" >0.30</td>\n",
       "      <td id=\"T_d79db_row21_col12\" class=\"data row21 col12\" >0.83</td>\n",
       "      <td id=\"T_d79db_row21_col13\" class=\"data row21 col13\" >0.48</td>\n",
       "      <td id=\"T_d79db_row21_col14\" class=\"data row21 col14\" >0.83</td>\n",
       "      <td id=\"T_d79db_row21_col15\" class=\"data row21 col15\" >0.08</td>\n",
       "      <td id=\"T_d79db_row21_col16\" class=\"data row21 col16\" >0.05</td>\n",
       "      <td id=\"T_d79db_row21_col17\" class=\"data row21 col17\" >0.08</td>\n",
       "      <td id=\"T_d79db_row21_col18\" class=\"data row21 col18\" >0.18</td>\n",
       "      <td id=\"T_d79db_row21_col19\" class=\"data row21 col19\" >0.27</td>\n",
       "      <td id=\"T_d79db_row21_col20\" class=\"data row21 col20\" >0.46</td>\n",
       "      <td id=\"T_d79db_row21_col21\" class=\"data row21 col21\" >1.00</td>\n",
       "      <td id=\"T_d79db_row21_col22\" class=\"data row21 col22\" >0.17</td>\n",
       "      <td id=\"T_d79db_row21_col23\" class=\"data row21 col23\" >0.75</td>\n",
       "      <td id=\"T_d79db_row21_col24\" class=\"data row21 col24\" >0.36</td>\n",
       "      <td id=\"T_d79db_row21_col25\" class=\"data row21 col25\" >0.31</td>\n",
       "      <td id=\"T_d79db_row21_col26\" class=\"data row21 col26\" >0.48</td>\n",
       "      <td id=\"T_d79db_row21_col27\" class=\"data row21 col27\" >0.08</td>\n",
       "      <td id=\"T_d79db_row21_col28\" class=\"data row21 col28\" >0.05</td>\n",
       "      <td id=\"T_d79db_row21_col29\" class=\"data row21 col29\" >0.05</td>\n",
       "      <td id=\"T_d79db_row21_col30\" class=\"data row21 col30\" >0.27</td>\n",
       "    </tr>\n",
       "    <tr>\n",
       "      <th id=\"T_d79db_level0_row22\" class=\"row_heading level0 row22\" >CONTROL_RISK</th>\n",
       "      <td id=\"T_d79db_row22_col0\" class=\"data row22 col0\" >-0.16</td>\n",
       "      <td id=\"T_d79db_row22_col1\" class=\"data row22 col1\" >-0.12</td>\n",
       "      <td id=\"T_d79db_row22_col2\" class=\"data row22 col2\" >0.15</td>\n",
       "      <td id=\"T_d79db_row22_col3\" class=\"data row22 col3\" >0.17</td>\n",
       "      <td id=\"T_d79db_row22_col4\" class=\"data row22 col4\" >0.15</td>\n",
       "      <td id=\"T_d79db_row22_col5\" class=\"data row22 col5\" >0.19</td>\n",
       "      <td id=\"T_d79db_row22_col6\" class=\"data row22 col6\" >0.12</td>\n",
       "      <td id=\"T_d79db_row22_col7\" class=\"data row22 col7\" >0.19</td>\n",
       "      <td id=\"T_d79db_row22_col8\" class=\"data row22 col8\" >0.20</td>\n",
       "      <td id=\"T_d79db_row22_col9\" class=\"data row22 col9\" >0.23</td>\n",
       "      <td id=\"T_d79db_row22_col10\" class=\"data row22 col10\" >0.26</td>\n",
       "      <td id=\"T_d79db_row22_col11\" class=\"data row22 col11\" >0.25</td>\n",
       "      <td id=\"T_d79db_row22_col12\" class=\"data row22 col12\" >0.07</td>\n",
       "      <td id=\"T_d79db_row22_col13\" class=\"data row22 col13\" >0.22</td>\n",
       "      <td id=\"T_d79db_row22_col14\" class=\"data row22 col14\" >0.07</td>\n",
       "      <td id=\"T_d79db_row22_col15\" class=\"data row22 col15\" >0.64</td>\n",
       "      <td id=\"T_d79db_row22_col16\" class=\"data row22 col16\" >0.34</td>\n",
       "      <td id=\"T_d79db_row22_col17\" class=\"data row22 col17\" >0.73</td>\n",
       "      <td id=\"T_d79db_row22_col18\" class=\"data row22 col18\" >0.76</td>\n",
       "      <td id=\"T_d79db_row22_col19\" class=\"data row22 col19\" >0.64</td>\n",
       "      <td id=\"T_d79db_row22_col20\" class=\"data row22 col20\" >0.35</td>\n",
       "      <td id=\"T_d79db_row22_col21\" class=\"data row22 col21\" >0.17</td>\n",
       "      <td id=\"T_d79db_row22_col22\" class=\"data row22 col22\" >1.00</td>\n",
       "      <td id=\"T_d79db_row22_col23\" class=\"data row22 col23\" >0.36</td>\n",
       "      <td id=\"T_d79db_row22_col24\" class=\"data row22 col24\" >0.41</td>\n",
       "      <td id=\"T_d79db_row22_col25\" class=\"data row22 col25\" >0.26</td>\n",
       "      <td id=\"T_d79db_row22_col26\" class=\"data row22 col26\" >0.22</td>\n",
       "      <td id=\"T_d79db_row22_col27\" class=\"data row22 col27\" >0.64</td>\n",
       "      <td id=\"T_d79db_row22_col28\" class=\"data row22 col28\" >0.28</td>\n",
       "      <td id=\"T_d79db_row22_col29\" class=\"data row22 col29\" >0.34</td>\n",
       "      <td id=\"T_d79db_row22_col30\" class=\"data row22 col30\" >0.64</td>\n",
       "    </tr>\n",
       "    <tr>\n",
       "      <th id=\"T_d79db_level0_row23\" class=\"row_heading level0 row23\" >Audit_Risk</th>\n",
       "      <td id=\"T_d79db_row23_col0\" class=\"data row23 col0\" >-0.09</td>\n",
       "      <td id=\"T_d79db_row23_col1\" class=\"data row23 col1\" >-0.09</td>\n",
       "      <td id=\"T_d79db_row23_col2\" class=\"data row23 col2\" >0.22</td>\n",
       "      <td id=\"T_d79db_row23_col3\" class=\"data row23 col3\" >0.20</td>\n",
       "      <td id=\"T_d79db_row23_col4\" class=\"data row23 col4\" >0.22</td>\n",
       "      <td id=\"T_d79db_row23_col5\" class=\"data row23 col5\" >0.89</td>\n",
       "      <td id=\"T_d79db_row23_col6\" class=\"data row23 col6\" >0.21</td>\n",
       "      <td id=\"T_d79db_row23_col7\" class=\"data row23 col7\" >0.89</td>\n",
       "      <td id=\"T_d79db_row23_col8\" class=\"data row23 col8\" >0.89</td>\n",
       "      <td id=\"T_d79db_row23_col9\" class=\"data row23 col9\" >0.22</td>\n",
       "      <td id=\"T_d79db_row23_col10\" class=\"data row23 col10\" >0.26</td>\n",
       "      <td id=\"T_d79db_row23_col11\" class=\"data row23 col11\" >0.25</td>\n",
       "      <td id=\"T_d79db_row23_col12\" class=\"data row23 col12\" >0.33</td>\n",
       "      <td id=\"T_d79db_row23_col13\" class=\"data row23 col13\" >0.29</td>\n",
       "      <td id=\"T_d79db_row23_col14\" class=\"data row23 col14\" >0.33</td>\n",
       "      <td id=\"T_d79db_row23_col15\" class=\"data row23 col15\" >0.20</td>\n",
       "      <td id=\"T_d79db_row23_col16\" class=\"data row23 col16\" >0.07</td>\n",
       "      <td id=\"T_d79db_row23_col17\" class=\"data row23 col17\" >0.20</td>\n",
       "      <td id=\"T_d79db_row23_col18\" class=\"data row23 col18\" >0.33</td>\n",
       "      <td id=\"T_d79db_row23_col19\" class=\"data row23 col19\" >0.43</td>\n",
       "      <td id=\"T_d79db_row23_col20\" class=\"data row23 col20\" >0.33</td>\n",
       "      <td id=\"T_d79db_row23_col21\" class=\"data row23 col21\" >0.75</td>\n",
       "      <td id=\"T_d79db_row23_col22\" class=\"data row23 col22\" >0.36</td>\n",
       "      <td id=\"T_d79db_row23_col23\" class=\"data row23 col23\" >1.00</td>\n",
       "      <td id=\"T_d79db_row23_col24\" class=\"data row23 col24\" >0.22</td>\n",
       "      <td id=\"T_d79db_row23_col25\" class=\"data row23 col25\" >0.26</td>\n",
       "      <td id=\"T_d79db_row23_col26\" class=\"data row23 col26\" >0.29</td>\n",
       "      <td id=\"T_d79db_row23_col27\" class=\"data row23 col27\" >0.20</td>\n",
       "      <td id=\"T_d79db_row23_col28\" class=\"data row23 col28\" >0.05</td>\n",
       "      <td id=\"T_d79db_row23_col29\" class=\"data row23 col29\" >0.07</td>\n",
       "      <td id=\"T_d79db_row23_col30\" class=\"data row23 col30\" >0.43</td>\n",
       "    </tr>\n",
       "    <tr>\n",
       "      <th id=\"T_d79db_level0_row24\" class=\"row_heading level0 row24\" >Risk</th>\n",
       "      <td id=\"T_d79db_row24_col0\" class=\"data row24 col0\" >-0.39</td>\n",
       "      <td id=\"T_d79db_row24_col1\" class=\"data row24 col1\" >0.06</td>\n",
       "      <td id=\"T_d79db_row24_col2\" class=\"data row24 col2\" >0.38</td>\n",
       "      <td id=\"T_d79db_row24_col3\" class=\"data row24 col3\" >0.62</td>\n",
       "      <td id=\"T_d79db_row24_col4\" class=\"data row24 col4\" >0.38</td>\n",
       "      <td id=\"T_d79db_row24_col5\" class=\"data row24 col5\" >0.26</td>\n",
       "      <td id=\"T_d79db_row24_col6\" class=\"data row24 col6\" >0.63</td>\n",
       "      <td id=\"T_d79db_row24_col7\" class=\"data row24 col7\" >0.25</td>\n",
       "      <td id=\"T_d79db_row24_col8\" class=\"data row24 col8\" >0.29</td>\n",
       "      <td id=\"T_d79db_row24_col9\" class=\"data row24 col9\" >0.31</td>\n",
       "      <td id=\"T_d79db_row24_col10\" class=\"data row24 col10\" >0.35</td>\n",
       "      <td id=\"T_d79db_row24_col11\" class=\"data row24 col11\" >0.34</td>\n",
       "      <td id=\"T_d79db_row24_col12\" class=\"data row24 col12\" >0.26</td>\n",
       "      <td id=\"T_d79db_row24_col13\" class=\"data row24 col13\" >0.69</td>\n",
       "      <td id=\"T_d79db_row24_col14\" class=\"data row24 col14\" >0.25</td>\n",
       "      <td id=\"T_d79db_row24_col15\" class=\"data row24 col15\" >0.40</td>\n",
       "      <td id=\"T_d79db_row24_col16\" class=\"data row24 col16\" >0.18</td>\n",
       "      <td id=\"T_d79db_row24_col17\" class=\"data row24 col17\" >0.41</td>\n",
       "      <td id=\"T_d79db_row24_col18\" class=\"data row24 col18\" >0.24</td>\n",
       "      <td id=\"T_d79db_row24_col19\" class=\"data row24 col19\" >0.30</td>\n",
       "      <td id=\"T_d79db_row24_col20\" class=\"data row24 col20\" >0.78</td>\n",
       "      <td id=\"T_d79db_row24_col21\" class=\"data row24 col21\" >0.36</td>\n",
       "      <td id=\"T_d79db_row24_col22\" class=\"data row24 col22\" >0.41</td>\n",
       "      <td id=\"T_d79db_row24_col23\" class=\"data row24 col23\" >0.22</td>\n",
       "      <td id=\"T_d79db_row24_col24\" class=\"data row24 col24\" >1.00</td>\n",
       "      <td id=\"T_d79db_row24_col25\" class=\"data row24 col25\" >0.35</td>\n",
       "      <td id=\"T_d79db_row24_col26\" class=\"data row24 col26\" >0.69</td>\n",
       "      <td id=\"T_d79db_row24_col27\" class=\"data row24 col27\" >0.40</td>\n",
       "      <td id=\"T_d79db_row24_col28\" class=\"data row24 col28\" >0.17</td>\n",
       "      <td id=\"T_d79db_row24_col29\" class=\"data row24 col29\" >0.18</td>\n",
       "      <td id=\"T_d79db_row24_col30\" class=\"data row24 col30\" >0.30</td>\n",
       "    </tr>\n",
       "    <tr>\n",
       "      <th id=\"T_d79db_level0_row25\" class=\"row_heading level0 row25\" >Marks</th>\n",
       "      <td id=\"T_d79db_row25_col0\" class=\"data row25 col0\" >-0.17</td>\n",
       "      <td id=\"T_d79db_row25_col1\" class=\"data row25 col1\" >-0.02</td>\n",
       "      <td id=\"T_d79db_row25_col2\" class=\"data row25 col2\" >0.14</td>\n",
       "      <td id=\"T_d79db_row25_col3\" class=\"data row25 col3\" >0.27</td>\n",
       "      <td id=\"T_d79db_row25_col4\" class=\"data row25 col4\" >0.14</td>\n",
       "      <td id=\"T_d79db_row25_col5\" class=\"data row25 col5\" >0.23</td>\n",
       "      <td id=\"T_d79db_row25_col6\" class=\"data row25 col6\" >0.31</td>\n",
       "      <td id=\"T_d79db_row25_col7\" class=\"data row25 col7\" >0.23</td>\n",
       "      <td id=\"T_d79db_row25_col8\" class=\"data row25 col8\" >0.24</td>\n",
       "      <td id=\"T_d79db_row25_col9\" class=\"data row25 col9\" >0.91</td>\n",
       "      <td id=\"T_d79db_row25_col10\" class=\"data row25 col10\" >1.00</td>\n",
       "      <td id=\"T_d79db_row25_col11\" class=\"data row25 col11\" >0.99</td>\n",
       "      <td id=\"T_d79db_row25_col12\" class=\"data row25 col12\" >0.22</td>\n",
       "      <td id=\"T_d79db_row25_col13\" class=\"data row25 col13\" >0.51</td>\n",
       "      <td id=\"T_d79db_row25_col14\" class=\"data row25 col14\" >0.22</td>\n",
       "      <td id=\"T_d79db_row25_col15\" class=\"data row25 col15\" >0.15</td>\n",
       "      <td id=\"T_d79db_row25_col16\" class=\"data row25 col16\" >0.04</td>\n",
       "      <td id=\"T_d79db_row25_col17\" class=\"data row25 col17\" >0.16</td>\n",
       "      <td id=\"T_d79db_row25_col18\" class=\"data row25 col18\" >0.23</td>\n",
       "      <td id=\"T_d79db_row25_col19\" class=\"data row25 col19\" >0.25</td>\n",
       "      <td id=\"T_d79db_row25_col20\" class=\"data row25 col20\" >0.57</td>\n",
       "      <td id=\"T_d79db_row25_col21\" class=\"data row25 col21\" >0.31</td>\n",
       "      <td id=\"T_d79db_row25_col22\" class=\"data row25 col22\" >0.26</td>\n",
       "      <td id=\"T_d79db_row25_col23\" class=\"data row25 col23\" >0.26</td>\n",
       "      <td id=\"T_d79db_row25_col24\" class=\"data row25 col24\" >0.35</td>\n",
       "      <td id=\"T_d79db_row25_col25\" class=\"data row25 col25\" >1.00</td>\n",
       "      <td id=\"T_d79db_row25_col26\" class=\"data row25 col26\" >0.51</td>\n",
       "      <td id=\"T_d79db_row25_col27\" class=\"data row25 col27\" >0.15</td>\n",
       "      <td id=\"T_d79db_row25_col28\" class=\"data row25 col28\" >0.00</td>\n",
       "      <td id=\"T_d79db_row25_col29\" class=\"data row25 col29\" >0.04</td>\n",
       "      <td id=\"T_d79db_row25_col30\" class=\"data row25 col30\" >0.25</td>\n",
       "    </tr>\n",
       "    <tr>\n",
       "      <th id=\"T_d79db_level0_row26\" class=\"row_heading level0 row26\" >MONEY_Marks</th>\n",
       "      <td id=\"T_d79db_row26_col0\" class=\"data row26 col0\" >-0.32</td>\n",
       "      <td id=\"T_d79db_row26_col1\" class=\"data row26 col1\" >0.11</td>\n",
       "      <td id=\"T_d79db_row26_col2\" class=\"data row26 col2\" >0.28</td>\n",
       "      <td id=\"T_d79db_row26_col3\" class=\"data row26 col3\" >0.47</td>\n",
       "      <td id=\"T_d79db_row26_col4\" class=\"data row26 col4\" >0.29</td>\n",
       "      <td id=\"T_d79db_row26_col5\" class=\"data row26 col5\" >0.31</td>\n",
       "      <td id=\"T_d79db_row26_col6\" class=\"data row26 col6\" >0.56</td>\n",
       "      <td id=\"T_d79db_row26_col7\" class=\"data row26 col7\" >0.31</td>\n",
       "      <td id=\"T_d79db_row26_col8\" class=\"data row26 col8\" >0.34</td>\n",
       "      <td id=\"T_d79db_row26_col9\" class=\"data row26 col9\" >0.45</td>\n",
       "      <td id=\"T_d79db_row26_col10\" class=\"data row26 col10\" >0.51</td>\n",
       "      <td id=\"T_d79db_row26_col11\" class=\"data row26 col11\" >0.49</td>\n",
       "      <td id=\"T_d79db_row26_col12\" class=\"data row26 col12\" >0.39</td>\n",
       "      <td id=\"T_d79db_row26_col13\" class=\"data row26 col13\" >1.00</td>\n",
       "      <td id=\"T_d79db_row26_col14\" class=\"data row26 col14\" >0.39</td>\n",
       "      <td id=\"T_d79db_row26_col15\" class=\"data row26 col15\" >0.08</td>\n",
       "      <td id=\"T_d79db_row26_col16\" class=\"data row26 col16\" >0.13</td>\n",
       "      <td id=\"T_d79db_row26_col17\" class=\"data row26 col17\" >0.10</td>\n",
       "      <td id=\"T_d79db_row26_col18\" class=\"data row26 col18\" >0.25</td>\n",
       "      <td id=\"T_d79db_row26_col19\" class=\"data row26 col19\" >0.33</td>\n",
       "      <td id=\"T_d79db_row26_col20\" class=\"data row26 col20\" >0.76</td>\n",
       "      <td id=\"T_d79db_row26_col21\" class=\"data row26 col21\" >0.48</td>\n",
       "      <td id=\"T_d79db_row26_col22\" class=\"data row26 col22\" >0.22</td>\n",
       "      <td id=\"T_d79db_row26_col23\" class=\"data row26 col23\" >0.29</td>\n",
       "      <td id=\"T_d79db_row26_col24\" class=\"data row26 col24\" >0.69</td>\n",
       "      <td id=\"T_d79db_row26_col25\" class=\"data row26 col25\" >0.51</td>\n",
       "      <td id=\"T_d79db_row26_col26\" class=\"data row26 col26\" >1.00</td>\n",
       "      <td id=\"T_d79db_row26_col27\" class=\"data row26 col27\" >0.08</td>\n",
       "      <td id=\"T_d79db_row26_col28\" class=\"data row26 col28\" >0.12</td>\n",
       "      <td id=\"T_d79db_row26_col29\" class=\"data row26 col29\" >0.13</td>\n",
       "      <td id=\"T_d79db_row26_col30\" class=\"data row26 col30\" >0.33</td>\n",
       "    </tr>\n",
       "    <tr>\n",
       "      <th id=\"T_d79db_level0_row27\" class=\"row_heading level0 row27\" >District</th>\n",
       "      <td id=\"T_d79db_row27_col0\" class=\"data row27 col0\" >-0.11</td>\n",
       "      <td id=\"T_d79db_row27_col1\" class=\"data row27 col1\" >-0.11</td>\n",
       "      <td id=\"T_d79db_row27_col2\" class=\"data row27 col2\" >0.13</td>\n",
       "      <td id=\"T_d79db_row27_col3\" class=\"data row27 col3\" >0.09</td>\n",
       "      <td id=\"T_d79db_row27_col4\" class=\"data row27 col4\" >0.13</td>\n",
       "      <td id=\"T_d79db_row27_col5\" class=\"data row27 col5\" >0.08</td>\n",
       "      <td id=\"T_d79db_row27_col6\" class=\"data row27 col6\" >-0.01</td>\n",
       "      <td id=\"T_d79db_row27_col7\" class=\"data row27 col7\" >0.08</td>\n",
       "      <td id=\"T_d79db_row27_col8\" class=\"data row27 col8\" >0.09</td>\n",
       "      <td id=\"T_d79db_row27_col9\" class=\"data row27 col9\" >0.12</td>\n",
       "      <td id=\"T_d79db_row27_col10\" class=\"data row27 col10\" >0.15</td>\n",
       "      <td id=\"T_d79db_row27_col11\" class=\"data row27 col11\" >0.15</td>\n",
       "      <td id=\"T_d79db_row27_col12\" class=\"data row27 col12\" >0.03</td>\n",
       "      <td id=\"T_d79db_row27_col13\" class=\"data row27 col13\" >0.08</td>\n",
       "      <td id=\"T_d79db_row27_col14\" class=\"data row27 col14\" >0.03</td>\n",
       "      <td id=\"T_d79db_row27_col15\" class=\"data row27 col15\" >1.00</td>\n",
       "      <td id=\"T_d79db_row27_col16\" class=\"data row27 col16\" >0.05</td>\n",
       "      <td id=\"T_d79db_row27_col17\" class=\"data row27 col17\" >0.91</td>\n",
       "      <td id=\"T_d79db_row27_col18\" class=\"data row27 col18\" >0.07</td>\n",
       "      <td id=\"T_d79db_row27_col19\" class=\"data row27 col19\" >0.08</td>\n",
       "      <td id=\"T_d79db_row27_col20\" class=\"data row27 col20\" >0.21</td>\n",
       "      <td id=\"T_d79db_row27_col21\" class=\"data row27 col21\" >0.08</td>\n",
       "      <td id=\"T_d79db_row27_col22\" class=\"data row27 col22\" >0.64</td>\n",
       "      <td id=\"T_d79db_row27_col23\" class=\"data row27 col23\" >0.20</td>\n",
       "      <td id=\"T_d79db_row27_col24\" class=\"data row27 col24\" >0.40</td>\n",
       "      <td id=\"T_d79db_row27_col25\" class=\"data row27 col25\" >0.15</td>\n",
       "      <td id=\"T_d79db_row27_col26\" class=\"data row27 col26\" >0.08</td>\n",
       "      <td id=\"T_d79db_row27_col27\" class=\"data row27 col27\" >1.00</td>\n",
       "      <td id=\"T_d79db_row27_col28\" class=\"data row27 col28\" >0.04</td>\n",
       "      <td id=\"T_d79db_row27_col29\" class=\"data row27 col29\" >0.05</td>\n",
       "      <td id=\"T_d79db_row27_col30\" class=\"data row27 col30\" >0.08</td>\n",
       "    </tr>\n",
       "    <tr>\n",
       "      <th id=\"T_d79db_level0_row28\" class=\"row_heading level0 row28\" >Loss</th>\n",
       "      <td id=\"T_d79db_row28_col0\" class=\"data row28 col0\" >-0.08</td>\n",
       "      <td id=\"T_d79db_row28_col1\" class=\"data row28 col1\" >0.01</td>\n",
       "      <td id=\"T_d79db_row28_col2\" class=\"data row28 col2\" >0.04</td>\n",
       "      <td id=\"T_d79db_row28_col3\" class=\"data row28 col3\" >0.09</td>\n",
       "      <td id=\"T_d79db_row28_col4\" class=\"data row28 col4\" >0.04</td>\n",
       "      <td id=\"T_d79db_row28_col5\" class=\"data row28 col5\" >0.04</td>\n",
       "      <td id=\"T_d79db_row28_col6\" class=\"data row28 col6\" >0.10</td>\n",
       "      <td id=\"T_d79db_row28_col7\" class=\"data row28 col7\" >0.04</td>\n",
       "      <td id=\"T_d79db_row28_col8\" class=\"data row28 col8\" >0.05</td>\n",
       "      <td id=\"T_d79db_row28_col9\" class=\"data row28 col9\" >-0.00</td>\n",
       "      <td id=\"T_d79db_row28_col10\" class=\"data row28 col10\" >0.00</td>\n",
       "      <td id=\"T_d79db_row28_col11\" class=\"data row28 col11\" >0.00</td>\n",
       "      <td id=\"T_d79db_row28_col12\" class=\"data row28 col12\" >0.02</td>\n",
       "      <td id=\"T_d79db_row28_col13\" class=\"data row28 col13\" >0.12</td>\n",
       "      <td id=\"T_d79db_row28_col14\" class=\"data row28 col14\" >0.02</td>\n",
       "      <td id=\"T_d79db_row28_col15\" class=\"data row28 col15\" >0.04</td>\n",
       "      <td id=\"T_d79db_row28_col16\" class=\"data row28 col16\" >0.98</td>\n",
       "      <td id=\"T_d79db_row28_col17\" class=\"data row28 col17\" >0.37</td>\n",
       "      <td id=\"T_d79db_row28_col18\" class=\"data row28 col18\" >0.06</td>\n",
       "      <td id=\"T_d79db_row28_col19\" class=\"data row28 col19\" >0.10</td>\n",
       "      <td id=\"T_d79db_row28_col20\" class=\"data row28 col20\" >0.16</td>\n",
       "      <td id=\"T_d79db_row28_col21\" class=\"data row28 col21\" >0.05</td>\n",
       "      <td id=\"T_d79db_row28_col22\" class=\"data row28 col22\" >0.28</td>\n",
       "      <td id=\"T_d79db_row28_col23\" class=\"data row28 col23\" >0.05</td>\n",
       "      <td id=\"T_d79db_row28_col24\" class=\"data row28 col24\" >0.17</td>\n",
       "      <td id=\"T_d79db_row28_col25\" class=\"data row28 col25\" >0.00</td>\n",
       "      <td id=\"T_d79db_row28_col26\" class=\"data row28 col26\" >0.12</td>\n",
       "      <td id=\"T_d79db_row28_col27\" class=\"data row28 col27\" >0.04</td>\n",
       "      <td id=\"T_d79db_row28_col28\" class=\"data row28 col28\" >1.00</td>\n",
       "      <td id=\"T_d79db_row28_col29\" class=\"data row28 col29\" >0.98</td>\n",
       "      <td id=\"T_d79db_row28_col30\" class=\"data row28 col30\" >0.10</td>\n",
       "    </tr>\n",
       "    <tr>\n",
       "      <th id=\"T_d79db_level0_row29\" class=\"row_heading level0 row29\" >LOSS_SCORE</th>\n",
       "      <td id=\"T_d79db_row29_col0\" class=\"data row29 col0\" >-0.09</td>\n",
       "      <td id=\"T_d79db_row29_col1\" class=\"data row29 col1\" >-0.00</td>\n",
       "      <td id=\"T_d79db_row29_col2\" class=\"data row29 col2\" >0.04</td>\n",
       "      <td id=\"T_d79db_row29_col3\" class=\"data row29 col3\" >0.09</td>\n",
       "      <td id=\"T_d79db_row29_col4\" class=\"data row29 col4\" >0.04</td>\n",
       "      <td id=\"T_d79db_row29_col5\" class=\"data row29 col5\" >0.04</td>\n",
       "      <td id=\"T_d79db_row29_col6\" class=\"data row29 col6\" >0.09</td>\n",
       "      <td id=\"T_d79db_row29_col7\" class=\"data row29 col7\" >0.04</td>\n",
       "      <td id=\"T_d79db_row29_col8\" class=\"data row29 col8\" >0.05</td>\n",
       "      <td id=\"T_d79db_row29_col9\" class=\"data row29 col9\" >0.03</td>\n",
       "      <td id=\"T_d79db_row29_col10\" class=\"data row29 col10\" >0.04</td>\n",
       "      <td id=\"T_d79db_row29_col11\" class=\"data row29 col11\" >0.04</td>\n",
       "      <td id=\"T_d79db_row29_col12\" class=\"data row29 col12\" >0.03</td>\n",
       "      <td id=\"T_d79db_row29_col13\" class=\"data row29 col13\" >0.13</td>\n",
       "      <td id=\"T_d79db_row29_col14\" class=\"data row29 col14\" >0.03</td>\n",
       "      <td id=\"T_d79db_row29_col15\" class=\"data row29 col15\" >0.05</td>\n",
       "      <td id=\"T_d79db_row29_col16\" class=\"data row29 col16\" >1.00</td>\n",
       "      <td id=\"T_d79db_row29_col17\" class=\"data row29 col17\" >0.41</td>\n",
       "      <td id=\"T_d79db_row29_col18\" class=\"data row29 col18\" >0.11</td>\n",
       "      <td id=\"T_d79db_row29_col19\" class=\"data row29 col19\" >0.14</td>\n",
       "      <td id=\"T_d79db_row29_col20\" class=\"data row29 col20\" >0.17</td>\n",
       "      <td id=\"T_d79db_row29_col21\" class=\"data row29 col21\" >0.05</td>\n",
       "      <td id=\"T_d79db_row29_col22\" class=\"data row29 col22\" >0.34</td>\n",
       "      <td id=\"T_d79db_row29_col23\" class=\"data row29 col23\" >0.07</td>\n",
       "      <td id=\"T_d79db_row29_col24\" class=\"data row29 col24\" >0.18</td>\n",
       "      <td id=\"T_d79db_row29_col25\" class=\"data row29 col25\" >0.04</td>\n",
       "      <td id=\"T_d79db_row29_col26\" class=\"data row29 col26\" >0.13</td>\n",
       "      <td id=\"T_d79db_row29_col27\" class=\"data row29 col27\" >0.05</td>\n",
       "      <td id=\"T_d79db_row29_col28\" class=\"data row29 col28\" >0.98</td>\n",
       "      <td id=\"T_d79db_row29_col29\" class=\"data row29 col29\" >1.00</td>\n",
       "      <td id=\"T_d79db_row29_col30\" class=\"data row29 col30\" >0.14</td>\n",
       "    </tr>\n",
       "    <tr>\n",
       "      <th id=\"T_d79db_level0_row30\" class=\"row_heading level0 row30\" >History_score</th>\n",
       "      <td id=\"T_d79db_row30_col0\" class=\"data row30 col0\" >-0.14</td>\n",
       "      <td id=\"T_d79db_row30_col1\" class=\"data row30 col1\" >-0.05</td>\n",
       "      <td id=\"T_d79db_row30_col2\" class=\"data row30 col2\" >0.17</td>\n",
       "      <td id=\"T_d79db_row30_col3\" class=\"data row30 col3\" >0.26</td>\n",
       "      <td id=\"T_d79db_row30_col4\" class=\"data row30 col4\" >0.17</td>\n",
       "      <td id=\"T_d79db_row30_col5\" class=\"data row30 col5\" >0.32</td>\n",
       "      <td id=\"T_d79db_row30_col6\" class=\"data row30 col6\" >0.31</td>\n",
       "      <td id=\"T_d79db_row30_col7\" class=\"data row30 col7\" >0.32</td>\n",
       "      <td id=\"T_d79db_row30_col8\" class=\"data row30 col8\" >0.33</td>\n",
       "      <td id=\"T_d79db_row30_col9\" class=\"data row30 col9\" >0.21</td>\n",
       "      <td id=\"T_d79db_row30_col10\" class=\"data row30 col10\" >0.25</td>\n",
       "      <td id=\"T_d79db_row30_col11\" class=\"data row30 col11\" >0.24</td>\n",
       "      <td id=\"T_d79db_row30_col12\" class=\"data row30 col12\" >0.11</td>\n",
       "      <td id=\"T_d79db_row30_col13\" class=\"data row30 col13\" >0.33</td>\n",
       "      <td id=\"T_d79db_row30_col14\" class=\"data row30 col14\" >0.11</td>\n",
       "      <td id=\"T_d79db_row30_col15\" class=\"data row30 col15\" >0.08</td>\n",
       "      <td id=\"T_d79db_row30_col16\" class=\"data row30 col16\" >0.14</td>\n",
       "      <td id=\"T_d79db_row30_col17\" class=\"data row30 col17\" >0.12</td>\n",
       "      <td id=\"T_d79db_row30_col18\" class=\"data row30 col18\" >0.86</td>\n",
       "      <td id=\"T_d79db_row30_col19\" class=\"data row30 col19\" >1.00</td>\n",
       "      <td id=\"T_d79db_row30_col20\" class=\"data row30 col20\" >0.44</td>\n",
       "      <td id=\"T_d79db_row30_col21\" class=\"data row30 col21\" >0.27</td>\n",
       "      <td id=\"T_d79db_row30_col22\" class=\"data row30 col22\" >0.64</td>\n",
       "      <td id=\"T_d79db_row30_col23\" class=\"data row30 col23\" >0.43</td>\n",
       "      <td id=\"T_d79db_row30_col24\" class=\"data row30 col24\" >0.30</td>\n",
       "      <td id=\"T_d79db_row30_col25\" class=\"data row30 col25\" >0.25</td>\n",
       "      <td id=\"T_d79db_row30_col26\" class=\"data row30 col26\" >0.33</td>\n",
       "      <td id=\"T_d79db_row30_col27\" class=\"data row30 col27\" >0.08</td>\n",
       "      <td id=\"T_d79db_row30_col28\" class=\"data row30 col28\" >0.10</td>\n",
       "      <td id=\"T_d79db_row30_col29\" class=\"data row30 col29\" >0.14</td>\n",
       "      <td id=\"T_d79db_row30_col30\" class=\"data row30 col30\" >1.00</td>\n",
       "    </tr>\n",
       "  </tbody>\n",
       "</table>\n"
      ],
      "text/plain": [
       "<pandas.io.formats.style.Styler at 0x17f8d5e79a0>"
      ]
     },
     "execution_count": 19,
     "metadata": {},
     "output_type": "execute_result"
    }
   ],
   "source": [
    "import seaborn as sns\n",
    "corr = df.corr()\n",
    "corr.style.background_gradient(cmap='coolwarm')\n",
    "# 'RdBu_r' & 'BrBG' are other good diverging colormaps\n",
    "cm = sns.diverging_palette(220, 20, sep=20, as_cmap=True) \n",
    "corr.style.background_gradient(cmap=cm).set_precision(2)"
   ]
  },
  {
   "cell_type": "markdown",
   "metadata": {},
   "source": [
    "Here, there are some interesting correlations. Deleting some variables that are highly correlated (0.8 and more) with each other to avoid overfitting the models and to avoid multicollinearity."
   ]
  },
  {
   "cell_type": "code",
   "execution_count": 20,
   "metadata": {
    "scrolled": true
   },
   "outputs": [
    {
     "data": {
      "text/html": [
       "<style type=\"text/css\">\n",
       "#T_f5168_row0_col0, #T_f5168_row1_col1, #T_f5168_row2_col2, #T_f5168_row3_col3, #T_f5168_row4_col4, #T_f5168_row5_col5, #T_f5168_row6_col6, #T_f5168_row7_col7, #T_f5168_row8_col8, #T_f5168_row9_col9, #T_f5168_row10_col10, #T_f5168_row11_col11 {\n",
       "  background-color: #c3553a;\n",
       "  color: #f1f1f1;\n",
       "}\n",
       "#T_f5168_row0_col1, #T_f5168_row1_col0 {\n",
       "  background-color: #6d9dac;\n",
       "  color: #f1f1f1;\n",
       "}\n",
       "#T_f5168_row0_col2 {\n",
       "  background-color: #75a2b0;\n",
       "  color: #f1f1f1;\n",
       "}\n",
       "#T_f5168_row0_col3 {\n",
       "  background-color: #e4eaed;\n",
       "  color: #000000;\n",
       "}\n",
       "#T_f5168_row0_col4, #T_f5168_row0_col7, #T_f5168_row5_col3 {\n",
       "  background-color: #6095a5;\n",
       "  color: #f1f1f1;\n",
       "}\n",
       "#T_f5168_row0_col5 {\n",
       "  background-color: #5d92a3;\n",
       "  color: #f1f1f1;\n",
       "}\n",
       "#T_f5168_row0_col6, #T_f5168_row7_col8 {\n",
       "  background-color: #bcd0d7;\n",
       "  color: #000000;\n",
       "}\n",
       "#T_f5168_row0_col8 {\n",
       "  background-color: #84acb8;\n",
       "  color: #f1f1f1;\n",
       "}\n",
       "#T_f5168_row0_col9, #T_f5168_row5_col10, #T_f5168_row10_col0, #T_f5168_row10_col5, #T_f5168_row10_col8 {\n",
       "  background-color: #a1bfc8;\n",
       "  color: #000000;\n",
       "}\n",
       "#T_f5168_row0_col10, #T_f5168_row2_col9 {\n",
       "  background-color: #8db2bd;\n",
       "  color: #000000;\n",
       "}\n",
       "#T_f5168_row0_col11, #T_f5168_row1_col11, #T_f5168_row7_col3 {\n",
       "  background-color: #508a9c;\n",
       "  color: #f1f1f1;\n",
       "}\n",
       "#T_f5168_row1_col2, #T_f5168_row9_col1 {\n",
       "  background-color: #93b6c1;\n",
       "  color: #000000;\n",
       "}\n",
       "#T_f5168_row1_col3, #T_f5168_row5_col11 {\n",
       "  background-color: #6698a8;\n",
       "  color: #f1f1f1;\n",
       "}\n",
       "#T_f5168_row1_col4, #T_f5168_row8_col11 {\n",
       "  background-color: #518b9d;\n",
       "  color: #f1f1f1;\n",
       "}\n",
       "#T_f5168_row1_col5, #T_f5168_row5_col2, #T_f5168_row7_col6, #T_f5168_row9_col3 {\n",
       "  background-color: #99bac4;\n",
       "  color: #000000;\n",
       "}\n",
       "#T_f5168_row1_col6 {\n",
       "  background-color: #acc6ce;\n",
       "  color: #000000;\n",
       "}\n",
       "#T_f5168_row1_col7, #T_f5168_row2_col4, #T_f5168_row7_col10 {\n",
       "  background-color: #6f9fad;\n",
       "  color: #f1f1f1;\n",
       "}\n",
       "#T_f5168_row1_col8, #T_f5168_row8_col1 {\n",
       "  background-color: #cf7d68;\n",
       "  color: #f1f1f1;\n",
       "}\n",
       "#T_f5168_row1_col9, #T_f5168_row2_col0, #T_f5168_row3_col9 {\n",
       "  background-color: #6497a7;\n",
       "  color: #f1f1f1;\n",
       "}\n",
       "#T_f5168_row1_col10 {\n",
       "  background-color: #98b9c3;\n",
       "  color: #000000;\n",
       "}\n",
       "#T_f5168_row2_col1, #T_f5168_row8_col0 {\n",
       "  background-color: #85adb9;\n",
       "  color: #f1f1f1;\n",
       "}\n",
       "#T_f5168_row2_col3, #T_f5168_row2_col7 {\n",
       "  background-color: #8ab0bc;\n",
       "  color: #f1f1f1;\n",
       "}\n",
       "#T_f5168_row2_col5, #T_f5168_row7_col1 {\n",
       "  background-color: #76a3b1;\n",
       "  color: #f1f1f1;\n",
       "}\n",
       "#T_f5168_row2_col6, #T_f5168_row10_col2 {\n",
       "  background-color: #f2f2f2;\n",
       "  color: #000000;\n",
       "}\n",
       "#T_f5168_row2_col8, #T_f5168_row6_col4, #T_f5168_row8_col6, #T_f5168_row8_col10 {\n",
       "  background-color: #8eb3be;\n",
       "  color: #000000;\n",
       "}\n",
       "#T_f5168_row2_col10 {\n",
       "  background-color: #e6ebed;\n",
       "  color: #000000;\n",
       "}\n",
       "#T_f5168_row2_col11, #T_f5168_row3_col4, #T_f5168_row3_col7, #T_f5168_row4_col10, #T_f5168_row11_col0, #T_f5168_row11_col1, #T_f5168_row11_col2, #T_f5168_row11_col3, #T_f5168_row11_col5, #T_f5168_row11_col6, #T_f5168_row11_col8, #T_f5168_row11_col9 {\n",
       "  background-color: #3f7f93;\n",
       "  color: #f1f1f1;\n",
       "}\n",
       "#T_f5168_row3_col0 {\n",
       "  background-color: #e0e8ea;\n",
       "  color: #000000;\n",
       "}\n",
       "#T_f5168_row3_col1 {\n",
       "  background-color: #5e93a4;\n",
       "  color: #f1f1f1;\n",
       "}\n",
       "#T_f5168_row3_col2 {\n",
       "  background-color: #90b4bf;\n",
       "  color: #000000;\n",
       "}\n",
       "#T_f5168_row3_col5 {\n",
       "  background-color: #408094;\n",
       "  color: #f1f1f1;\n",
       "}\n",
       "#T_f5168_row3_col6, #T_f5168_row10_col7 {\n",
       "  background-color: #7ba6b3;\n",
       "  color: #f1f1f1;\n",
       "}\n",
       "#T_f5168_row3_col8, #T_f5168_row6_col8 {\n",
       "  background-color: #b1c9d1;\n",
       "  color: #000000;\n",
       "}\n",
       "#T_f5168_row3_col10 {\n",
       "  background-color: #bacfd6;\n",
       "  color: #000000;\n",
       "}\n",
       "#T_f5168_row3_col11 {\n",
       "  background-color: #488598;\n",
       "  color: #f1f1f1;\n",
       "}\n",
       "#T_f5168_row4_col0 {\n",
       "  background-color: #5b92a2;\n",
       "  color: #f1f1f1;\n",
       "}\n",
       "#T_f5168_row4_col1 {\n",
       "  background-color: #4c889a;\n",
       "  color: #f1f1f1;\n",
       "}\n",
       "#T_f5168_row4_col2, #T_f5168_row5_col9, #T_f5168_row6_col11 {\n",
       "  background-color: #7aa5b3;\n",
       "  color: #f1f1f1;\n",
       "}\n",
       "#T_f5168_row4_col3 {\n",
       "  background-color: #428195;\n",
       "  color: #f1f1f1;\n",
       "}\n",
       "#T_f5168_row4_col5 {\n",
       "  background-color: #468497;\n",
       "  color: #f1f1f1;\n",
       "}\n",
       "#T_f5168_row4_col6 {\n",
       "  background-color: #6196a6;\n",
       "  color: #f1f1f1;\n",
       "}\n",
       "#T_f5168_row4_col7 {\n",
       "  background-color: #e1b7ad;\n",
       "  color: #000000;\n",
       "}\n",
       "#T_f5168_row4_col8 {\n",
       "  background-color: #7ca7b4;\n",
       "  color: #f1f1f1;\n",
       "}\n",
       "#T_f5168_row4_col9, #T_f5168_row5_col1 {\n",
       "  background-color: #abc5ce;\n",
       "  color: #000000;\n",
       "}\n",
       "#T_f5168_row4_col11, #T_f5168_row6_col1, #T_f5168_row9_col7 {\n",
       "  background-color: #ccdbe0;\n",
       "  color: #000000;\n",
       "}\n",
       "#T_f5168_row5_col0 {\n",
       "  background-color: #72a0af;\n",
       "  color: #f1f1f1;\n",
       "}\n",
       "#T_f5168_row5_col4 {\n",
       "  background-color: #6396a6;\n",
       "  color: #f1f1f1;\n",
       "}\n",
       "#T_f5168_row5_col6, #T_f5168_row9_col2 {\n",
       "  background-color: #c2d4da;\n",
       "  color: #000000;\n",
       "}\n",
       "#T_f5168_row5_col7 {\n",
       "  background-color: #ebd7d3;\n",
       "  color: #000000;\n",
       "}\n",
       "#T_f5168_row5_col8 {\n",
       "  background-color: #d8e3e6;\n",
       "  color: #000000;\n",
       "}\n",
       "#T_f5168_row6_col0 {\n",
       "  background-color: #dae4e7;\n",
       "  color: #000000;\n",
       "}\n",
       "#T_f5168_row6_col2 {\n",
       "  background-color: #f1edec;\n",
       "  color: #000000;\n",
       "}\n",
       "#T_f5168_row6_col3 {\n",
       "  background-color: #a6c2cb;\n",
       "  color: #000000;\n",
       "}\n",
       "#T_f5168_row6_col5, #T_f5168_row10_col3 {\n",
       "  background-color: #d0dde1;\n",
       "  color: #000000;\n",
       "}\n",
       "#T_f5168_row6_col7 {\n",
       "  background-color: #b4cbd2;\n",
       "  color: #000000;\n",
       "}\n",
       "#T_f5168_row6_col9 {\n",
       "  background-color: #deada1;\n",
       "  color: #000000;\n",
       "}\n",
       "#T_f5168_row6_col10 {\n",
       "  background-color: #dfb0a5;\n",
       "  color: #000000;\n",
       "}\n",
       "#T_f5168_row7_col0 {\n",
       "  background-color: #699baa;\n",
       "  color: #f1f1f1;\n",
       "}\n",
       "#T_f5168_row7_col2 {\n",
       "  background-color: #9fbec7;\n",
       "  color: #000000;\n",
       "}\n",
       "#T_f5168_row7_col4 {\n",
       "  background-color: #e0b3a8;\n",
       "  color: #000000;\n",
       "}\n",
       "#T_f5168_row7_col5 {\n",
       "  background-color: #ecddd9;\n",
       "  color: #000000;\n",
       "}\n",
       "#T_f5168_row7_col9 {\n",
       "  background-color: #aec7cf;\n",
       "  color: #000000;\n",
       "}\n",
       "#T_f5168_row7_col11, #T_f5168_row10_col1 {\n",
       "  background-color: #aac4cd;\n",
       "  color: #000000;\n",
       "}\n",
       "#T_f5168_row8_col2 {\n",
       "  background-color: #9dbcc6;\n",
       "  color: #000000;\n",
       "}\n",
       "#T_f5168_row8_col3 {\n",
       "  background-color: #b9ced5;\n",
       "  color: #000000;\n",
       "}\n",
       "#T_f5168_row8_col4, #T_f5168_row9_col8 {\n",
       "  background-color: #82abb8;\n",
       "  color: #f1f1f1;\n",
       "}\n",
       "#T_f5168_row8_col5 {\n",
       "  background-color: #cbdadf;\n",
       "  color: #000000;\n",
       "}\n",
       "#T_f5168_row8_col7 {\n",
       "  background-color: #b5ccd3;\n",
       "  color: #000000;\n",
       "}\n",
       "#T_f5168_row8_col9 {\n",
       "  background-color: #548d9e;\n",
       "  color: #f1f1f1;\n",
       "}\n",
       "#T_f5168_row9_col0 {\n",
       "  background-color: #c6d7dc;\n",
       "  color: #000000;\n",
       "}\n",
       "#T_f5168_row9_col4 {\n",
       "  background-color: #d4e0e4;\n",
       "  color: #000000;\n",
       "}\n",
       "#T_f5168_row9_col5 {\n",
       "  background-color: #92b5c0;\n",
       "  color: #000000;\n",
       "}\n",
       "#T_f5168_row9_col6 {\n",
       "  background-color: #ddac9f;\n",
       "  color: #000000;\n",
       "}\n",
       "#T_f5168_row9_col10 {\n",
       "  background-color: #e7cbc4;\n",
       "  color: #000000;\n",
       "}\n",
       "#T_f5168_row9_col11 {\n",
       "  background-color: #80a9b6;\n",
       "  color: #f1f1f1;\n",
       "}\n",
       "#T_f5168_row10_col4 {\n",
       "  background-color: #5a91a2;\n",
       "  color: #f1f1f1;\n",
       "}\n",
       "#T_f5168_row10_col6 {\n",
       "  background-color: #e0b6ab;\n",
       "  color: #000000;\n",
       "}\n",
       "#T_f5168_row10_col9 {\n",
       "  background-color: #ead5d0;\n",
       "  color: #000000;\n",
       "}\n",
       "#T_f5168_row10_col11 {\n",
       "  background-color: #6a9bab;\n",
       "  color: #f1f1f1;\n",
       "}\n",
       "#T_f5168_row11_col4 {\n",
       "  background-color: #c5d6db;\n",
       "  color: #000000;\n",
       "}\n",
       "#T_f5168_row11_col7 {\n",
       "  background-color: #94b7c1;\n",
       "  color: #000000;\n",
       "}\n",
       "#T_f5168_row11_col10 {\n",
       "  background-color: #458396;\n",
       "  color: #f1f1f1;\n",
       "}\n",
       "</style>\n",
       "<table id=\"T_f5168\">\n",
       "  <thead>\n",
       "    <tr>\n",
       "      <th class=\"blank level0\" >&nbsp;</th>\n",
       "      <th id=\"T_f5168_level0_col0\" class=\"col_heading level0 col0\" >Risk_A</th>\n",
       "      <th id=\"T_f5168_level0_col1\" class=\"col_heading level0 col1\" >Risk_B</th>\n",
       "      <th id=\"T_f5168_level0_col2\" class=\"col_heading level0 col2\" >Risk_C</th>\n",
       "      <th id=\"T_f5168_level0_col3\" class=\"col_heading level0 col3\" >Risk_D</th>\n",
       "      <th id=\"T_f5168_level0_col4\" class=\"col_heading level0 col4\" >RiSk_E</th>\n",
       "      <th id=\"T_f5168_level0_col5\" class=\"col_heading level0 col5\" >Prob</th>\n",
       "      <th id=\"T_f5168_level0_col6\" class=\"col_heading level0 col6\" >Score</th>\n",
       "      <th id=\"T_f5168_level0_col7\" class=\"col_heading level0 col7\" >CONTROL_RISK</th>\n",
       "      <th id=\"T_f5168_level0_col8\" class=\"col_heading level0 col8\" >Audit_Risk</th>\n",
       "      <th id=\"T_f5168_level0_col9\" class=\"col_heading level0 col9\" >Risk</th>\n",
       "      <th id=\"T_f5168_level0_col10\" class=\"col_heading level0 col10\" >MONEY_Marks</th>\n",
       "      <th id=\"T_f5168_level0_col11\" class=\"col_heading level0 col11\" >Loss</th>\n",
       "    </tr>\n",
       "  </thead>\n",
       "  <tbody>\n",
       "    <tr>\n",
       "      <th id=\"T_f5168_level0_row0\" class=\"row_heading level0 row0\" >Risk_A</th>\n",
       "      <td id=\"T_f5168_row0_col0\" class=\"data row0 col0\" >1.00</td>\n",
       "      <td id=\"T_f5168_row0_col1\" class=\"data row0 col1\" >0.16</td>\n",
       "      <td id=\"T_f5168_row0_col2\" class=\"data row0 col2\" >0.14</td>\n",
       "      <td id=\"T_f5168_row0_col3\" class=\"data row0 col3\" >0.45</td>\n",
       "      <td id=\"T_f5168_row0_col4\" class=\"data row0 col4\" >0.12</td>\n",
       "      <td id=\"T_f5168_row0_col5\" class=\"data row0 col5\" >0.17</td>\n",
       "      <td id=\"T_f5168_row0_col6\" class=\"data row0 col6\" >0.43</td>\n",
       "      <td id=\"T_f5168_row0_col7\" class=\"data row0 col7\" >0.15</td>\n",
       "      <td id=\"T_f5168_row0_col8\" class=\"data row0 col8\" >0.22</td>\n",
       "      <td id=\"T_f5168_row0_col9\" class=\"data row0 col9\" >0.38</td>\n",
       "      <td id=\"T_f5168_row0_col10\" class=\"data row0 col10\" >0.29</td>\n",
       "      <td id=\"T_f5168_row0_col11\" class=\"data row0 col11\" >0.04</td>\n",
       "    </tr>\n",
       "    <tr>\n",
       "      <th id=\"T_f5168_level0_row1\" class=\"row_heading level0 row1\" >Risk_B</th>\n",
       "      <td id=\"T_f5168_row1_col0\" class=\"data row1 col0\" >0.16</td>\n",
       "      <td id=\"T_f5168_row1_col1\" class=\"data row1 col1\" >1.00</td>\n",
       "      <td id=\"T_f5168_row1_col2\" class=\"data row1 col2\" >0.22</td>\n",
       "      <td id=\"T_f5168_row1_col3\" class=\"data row1 col3\" >0.12</td>\n",
       "      <td id=\"T_f5168_row1_col4\" class=\"data row1 col4\" >0.08</td>\n",
       "      <td id=\"T_f5168_row1_col5\" class=\"data row1 col5\" >0.32</td>\n",
       "      <td id=\"T_f5168_row1_col6\" class=\"data row1 col6\" >0.40</td>\n",
       "      <td id=\"T_f5168_row1_col7\" class=\"data row1 col7\" >0.19</td>\n",
       "      <td id=\"T_f5168_row1_col8\" class=\"data row1 col8\" >0.89</td>\n",
       "      <td id=\"T_f5168_row1_col9\" class=\"data row1 col9\" >0.25</td>\n",
       "      <td id=\"T_f5168_row1_col10\" class=\"data row1 col10\" >0.31</td>\n",
       "      <td id=\"T_f5168_row1_col11\" class=\"data row1 col11\" >0.04</td>\n",
       "    </tr>\n",
       "    <tr>\n",
       "      <th id=\"T_f5168_level0_row2\" class=\"row_heading level0 row2\" >Risk_C</th>\n",
       "      <td id=\"T_f5168_row2_col0\" class=\"data row2 col0\" >0.14</td>\n",
       "      <td id=\"T_f5168_row2_col1\" class=\"data row2 col1\" >0.22</td>\n",
       "      <td id=\"T_f5168_row2_col2\" class=\"data row2 col2\" >1.00</td>\n",
       "      <td id=\"T_f5168_row2_col3\" class=\"data row2 col3\" >0.21</td>\n",
       "      <td id=\"T_f5168_row2_col4\" class=\"data row2 col4\" >0.15</td>\n",
       "      <td id=\"T_f5168_row2_col5\" class=\"data row2 col5\" >0.24</td>\n",
       "      <td id=\"T_f5168_row2_col6\" class=\"data row2 col6\" >0.55</td>\n",
       "      <td id=\"T_f5168_row2_col7\" class=\"data row2 col7\" >0.25</td>\n",
       "      <td id=\"T_f5168_row2_col8\" class=\"data row2 col8\" >0.25</td>\n",
       "      <td id=\"T_f5168_row2_col9\" class=\"data row2 col9\" >0.34</td>\n",
       "      <td id=\"T_f5168_row2_col10\" class=\"data row2 col10\" >0.49</td>\n",
       "      <td id=\"T_f5168_row2_col11\" class=\"data row2 col11\" >0.00</td>\n",
       "    </tr>\n",
       "    <tr>\n",
       "      <th id=\"T_f5168_level0_row3\" class=\"row_heading level0 row3\" >Risk_D</th>\n",
       "      <td id=\"T_f5168_row3_col0\" class=\"data row3 col0\" >0.45</td>\n",
       "      <td id=\"T_f5168_row3_col1\" class=\"data row3 col1\" >0.12</td>\n",
       "      <td id=\"T_f5168_row3_col2\" class=\"data row3 col2\" >0.21</td>\n",
       "      <td id=\"T_f5168_row3_col3\" class=\"data row3 col3\" >1.00</td>\n",
       "      <td id=\"T_f5168_row3_col4\" class=\"data row3 col4\" >0.03</td>\n",
       "      <td id=\"T_f5168_row3_col5\" class=\"data row3 col5\" >0.11</td>\n",
       "      <td id=\"T_f5168_row3_col6\" class=\"data row3 col6\" >0.29</td>\n",
       "      <td id=\"T_f5168_row3_col7\" class=\"data row3 col7\" >0.07</td>\n",
       "      <td id=\"T_f5168_row3_col8\" class=\"data row3 col8\" >0.33</td>\n",
       "      <td id=\"T_f5168_row3_col9\" class=\"data row3 col9\" >0.25</td>\n",
       "      <td id=\"T_f5168_row3_col10\" class=\"data row3 col10\" >0.39</td>\n",
       "      <td id=\"T_f5168_row3_col11\" class=\"data row3 col11\" >0.02</td>\n",
       "    </tr>\n",
       "    <tr>\n",
       "      <th id=\"T_f5168_level0_row4\" class=\"row_heading level0 row4\" >RiSk_E</th>\n",
       "      <td id=\"T_f5168_row4_col0\" class=\"data row4 col0\" >0.12</td>\n",
       "      <td id=\"T_f5168_row4_col1\" class=\"data row4 col1\" >0.08</td>\n",
       "      <td id=\"T_f5168_row4_col2\" class=\"data row4 col2\" >0.15</td>\n",
       "      <td id=\"T_f5168_row4_col3\" class=\"data row4 col3\" >0.03</td>\n",
       "      <td id=\"T_f5168_row4_col4\" class=\"data row4 col4\" >1.00</td>\n",
       "      <td id=\"T_f5168_row4_col5\" class=\"data row4 col5\" >0.12</td>\n",
       "      <td id=\"T_f5168_row4_col6\" class=\"data row4 col6\" >0.23</td>\n",
       "      <td id=\"T_f5168_row4_col7\" class=\"data row4 col7\" >0.73</td>\n",
       "      <td id=\"T_f5168_row4_col8\" class=\"data row4 col8\" >0.20</td>\n",
       "      <td id=\"T_f5168_row4_col9\" class=\"data row4 col9\" >0.41</td>\n",
       "      <td id=\"T_f5168_row4_col10\" class=\"data row4 col10\" >0.10</td>\n",
       "      <td id=\"T_f5168_row4_col11\" class=\"data row4 col11\" >0.37</td>\n",
       "    </tr>\n",
       "    <tr>\n",
       "      <th id=\"T_f5168_level0_row5\" class=\"row_heading level0 row5\" >Prob</th>\n",
       "      <td id=\"T_f5168_row5_col0\" class=\"data row5 col0\" >0.17</td>\n",
       "      <td id=\"T_f5168_row5_col1\" class=\"data row5 col1\" >0.32</td>\n",
       "      <td id=\"T_f5168_row5_col2\" class=\"data row5 col2\" >0.24</td>\n",
       "      <td id=\"T_f5168_row5_col3\" class=\"data row5 col3\" >0.11</td>\n",
       "      <td id=\"T_f5168_row5_col4\" class=\"data row5 col4\" >0.12</td>\n",
       "      <td id=\"T_f5168_row5_col5\" class=\"data row5 col5\" >1.00</td>\n",
       "      <td id=\"T_f5168_row5_col6\" class=\"data row5 col6\" >0.44</td>\n",
       "      <td id=\"T_f5168_row5_col7\" class=\"data row5 col7\" >0.64</td>\n",
       "      <td id=\"T_f5168_row5_col8\" class=\"data row5 col8\" >0.43</td>\n",
       "      <td id=\"T_f5168_row5_col9\" class=\"data row5 col9\" >0.30</td>\n",
       "      <td id=\"T_f5168_row5_col10\" class=\"data row5 col10\" >0.33</td>\n",
       "      <td id=\"T_f5168_row5_col11\" class=\"data row5 col11\" >0.10</td>\n",
       "    </tr>\n",
       "    <tr>\n",
       "      <th id=\"T_f5168_level0_row6\" class=\"row_heading level0 row6\" >Score</th>\n",
       "      <td id=\"T_f5168_row6_col0\" class=\"data row6 col0\" >0.43</td>\n",
       "      <td id=\"T_f5168_row6_col1\" class=\"data row6 col1\" >0.40</td>\n",
       "      <td id=\"T_f5168_row6_col2\" class=\"data row6 col2\" >0.55</td>\n",
       "      <td id=\"T_f5168_row6_col3\" class=\"data row6 col3\" >0.29</td>\n",
       "      <td id=\"T_f5168_row6_col4\" class=\"data row6 col4\" >0.23</td>\n",
       "      <td id=\"T_f5168_row6_col5\" class=\"data row6 col5\" >0.44</td>\n",
       "      <td id=\"T_f5168_row6_col6\" class=\"data row6 col6\" >1.00</td>\n",
       "      <td id=\"T_f5168_row6_col7\" class=\"data row6 col7\" >0.35</td>\n",
       "      <td id=\"T_f5168_row6_col8\" class=\"data row6 col8\" >0.33</td>\n",
       "      <td id=\"T_f5168_row6_col9\" class=\"data row6 col9\" >0.78</td>\n",
       "      <td id=\"T_f5168_row6_col10\" class=\"data row6 col10\" >0.76</td>\n",
       "      <td id=\"T_f5168_row6_col11\" class=\"data row6 col11\" >0.16</td>\n",
       "    </tr>\n",
       "    <tr>\n",
       "      <th id=\"T_f5168_level0_row7\" class=\"row_heading level0 row7\" >CONTROL_RISK</th>\n",
       "      <td id=\"T_f5168_row7_col0\" class=\"data row7 col0\" >0.15</td>\n",
       "      <td id=\"T_f5168_row7_col1\" class=\"data row7 col1\" >0.19</td>\n",
       "      <td id=\"T_f5168_row7_col2\" class=\"data row7 col2\" >0.25</td>\n",
       "      <td id=\"T_f5168_row7_col3\" class=\"data row7 col3\" >0.07</td>\n",
       "      <td id=\"T_f5168_row7_col4\" class=\"data row7 col4\" >0.73</td>\n",
       "      <td id=\"T_f5168_row7_col5\" class=\"data row7 col5\" >0.64</td>\n",
       "      <td id=\"T_f5168_row7_col6\" class=\"data row7 col6\" >0.35</td>\n",
       "      <td id=\"T_f5168_row7_col7\" class=\"data row7 col7\" >1.00</td>\n",
       "      <td id=\"T_f5168_row7_col8\" class=\"data row7 col8\" >0.36</td>\n",
       "      <td id=\"T_f5168_row7_col9\" class=\"data row7 col9\" >0.41</td>\n",
       "      <td id=\"T_f5168_row7_col10\" class=\"data row7 col10\" >0.22</td>\n",
       "      <td id=\"T_f5168_row7_col11\" class=\"data row7 col11\" >0.28</td>\n",
       "    </tr>\n",
       "    <tr>\n",
       "      <th id=\"T_f5168_level0_row8\" class=\"row_heading level0 row8\" >Audit_Risk</th>\n",
       "      <td id=\"T_f5168_row8_col0\" class=\"data row8 col0\" >0.22</td>\n",
       "      <td id=\"T_f5168_row8_col1\" class=\"data row8 col1\" >0.89</td>\n",
       "      <td id=\"T_f5168_row8_col2\" class=\"data row8 col2\" >0.25</td>\n",
       "      <td id=\"T_f5168_row8_col3\" class=\"data row8 col3\" >0.33</td>\n",
       "      <td id=\"T_f5168_row8_col4\" class=\"data row8 col4\" >0.20</td>\n",
       "      <td id=\"T_f5168_row8_col5\" class=\"data row8 col5\" >0.43</td>\n",
       "      <td id=\"T_f5168_row8_col6\" class=\"data row8 col6\" >0.33</td>\n",
       "      <td id=\"T_f5168_row8_col7\" class=\"data row8 col7\" >0.36</td>\n",
       "      <td id=\"T_f5168_row8_col8\" class=\"data row8 col8\" >1.00</td>\n",
       "      <td id=\"T_f5168_row8_col9\" class=\"data row8 col9\" >0.22</td>\n",
       "      <td id=\"T_f5168_row8_col10\" class=\"data row8 col10\" >0.29</td>\n",
       "      <td id=\"T_f5168_row8_col11\" class=\"data row8 col11\" >0.05</td>\n",
       "    </tr>\n",
       "    <tr>\n",
       "      <th id=\"T_f5168_level0_row9\" class=\"row_heading level0 row9\" >Risk</th>\n",
       "      <td id=\"T_f5168_row9_col0\" class=\"data row9 col0\" >0.38</td>\n",
       "      <td id=\"T_f5168_row9_col1\" class=\"data row9 col1\" >0.25</td>\n",
       "      <td id=\"T_f5168_row9_col2\" class=\"data row9 col2\" >0.34</td>\n",
       "      <td id=\"T_f5168_row9_col3\" class=\"data row9 col3\" >0.25</td>\n",
       "      <td id=\"T_f5168_row9_col4\" class=\"data row9 col4\" >0.41</td>\n",
       "      <td id=\"T_f5168_row9_col5\" class=\"data row9 col5\" >0.30</td>\n",
       "      <td id=\"T_f5168_row9_col6\" class=\"data row9 col6\" >0.78</td>\n",
       "      <td id=\"T_f5168_row9_col7\" class=\"data row9 col7\" >0.41</td>\n",
       "      <td id=\"T_f5168_row9_col8\" class=\"data row9 col8\" >0.22</td>\n",
       "      <td id=\"T_f5168_row9_col9\" class=\"data row9 col9\" >1.00</td>\n",
       "      <td id=\"T_f5168_row9_col10\" class=\"data row9 col10\" >0.69</td>\n",
       "      <td id=\"T_f5168_row9_col11\" class=\"data row9 col11\" >0.17</td>\n",
       "    </tr>\n",
       "    <tr>\n",
       "      <th id=\"T_f5168_level0_row10\" class=\"row_heading level0 row10\" >MONEY_Marks</th>\n",
       "      <td id=\"T_f5168_row10_col0\" class=\"data row10 col0\" >0.29</td>\n",
       "      <td id=\"T_f5168_row10_col1\" class=\"data row10 col1\" >0.31</td>\n",
       "      <td id=\"T_f5168_row10_col2\" class=\"data row10 col2\" >0.49</td>\n",
       "      <td id=\"T_f5168_row10_col3\" class=\"data row10 col3\" >0.39</td>\n",
       "      <td id=\"T_f5168_row10_col4\" class=\"data row10 col4\" >0.10</td>\n",
       "      <td id=\"T_f5168_row10_col5\" class=\"data row10 col5\" >0.33</td>\n",
       "      <td id=\"T_f5168_row10_col6\" class=\"data row10 col6\" >0.76</td>\n",
       "      <td id=\"T_f5168_row10_col7\" class=\"data row10 col7\" >0.22</td>\n",
       "      <td id=\"T_f5168_row10_col8\" class=\"data row10 col8\" >0.29</td>\n",
       "      <td id=\"T_f5168_row10_col9\" class=\"data row10 col9\" >0.69</td>\n",
       "      <td id=\"T_f5168_row10_col10\" class=\"data row10 col10\" >1.00</td>\n",
       "      <td id=\"T_f5168_row10_col11\" class=\"data row10 col11\" >0.12</td>\n",
       "    </tr>\n",
       "    <tr>\n",
       "      <th id=\"T_f5168_level0_row11\" class=\"row_heading level0 row11\" >Loss</th>\n",
       "      <td id=\"T_f5168_row11_col0\" class=\"data row11 col0\" >0.04</td>\n",
       "      <td id=\"T_f5168_row11_col1\" class=\"data row11 col1\" >0.04</td>\n",
       "      <td id=\"T_f5168_row11_col2\" class=\"data row11 col2\" >0.00</td>\n",
       "      <td id=\"T_f5168_row11_col3\" class=\"data row11 col3\" >0.02</td>\n",
       "      <td id=\"T_f5168_row11_col4\" class=\"data row11 col4\" >0.37</td>\n",
       "      <td id=\"T_f5168_row11_col5\" class=\"data row11 col5\" >0.10</td>\n",
       "      <td id=\"T_f5168_row11_col6\" class=\"data row11 col6\" >0.16</td>\n",
       "      <td id=\"T_f5168_row11_col7\" class=\"data row11 col7\" >0.28</td>\n",
       "      <td id=\"T_f5168_row11_col8\" class=\"data row11 col8\" >0.05</td>\n",
       "      <td id=\"T_f5168_row11_col9\" class=\"data row11 col9\" >0.17</td>\n",
       "      <td id=\"T_f5168_row11_col10\" class=\"data row11 col10\" >0.12</td>\n",
       "      <td id=\"T_f5168_row11_col11\" class=\"data row11 col11\" >1.00</td>\n",
       "    </tr>\n",
       "  </tbody>\n",
       "</table>\n"
      ],
      "text/plain": [
       "<pandas.io.formats.style.Styler at 0x17f909104f0>"
      ]
     },
     "execution_count": 20,
     "metadata": {},
     "output_type": "execute_result"
    }
   ],
   "source": [
    "#Keeping just the columns that are correlated with the target variable and not with other independent variables.\n",
    "df = df[['Risk_A', 'Risk_B', 'Risk_C', 'Risk_D','RiSk_E', 'Prob', 'Score', 'CONTROL_RISK',\n",
    "        'Audit_Risk', 'Risk', 'MONEY_Marks', 'Loss']]\n",
    "corr = df.corr()\n",
    "corr.style.background_gradient(cmap='coolwarm')\n",
    "# 'RdBu_r' & 'BrBG' are other good diverging colormaps\n",
    "cm = sns.diverging_palette(220, 20, sep=20, as_cmap=True) \n",
    "corr.style.background_gradient(cmap=cm).set_precision(2)"
   ]
  },
  {
   "cell_type": "markdown",
   "metadata": {},
   "source": [
    "# Classification"
   ]
  },
  {
   "cell_type": "code",
   "execution_count": 21,
   "metadata": {},
   "outputs": [],
   "source": [
    "#Creating a new dataframe for classification by deleting the Audit_Risk column.\n",
    "class_df = df.drop(\"Audit_Risk\", axis = 1)"
   ]
  },
  {
   "cell_type": "code",
   "execution_count": 22,
   "metadata": {},
   "outputs": [],
   "source": [
    "classification_X = class_df.drop([\"Risk\"], axis = 1)\n",
    "classification_y = class_df[\"Risk\"]"
   ]
  },
  {
   "cell_type": "markdown",
   "metadata": {},
   "source": [
    "## Classification: Train-Test Split"
   ]
  },
  {
   "cell_type": "code",
   "execution_count": 23,
   "metadata": {},
   "outputs": [],
   "source": [
    "from sklearn.model_selection import train_test_split\n",
    "\n",
    "X_train_org, X_test_org, y_train, y_test = train_test_split(classification_X, classification_y, \n",
    "                                                            test_size = 0.25, random_state = 0)"
   ]
  },
  {
   "cell_type": "markdown",
   "metadata": {},
   "source": [
    "## Classification: Feature Scaling"
   ]
  },
  {
   "cell_type": "code",
   "execution_count": 24,
   "metadata": {},
   "outputs": [],
   "source": [
    "from sklearn.preprocessing import MinMaxScaler\n",
    "scaler = MinMaxScaler()\n",
    "\n",
    "X_train = scaler.fit_transform(X_train_org)\n",
    "X_test  = scaler.transform(X_test_org)"
   ]
  },
  {
   "cell_type": "markdown",
   "metadata": {},
   "source": [
    "MinMax scaling is used to avoid any feature to dominate the model. MinMax scaling scales all the data in the columns between 0 to 1."
   ]
  },
  {
   "cell_type": "markdown",
   "metadata": {},
   "source": [
    "## Classification Models"
   ]
  },
  {
   "cell_type": "markdown",
   "metadata": {},
   "source": [
    "## Voting Classifiers"
   ]
  },
  {
   "cell_type": "markdown",
   "metadata": {},
   "source": [
    "## Hard Voting Classifier 1"
   ]
  },
  {
   "cell_type": "code",
   "execution_count": 25,
   "metadata": {},
   "outputs": [
    {
     "data": {
      "text/html": [
       "<style>#sk-container-id-1 {color: black;background-color: white;}#sk-container-id-1 pre{padding: 0;}#sk-container-id-1 div.sk-toggleable {background-color: white;}#sk-container-id-1 label.sk-toggleable__label {cursor: pointer;display: block;width: 100%;margin-bottom: 0;padding: 0.3em;box-sizing: border-box;text-align: center;}#sk-container-id-1 label.sk-toggleable__label-arrow:before {content: \"▸\";float: left;margin-right: 0.25em;color: #696969;}#sk-container-id-1 label.sk-toggleable__label-arrow:hover:before {color: black;}#sk-container-id-1 div.sk-estimator:hover label.sk-toggleable__label-arrow:before {color: black;}#sk-container-id-1 div.sk-toggleable__content {max-height: 0;max-width: 0;overflow: hidden;text-align: left;background-color: #f0f8ff;}#sk-container-id-1 div.sk-toggleable__content pre {margin: 0.2em;color: black;border-radius: 0.25em;background-color: #f0f8ff;}#sk-container-id-1 input.sk-toggleable__control:checked~div.sk-toggleable__content {max-height: 200px;max-width: 100%;overflow: auto;}#sk-container-id-1 input.sk-toggleable__control:checked~label.sk-toggleable__label-arrow:before {content: \"▾\";}#sk-container-id-1 div.sk-estimator input.sk-toggleable__control:checked~label.sk-toggleable__label {background-color: #d4ebff;}#sk-container-id-1 div.sk-label input.sk-toggleable__control:checked~label.sk-toggleable__label {background-color: #d4ebff;}#sk-container-id-1 input.sk-hidden--visually {border: 0;clip: rect(1px 1px 1px 1px);clip: rect(1px, 1px, 1px, 1px);height: 1px;margin: -1px;overflow: hidden;padding: 0;position: absolute;width: 1px;}#sk-container-id-1 div.sk-estimator {font-family: monospace;background-color: #f0f8ff;border: 1px dotted black;border-radius: 0.25em;box-sizing: border-box;margin-bottom: 0.5em;}#sk-container-id-1 div.sk-estimator:hover {background-color: #d4ebff;}#sk-container-id-1 div.sk-parallel-item::after {content: \"\";width: 100%;border-bottom: 1px solid gray;flex-grow: 1;}#sk-container-id-1 div.sk-label:hover label.sk-toggleable__label {background-color: #d4ebff;}#sk-container-id-1 div.sk-serial::before {content: \"\";position: absolute;border-left: 1px solid gray;box-sizing: border-box;top: 0;bottom: 0;left: 50%;z-index: 0;}#sk-container-id-1 div.sk-serial {display: flex;flex-direction: column;align-items: center;background-color: white;padding-right: 0.2em;padding-left: 0.2em;position: relative;}#sk-container-id-1 div.sk-item {position: relative;z-index: 1;}#sk-container-id-1 div.sk-parallel {display: flex;align-items: stretch;justify-content: center;background-color: white;position: relative;}#sk-container-id-1 div.sk-item::before, #sk-container-id-1 div.sk-parallel-item::before {content: \"\";position: absolute;border-left: 1px solid gray;box-sizing: border-box;top: 0;bottom: 0;left: 50%;z-index: -1;}#sk-container-id-1 div.sk-parallel-item {display: flex;flex-direction: column;z-index: 1;position: relative;background-color: white;}#sk-container-id-1 div.sk-parallel-item:first-child::after {align-self: flex-end;width: 50%;}#sk-container-id-1 div.sk-parallel-item:last-child::after {align-self: flex-start;width: 50%;}#sk-container-id-1 div.sk-parallel-item:only-child::after {width: 0;}#sk-container-id-1 div.sk-dashed-wrapped {border: 1px dashed gray;margin: 0 0.4em 0.5em 0.4em;box-sizing: border-box;padding-bottom: 0.4em;background-color: white;}#sk-container-id-1 div.sk-label label {font-family: monospace;font-weight: bold;display: inline-block;line-height: 1.2em;}#sk-container-id-1 div.sk-label-container {text-align: center;}#sk-container-id-1 div.sk-container {/* jupyter's `normalize.less` sets `[hidden] { display: none; }` but bootstrap.min.css set `[hidden] { display: none !important; }` so we also need the `!important` here to be able to override the default hidden behavior on the sphinx rendered scikit-learn.org. See: https://github.com/scikit-learn/scikit-learn/issues/21755 */display: inline-block !important;position: relative;}#sk-container-id-1 div.sk-text-repr-fallback {display: none;}</style><div id=\"sk-container-id-1\" class=\"sk-top-container\"><div class=\"sk-text-repr-fallback\"><pre>VotingClassifier(estimators=[(&#x27;lr&#x27;, LogisticRegression()),\n",
       "                             (&#x27;knn&#x27;, KNeighborsClassifier(n_neighbors=7)),\n",
       "                             (&#x27;svc&#x27;, SVC(C=10, probability=True))])</pre><b>In a Jupyter environment, please rerun this cell to show the HTML representation or trust the notebook. <br />On GitHub, the HTML representation is unable to render, please try loading this page with nbviewer.org.</b></div><div class=\"sk-container\" hidden><div class=\"sk-item sk-dashed-wrapped\"><div class=\"sk-label-container\"><div class=\"sk-label sk-toggleable\"><input class=\"sk-toggleable__control sk-hidden--visually\" id=\"sk-estimator-id-1\" type=\"checkbox\" ><label for=\"sk-estimator-id-1\" class=\"sk-toggleable__label sk-toggleable__label-arrow\">VotingClassifier</label><div class=\"sk-toggleable__content\"><pre>VotingClassifier(estimators=[(&#x27;lr&#x27;, LogisticRegression()),\n",
       "                             (&#x27;knn&#x27;, KNeighborsClassifier(n_neighbors=7)),\n",
       "                             (&#x27;svc&#x27;, SVC(C=10, probability=True))])</pre></div></div></div><div class=\"sk-parallel\"><div class=\"sk-parallel-item\"><div class=\"sk-item\"><div class=\"sk-label-container\"><div class=\"sk-label sk-toggleable\"><label>lr</label></div></div><div class=\"sk-serial\"><div class=\"sk-item\"><div class=\"sk-estimator sk-toggleable\"><input class=\"sk-toggleable__control sk-hidden--visually\" id=\"sk-estimator-id-2\" type=\"checkbox\" ><label for=\"sk-estimator-id-2\" class=\"sk-toggleable__label sk-toggleable__label-arrow\">LogisticRegression</label><div class=\"sk-toggleable__content\"><pre>LogisticRegression()</pre></div></div></div></div></div></div><div class=\"sk-parallel-item\"><div class=\"sk-item\"><div class=\"sk-label-container\"><div class=\"sk-label sk-toggleable\"><label>knn</label></div></div><div class=\"sk-serial\"><div class=\"sk-item\"><div class=\"sk-estimator sk-toggleable\"><input class=\"sk-toggleable__control sk-hidden--visually\" id=\"sk-estimator-id-3\" type=\"checkbox\" ><label for=\"sk-estimator-id-3\" class=\"sk-toggleable__label sk-toggleable__label-arrow\">KNeighborsClassifier</label><div class=\"sk-toggleable__content\"><pre>KNeighborsClassifier(n_neighbors=7)</pre></div></div></div></div></div></div><div class=\"sk-parallel-item\"><div class=\"sk-item\"><div class=\"sk-label-container\"><div class=\"sk-label sk-toggleable\"><label>svc</label></div></div><div class=\"sk-serial\"><div class=\"sk-item\"><div class=\"sk-estimator sk-toggleable\"><input class=\"sk-toggleable__control sk-hidden--visually\" id=\"sk-estimator-id-4\" type=\"checkbox\" ><label for=\"sk-estimator-id-4\" class=\"sk-toggleable__label sk-toggleable__label-arrow\">SVC</label><div class=\"sk-toggleable__content\"><pre>SVC(C=10, probability=True)</pre></div></div></div></div></div></div></div></div></div></div>"
      ],
      "text/plain": [
       "VotingClassifier(estimators=[('lr', LogisticRegression()),\n",
       "                             ('knn', KNeighborsClassifier(n_neighbors=7)),\n",
       "                             ('svc', SVC(C=10, probability=True))])"
      ]
     },
     "execution_count": 25,
     "metadata": {},
     "output_type": "execute_result"
    }
   ],
   "source": [
    "from sklearn.neighbors import KNeighborsClassifier\n",
    "from sklearn.ensemble import VotingClassifier\n",
    "from sklearn.linear_model import LogisticRegression\n",
    "from sklearn.svm import SVC\n",
    "from sklearn.tree import DecisionTreeClassifier\n",
    "\n",
    "lr_hard = LogisticRegression()\n",
    "lr_hard.fit(X_train, y_train)\n",
    "knn_hard = KNeighborsClassifier(7)\n",
    "knn_hard.fit(X_train, y_train)\n",
    "svc_hard = SVC(C = 10, probability = True)\n",
    "svc_hard.fit(X_train, y_train)\n",
    "\n",
    "voting_clf_hard = VotingClassifier(estimators=[('lr', lr_hard), ('knn', knn_hard), ('svc', svc_hard)], voting='hard')\n",
    "voting_clf_hard.fit(X_train, y_train)"
   ]
  },
  {
   "cell_type": "code",
   "execution_count": 26,
   "metadata": {},
   "outputs": [
    {
     "name": "stdout",
     "output_type": "stream",
     "text": [
      "LogisticRegression 0.9473684210526315\n",
      "KNeighborsClassifier 0.9526315789473684\n",
      "SVC 0.9578947368421052\n",
      "VotingClassifier 0.9526315789473684\n"
     ]
    }
   ],
   "source": [
    "from sklearn.metrics import accuracy_score\n",
    "for clf in (lr_hard, knn_hard, svc_hard, voting_clf_hard):\n",
    "    clf.fit(X_train, y_train)\n",
    "    y_test_pred = clf.predict(X_test)\n",
    "    y_train_pred = clf.predict(X_train)\n",
    "    print(clf.__class__.__name__, accuracy_score(y_test, y_test_pred))"
   ]
  },
  {
   "cell_type": "code",
   "execution_count": 27,
   "metadata": {},
   "outputs": [],
   "source": [
    "report_table_1 = ['Hard Voting Classifier 1', '',accuracy_score(y_train, y_train_pred), accuracy_score(y_test, y_test_pred)]"
   ]
  },
  {
   "cell_type": "markdown",
   "metadata": {},
   "source": [
    "## Hard Voting Classifier 2"
   ]
  },
  {
   "cell_type": "code",
   "execution_count": 28,
   "metadata": {},
   "outputs": [
    {
     "data": {
      "text/html": [
       "<style>#sk-container-id-2 {color: black;background-color: white;}#sk-container-id-2 pre{padding: 0;}#sk-container-id-2 div.sk-toggleable {background-color: white;}#sk-container-id-2 label.sk-toggleable__label {cursor: pointer;display: block;width: 100%;margin-bottom: 0;padding: 0.3em;box-sizing: border-box;text-align: center;}#sk-container-id-2 label.sk-toggleable__label-arrow:before {content: \"▸\";float: left;margin-right: 0.25em;color: #696969;}#sk-container-id-2 label.sk-toggleable__label-arrow:hover:before {color: black;}#sk-container-id-2 div.sk-estimator:hover label.sk-toggleable__label-arrow:before {color: black;}#sk-container-id-2 div.sk-toggleable__content {max-height: 0;max-width: 0;overflow: hidden;text-align: left;background-color: #f0f8ff;}#sk-container-id-2 div.sk-toggleable__content pre {margin: 0.2em;color: black;border-radius: 0.25em;background-color: #f0f8ff;}#sk-container-id-2 input.sk-toggleable__control:checked~div.sk-toggleable__content {max-height: 200px;max-width: 100%;overflow: auto;}#sk-container-id-2 input.sk-toggleable__control:checked~label.sk-toggleable__label-arrow:before {content: \"▾\";}#sk-container-id-2 div.sk-estimator input.sk-toggleable__control:checked~label.sk-toggleable__label {background-color: #d4ebff;}#sk-container-id-2 div.sk-label input.sk-toggleable__control:checked~label.sk-toggleable__label {background-color: #d4ebff;}#sk-container-id-2 input.sk-hidden--visually {border: 0;clip: rect(1px 1px 1px 1px);clip: rect(1px, 1px, 1px, 1px);height: 1px;margin: -1px;overflow: hidden;padding: 0;position: absolute;width: 1px;}#sk-container-id-2 div.sk-estimator {font-family: monospace;background-color: #f0f8ff;border: 1px dotted black;border-radius: 0.25em;box-sizing: border-box;margin-bottom: 0.5em;}#sk-container-id-2 div.sk-estimator:hover {background-color: #d4ebff;}#sk-container-id-2 div.sk-parallel-item::after {content: \"\";width: 100%;border-bottom: 1px solid gray;flex-grow: 1;}#sk-container-id-2 div.sk-label:hover label.sk-toggleable__label {background-color: #d4ebff;}#sk-container-id-2 div.sk-serial::before {content: \"\";position: absolute;border-left: 1px solid gray;box-sizing: border-box;top: 0;bottom: 0;left: 50%;z-index: 0;}#sk-container-id-2 div.sk-serial {display: flex;flex-direction: column;align-items: center;background-color: white;padding-right: 0.2em;padding-left: 0.2em;position: relative;}#sk-container-id-2 div.sk-item {position: relative;z-index: 1;}#sk-container-id-2 div.sk-parallel {display: flex;align-items: stretch;justify-content: center;background-color: white;position: relative;}#sk-container-id-2 div.sk-item::before, #sk-container-id-2 div.sk-parallel-item::before {content: \"\";position: absolute;border-left: 1px solid gray;box-sizing: border-box;top: 0;bottom: 0;left: 50%;z-index: -1;}#sk-container-id-2 div.sk-parallel-item {display: flex;flex-direction: column;z-index: 1;position: relative;background-color: white;}#sk-container-id-2 div.sk-parallel-item:first-child::after {align-self: flex-end;width: 50%;}#sk-container-id-2 div.sk-parallel-item:last-child::after {align-self: flex-start;width: 50%;}#sk-container-id-2 div.sk-parallel-item:only-child::after {width: 0;}#sk-container-id-2 div.sk-dashed-wrapped {border: 1px dashed gray;margin: 0 0.4em 0.5em 0.4em;box-sizing: border-box;padding-bottom: 0.4em;background-color: white;}#sk-container-id-2 div.sk-label label {font-family: monospace;font-weight: bold;display: inline-block;line-height: 1.2em;}#sk-container-id-2 div.sk-label-container {text-align: center;}#sk-container-id-2 div.sk-container {/* jupyter's `normalize.less` sets `[hidden] { display: none; }` but bootstrap.min.css set `[hidden] { display: none !important; }` so we also need the `!important` here to be able to override the default hidden behavior on the sphinx rendered scikit-learn.org. See: https://github.com/scikit-learn/scikit-learn/issues/21755 */display: inline-block !important;position: relative;}#sk-container-id-2 div.sk-text-repr-fallback {display: none;}</style><div id=\"sk-container-id-2\" class=\"sk-top-container\"><div class=\"sk-text-repr-fallback\"><pre>VotingClassifier(estimators=[(&#x27;knn&#x27;, KNeighborsClassifier(n_neighbors=3)),\n",
       "                             (&#x27;svc&#x27;, SVC(random_state=0)),\n",
       "                             (&#x27;dt&#x27;,\n",
       "                              DecisionTreeClassifier(max_depth=5,\n",
       "                                                     random_state=0))])</pre><b>In a Jupyter environment, please rerun this cell to show the HTML representation or trust the notebook. <br />On GitHub, the HTML representation is unable to render, please try loading this page with nbviewer.org.</b></div><div class=\"sk-container\" hidden><div class=\"sk-item sk-dashed-wrapped\"><div class=\"sk-label-container\"><div class=\"sk-label sk-toggleable\"><input class=\"sk-toggleable__control sk-hidden--visually\" id=\"sk-estimator-id-5\" type=\"checkbox\" ><label for=\"sk-estimator-id-5\" class=\"sk-toggleable__label sk-toggleable__label-arrow\">VotingClassifier</label><div class=\"sk-toggleable__content\"><pre>VotingClassifier(estimators=[(&#x27;knn&#x27;, KNeighborsClassifier(n_neighbors=3)),\n",
       "                             (&#x27;svc&#x27;, SVC(random_state=0)),\n",
       "                             (&#x27;dt&#x27;,\n",
       "                              DecisionTreeClassifier(max_depth=5,\n",
       "                                                     random_state=0))])</pre></div></div></div><div class=\"sk-parallel\"><div class=\"sk-parallel-item\"><div class=\"sk-item\"><div class=\"sk-label-container\"><div class=\"sk-label sk-toggleable\"><label>knn</label></div></div><div class=\"sk-serial\"><div class=\"sk-item\"><div class=\"sk-estimator sk-toggleable\"><input class=\"sk-toggleable__control sk-hidden--visually\" id=\"sk-estimator-id-6\" type=\"checkbox\" ><label for=\"sk-estimator-id-6\" class=\"sk-toggleable__label sk-toggleable__label-arrow\">KNeighborsClassifier</label><div class=\"sk-toggleable__content\"><pre>KNeighborsClassifier(n_neighbors=3)</pre></div></div></div></div></div></div><div class=\"sk-parallel-item\"><div class=\"sk-item\"><div class=\"sk-label-container\"><div class=\"sk-label sk-toggleable\"><label>svc</label></div></div><div class=\"sk-serial\"><div class=\"sk-item\"><div class=\"sk-estimator sk-toggleable\"><input class=\"sk-toggleable__control sk-hidden--visually\" id=\"sk-estimator-id-7\" type=\"checkbox\" ><label for=\"sk-estimator-id-7\" class=\"sk-toggleable__label sk-toggleable__label-arrow\">SVC</label><div class=\"sk-toggleable__content\"><pre>SVC(random_state=0)</pre></div></div></div></div></div></div><div class=\"sk-parallel-item\"><div class=\"sk-item\"><div class=\"sk-label-container\"><div class=\"sk-label sk-toggleable\"><label>dt</label></div></div><div class=\"sk-serial\"><div class=\"sk-item\"><div class=\"sk-estimator sk-toggleable\"><input class=\"sk-toggleable__control sk-hidden--visually\" id=\"sk-estimator-id-8\" type=\"checkbox\" ><label for=\"sk-estimator-id-8\" class=\"sk-toggleable__label sk-toggleable__label-arrow\">DecisionTreeClassifier</label><div class=\"sk-toggleable__content\"><pre>DecisionTreeClassifier(max_depth=5, random_state=0)</pre></div></div></div></div></div></div></div></div></div></div>"
      ],
      "text/plain": [
       "VotingClassifier(estimators=[('knn', KNeighborsClassifier(n_neighbors=3)),\n",
       "                             ('svc', SVC(random_state=0)),\n",
       "                             ('dt',\n",
       "                              DecisionTreeClassifier(max_depth=5,\n",
       "                                                     random_state=0))])"
      ]
     },
     "execution_count": 28,
     "metadata": {},
     "output_type": "execute_result"
    }
   ],
   "source": [
    "knn_hard = KNeighborsClassifier(3)\n",
    "knn_hard.fit(X_train, y_train)\n",
    "svc_hard = SVC(kernel='rbf', random_state= 0)\n",
    "svc_hard.fit(X_train, y_train)\n",
    "dt_hard = DecisionTreeClassifier(max_depth = 5, random_state= 0)\n",
    "dt_hard.fit(X_train, y_train)\n",
    "\n",
    "voting_clf_hard = VotingClassifier(estimators=[('knn', knn_hard), ('svc', svc_hard), ('dt', dt_hard)], voting='hard')\n",
    "voting_clf_hard.fit(X_train, y_train)"
   ]
  },
  {
   "cell_type": "code",
   "execution_count": 29,
   "metadata": {
    "scrolled": true
   },
   "outputs": [
    {
     "name": "stdout",
     "output_type": "stream",
     "text": [
      "KNeighborsClassifier 0.9578947368421052\n",
      "SVC 0.9578947368421052\n",
      "DecisionTreeClassifier 0.9894736842105263\n",
      "VotingClassifier 0.9789473684210527\n"
     ]
    }
   ],
   "source": [
    "for clf in (knn_hard, svc_hard, dt_hard, voting_clf_hard):\n",
    "    clf.fit(X_train, y_train)\n",
    "    y_test_pred = clf.predict(X_test)\n",
    "    y_train_pred = clf.predict(X_train)\n",
    "    print(clf.__class__.__name__, accuracy_score(y_test, y_test_pred))"
   ]
  },
  {
   "cell_type": "code",
   "execution_count": 30,
   "metadata": {},
   "outputs": [],
   "source": [
    "report_table_2 = ['Hard Voting Classifier 2', '',accuracy_score(y_train, y_train_pred), accuracy_score(y_test, y_test_pred)]"
   ]
  },
  {
   "cell_type": "markdown",
   "metadata": {},
   "source": [
    "## Soft Voting Classifier 1"
   ]
  },
  {
   "cell_type": "code",
   "execution_count": 31,
   "metadata": {},
   "outputs": [
    {
     "data": {
      "text/html": [
       "<style>#sk-container-id-3 {color: black;background-color: white;}#sk-container-id-3 pre{padding: 0;}#sk-container-id-3 div.sk-toggleable {background-color: white;}#sk-container-id-3 label.sk-toggleable__label {cursor: pointer;display: block;width: 100%;margin-bottom: 0;padding: 0.3em;box-sizing: border-box;text-align: center;}#sk-container-id-3 label.sk-toggleable__label-arrow:before {content: \"▸\";float: left;margin-right: 0.25em;color: #696969;}#sk-container-id-3 label.sk-toggleable__label-arrow:hover:before {color: black;}#sk-container-id-3 div.sk-estimator:hover label.sk-toggleable__label-arrow:before {color: black;}#sk-container-id-3 div.sk-toggleable__content {max-height: 0;max-width: 0;overflow: hidden;text-align: left;background-color: #f0f8ff;}#sk-container-id-3 div.sk-toggleable__content pre {margin: 0.2em;color: black;border-radius: 0.25em;background-color: #f0f8ff;}#sk-container-id-3 input.sk-toggleable__control:checked~div.sk-toggleable__content {max-height: 200px;max-width: 100%;overflow: auto;}#sk-container-id-3 input.sk-toggleable__control:checked~label.sk-toggleable__label-arrow:before {content: \"▾\";}#sk-container-id-3 div.sk-estimator input.sk-toggleable__control:checked~label.sk-toggleable__label {background-color: #d4ebff;}#sk-container-id-3 div.sk-label input.sk-toggleable__control:checked~label.sk-toggleable__label {background-color: #d4ebff;}#sk-container-id-3 input.sk-hidden--visually {border: 0;clip: rect(1px 1px 1px 1px);clip: rect(1px, 1px, 1px, 1px);height: 1px;margin: -1px;overflow: hidden;padding: 0;position: absolute;width: 1px;}#sk-container-id-3 div.sk-estimator {font-family: monospace;background-color: #f0f8ff;border: 1px dotted black;border-radius: 0.25em;box-sizing: border-box;margin-bottom: 0.5em;}#sk-container-id-3 div.sk-estimator:hover {background-color: #d4ebff;}#sk-container-id-3 div.sk-parallel-item::after {content: \"\";width: 100%;border-bottom: 1px solid gray;flex-grow: 1;}#sk-container-id-3 div.sk-label:hover label.sk-toggleable__label {background-color: #d4ebff;}#sk-container-id-3 div.sk-serial::before {content: \"\";position: absolute;border-left: 1px solid gray;box-sizing: border-box;top: 0;bottom: 0;left: 50%;z-index: 0;}#sk-container-id-3 div.sk-serial {display: flex;flex-direction: column;align-items: center;background-color: white;padding-right: 0.2em;padding-left: 0.2em;position: relative;}#sk-container-id-3 div.sk-item {position: relative;z-index: 1;}#sk-container-id-3 div.sk-parallel {display: flex;align-items: stretch;justify-content: center;background-color: white;position: relative;}#sk-container-id-3 div.sk-item::before, #sk-container-id-3 div.sk-parallel-item::before {content: \"\";position: absolute;border-left: 1px solid gray;box-sizing: border-box;top: 0;bottom: 0;left: 50%;z-index: -1;}#sk-container-id-3 div.sk-parallel-item {display: flex;flex-direction: column;z-index: 1;position: relative;background-color: white;}#sk-container-id-3 div.sk-parallel-item:first-child::after {align-self: flex-end;width: 50%;}#sk-container-id-3 div.sk-parallel-item:last-child::after {align-self: flex-start;width: 50%;}#sk-container-id-3 div.sk-parallel-item:only-child::after {width: 0;}#sk-container-id-3 div.sk-dashed-wrapped {border: 1px dashed gray;margin: 0 0.4em 0.5em 0.4em;box-sizing: border-box;padding-bottom: 0.4em;background-color: white;}#sk-container-id-3 div.sk-label label {font-family: monospace;font-weight: bold;display: inline-block;line-height: 1.2em;}#sk-container-id-3 div.sk-label-container {text-align: center;}#sk-container-id-3 div.sk-container {/* jupyter's `normalize.less` sets `[hidden] { display: none; }` but bootstrap.min.css set `[hidden] { display: none !important; }` so we also need the `!important` here to be able to override the default hidden behavior on the sphinx rendered scikit-learn.org. See: https://github.com/scikit-learn/scikit-learn/issues/21755 */display: inline-block !important;position: relative;}#sk-container-id-3 div.sk-text-repr-fallback {display: none;}</style><div id=\"sk-container-id-3\" class=\"sk-top-container\"><div class=\"sk-text-repr-fallback\"><pre>VotingClassifier(estimators=[(&#x27;lr&#x27;, LogisticRegression()),\n",
       "                             (&#x27;knn&#x27;, KNeighborsClassifier(n_neighbors=7)),\n",
       "                             (&#x27;svc&#x27;, SVC(C=10, probability=True))],\n",
       "                 voting=&#x27;soft&#x27;)</pre><b>In a Jupyter environment, please rerun this cell to show the HTML representation or trust the notebook. <br />On GitHub, the HTML representation is unable to render, please try loading this page with nbviewer.org.</b></div><div class=\"sk-container\" hidden><div class=\"sk-item sk-dashed-wrapped\"><div class=\"sk-label-container\"><div class=\"sk-label sk-toggleable\"><input class=\"sk-toggleable__control sk-hidden--visually\" id=\"sk-estimator-id-9\" type=\"checkbox\" ><label for=\"sk-estimator-id-9\" class=\"sk-toggleable__label sk-toggleable__label-arrow\">VotingClassifier</label><div class=\"sk-toggleable__content\"><pre>VotingClassifier(estimators=[(&#x27;lr&#x27;, LogisticRegression()),\n",
       "                             (&#x27;knn&#x27;, KNeighborsClassifier(n_neighbors=7)),\n",
       "                             (&#x27;svc&#x27;, SVC(C=10, probability=True))],\n",
       "                 voting=&#x27;soft&#x27;)</pre></div></div></div><div class=\"sk-parallel\"><div class=\"sk-parallel-item\"><div class=\"sk-item\"><div class=\"sk-label-container\"><div class=\"sk-label sk-toggleable\"><label>lr</label></div></div><div class=\"sk-serial\"><div class=\"sk-item\"><div class=\"sk-estimator sk-toggleable\"><input class=\"sk-toggleable__control sk-hidden--visually\" id=\"sk-estimator-id-10\" type=\"checkbox\" ><label for=\"sk-estimator-id-10\" class=\"sk-toggleable__label sk-toggleable__label-arrow\">LogisticRegression</label><div class=\"sk-toggleable__content\"><pre>LogisticRegression()</pre></div></div></div></div></div></div><div class=\"sk-parallel-item\"><div class=\"sk-item\"><div class=\"sk-label-container\"><div class=\"sk-label sk-toggleable\"><label>knn</label></div></div><div class=\"sk-serial\"><div class=\"sk-item\"><div class=\"sk-estimator sk-toggleable\"><input class=\"sk-toggleable__control sk-hidden--visually\" id=\"sk-estimator-id-11\" type=\"checkbox\" ><label for=\"sk-estimator-id-11\" class=\"sk-toggleable__label sk-toggleable__label-arrow\">KNeighborsClassifier</label><div class=\"sk-toggleable__content\"><pre>KNeighborsClassifier(n_neighbors=7)</pre></div></div></div></div></div></div><div class=\"sk-parallel-item\"><div class=\"sk-item\"><div class=\"sk-label-container\"><div class=\"sk-label sk-toggleable\"><label>svc</label></div></div><div class=\"sk-serial\"><div class=\"sk-item\"><div class=\"sk-estimator sk-toggleable\"><input class=\"sk-toggleable__control sk-hidden--visually\" id=\"sk-estimator-id-12\" type=\"checkbox\" ><label for=\"sk-estimator-id-12\" class=\"sk-toggleable__label sk-toggleable__label-arrow\">SVC</label><div class=\"sk-toggleable__content\"><pre>SVC(C=10, probability=True)</pre></div></div></div></div></div></div></div></div></div></div>"
      ],
      "text/plain": [
       "VotingClassifier(estimators=[('lr', LogisticRegression()),\n",
       "                             ('knn', KNeighborsClassifier(n_neighbors=7)),\n",
       "                             ('svc', SVC(C=10, probability=True))],\n",
       "                 voting='soft')"
      ]
     },
     "execution_count": 31,
     "metadata": {},
     "output_type": "execute_result"
    }
   ],
   "source": [
    "lr_soft = LogisticRegression()\n",
    "lr_soft.fit(X_train, y_train)\n",
    "knn_soft = KNeighborsClassifier(7)\n",
    "knn_soft.fit(X_train, y_train)\n",
    "svc_soft = SVC(C = 10, probability = True)\n",
    "svc_soft.fit(X_train, y_train)\n",
    "\n",
    "voting_clf_soft = VotingClassifier(estimators=[('lr', lr_soft), ('knn', knn_soft), ('svc', svc_soft)], voting='soft')\n",
    "voting_clf_soft.fit(X_train, y_train)"
   ]
  },
  {
   "cell_type": "code",
   "execution_count": 32,
   "metadata": {
    "scrolled": true
   },
   "outputs": [
    {
     "name": "stdout",
     "output_type": "stream",
     "text": [
      "KNeighborsClassifier 0.9526315789473684\n",
      "SVC 0.9578947368421052\n",
      "LogisticRegression 0.9473684210526315\n",
      "VotingClassifier 0.9578947368421052\n"
     ]
    }
   ],
   "source": [
    "for clf in (knn_soft, svc_soft, lr_soft, voting_clf_soft):\n",
    "    clf.fit(X_train, y_train)\n",
    "    y_test_pred = clf.predict(X_test)\n",
    "    y_train_pred = clf.predict(X_train)\n",
    "    print(clf.__class__.__name__, accuracy_score(y_test, y_test_pred))"
   ]
  },
  {
   "cell_type": "code",
   "execution_count": 33,
   "metadata": {},
   "outputs": [],
   "source": [
    "report_table_3 = ['Soft Voting Classifier 1', '',accuracy_score(y_train, y_train_pred), accuracy_score(y_test, y_test_pred)]"
   ]
  },
  {
   "cell_type": "markdown",
   "metadata": {},
   "source": [
    "## Soft Voting Classifier 2"
   ]
  },
  {
   "cell_type": "code",
   "execution_count": 34,
   "metadata": {},
   "outputs": [
    {
     "data": {
      "text/html": [
       "<style>#sk-container-id-4 {color: black;background-color: white;}#sk-container-id-4 pre{padding: 0;}#sk-container-id-4 div.sk-toggleable {background-color: white;}#sk-container-id-4 label.sk-toggleable__label {cursor: pointer;display: block;width: 100%;margin-bottom: 0;padding: 0.3em;box-sizing: border-box;text-align: center;}#sk-container-id-4 label.sk-toggleable__label-arrow:before {content: \"▸\";float: left;margin-right: 0.25em;color: #696969;}#sk-container-id-4 label.sk-toggleable__label-arrow:hover:before {color: black;}#sk-container-id-4 div.sk-estimator:hover label.sk-toggleable__label-arrow:before {color: black;}#sk-container-id-4 div.sk-toggleable__content {max-height: 0;max-width: 0;overflow: hidden;text-align: left;background-color: #f0f8ff;}#sk-container-id-4 div.sk-toggleable__content pre {margin: 0.2em;color: black;border-radius: 0.25em;background-color: #f0f8ff;}#sk-container-id-4 input.sk-toggleable__control:checked~div.sk-toggleable__content {max-height: 200px;max-width: 100%;overflow: auto;}#sk-container-id-4 input.sk-toggleable__control:checked~label.sk-toggleable__label-arrow:before {content: \"▾\";}#sk-container-id-4 div.sk-estimator input.sk-toggleable__control:checked~label.sk-toggleable__label {background-color: #d4ebff;}#sk-container-id-4 div.sk-label input.sk-toggleable__control:checked~label.sk-toggleable__label {background-color: #d4ebff;}#sk-container-id-4 input.sk-hidden--visually {border: 0;clip: rect(1px 1px 1px 1px);clip: rect(1px, 1px, 1px, 1px);height: 1px;margin: -1px;overflow: hidden;padding: 0;position: absolute;width: 1px;}#sk-container-id-4 div.sk-estimator {font-family: monospace;background-color: #f0f8ff;border: 1px dotted black;border-radius: 0.25em;box-sizing: border-box;margin-bottom: 0.5em;}#sk-container-id-4 div.sk-estimator:hover {background-color: #d4ebff;}#sk-container-id-4 div.sk-parallel-item::after {content: \"\";width: 100%;border-bottom: 1px solid gray;flex-grow: 1;}#sk-container-id-4 div.sk-label:hover label.sk-toggleable__label {background-color: #d4ebff;}#sk-container-id-4 div.sk-serial::before {content: \"\";position: absolute;border-left: 1px solid gray;box-sizing: border-box;top: 0;bottom: 0;left: 50%;z-index: 0;}#sk-container-id-4 div.sk-serial {display: flex;flex-direction: column;align-items: center;background-color: white;padding-right: 0.2em;padding-left: 0.2em;position: relative;}#sk-container-id-4 div.sk-item {position: relative;z-index: 1;}#sk-container-id-4 div.sk-parallel {display: flex;align-items: stretch;justify-content: center;background-color: white;position: relative;}#sk-container-id-4 div.sk-item::before, #sk-container-id-4 div.sk-parallel-item::before {content: \"\";position: absolute;border-left: 1px solid gray;box-sizing: border-box;top: 0;bottom: 0;left: 50%;z-index: -1;}#sk-container-id-4 div.sk-parallel-item {display: flex;flex-direction: column;z-index: 1;position: relative;background-color: white;}#sk-container-id-4 div.sk-parallel-item:first-child::after {align-self: flex-end;width: 50%;}#sk-container-id-4 div.sk-parallel-item:last-child::after {align-self: flex-start;width: 50%;}#sk-container-id-4 div.sk-parallel-item:only-child::after {width: 0;}#sk-container-id-4 div.sk-dashed-wrapped {border: 1px dashed gray;margin: 0 0.4em 0.5em 0.4em;box-sizing: border-box;padding-bottom: 0.4em;background-color: white;}#sk-container-id-4 div.sk-label label {font-family: monospace;font-weight: bold;display: inline-block;line-height: 1.2em;}#sk-container-id-4 div.sk-label-container {text-align: center;}#sk-container-id-4 div.sk-container {/* jupyter's `normalize.less` sets `[hidden] { display: none; }` but bootstrap.min.css set `[hidden] { display: none !important; }` so we also need the `!important` here to be able to override the default hidden behavior on the sphinx rendered scikit-learn.org. See: https://github.com/scikit-learn/scikit-learn/issues/21755 */display: inline-block !important;position: relative;}#sk-container-id-4 div.sk-text-repr-fallback {display: none;}</style><div id=\"sk-container-id-4\" class=\"sk-top-container\"><div class=\"sk-text-repr-fallback\"><pre>VotingClassifier(estimators=[(&#x27;knn&#x27;, KNeighborsClassifier()),\n",
       "                             (&#x27;svc&#x27;, SVC(probability=True, random_state=0)),\n",
       "                             (&#x27;dt&#x27;,\n",
       "                              DecisionTreeClassifier(max_depth=7,\n",
       "                                                     random_state=0))],\n",
       "                 voting=&#x27;soft&#x27;)</pre><b>In a Jupyter environment, please rerun this cell to show the HTML representation or trust the notebook. <br />On GitHub, the HTML representation is unable to render, please try loading this page with nbviewer.org.</b></div><div class=\"sk-container\" hidden><div class=\"sk-item sk-dashed-wrapped\"><div class=\"sk-label-container\"><div class=\"sk-label sk-toggleable\"><input class=\"sk-toggleable__control sk-hidden--visually\" id=\"sk-estimator-id-13\" type=\"checkbox\" ><label for=\"sk-estimator-id-13\" class=\"sk-toggleable__label sk-toggleable__label-arrow\">VotingClassifier</label><div class=\"sk-toggleable__content\"><pre>VotingClassifier(estimators=[(&#x27;knn&#x27;, KNeighborsClassifier()),\n",
       "                             (&#x27;svc&#x27;, SVC(probability=True, random_state=0)),\n",
       "                             (&#x27;dt&#x27;,\n",
       "                              DecisionTreeClassifier(max_depth=7,\n",
       "                                                     random_state=0))],\n",
       "                 voting=&#x27;soft&#x27;)</pre></div></div></div><div class=\"sk-parallel\"><div class=\"sk-parallel-item\"><div class=\"sk-item\"><div class=\"sk-label-container\"><div class=\"sk-label sk-toggleable\"><label>knn</label></div></div><div class=\"sk-serial\"><div class=\"sk-item\"><div class=\"sk-estimator sk-toggleable\"><input class=\"sk-toggleable__control sk-hidden--visually\" id=\"sk-estimator-id-14\" type=\"checkbox\" ><label for=\"sk-estimator-id-14\" class=\"sk-toggleable__label sk-toggleable__label-arrow\">KNeighborsClassifier</label><div class=\"sk-toggleable__content\"><pre>KNeighborsClassifier()</pre></div></div></div></div></div></div><div class=\"sk-parallel-item\"><div class=\"sk-item\"><div class=\"sk-label-container\"><div class=\"sk-label sk-toggleable\"><label>svc</label></div></div><div class=\"sk-serial\"><div class=\"sk-item\"><div class=\"sk-estimator sk-toggleable\"><input class=\"sk-toggleable__control sk-hidden--visually\" id=\"sk-estimator-id-15\" type=\"checkbox\" ><label for=\"sk-estimator-id-15\" class=\"sk-toggleable__label sk-toggleable__label-arrow\">SVC</label><div class=\"sk-toggleable__content\"><pre>SVC(probability=True, random_state=0)</pre></div></div></div></div></div></div><div class=\"sk-parallel-item\"><div class=\"sk-item\"><div class=\"sk-label-container\"><div class=\"sk-label sk-toggleable\"><label>dt</label></div></div><div class=\"sk-serial\"><div class=\"sk-item\"><div class=\"sk-estimator sk-toggleable\"><input class=\"sk-toggleable__control sk-hidden--visually\" id=\"sk-estimator-id-16\" type=\"checkbox\" ><label for=\"sk-estimator-id-16\" class=\"sk-toggleable__label sk-toggleable__label-arrow\">DecisionTreeClassifier</label><div class=\"sk-toggleable__content\"><pre>DecisionTreeClassifier(max_depth=7, random_state=0)</pre></div></div></div></div></div></div></div></div></div></div>"
      ],
      "text/plain": [
       "VotingClassifier(estimators=[('knn', KNeighborsClassifier()),\n",
       "                             ('svc', SVC(probability=True, random_state=0)),\n",
       "                             ('dt',\n",
       "                              DecisionTreeClassifier(max_depth=7,\n",
       "                                                     random_state=0))],\n",
       "                 voting='soft')"
      ]
     },
     "execution_count": 34,
     "metadata": {},
     "output_type": "execute_result"
    }
   ],
   "source": [
    "knn_soft = KNeighborsClassifier(5)\n",
    "knn_soft.fit(X_train, y_train)\n",
    "svc_soft = SVC(kernel='rbf', random_state= 0, probability= True)\n",
    "svc_soft.fit(X_train, y_train)\n",
    "dt_soft = DecisionTreeClassifier(max_depth = 7, random_state= 0)\n",
    "dt_soft.fit(X_train_org, y_train)\n",
    "\n",
    "voting_clf_soft = VotingClassifier(estimators=[('knn', knn_soft), ('svc', svc_soft), ('dt', dt_soft)], voting='soft')\n",
    "voting_clf_soft.fit(X_train, y_train)"
   ]
  },
  {
   "cell_type": "code",
   "execution_count": 35,
   "metadata": {
    "scrolled": true
   },
   "outputs": [
    {
     "name": "stdout",
     "output_type": "stream",
     "text": [
      "KNeighborsClassifier 0.9578947368421052\n",
      "SVC 0.9578947368421052\n",
      "DecisionTreeClassifier 0.9842105263157894\n",
      "VotingClassifier 0.9842105263157894\n"
     ]
    }
   ],
   "source": [
    "for clf in (knn_soft, svc_soft, dt_soft, voting_clf_soft):\n",
    "    clf.fit(X_train, y_train)\n",
    "    y_test_pred = clf.predict(X_test)\n",
    "    y_train_pred = clf.predict(X_train)\n",
    "    print(clf.__class__.__name__, accuracy_score(y_test, y_test_pred))"
   ]
  },
  {
   "cell_type": "code",
   "execution_count": 36,
   "metadata": {},
   "outputs": [],
   "source": [
    "report_table_4 = ['Soft Voting Classifier 2', '',accuracy_score(y_train, y_train_pred), accuracy_score(y_test, y_test_pred)]"
   ]
  },
  {
   "cell_type": "markdown",
   "metadata": {},
   "source": [
    "## Bagging"
   ]
  },
  {
   "cell_type": "markdown",
   "metadata": {},
   "source": [
    "## KNN with Bagging"
   ]
  },
  {
   "cell_type": "code",
   "execution_count": 37,
   "metadata": {},
   "outputs": [
    {
     "data": {
      "text/html": [
       "<style>#sk-container-id-5 {color: black;background-color: white;}#sk-container-id-5 pre{padding: 0;}#sk-container-id-5 div.sk-toggleable {background-color: white;}#sk-container-id-5 label.sk-toggleable__label {cursor: pointer;display: block;width: 100%;margin-bottom: 0;padding: 0.3em;box-sizing: border-box;text-align: center;}#sk-container-id-5 label.sk-toggleable__label-arrow:before {content: \"▸\";float: left;margin-right: 0.25em;color: #696969;}#sk-container-id-5 label.sk-toggleable__label-arrow:hover:before {color: black;}#sk-container-id-5 div.sk-estimator:hover label.sk-toggleable__label-arrow:before {color: black;}#sk-container-id-5 div.sk-toggleable__content {max-height: 0;max-width: 0;overflow: hidden;text-align: left;background-color: #f0f8ff;}#sk-container-id-5 div.sk-toggleable__content pre {margin: 0.2em;color: black;border-radius: 0.25em;background-color: #f0f8ff;}#sk-container-id-5 input.sk-toggleable__control:checked~div.sk-toggleable__content {max-height: 200px;max-width: 100%;overflow: auto;}#sk-container-id-5 input.sk-toggleable__control:checked~label.sk-toggleable__label-arrow:before {content: \"▾\";}#sk-container-id-5 div.sk-estimator input.sk-toggleable__control:checked~label.sk-toggleable__label {background-color: #d4ebff;}#sk-container-id-5 div.sk-label input.sk-toggleable__control:checked~label.sk-toggleable__label {background-color: #d4ebff;}#sk-container-id-5 input.sk-hidden--visually {border: 0;clip: rect(1px 1px 1px 1px);clip: rect(1px, 1px, 1px, 1px);height: 1px;margin: -1px;overflow: hidden;padding: 0;position: absolute;width: 1px;}#sk-container-id-5 div.sk-estimator {font-family: monospace;background-color: #f0f8ff;border: 1px dotted black;border-radius: 0.25em;box-sizing: border-box;margin-bottom: 0.5em;}#sk-container-id-5 div.sk-estimator:hover {background-color: #d4ebff;}#sk-container-id-5 div.sk-parallel-item::after {content: \"\";width: 100%;border-bottom: 1px solid gray;flex-grow: 1;}#sk-container-id-5 div.sk-label:hover label.sk-toggleable__label {background-color: #d4ebff;}#sk-container-id-5 div.sk-serial::before {content: \"\";position: absolute;border-left: 1px solid gray;box-sizing: border-box;top: 0;bottom: 0;left: 50%;z-index: 0;}#sk-container-id-5 div.sk-serial {display: flex;flex-direction: column;align-items: center;background-color: white;padding-right: 0.2em;padding-left: 0.2em;position: relative;}#sk-container-id-5 div.sk-item {position: relative;z-index: 1;}#sk-container-id-5 div.sk-parallel {display: flex;align-items: stretch;justify-content: center;background-color: white;position: relative;}#sk-container-id-5 div.sk-item::before, #sk-container-id-5 div.sk-parallel-item::before {content: \"\";position: absolute;border-left: 1px solid gray;box-sizing: border-box;top: 0;bottom: 0;left: 50%;z-index: -1;}#sk-container-id-5 div.sk-parallel-item {display: flex;flex-direction: column;z-index: 1;position: relative;background-color: white;}#sk-container-id-5 div.sk-parallel-item:first-child::after {align-self: flex-end;width: 50%;}#sk-container-id-5 div.sk-parallel-item:last-child::after {align-self: flex-start;width: 50%;}#sk-container-id-5 div.sk-parallel-item:only-child::after {width: 0;}#sk-container-id-5 div.sk-dashed-wrapped {border: 1px dashed gray;margin: 0 0.4em 0.5em 0.4em;box-sizing: border-box;padding-bottom: 0.4em;background-color: white;}#sk-container-id-5 div.sk-label label {font-family: monospace;font-weight: bold;display: inline-block;line-height: 1.2em;}#sk-container-id-5 div.sk-label-container {text-align: center;}#sk-container-id-5 div.sk-container {/* jupyter's `normalize.less` sets `[hidden] { display: none; }` but bootstrap.min.css set `[hidden] { display: none !important; }` so we also need the `!important` here to be able to override the default hidden behavior on the sphinx rendered scikit-learn.org. See: https://github.com/scikit-learn/scikit-learn/issues/21755 */display: inline-block !important;position: relative;}#sk-container-id-5 div.sk-text-repr-fallback {display: none;}</style><div id=\"sk-container-id-5\" class=\"sk-top-container\"><div class=\"sk-text-repr-fallback\"><pre>GridSearchCV(cv=5, estimator=KNeighborsClassifier(), n_jobs=-1,\n",
       "             param_grid={&#x27;n_neighbors&#x27;: [3, 5, 7, 11, 15]})</pre><b>In a Jupyter environment, please rerun this cell to show the HTML representation or trust the notebook. <br />On GitHub, the HTML representation is unable to render, please try loading this page with nbviewer.org.</b></div><div class=\"sk-container\" hidden><div class=\"sk-item sk-dashed-wrapped\"><div class=\"sk-label-container\"><div class=\"sk-label sk-toggleable\"><input class=\"sk-toggleable__control sk-hidden--visually\" id=\"sk-estimator-id-17\" type=\"checkbox\" ><label for=\"sk-estimator-id-17\" class=\"sk-toggleable__label sk-toggleable__label-arrow\">GridSearchCV</label><div class=\"sk-toggleable__content\"><pre>GridSearchCV(cv=5, estimator=KNeighborsClassifier(), n_jobs=-1,\n",
       "             param_grid={&#x27;n_neighbors&#x27;: [3, 5, 7, 11, 15]})</pre></div></div></div><div class=\"sk-parallel\"><div class=\"sk-parallel-item\"><div class=\"sk-item\"><div class=\"sk-label-container\"><div class=\"sk-label sk-toggleable\"><input class=\"sk-toggleable__control sk-hidden--visually\" id=\"sk-estimator-id-18\" type=\"checkbox\" ><label for=\"sk-estimator-id-18\" class=\"sk-toggleable__label sk-toggleable__label-arrow\">estimator: KNeighborsClassifier</label><div class=\"sk-toggleable__content\"><pre>KNeighborsClassifier()</pre></div></div></div><div class=\"sk-serial\"><div class=\"sk-item\"><div class=\"sk-estimator sk-toggleable\"><input class=\"sk-toggleable__control sk-hidden--visually\" id=\"sk-estimator-id-19\" type=\"checkbox\" ><label for=\"sk-estimator-id-19\" class=\"sk-toggleable__label sk-toggleable__label-arrow\">KNeighborsClassifier</label><div class=\"sk-toggleable__content\"><pre>KNeighborsClassifier()</pre></div></div></div></div></div></div></div></div></div></div>"
      ],
      "text/plain": [
       "GridSearchCV(cv=5, estimator=KNeighborsClassifier(), n_jobs=-1,\n",
       "             param_grid={'n_neighbors': [3, 5, 7, 11, 15]})"
      ]
     },
     "execution_count": 37,
     "metadata": {},
     "output_type": "execute_result"
    }
   ],
   "source": [
    "from sklearn.ensemble import BaggingClassifier\n",
    "from sklearn.neighbors import KNeighborsClassifier\n",
    "from sklearn.model_selection import GridSearchCV\n",
    "knn = KNeighborsClassifier()\n",
    "\n",
    "knn_param ={'n_neighbors': [3,5,7,11,15]}\n",
    "knn_grid = GridSearchCV(knn, knn_param,cv = 5, n_jobs= -1)\n",
    "knn_grid.fit(X_train, y_train)"
   ]
  },
  {
   "cell_type": "code",
   "execution_count": 38,
   "metadata": {},
   "outputs": [
    {
     "name": "stdout",
     "output_type": "stream",
     "text": [
      "Best Parameters for KNN Classifier:  {'n_neighbors': 3}\n"
     ]
    }
   ],
   "source": [
    "print(\"Best Parameters for KNN Classifier: \", knn_grid.best_params_)"
   ]
  },
  {
   "cell_type": "code",
   "execution_count": 39,
   "metadata": {},
   "outputs": [
    {
     "data": {
      "text/html": [
       "<style>#sk-container-id-6 {color: black;background-color: white;}#sk-container-id-6 pre{padding: 0;}#sk-container-id-6 div.sk-toggleable {background-color: white;}#sk-container-id-6 label.sk-toggleable__label {cursor: pointer;display: block;width: 100%;margin-bottom: 0;padding: 0.3em;box-sizing: border-box;text-align: center;}#sk-container-id-6 label.sk-toggleable__label-arrow:before {content: \"▸\";float: left;margin-right: 0.25em;color: #696969;}#sk-container-id-6 label.sk-toggleable__label-arrow:hover:before {color: black;}#sk-container-id-6 div.sk-estimator:hover label.sk-toggleable__label-arrow:before {color: black;}#sk-container-id-6 div.sk-toggleable__content {max-height: 0;max-width: 0;overflow: hidden;text-align: left;background-color: #f0f8ff;}#sk-container-id-6 div.sk-toggleable__content pre {margin: 0.2em;color: black;border-radius: 0.25em;background-color: #f0f8ff;}#sk-container-id-6 input.sk-toggleable__control:checked~div.sk-toggleable__content {max-height: 200px;max-width: 100%;overflow: auto;}#sk-container-id-6 input.sk-toggleable__control:checked~label.sk-toggleable__label-arrow:before {content: \"▾\";}#sk-container-id-6 div.sk-estimator input.sk-toggleable__control:checked~label.sk-toggleable__label {background-color: #d4ebff;}#sk-container-id-6 div.sk-label input.sk-toggleable__control:checked~label.sk-toggleable__label {background-color: #d4ebff;}#sk-container-id-6 input.sk-hidden--visually {border: 0;clip: rect(1px 1px 1px 1px);clip: rect(1px, 1px, 1px, 1px);height: 1px;margin: -1px;overflow: hidden;padding: 0;position: absolute;width: 1px;}#sk-container-id-6 div.sk-estimator {font-family: monospace;background-color: #f0f8ff;border: 1px dotted black;border-radius: 0.25em;box-sizing: border-box;margin-bottom: 0.5em;}#sk-container-id-6 div.sk-estimator:hover {background-color: #d4ebff;}#sk-container-id-6 div.sk-parallel-item::after {content: \"\";width: 100%;border-bottom: 1px solid gray;flex-grow: 1;}#sk-container-id-6 div.sk-label:hover label.sk-toggleable__label {background-color: #d4ebff;}#sk-container-id-6 div.sk-serial::before {content: \"\";position: absolute;border-left: 1px solid gray;box-sizing: border-box;top: 0;bottom: 0;left: 50%;z-index: 0;}#sk-container-id-6 div.sk-serial {display: flex;flex-direction: column;align-items: center;background-color: white;padding-right: 0.2em;padding-left: 0.2em;position: relative;}#sk-container-id-6 div.sk-item {position: relative;z-index: 1;}#sk-container-id-6 div.sk-parallel {display: flex;align-items: stretch;justify-content: center;background-color: white;position: relative;}#sk-container-id-6 div.sk-item::before, #sk-container-id-6 div.sk-parallel-item::before {content: \"\";position: absolute;border-left: 1px solid gray;box-sizing: border-box;top: 0;bottom: 0;left: 50%;z-index: -1;}#sk-container-id-6 div.sk-parallel-item {display: flex;flex-direction: column;z-index: 1;position: relative;background-color: white;}#sk-container-id-6 div.sk-parallel-item:first-child::after {align-self: flex-end;width: 50%;}#sk-container-id-6 div.sk-parallel-item:last-child::after {align-self: flex-start;width: 50%;}#sk-container-id-6 div.sk-parallel-item:only-child::after {width: 0;}#sk-container-id-6 div.sk-dashed-wrapped {border: 1px dashed gray;margin: 0 0.4em 0.5em 0.4em;box-sizing: border-box;padding-bottom: 0.4em;background-color: white;}#sk-container-id-6 div.sk-label label {font-family: monospace;font-weight: bold;display: inline-block;line-height: 1.2em;}#sk-container-id-6 div.sk-label-container {text-align: center;}#sk-container-id-6 div.sk-container {/* jupyter's `normalize.less` sets `[hidden] { display: none; }` but bootstrap.min.css set `[hidden] { display: none !important; }` so we also need the `!important` here to be able to override the default hidden behavior on the sphinx rendered scikit-learn.org. See: https://github.com/scikit-learn/scikit-learn/issues/21755 */display: inline-block !important;position: relative;}#sk-container-id-6 div.sk-text-repr-fallback {display: none;}</style><div id=\"sk-container-id-6\" class=\"sk-top-container\"><div class=\"sk-text-repr-fallback\"><pre>GridSearchCV(cv=5,\n",
       "             estimator=BaggingClassifier(estimator=KNeighborsClassifier(n_neighbors=3),\n",
       "                                         random_state=0),\n",
       "             n_jobs=-1,\n",
       "             param_grid={&#x27;max_samples&#x27;: [0.1, 0.5, 1.0],\n",
       "                         &#x27;n_estimators&#x27;: [100, 500, 1000]},\n",
       "             return_train_score=True)</pre><b>In a Jupyter environment, please rerun this cell to show the HTML representation or trust the notebook. <br />On GitHub, the HTML representation is unable to render, please try loading this page with nbviewer.org.</b></div><div class=\"sk-container\" hidden><div class=\"sk-item sk-dashed-wrapped\"><div class=\"sk-label-container\"><div class=\"sk-label sk-toggleable\"><input class=\"sk-toggleable__control sk-hidden--visually\" id=\"sk-estimator-id-20\" type=\"checkbox\" ><label for=\"sk-estimator-id-20\" class=\"sk-toggleable__label sk-toggleable__label-arrow\">GridSearchCV</label><div class=\"sk-toggleable__content\"><pre>GridSearchCV(cv=5,\n",
       "             estimator=BaggingClassifier(estimator=KNeighborsClassifier(n_neighbors=3),\n",
       "                                         random_state=0),\n",
       "             n_jobs=-1,\n",
       "             param_grid={&#x27;max_samples&#x27;: [0.1, 0.5, 1.0],\n",
       "                         &#x27;n_estimators&#x27;: [100, 500, 1000]},\n",
       "             return_train_score=True)</pre></div></div></div><div class=\"sk-parallel\"><div class=\"sk-parallel-item\"><div class=\"sk-item\"><div class=\"sk-label-container\"><div class=\"sk-label sk-toggleable\"><input class=\"sk-toggleable__control sk-hidden--visually\" id=\"sk-estimator-id-21\" type=\"checkbox\" ><label for=\"sk-estimator-id-21\" class=\"sk-toggleable__label sk-toggleable__label-arrow\">estimator: BaggingClassifier</label><div class=\"sk-toggleable__content\"><pre>BaggingClassifier(estimator=KNeighborsClassifier(n_neighbors=3), random_state=0)</pre></div></div></div><div class=\"sk-serial\"><div class=\"sk-item sk-dashed-wrapped\"><div class=\"sk-parallel\"><div class=\"sk-parallel-item\"><div class=\"sk-item\"><div class=\"sk-label-container\"><div class=\"sk-label sk-toggleable\"><input class=\"sk-toggleable__control sk-hidden--visually\" id=\"sk-estimator-id-22\" type=\"checkbox\" ><label for=\"sk-estimator-id-22\" class=\"sk-toggleable__label sk-toggleable__label-arrow\">estimator: KNeighborsClassifier</label><div class=\"sk-toggleable__content\"><pre>KNeighborsClassifier(n_neighbors=3)</pre></div></div></div><div class=\"sk-serial\"><div class=\"sk-item\"><div class=\"sk-estimator sk-toggleable\"><input class=\"sk-toggleable__control sk-hidden--visually\" id=\"sk-estimator-id-23\" type=\"checkbox\" ><label for=\"sk-estimator-id-23\" class=\"sk-toggleable__label sk-toggleable__label-arrow\">KNeighborsClassifier</label><div class=\"sk-toggleable__content\"><pre>KNeighborsClassifier(n_neighbors=3)</pre></div></div></div></div></div></div></div></div></div></div></div></div></div></div></div>"
      ],
      "text/plain": [
       "GridSearchCV(cv=5,\n",
       "             estimator=BaggingClassifier(estimator=KNeighborsClassifier(n_neighbors=3),\n",
       "                                         random_state=0),\n",
       "             n_jobs=-1,\n",
       "             param_grid={'max_samples': [0.1, 0.5, 1.0],\n",
       "                         'n_estimators': [100, 500, 1000]},\n",
       "             return_train_score=True)"
      ]
     },
     "execution_count": 39,
     "metadata": {},
     "output_type": "execute_result"
    }
   ],
   "source": [
    "knn = KNeighborsClassifier(n_neighbors=3)\n",
    "bag = BaggingClassifier(knn, bootstrap=True, random_state = 0)\n",
    "#model param\n",
    "grid_param = {'n_estimators': [100, 500, 1000],\n",
    "              'max_samples': [0.1, 0.5, 1.0]}\n",
    "\n",
    "#grid model\n",
    "bag_knn_grid = GridSearchCV(bag, grid_param, cv = 5, n_jobs = -1, return_train_score= True)\n",
    "\n",
    "#train grid model\n",
    "bag_knn_grid.fit(X_train, y_train)"
   ]
  },
  {
   "cell_type": "code",
   "execution_count": 40,
   "metadata": {},
   "outputs": [
    {
     "name": "stdout",
     "output_type": "stream",
     "text": [
      "Best Parameters for Bagging Classifier:  {'max_samples': 1.0, 'n_estimators': 100}\n"
     ]
    }
   ],
   "source": [
    "print(\"Best Parameters for Bagging Classifier: \", bag_knn_grid.best_params_)"
   ]
  },
  {
   "cell_type": "code",
   "execution_count": 41,
   "metadata": {},
   "outputs": [
    {
     "data": {
      "text/html": [
       "<style>#sk-container-id-7 {color: black;background-color: white;}#sk-container-id-7 pre{padding: 0;}#sk-container-id-7 div.sk-toggleable {background-color: white;}#sk-container-id-7 label.sk-toggleable__label {cursor: pointer;display: block;width: 100%;margin-bottom: 0;padding: 0.3em;box-sizing: border-box;text-align: center;}#sk-container-id-7 label.sk-toggleable__label-arrow:before {content: \"▸\";float: left;margin-right: 0.25em;color: #696969;}#sk-container-id-7 label.sk-toggleable__label-arrow:hover:before {color: black;}#sk-container-id-7 div.sk-estimator:hover label.sk-toggleable__label-arrow:before {color: black;}#sk-container-id-7 div.sk-toggleable__content {max-height: 0;max-width: 0;overflow: hidden;text-align: left;background-color: #f0f8ff;}#sk-container-id-7 div.sk-toggleable__content pre {margin: 0.2em;color: black;border-radius: 0.25em;background-color: #f0f8ff;}#sk-container-id-7 input.sk-toggleable__control:checked~div.sk-toggleable__content {max-height: 200px;max-width: 100%;overflow: auto;}#sk-container-id-7 input.sk-toggleable__control:checked~label.sk-toggleable__label-arrow:before {content: \"▾\";}#sk-container-id-7 div.sk-estimator input.sk-toggleable__control:checked~label.sk-toggleable__label {background-color: #d4ebff;}#sk-container-id-7 div.sk-label input.sk-toggleable__control:checked~label.sk-toggleable__label {background-color: #d4ebff;}#sk-container-id-7 input.sk-hidden--visually {border: 0;clip: rect(1px 1px 1px 1px);clip: rect(1px, 1px, 1px, 1px);height: 1px;margin: -1px;overflow: hidden;padding: 0;position: absolute;width: 1px;}#sk-container-id-7 div.sk-estimator {font-family: monospace;background-color: #f0f8ff;border: 1px dotted black;border-radius: 0.25em;box-sizing: border-box;margin-bottom: 0.5em;}#sk-container-id-7 div.sk-estimator:hover {background-color: #d4ebff;}#sk-container-id-7 div.sk-parallel-item::after {content: \"\";width: 100%;border-bottom: 1px solid gray;flex-grow: 1;}#sk-container-id-7 div.sk-label:hover label.sk-toggleable__label {background-color: #d4ebff;}#sk-container-id-7 div.sk-serial::before {content: \"\";position: absolute;border-left: 1px solid gray;box-sizing: border-box;top: 0;bottom: 0;left: 50%;z-index: 0;}#sk-container-id-7 div.sk-serial {display: flex;flex-direction: column;align-items: center;background-color: white;padding-right: 0.2em;padding-left: 0.2em;position: relative;}#sk-container-id-7 div.sk-item {position: relative;z-index: 1;}#sk-container-id-7 div.sk-parallel {display: flex;align-items: stretch;justify-content: center;background-color: white;position: relative;}#sk-container-id-7 div.sk-item::before, #sk-container-id-7 div.sk-parallel-item::before {content: \"\";position: absolute;border-left: 1px solid gray;box-sizing: border-box;top: 0;bottom: 0;left: 50%;z-index: -1;}#sk-container-id-7 div.sk-parallel-item {display: flex;flex-direction: column;z-index: 1;position: relative;background-color: white;}#sk-container-id-7 div.sk-parallel-item:first-child::after {align-self: flex-end;width: 50%;}#sk-container-id-7 div.sk-parallel-item:last-child::after {align-self: flex-start;width: 50%;}#sk-container-id-7 div.sk-parallel-item:only-child::after {width: 0;}#sk-container-id-7 div.sk-dashed-wrapped {border: 1px dashed gray;margin: 0 0.4em 0.5em 0.4em;box-sizing: border-box;padding-bottom: 0.4em;background-color: white;}#sk-container-id-7 div.sk-label label {font-family: monospace;font-weight: bold;display: inline-block;line-height: 1.2em;}#sk-container-id-7 div.sk-label-container {text-align: center;}#sk-container-id-7 div.sk-container {/* jupyter's `normalize.less` sets `[hidden] { display: none; }` but bootstrap.min.css set `[hidden] { display: none !important; }` so we also need the `!important` here to be able to override the default hidden behavior on the sphinx rendered scikit-learn.org. See: https://github.com/scikit-learn/scikit-learn/issues/21755 */display: inline-block !important;position: relative;}#sk-container-id-7 div.sk-text-repr-fallback {display: none;}</style><div id=\"sk-container-id-7\" class=\"sk-top-container\"><div class=\"sk-text-repr-fallback\"><pre>BaggingClassifier(estimator=KNeighborsClassifier(n_neighbors=3),\n",
       "                  n_estimators=100, n_jobs=-1, random_state=0)</pre><b>In a Jupyter environment, please rerun this cell to show the HTML representation or trust the notebook. <br />On GitHub, the HTML representation is unable to render, please try loading this page with nbviewer.org.</b></div><div class=\"sk-container\" hidden><div class=\"sk-item sk-dashed-wrapped\"><div class=\"sk-label-container\"><div class=\"sk-label sk-toggleable\"><input class=\"sk-toggleable__control sk-hidden--visually\" id=\"sk-estimator-id-24\" type=\"checkbox\" ><label for=\"sk-estimator-id-24\" class=\"sk-toggleable__label sk-toggleable__label-arrow\">BaggingClassifier</label><div class=\"sk-toggleable__content\"><pre>BaggingClassifier(estimator=KNeighborsClassifier(n_neighbors=3),\n",
       "                  n_estimators=100, n_jobs=-1, random_state=0)</pre></div></div></div><div class=\"sk-parallel\"><div class=\"sk-parallel-item\"><div class=\"sk-item\"><div class=\"sk-label-container\"><div class=\"sk-label sk-toggleable\"><input class=\"sk-toggleable__control sk-hidden--visually\" id=\"sk-estimator-id-25\" type=\"checkbox\" ><label for=\"sk-estimator-id-25\" class=\"sk-toggleable__label sk-toggleable__label-arrow\">estimator: KNeighborsClassifier</label><div class=\"sk-toggleable__content\"><pre>KNeighborsClassifier(n_neighbors=3)</pre></div></div></div><div class=\"sk-serial\"><div class=\"sk-item\"><div class=\"sk-estimator sk-toggleable\"><input class=\"sk-toggleable__control sk-hidden--visually\" id=\"sk-estimator-id-26\" type=\"checkbox\" ><label for=\"sk-estimator-id-26\" class=\"sk-toggleable__label sk-toggleable__label-arrow\">KNeighborsClassifier</label><div class=\"sk-toggleable__content\"><pre>KNeighborsClassifier(n_neighbors=3)</pre></div></div></div></div></div></div></div></div></div></div>"
      ],
      "text/plain": [
       "BaggingClassifier(estimator=KNeighborsClassifier(n_neighbors=3),\n",
       "                  n_estimators=100, n_jobs=-1, random_state=0)"
      ]
     },
     "execution_count": 41,
     "metadata": {},
     "output_type": "execute_result"
    }
   ],
   "source": [
    "bag = BaggingClassifier(knn, n_estimators=100, max_samples=1.0, n_jobs = -1, bootstrap=True, random_state=0)\n",
    "bag.fit(X_train, y_train)"
   ]
  },
  {
   "cell_type": "code",
   "execution_count": 42,
   "metadata": {
    "scrolled": false
   },
   "outputs": [
    {
     "name": "stdout",
     "output_type": "stream",
     "text": [
      "KNN with Bagging Training Score:  0.9842105263157894\n",
      "KNN with Bagging Testing Score:  0.9631578947368421\n"
     ]
    }
   ],
   "source": [
    "print(\"KNN with Bagging Training Score: \", bag.score(X_train, y_train))\n",
    "print(\"KNN with Bagging Testing Score: \", bag.score(X_test, y_test))"
   ]
  },
  {
   "cell_type": "code",
   "execution_count": 43,
   "metadata": {},
   "outputs": [],
   "source": [
    "report_table_5 = ['KNN with Bagging', 'n_neighbors: 3, max_samples: 1.0, n_estimators: 100',bag.score(X_train, y_train), bag.score(X_test, y_test)]"
   ]
  },
  {
   "cell_type": "markdown",
   "metadata": {},
   "source": [
    "## Logistic Regression with Bagging"
   ]
  },
  {
   "cell_type": "code",
   "execution_count": 44,
   "metadata": {},
   "outputs": [
    {
     "data": {
      "text/html": [
       "<style>#sk-container-id-8 {color: black;background-color: white;}#sk-container-id-8 pre{padding: 0;}#sk-container-id-8 div.sk-toggleable {background-color: white;}#sk-container-id-8 label.sk-toggleable__label {cursor: pointer;display: block;width: 100%;margin-bottom: 0;padding: 0.3em;box-sizing: border-box;text-align: center;}#sk-container-id-8 label.sk-toggleable__label-arrow:before {content: \"▸\";float: left;margin-right: 0.25em;color: #696969;}#sk-container-id-8 label.sk-toggleable__label-arrow:hover:before {color: black;}#sk-container-id-8 div.sk-estimator:hover label.sk-toggleable__label-arrow:before {color: black;}#sk-container-id-8 div.sk-toggleable__content {max-height: 0;max-width: 0;overflow: hidden;text-align: left;background-color: #f0f8ff;}#sk-container-id-8 div.sk-toggleable__content pre {margin: 0.2em;color: black;border-radius: 0.25em;background-color: #f0f8ff;}#sk-container-id-8 input.sk-toggleable__control:checked~div.sk-toggleable__content {max-height: 200px;max-width: 100%;overflow: auto;}#sk-container-id-8 input.sk-toggleable__control:checked~label.sk-toggleable__label-arrow:before {content: \"▾\";}#sk-container-id-8 div.sk-estimator input.sk-toggleable__control:checked~label.sk-toggleable__label {background-color: #d4ebff;}#sk-container-id-8 div.sk-label input.sk-toggleable__control:checked~label.sk-toggleable__label {background-color: #d4ebff;}#sk-container-id-8 input.sk-hidden--visually {border: 0;clip: rect(1px 1px 1px 1px);clip: rect(1px, 1px, 1px, 1px);height: 1px;margin: -1px;overflow: hidden;padding: 0;position: absolute;width: 1px;}#sk-container-id-8 div.sk-estimator {font-family: monospace;background-color: #f0f8ff;border: 1px dotted black;border-radius: 0.25em;box-sizing: border-box;margin-bottom: 0.5em;}#sk-container-id-8 div.sk-estimator:hover {background-color: #d4ebff;}#sk-container-id-8 div.sk-parallel-item::after {content: \"\";width: 100%;border-bottom: 1px solid gray;flex-grow: 1;}#sk-container-id-8 div.sk-label:hover label.sk-toggleable__label {background-color: #d4ebff;}#sk-container-id-8 div.sk-serial::before {content: \"\";position: absolute;border-left: 1px solid gray;box-sizing: border-box;top: 0;bottom: 0;left: 50%;z-index: 0;}#sk-container-id-8 div.sk-serial {display: flex;flex-direction: column;align-items: center;background-color: white;padding-right: 0.2em;padding-left: 0.2em;position: relative;}#sk-container-id-8 div.sk-item {position: relative;z-index: 1;}#sk-container-id-8 div.sk-parallel {display: flex;align-items: stretch;justify-content: center;background-color: white;position: relative;}#sk-container-id-8 div.sk-item::before, #sk-container-id-8 div.sk-parallel-item::before {content: \"\";position: absolute;border-left: 1px solid gray;box-sizing: border-box;top: 0;bottom: 0;left: 50%;z-index: -1;}#sk-container-id-8 div.sk-parallel-item {display: flex;flex-direction: column;z-index: 1;position: relative;background-color: white;}#sk-container-id-8 div.sk-parallel-item:first-child::after {align-self: flex-end;width: 50%;}#sk-container-id-8 div.sk-parallel-item:last-child::after {align-self: flex-start;width: 50%;}#sk-container-id-8 div.sk-parallel-item:only-child::after {width: 0;}#sk-container-id-8 div.sk-dashed-wrapped {border: 1px dashed gray;margin: 0 0.4em 0.5em 0.4em;box-sizing: border-box;padding-bottom: 0.4em;background-color: white;}#sk-container-id-8 div.sk-label label {font-family: monospace;font-weight: bold;display: inline-block;line-height: 1.2em;}#sk-container-id-8 div.sk-label-container {text-align: center;}#sk-container-id-8 div.sk-container {/* jupyter's `normalize.less` sets `[hidden] { display: none; }` but bootstrap.min.css set `[hidden] { display: none !important; }` so we also need the `!important` here to be able to override the default hidden behavior on the sphinx rendered scikit-learn.org. See: https://github.com/scikit-learn/scikit-learn/issues/21755 */display: inline-block !important;position: relative;}#sk-container-id-8 div.sk-text-repr-fallback {display: none;}</style><div id=\"sk-container-id-8\" class=\"sk-top-container\"><div class=\"sk-text-repr-fallback\"><pre>GridSearchCV(cv=5,\n",
       "             estimator=BaggingClassifier(estimator=LogisticRegression(),\n",
       "                                         random_state=0),\n",
       "             n_jobs=-1,\n",
       "             param_grid={&#x27;max_samples&#x27;: [0.1, 0.5, 1.0],\n",
       "                         &#x27;n_estimators&#x27;: [100, 500, 1000]},\n",
       "             return_train_score=True)</pre><b>In a Jupyter environment, please rerun this cell to show the HTML representation or trust the notebook. <br />On GitHub, the HTML representation is unable to render, please try loading this page with nbviewer.org.</b></div><div class=\"sk-container\" hidden><div class=\"sk-item sk-dashed-wrapped\"><div class=\"sk-label-container\"><div class=\"sk-label sk-toggleable\"><input class=\"sk-toggleable__control sk-hidden--visually\" id=\"sk-estimator-id-27\" type=\"checkbox\" ><label for=\"sk-estimator-id-27\" class=\"sk-toggleable__label sk-toggleable__label-arrow\">GridSearchCV</label><div class=\"sk-toggleable__content\"><pre>GridSearchCV(cv=5,\n",
       "             estimator=BaggingClassifier(estimator=LogisticRegression(),\n",
       "                                         random_state=0),\n",
       "             n_jobs=-1,\n",
       "             param_grid={&#x27;max_samples&#x27;: [0.1, 0.5, 1.0],\n",
       "                         &#x27;n_estimators&#x27;: [100, 500, 1000]},\n",
       "             return_train_score=True)</pre></div></div></div><div class=\"sk-parallel\"><div class=\"sk-parallel-item\"><div class=\"sk-item\"><div class=\"sk-label-container\"><div class=\"sk-label sk-toggleable\"><input class=\"sk-toggleable__control sk-hidden--visually\" id=\"sk-estimator-id-28\" type=\"checkbox\" ><label for=\"sk-estimator-id-28\" class=\"sk-toggleable__label sk-toggleable__label-arrow\">estimator: BaggingClassifier</label><div class=\"sk-toggleable__content\"><pre>BaggingClassifier(estimator=LogisticRegression(), random_state=0)</pre></div></div></div><div class=\"sk-serial\"><div class=\"sk-item sk-dashed-wrapped\"><div class=\"sk-parallel\"><div class=\"sk-parallel-item\"><div class=\"sk-item\"><div class=\"sk-label-container\"><div class=\"sk-label sk-toggleable\"><input class=\"sk-toggleable__control sk-hidden--visually\" id=\"sk-estimator-id-29\" type=\"checkbox\" ><label for=\"sk-estimator-id-29\" class=\"sk-toggleable__label sk-toggleable__label-arrow\">estimator: LogisticRegression</label><div class=\"sk-toggleable__content\"><pre>LogisticRegression()</pre></div></div></div><div class=\"sk-serial\"><div class=\"sk-item\"><div class=\"sk-estimator sk-toggleable\"><input class=\"sk-toggleable__control sk-hidden--visually\" id=\"sk-estimator-id-30\" type=\"checkbox\" ><label for=\"sk-estimator-id-30\" class=\"sk-toggleable__label sk-toggleable__label-arrow\">LogisticRegression</label><div class=\"sk-toggleable__content\"><pre>LogisticRegression()</pre></div></div></div></div></div></div></div></div></div></div></div></div></div></div></div>"
      ],
      "text/plain": [
       "GridSearchCV(cv=5,\n",
       "             estimator=BaggingClassifier(estimator=LogisticRegression(),\n",
       "                                         random_state=0),\n",
       "             n_jobs=-1,\n",
       "             param_grid={'max_samples': [0.1, 0.5, 1.0],\n",
       "                         'n_estimators': [100, 500, 1000]},\n",
       "             return_train_score=True)"
      ]
     },
     "execution_count": 44,
     "metadata": {},
     "output_type": "execute_result"
    }
   ],
   "source": [
    "from sklearn.linear_model import LogisticRegression\n",
    "\n",
    "lr = LogisticRegression()\n",
    "bag = BaggingClassifier(lr, bootstrap=True, random_state = 0)\n",
    "grid_param = {'n_estimators': [100, 500, 1000],\n",
    "              'max_samples': [0.1, 0.5, 1.0]}\n",
    "\n",
    "#grid model\n",
    "bag_lr_grid = GridSearchCV(bag, grid_param, cv = 5, n_jobs = -1, return_train_score= True)\n",
    "\n",
    "#train grid model\n",
    "bag_lr_grid.fit(X_train, y_train)"
   ]
  },
  {
   "cell_type": "code",
   "execution_count": 45,
   "metadata": {},
   "outputs": [
    {
     "name": "stdout",
     "output_type": "stream",
     "text": [
      "Best Parameters for Bagging Classifier:  {'max_samples': 1.0, 'n_estimators': 100}\n"
     ]
    }
   ],
   "source": [
    "print(\"Best Parameters for Bagging Classifier: \", bag_lr_grid.best_params_)"
   ]
  },
  {
   "cell_type": "code",
   "execution_count": 46,
   "metadata": {},
   "outputs": [
    {
     "data": {
      "text/html": [
       "<style>#sk-container-id-9 {color: black;background-color: white;}#sk-container-id-9 pre{padding: 0;}#sk-container-id-9 div.sk-toggleable {background-color: white;}#sk-container-id-9 label.sk-toggleable__label {cursor: pointer;display: block;width: 100%;margin-bottom: 0;padding: 0.3em;box-sizing: border-box;text-align: center;}#sk-container-id-9 label.sk-toggleable__label-arrow:before {content: \"▸\";float: left;margin-right: 0.25em;color: #696969;}#sk-container-id-9 label.sk-toggleable__label-arrow:hover:before {color: black;}#sk-container-id-9 div.sk-estimator:hover label.sk-toggleable__label-arrow:before {color: black;}#sk-container-id-9 div.sk-toggleable__content {max-height: 0;max-width: 0;overflow: hidden;text-align: left;background-color: #f0f8ff;}#sk-container-id-9 div.sk-toggleable__content pre {margin: 0.2em;color: black;border-radius: 0.25em;background-color: #f0f8ff;}#sk-container-id-9 input.sk-toggleable__control:checked~div.sk-toggleable__content {max-height: 200px;max-width: 100%;overflow: auto;}#sk-container-id-9 input.sk-toggleable__control:checked~label.sk-toggleable__label-arrow:before {content: \"▾\";}#sk-container-id-9 div.sk-estimator input.sk-toggleable__control:checked~label.sk-toggleable__label {background-color: #d4ebff;}#sk-container-id-9 div.sk-label input.sk-toggleable__control:checked~label.sk-toggleable__label {background-color: #d4ebff;}#sk-container-id-9 input.sk-hidden--visually {border: 0;clip: rect(1px 1px 1px 1px);clip: rect(1px, 1px, 1px, 1px);height: 1px;margin: -1px;overflow: hidden;padding: 0;position: absolute;width: 1px;}#sk-container-id-9 div.sk-estimator {font-family: monospace;background-color: #f0f8ff;border: 1px dotted black;border-radius: 0.25em;box-sizing: border-box;margin-bottom: 0.5em;}#sk-container-id-9 div.sk-estimator:hover {background-color: #d4ebff;}#sk-container-id-9 div.sk-parallel-item::after {content: \"\";width: 100%;border-bottom: 1px solid gray;flex-grow: 1;}#sk-container-id-9 div.sk-label:hover label.sk-toggleable__label {background-color: #d4ebff;}#sk-container-id-9 div.sk-serial::before {content: \"\";position: absolute;border-left: 1px solid gray;box-sizing: border-box;top: 0;bottom: 0;left: 50%;z-index: 0;}#sk-container-id-9 div.sk-serial {display: flex;flex-direction: column;align-items: center;background-color: white;padding-right: 0.2em;padding-left: 0.2em;position: relative;}#sk-container-id-9 div.sk-item {position: relative;z-index: 1;}#sk-container-id-9 div.sk-parallel {display: flex;align-items: stretch;justify-content: center;background-color: white;position: relative;}#sk-container-id-9 div.sk-item::before, #sk-container-id-9 div.sk-parallel-item::before {content: \"\";position: absolute;border-left: 1px solid gray;box-sizing: border-box;top: 0;bottom: 0;left: 50%;z-index: -1;}#sk-container-id-9 div.sk-parallel-item {display: flex;flex-direction: column;z-index: 1;position: relative;background-color: white;}#sk-container-id-9 div.sk-parallel-item:first-child::after {align-self: flex-end;width: 50%;}#sk-container-id-9 div.sk-parallel-item:last-child::after {align-self: flex-start;width: 50%;}#sk-container-id-9 div.sk-parallel-item:only-child::after {width: 0;}#sk-container-id-9 div.sk-dashed-wrapped {border: 1px dashed gray;margin: 0 0.4em 0.5em 0.4em;box-sizing: border-box;padding-bottom: 0.4em;background-color: white;}#sk-container-id-9 div.sk-label label {font-family: monospace;font-weight: bold;display: inline-block;line-height: 1.2em;}#sk-container-id-9 div.sk-label-container {text-align: center;}#sk-container-id-9 div.sk-container {/* jupyter's `normalize.less` sets `[hidden] { display: none; }` but bootstrap.min.css set `[hidden] { display: none !important; }` so we also need the `!important` here to be able to override the default hidden behavior on the sphinx rendered scikit-learn.org. See: https://github.com/scikit-learn/scikit-learn/issues/21755 */display: inline-block !important;position: relative;}#sk-container-id-9 div.sk-text-repr-fallback {display: none;}</style><div id=\"sk-container-id-9\" class=\"sk-top-container\"><div class=\"sk-text-repr-fallback\"><pre>BaggingClassifier(estimator=LogisticRegression(), n_estimators=500, n_jobs=-1,\n",
       "                  random_state=0)</pre><b>In a Jupyter environment, please rerun this cell to show the HTML representation or trust the notebook. <br />On GitHub, the HTML representation is unable to render, please try loading this page with nbviewer.org.</b></div><div class=\"sk-container\" hidden><div class=\"sk-item sk-dashed-wrapped\"><div class=\"sk-label-container\"><div class=\"sk-label sk-toggleable\"><input class=\"sk-toggleable__control sk-hidden--visually\" id=\"sk-estimator-id-31\" type=\"checkbox\" ><label for=\"sk-estimator-id-31\" class=\"sk-toggleable__label sk-toggleable__label-arrow\">BaggingClassifier</label><div class=\"sk-toggleable__content\"><pre>BaggingClassifier(estimator=LogisticRegression(), n_estimators=500, n_jobs=-1,\n",
       "                  random_state=0)</pre></div></div></div><div class=\"sk-parallel\"><div class=\"sk-parallel-item\"><div class=\"sk-item\"><div class=\"sk-label-container\"><div class=\"sk-label sk-toggleable\"><input class=\"sk-toggleable__control sk-hidden--visually\" id=\"sk-estimator-id-32\" type=\"checkbox\" ><label for=\"sk-estimator-id-32\" class=\"sk-toggleable__label sk-toggleable__label-arrow\">estimator: LogisticRegression</label><div class=\"sk-toggleable__content\"><pre>LogisticRegression()</pre></div></div></div><div class=\"sk-serial\"><div class=\"sk-item\"><div class=\"sk-estimator sk-toggleable\"><input class=\"sk-toggleable__control sk-hidden--visually\" id=\"sk-estimator-id-33\" type=\"checkbox\" ><label for=\"sk-estimator-id-33\" class=\"sk-toggleable__label sk-toggleable__label-arrow\">LogisticRegression</label><div class=\"sk-toggleable__content\"><pre>LogisticRegression()</pre></div></div></div></div></div></div></div></div></div></div>"
      ],
      "text/plain": [
       "BaggingClassifier(estimator=LogisticRegression(), n_estimators=500, n_jobs=-1,\n",
       "                  random_state=0)"
      ]
     },
     "execution_count": 46,
     "metadata": {},
     "output_type": "execute_result"
    }
   ],
   "source": [
    "bag = BaggingClassifier(lr, n_estimators=500, max_samples=1.0, bootstrap=True, n_jobs=-1, random_state=0)\n",
    "bag.fit(X_train, y_train)"
   ]
  },
  {
   "cell_type": "code",
   "execution_count": 47,
   "metadata": {
    "scrolled": false
   },
   "outputs": [
    {
     "name": "stdout",
     "output_type": "stream",
     "text": [
      "Logistic Regression with Bagging Training Score:  0.9526315789473684\n",
      "Logistic Regression with Bagging Testing Score:  0.9526315789473684\n"
     ]
    }
   ],
   "source": [
    "print(\"Logistic Regression with Bagging Training Score: \", bag.score(X_train, y_train))\n",
    "print(\"Logistic Regression with Bagging Testing Score: \", bag.score(X_test, y_test))"
   ]
  },
  {
   "cell_type": "code",
   "execution_count": 48,
   "metadata": {},
   "outputs": [],
   "source": [
    "report_table_6 = ['Logistic Regression with Bagging', 'max_samples: 1.0, n_estimators: 500',bag.score(X_train, y_train), bag.score(X_test, y_test)]"
   ]
  },
  {
   "cell_type": "markdown",
   "metadata": {},
   "source": [
    "## Pasting"
   ]
  },
  {
   "cell_type": "markdown",
   "metadata": {},
   "source": [
    "## Decision Tree with Pasting"
   ]
  },
  {
   "cell_type": "code",
   "execution_count": 49,
   "metadata": {},
   "outputs": [
    {
     "data": {
      "text/html": [
       "<style>#sk-container-id-10 {color: black;background-color: white;}#sk-container-id-10 pre{padding: 0;}#sk-container-id-10 div.sk-toggleable {background-color: white;}#sk-container-id-10 label.sk-toggleable__label {cursor: pointer;display: block;width: 100%;margin-bottom: 0;padding: 0.3em;box-sizing: border-box;text-align: center;}#sk-container-id-10 label.sk-toggleable__label-arrow:before {content: \"▸\";float: left;margin-right: 0.25em;color: #696969;}#sk-container-id-10 label.sk-toggleable__label-arrow:hover:before {color: black;}#sk-container-id-10 div.sk-estimator:hover label.sk-toggleable__label-arrow:before {color: black;}#sk-container-id-10 div.sk-toggleable__content {max-height: 0;max-width: 0;overflow: hidden;text-align: left;background-color: #f0f8ff;}#sk-container-id-10 div.sk-toggleable__content pre {margin: 0.2em;color: black;border-radius: 0.25em;background-color: #f0f8ff;}#sk-container-id-10 input.sk-toggleable__control:checked~div.sk-toggleable__content {max-height: 200px;max-width: 100%;overflow: auto;}#sk-container-id-10 input.sk-toggleable__control:checked~label.sk-toggleable__label-arrow:before {content: \"▾\";}#sk-container-id-10 div.sk-estimator input.sk-toggleable__control:checked~label.sk-toggleable__label {background-color: #d4ebff;}#sk-container-id-10 div.sk-label input.sk-toggleable__control:checked~label.sk-toggleable__label {background-color: #d4ebff;}#sk-container-id-10 input.sk-hidden--visually {border: 0;clip: rect(1px 1px 1px 1px);clip: rect(1px, 1px, 1px, 1px);height: 1px;margin: -1px;overflow: hidden;padding: 0;position: absolute;width: 1px;}#sk-container-id-10 div.sk-estimator {font-family: monospace;background-color: #f0f8ff;border: 1px dotted black;border-radius: 0.25em;box-sizing: border-box;margin-bottom: 0.5em;}#sk-container-id-10 div.sk-estimator:hover {background-color: #d4ebff;}#sk-container-id-10 div.sk-parallel-item::after {content: \"\";width: 100%;border-bottom: 1px solid gray;flex-grow: 1;}#sk-container-id-10 div.sk-label:hover label.sk-toggleable__label {background-color: #d4ebff;}#sk-container-id-10 div.sk-serial::before {content: \"\";position: absolute;border-left: 1px solid gray;box-sizing: border-box;top: 0;bottom: 0;left: 50%;z-index: 0;}#sk-container-id-10 div.sk-serial {display: flex;flex-direction: column;align-items: center;background-color: white;padding-right: 0.2em;padding-left: 0.2em;position: relative;}#sk-container-id-10 div.sk-item {position: relative;z-index: 1;}#sk-container-id-10 div.sk-parallel {display: flex;align-items: stretch;justify-content: center;background-color: white;position: relative;}#sk-container-id-10 div.sk-item::before, #sk-container-id-10 div.sk-parallel-item::before {content: \"\";position: absolute;border-left: 1px solid gray;box-sizing: border-box;top: 0;bottom: 0;left: 50%;z-index: -1;}#sk-container-id-10 div.sk-parallel-item {display: flex;flex-direction: column;z-index: 1;position: relative;background-color: white;}#sk-container-id-10 div.sk-parallel-item:first-child::after {align-self: flex-end;width: 50%;}#sk-container-id-10 div.sk-parallel-item:last-child::after {align-self: flex-start;width: 50%;}#sk-container-id-10 div.sk-parallel-item:only-child::after {width: 0;}#sk-container-id-10 div.sk-dashed-wrapped {border: 1px dashed gray;margin: 0 0.4em 0.5em 0.4em;box-sizing: border-box;padding-bottom: 0.4em;background-color: white;}#sk-container-id-10 div.sk-label label {font-family: monospace;font-weight: bold;display: inline-block;line-height: 1.2em;}#sk-container-id-10 div.sk-label-container {text-align: center;}#sk-container-id-10 div.sk-container {/* jupyter's `normalize.less` sets `[hidden] { display: none; }` but bootstrap.min.css set `[hidden] { display: none !important; }` so we also need the `!important` here to be able to override the default hidden behavior on the sphinx rendered scikit-learn.org. See: https://github.com/scikit-learn/scikit-learn/issues/21755 */display: inline-block !important;position: relative;}#sk-container-id-10 div.sk-text-repr-fallback {display: none;}</style><div id=\"sk-container-id-10\" class=\"sk-top-container\"><div class=\"sk-text-repr-fallback\"><pre>GridSearchCV(cv=5, estimator=DecisionTreeClassifier(random_state=0), n_jobs=-1,\n",
       "             param_grid={&#x27;max_depth&#x27;: [3, 5, 7, 9, 11, 15]})</pre><b>In a Jupyter environment, please rerun this cell to show the HTML representation or trust the notebook. <br />On GitHub, the HTML representation is unable to render, please try loading this page with nbviewer.org.</b></div><div class=\"sk-container\" hidden><div class=\"sk-item sk-dashed-wrapped\"><div class=\"sk-label-container\"><div class=\"sk-label sk-toggleable\"><input class=\"sk-toggleable__control sk-hidden--visually\" id=\"sk-estimator-id-34\" type=\"checkbox\" ><label for=\"sk-estimator-id-34\" class=\"sk-toggleable__label sk-toggleable__label-arrow\">GridSearchCV</label><div class=\"sk-toggleable__content\"><pre>GridSearchCV(cv=5, estimator=DecisionTreeClassifier(random_state=0), n_jobs=-1,\n",
       "             param_grid={&#x27;max_depth&#x27;: [3, 5, 7, 9, 11, 15]})</pre></div></div></div><div class=\"sk-parallel\"><div class=\"sk-parallel-item\"><div class=\"sk-item\"><div class=\"sk-label-container\"><div class=\"sk-label sk-toggleable\"><input class=\"sk-toggleable__control sk-hidden--visually\" id=\"sk-estimator-id-35\" type=\"checkbox\" ><label for=\"sk-estimator-id-35\" class=\"sk-toggleable__label sk-toggleable__label-arrow\">estimator: DecisionTreeClassifier</label><div class=\"sk-toggleable__content\"><pre>DecisionTreeClassifier(random_state=0)</pre></div></div></div><div class=\"sk-serial\"><div class=\"sk-item\"><div class=\"sk-estimator sk-toggleable\"><input class=\"sk-toggleable__control sk-hidden--visually\" id=\"sk-estimator-id-36\" type=\"checkbox\" ><label for=\"sk-estimator-id-36\" class=\"sk-toggleable__label sk-toggleable__label-arrow\">DecisionTreeClassifier</label><div class=\"sk-toggleable__content\"><pre>DecisionTreeClassifier(random_state=0)</pre></div></div></div></div></div></div></div></div></div></div>"
      ],
      "text/plain": [
       "GridSearchCV(cv=5, estimator=DecisionTreeClassifier(random_state=0), n_jobs=-1,\n",
       "             param_grid={'max_depth': [3, 5, 7, 9, 11, 15]})"
      ]
     },
     "execution_count": 49,
     "metadata": {},
     "output_type": "execute_result"
    }
   ],
   "source": [
    "from sklearn.tree import DecisionTreeClassifier\n",
    "\n",
    "dt = DecisionTreeClassifier(random_state = 0)\n",
    "grid_param = {'max_depth': [3, 5, 7, 9, 11, 15]}\n",
    "dt_grid = GridSearchCV(dt, grid_param, cv = 5, n_jobs = -1)\n",
    "dt_grid.fit(X_train_org, y_train)"
   ]
  },
  {
   "cell_type": "code",
   "execution_count": 50,
   "metadata": {},
   "outputs": [
    {
     "name": "stdout",
     "output_type": "stream",
     "text": [
      "Best Parameters for Decision Tree Classifier:  {'max_depth': 9}\n"
     ]
    }
   ],
   "source": [
    "print(\"Best Parameters for Decision Tree Classifier: \", dt_grid.best_params_)"
   ]
  },
  {
   "cell_type": "code",
   "execution_count": 51,
   "metadata": {},
   "outputs": [
    {
     "data": {
      "text/html": [
       "<style>#sk-container-id-11 {color: black;background-color: white;}#sk-container-id-11 pre{padding: 0;}#sk-container-id-11 div.sk-toggleable {background-color: white;}#sk-container-id-11 label.sk-toggleable__label {cursor: pointer;display: block;width: 100%;margin-bottom: 0;padding: 0.3em;box-sizing: border-box;text-align: center;}#sk-container-id-11 label.sk-toggleable__label-arrow:before {content: \"▸\";float: left;margin-right: 0.25em;color: #696969;}#sk-container-id-11 label.sk-toggleable__label-arrow:hover:before {color: black;}#sk-container-id-11 div.sk-estimator:hover label.sk-toggleable__label-arrow:before {color: black;}#sk-container-id-11 div.sk-toggleable__content {max-height: 0;max-width: 0;overflow: hidden;text-align: left;background-color: #f0f8ff;}#sk-container-id-11 div.sk-toggleable__content pre {margin: 0.2em;color: black;border-radius: 0.25em;background-color: #f0f8ff;}#sk-container-id-11 input.sk-toggleable__control:checked~div.sk-toggleable__content {max-height: 200px;max-width: 100%;overflow: auto;}#sk-container-id-11 input.sk-toggleable__control:checked~label.sk-toggleable__label-arrow:before {content: \"▾\";}#sk-container-id-11 div.sk-estimator input.sk-toggleable__control:checked~label.sk-toggleable__label {background-color: #d4ebff;}#sk-container-id-11 div.sk-label input.sk-toggleable__control:checked~label.sk-toggleable__label {background-color: #d4ebff;}#sk-container-id-11 input.sk-hidden--visually {border: 0;clip: rect(1px 1px 1px 1px);clip: rect(1px, 1px, 1px, 1px);height: 1px;margin: -1px;overflow: hidden;padding: 0;position: absolute;width: 1px;}#sk-container-id-11 div.sk-estimator {font-family: monospace;background-color: #f0f8ff;border: 1px dotted black;border-radius: 0.25em;box-sizing: border-box;margin-bottom: 0.5em;}#sk-container-id-11 div.sk-estimator:hover {background-color: #d4ebff;}#sk-container-id-11 div.sk-parallel-item::after {content: \"\";width: 100%;border-bottom: 1px solid gray;flex-grow: 1;}#sk-container-id-11 div.sk-label:hover label.sk-toggleable__label {background-color: #d4ebff;}#sk-container-id-11 div.sk-serial::before {content: \"\";position: absolute;border-left: 1px solid gray;box-sizing: border-box;top: 0;bottom: 0;left: 50%;z-index: 0;}#sk-container-id-11 div.sk-serial {display: flex;flex-direction: column;align-items: center;background-color: white;padding-right: 0.2em;padding-left: 0.2em;position: relative;}#sk-container-id-11 div.sk-item {position: relative;z-index: 1;}#sk-container-id-11 div.sk-parallel {display: flex;align-items: stretch;justify-content: center;background-color: white;position: relative;}#sk-container-id-11 div.sk-item::before, #sk-container-id-11 div.sk-parallel-item::before {content: \"\";position: absolute;border-left: 1px solid gray;box-sizing: border-box;top: 0;bottom: 0;left: 50%;z-index: -1;}#sk-container-id-11 div.sk-parallel-item {display: flex;flex-direction: column;z-index: 1;position: relative;background-color: white;}#sk-container-id-11 div.sk-parallel-item:first-child::after {align-self: flex-end;width: 50%;}#sk-container-id-11 div.sk-parallel-item:last-child::after {align-self: flex-start;width: 50%;}#sk-container-id-11 div.sk-parallel-item:only-child::after {width: 0;}#sk-container-id-11 div.sk-dashed-wrapped {border: 1px dashed gray;margin: 0 0.4em 0.5em 0.4em;box-sizing: border-box;padding-bottom: 0.4em;background-color: white;}#sk-container-id-11 div.sk-label label {font-family: monospace;font-weight: bold;display: inline-block;line-height: 1.2em;}#sk-container-id-11 div.sk-label-container {text-align: center;}#sk-container-id-11 div.sk-container {/* jupyter's `normalize.less` sets `[hidden] { display: none; }` but bootstrap.min.css set `[hidden] { display: none !important; }` so we also need the `!important` here to be able to override the default hidden behavior on the sphinx rendered scikit-learn.org. See: https://github.com/scikit-learn/scikit-learn/issues/21755 */display: inline-block !important;position: relative;}#sk-container-id-11 div.sk-text-repr-fallback {display: none;}</style><div id=\"sk-container-id-11\" class=\"sk-top-container\"><div class=\"sk-text-repr-fallback\"><pre>GridSearchCV(cv=5,\n",
       "             estimator=BaggingClassifier(estimator=DecisionTreeClassifier(max_depth=9,\n",
       "                                                                          random_state=0),\n",
       "                                         random_state=0),\n",
       "             n_jobs=-1,\n",
       "             param_grid={&#x27;max_samples&#x27;: [0.1, 0.5, 1.0],\n",
       "                         &#x27;n_estimators&#x27;: [100, 500, 1000]},\n",
       "             return_train_score=True)</pre><b>In a Jupyter environment, please rerun this cell to show the HTML representation or trust the notebook. <br />On GitHub, the HTML representation is unable to render, please try loading this page with nbviewer.org.</b></div><div class=\"sk-container\" hidden><div class=\"sk-item sk-dashed-wrapped\"><div class=\"sk-label-container\"><div class=\"sk-label sk-toggleable\"><input class=\"sk-toggleable__control sk-hidden--visually\" id=\"sk-estimator-id-37\" type=\"checkbox\" ><label for=\"sk-estimator-id-37\" class=\"sk-toggleable__label sk-toggleable__label-arrow\">GridSearchCV</label><div class=\"sk-toggleable__content\"><pre>GridSearchCV(cv=5,\n",
       "             estimator=BaggingClassifier(estimator=DecisionTreeClassifier(max_depth=9,\n",
       "                                                                          random_state=0),\n",
       "                                         random_state=0),\n",
       "             n_jobs=-1,\n",
       "             param_grid={&#x27;max_samples&#x27;: [0.1, 0.5, 1.0],\n",
       "                         &#x27;n_estimators&#x27;: [100, 500, 1000]},\n",
       "             return_train_score=True)</pre></div></div></div><div class=\"sk-parallel\"><div class=\"sk-parallel-item\"><div class=\"sk-item\"><div class=\"sk-label-container\"><div class=\"sk-label sk-toggleable\"><input class=\"sk-toggleable__control sk-hidden--visually\" id=\"sk-estimator-id-38\" type=\"checkbox\" ><label for=\"sk-estimator-id-38\" class=\"sk-toggleable__label sk-toggleable__label-arrow\">estimator: BaggingClassifier</label><div class=\"sk-toggleable__content\"><pre>BaggingClassifier(estimator=DecisionTreeClassifier(max_depth=9, random_state=0),\n",
       "                  random_state=0)</pre></div></div></div><div class=\"sk-serial\"><div class=\"sk-item sk-dashed-wrapped\"><div class=\"sk-parallel\"><div class=\"sk-parallel-item\"><div class=\"sk-item\"><div class=\"sk-label-container\"><div class=\"sk-label sk-toggleable\"><input class=\"sk-toggleable__control sk-hidden--visually\" id=\"sk-estimator-id-39\" type=\"checkbox\" ><label for=\"sk-estimator-id-39\" class=\"sk-toggleable__label sk-toggleable__label-arrow\">estimator: DecisionTreeClassifier</label><div class=\"sk-toggleable__content\"><pre>DecisionTreeClassifier(max_depth=9, random_state=0)</pre></div></div></div><div class=\"sk-serial\"><div class=\"sk-item\"><div class=\"sk-estimator sk-toggleable\"><input class=\"sk-toggleable__control sk-hidden--visually\" id=\"sk-estimator-id-40\" type=\"checkbox\" ><label for=\"sk-estimator-id-40\" class=\"sk-toggleable__label sk-toggleable__label-arrow\">DecisionTreeClassifier</label><div class=\"sk-toggleable__content\"><pre>DecisionTreeClassifier(max_depth=9, random_state=0)</pre></div></div></div></div></div></div></div></div></div></div></div></div></div></div></div>"
      ],
      "text/plain": [
       "GridSearchCV(cv=5,\n",
       "             estimator=BaggingClassifier(estimator=DecisionTreeClassifier(max_depth=9,\n",
       "                                                                          random_state=0),\n",
       "                                         random_state=0),\n",
       "             n_jobs=-1,\n",
       "             param_grid={'max_samples': [0.1, 0.5, 1.0],\n",
       "                         'n_estimators': [100, 500, 1000]},\n",
       "             return_train_score=True)"
      ]
     },
     "execution_count": 51,
     "metadata": {},
     "output_type": "execute_result"
    }
   ],
   "source": [
    "#base model\n",
    "dt = DecisionTreeClassifier(max_depth = 9, random_state=0)\n",
    "bag = BaggingClassifier(dt, random_state = 0)\n",
    "#model param\n",
    "grid_param = {'n_estimators': [100, 500, 1000],\n",
    "              'max_samples': [0.1, 0.5, 1.0]}\n",
    "\n",
    "#grid model\n",
    "bag_dt_grid = GridSearchCV(bag, grid_param, cv = 5, n_jobs = -1, return_train_score= True)\n",
    "\n",
    "#train grid model\n",
    "bag_dt_grid.fit(X_train_org, y_train)"
   ]
  },
  {
   "cell_type": "code",
   "execution_count": 52,
   "metadata": {},
   "outputs": [
    {
     "name": "stdout",
     "output_type": "stream",
     "text": [
      "Best Parameters for Bagging Classifier with Pasting:  {'max_samples': 1.0, 'n_estimators': 100}\n"
     ]
    }
   ],
   "source": [
    "print(\"Best Parameters for Bagging Classifier with Pasting: \", bag_dt_grid.best_params_)"
   ]
  },
  {
   "cell_type": "code",
   "execution_count": 53,
   "metadata": {},
   "outputs": [
    {
     "data": {
      "text/html": [
       "<style>#sk-container-id-12 {color: black;background-color: white;}#sk-container-id-12 pre{padding: 0;}#sk-container-id-12 div.sk-toggleable {background-color: white;}#sk-container-id-12 label.sk-toggleable__label {cursor: pointer;display: block;width: 100%;margin-bottom: 0;padding: 0.3em;box-sizing: border-box;text-align: center;}#sk-container-id-12 label.sk-toggleable__label-arrow:before {content: \"▸\";float: left;margin-right: 0.25em;color: #696969;}#sk-container-id-12 label.sk-toggleable__label-arrow:hover:before {color: black;}#sk-container-id-12 div.sk-estimator:hover label.sk-toggleable__label-arrow:before {color: black;}#sk-container-id-12 div.sk-toggleable__content {max-height: 0;max-width: 0;overflow: hidden;text-align: left;background-color: #f0f8ff;}#sk-container-id-12 div.sk-toggleable__content pre {margin: 0.2em;color: black;border-radius: 0.25em;background-color: #f0f8ff;}#sk-container-id-12 input.sk-toggleable__control:checked~div.sk-toggleable__content {max-height: 200px;max-width: 100%;overflow: auto;}#sk-container-id-12 input.sk-toggleable__control:checked~label.sk-toggleable__label-arrow:before {content: \"▾\";}#sk-container-id-12 div.sk-estimator input.sk-toggleable__control:checked~label.sk-toggleable__label {background-color: #d4ebff;}#sk-container-id-12 div.sk-label input.sk-toggleable__control:checked~label.sk-toggleable__label {background-color: #d4ebff;}#sk-container-id-12 input.sk-hidden--visually {border: 0;clip: rect(1px 1px 1px 1px);clip: rect(1px, 1px, 1px, 1px);height: 1px;margin: -1px;overflow: hidden;padding: 0;position: absolute;width: 1px;}#sk-container-id-12 div.sk-estimator {font-family: monospace;background-color: #f0f8ff;border: 1px dotted black;border-radius: 0.25em;box-sizing: border-box;margin-bottom: 0.5em;}#sk-container-id-12 div.sk-estimator:hover {background-color: #d4ebff;}#sk-container-id-12 div.sk-parallel-item::after {content: \"\";width: 100%;border-bottom: 1px solid gray;flex-grow: 1;}#sk-container-id-12 div.sk-label:hover label.sk-toggleable__label {background-color: #d4ebff;}#sk-container-id-12 div.sk-serial::before {content: \"\";position: absolute;border-left: 1px solid gray;box-sizing: border-box;top: 0;bottom: 0;left: 50%;z-index: 0;}#sk-container-id-12 div.sk-serial {display: flex;flex-direction: column;align-items: center;background-color: white;padding-right: 0.2em;padding-left: 0.2em;position: relative;}#sk-container-id-12 div.sk-item {position: relative;z-index: 1;}#sk-container-id-12 div.sk-parallel {display: flex;align-items: stretch;justify-content: center;background-color: white;position: relative;}#sk-container-id-12 div.sk-item::before, #sk-container-id-12 div.sk-parallel-item::before {content: \"\";position: absolute;border-left: 1px solid gray;box-sizing: border-box;top: 0;bottom: 0;left: 50%;z-index: -1;}#sk-container-id-12 div.sk-parallel-item {display: flex;flex-direction: column;z-index: 1;position: relative;background-color: white;}#sk-container-id-12 div.sk-parallel-item:first-child::after {align-self: flex-end;width: 50%;}#sk-container-id-12 div.sk-parallel-item:last-child::after {align-self: flex-start;width: 50%;}#sk-container-id-12 div.sk-parallel-item:only-child::after {width: 0;}#sk-container-id-12 div.sk-dashed-wrapped {border: 1px dashed gray;margin: 0 0.4em 0.5em 0.4em;box-sizing: border-box;padding-bottom: 0.4em;background-color: white;}#sk-container-id-12 div.sk-label label {font-family: monospace;font-weight: bold;display: inline-block;line-height: 1.2em;}#sk-container-id-12 div.sk-label-container {text-align: center;}#sk-container-id-12 div.sk-container {/* jupyter's `normalize.less` sets `[hidden] { display: none; }` but bootstrap.min.css set `[hidden] { display: none !important; }` so we also need the `!important` here to be able to override the default hidden behavior on the sphinx rendered scikit-learn.org. See: https://github.com/scikit-learn/scikit-learn/issues/21755 */display: inline-block !important;position: relative;}#sk-container-id-12 div.sk-text-repr-fallback {display: none;}</style><div id=\"sk-container-id-12\" class=\"sk-top-container\"><div class=\"sk-text-repr-fallback\"><pre>BaggingClassifier(bootstrap=False,\n",
       "                  estimator=DecisionTreeClassifier(max_depth=9, random_state=0),\n",
       "                  n_estimators=100, n_jobs=-1, random_state=0)</pre><b>In a Jupyter environment, please rerun this cell to show the HTML representation or trust the notebook. <br />On GitHub, the HTML representation is unable to render, please try loading this page with nbviewer.org.</b></div><div class=\"sk-container\" hidden><div class=\"sk-item sk-dashed-wrapped\"><div class=\"sk-label-container\"><div class=\"sk-label sk-toggleable\"><input class=\"sk-toggleable__control sk-hidden--visually\" id=\"sk-estimator-id-41\" type=\"checkbox\" ><label for=\"sk-estimator-id-41\" class=\"sk-toggleable__label sk-toggleable__label-arrow\">BaggingClassifier</label><div class=\"sk-toggleable__content\"><pre>BaggingClassifier(bootstrap=False,\n",
       "                  estimator=DecisionTreeClassifier(max_depth=9, random_state=0),\n",
       "                  n_estimators=100, n_jobs=-1, random_state=0)</pre></div></div></div><div class=\"sk-parallel\"><div class=\"sk-parallel-item\"><div class=\"sk-item\"><div class=\"sk-label-container\"><div class=\"sk-label sk-toggleable\"><input class=\"sk-toggleable__control sk-hidden--visually\" id=\"sk-estimator-id-42\" type=\"checkbox\" ><label for=\"sk-estimator-id-42\" class=\"sk-toggleable__label sk-toggleable__label-arrow\">estimator: DecisionTreeClassifier</label><div class=\"sk-toggleable__content\"><pre>DecisionTreeClassifier(max_depth=9, random_state=0)</pre></div></div></div><div class=\"sk-serial\"><div class=\"sk-item\"><div class=\"sk-estimator sk-toggleable\"><input class=\"sk-toggleable__control sk-hidden--visually\" id=\"sk-estimator-id-43\" type=\"checkbox\" ><label for=\"sk-estimator-id-43\" class=\"sk-toggleable__label sk-toggleable__label-arrow\">DecisionTreeClassifier</label><div class=\"sk-toggleable__content\"><pre>DecisionTreeClassifier(max_depth=9, random_state=0)</pre></div></div></div></div></div></div></div></div></div></div>"
      ],
      "text/plain": [
       "BaggingClassifier(bootstrap=False,\n",
       "                  estimator=DecisionTreeClassifier(max_depth=9, random_state=0),\n",
       "                  n_estimators=100, n_jobs=-1, random_state=0)"
      ]
     },
     "execution_count": 53,
     "metadata": {},
     "output_type": "execute_result"
    }
   ],
   "source": [
    "bag = BaggingClassifier(dt, n_estimators=100, max_samples=1.0, n_jobs = -1, bootstrap=False, random_state=0)\n",
    "bag.fit(X_train_org, y_train)"
   ]
  },
  {
   "cell_type": "code",
   "execution_count": 54,
   "metadata": {
    "scrolled": true
   },
   "outputs": [
    {
     "name": "stdout",
     "output_type": "stream",
     "text": [
      "Decision Tree Classifier with Pasting Training Score:  1.0\n",
      "Decision Tree Classifier with Pasting Testing Score:  0.9842105263157894\n"
     ]
    }
   ],
   "source": [
    "print(\"Decision Tree Classifier with Pasting Training Score: \", bag.score(X_train_org, y_train))\n",
    "print(\"Decision Tree Classifier with Pasting Testing Score: \", bag.score(X_test_org, y_test))"
   ]
  },
  {
   "cell_type": "code",
   "execution_count": 55,
   "metadata": {},
   "outputs": [],
   "source": [
    "report_table_7 = ['Decision Tree Classifier with Pasting', 'max_depth: 9, max_samples: 1.0, n_estimators: 100',bag.score(X_train_org, y_train), bag.score(X_test_org, y_test)]"
   ]
  },
  {
   "cell_type": "markdown",
   "metadata": {},
   "source": [
    "## Linear SVC with Pasting"
   ]
  },
  {
   "cell_type": "code",
   "execution_count": 56,
   "metadata": {},
   "outputs": [
    {
     "data": {
      "text/html": [
       "<style>#sk-container-id-13 {color: black;background-color: white;}#sk-container-id-13 pre{padding: 0;}#sk-container-id-13 div.sk-toggleable {background-color: white;}#sk-container-id-13 label.sk-toggleable__label {cursor: pointer;display: block;width: 100%;margin-bottom: 0;padding: 0.3em;box-sizing: border-box;text-align: center;}#sk-container-id-13 label.sk-toggleable__label-arrow:before {content: \"▸\";float: left;margin-right: 0.25em;color: #696969;}#sk-container-id-13 label.sk-toggleable__label-arrow:hover:before {color: black;}#sk-container-id-13 div.sk-estimator:hover label.sk-toggleable__label-arrow:before {color: black;}#sk-container-id-13 div.sk-toggleable__content {max-height: 0;max-width: 0;overflow: hidden;text-align: left;background-color: #f0f8ff;}#sk-container-id-13 div.sk-toggleable__content pre {margin: 0.2em;color: black;border-radius: 0.25em;background-color: #f0f8ff;}#sk-container-id-13 input.sk-toggleable__control:checked~div.sk-toggleable__content {max-height: 200px;max-width: 100%;overflow: auto;}#sk-container-id-13 input.sk-toggleable__control:checked~label.sk-toggleable__label-arrow:before {content: \"▾\";}#sk-container-id-13 div.sk-estimator input.sk-toggleable__control:checked~label.sk-toggleable__label {background-color: #d4ebff;}#sk-container-id-13 div.sk-label input.sk-toggleable__control:checked~label.sk-toggleable__label {background-color: #d4ebff;}#sk-container-id-13 input.sk-hidden--visually {border: 0;clip: rect(1px 1px 1px 1px);clip: rect(1px, 1px, 1px, 1px);height: 1px;margin: -1px;overflow: hidden;padding: 0;position: absolute;width: 1px;}#sk-container-id-13 div.sk-estimator {font-family: monospace;background-color: #f0f8ff;border: 1px dotted black;border-radius: 0.25em;box-sizing: border-box;margin-bottom: 0.5em;}#sk-container-id-13 div.sk-estimator:hover {background-color: #d4ebff;}#sk-container-id-13 div.sk-parallel-item::after {content: \"\";width: 100%;border-bottom: 1px solid gray;flex-grow: 1;}#sk-container-id-13 div.sk-label:hover label.sk-toggleable__label {background-color: #d4ebff;}#sk-container-id-13 div.sk-serial::before {content: \"\";position: absolute;border-left: 1px solid gray;box-sizing: border-box;top: 0;bottom: 0;left: 50%;z-index: 0;}#sk-container-id-13 div.sk-serial {display: flex;flex-direction: column;align-items: center;background-color: white;padding-right: 0.2em;padding-left: 0.2em;position: relative;}#sk-container-id-13 div.sk-item {position: relative;z-index: 1;}#sk-container-id-13 div.sk-parallel {display: flex;align-items: stretch;justify-content: center;background-color: white;position: relative;}#sk-container-id-13 div.sk-item::before, #sk-container-id-13 div.sk-parallel-item::before {content: \"\";position: absolute;border-left: 1px solid gray;box-sizing: border-box;top: 0;bottom: 0;left: 50%;z-index: -1;}#sk-container-id-13 div.sk-parallel-item {display: flex;flex-direction: column;z-index: 1;position: relative;background-color: white;}#sk-container-id-13 div.sk-parallel-item:first-child::after {align-self: flex-end;width: 50%;}#sk-container-id-13 div.sk-parallel-item:last-child::after {align-self: flex-start;width: 50%;}#sk-container-id-13 div.sk-parallel-item:only-child::after {width: 0;}#sk-container-id-13 div.sk-dashed-wrapped {border: 1px dashed gray;margin: 0 0.4em 0.5em 0.4em;box-sizing: border-box;padding-bottom: 0.4em;background-color: white;}#sk-container-id-13 div.sk-label label {font-family: monospace;font-weight: bold;display: inline-block;line-height: 1.2em;}#sk-container-id-13 div.sk-label-container {text-align: center;}#sk-container-id-13 div.sk-container {/* jupyter's `normalize.less` sets `[hidden] { display: none; }` but bootstrap.min.css set `[hidden] { display: none !important; }` so we also need the `!important` here to be able to override the default hidden behavior on the sphinx rendered scikit-learn.org. See: https://github.com/scikit-learn/scikit-learn/issues/21755 */display: inline-block !important;position: relative;}#sk-container-id-13 div.sk-text-repr-fallback {display: none;}</style><div id=\"sk-container-id-13\" class=\"sk-top-container\"><div class=\"sk-text-repr-fallback\"><pre>GridSearchCV(cv=5, estimator=LinearSVC(random_state=0),\n",
       "             param_grid={&#x27;C&#x27;: [1, 10, 100, 1000]})</pre><b>In a Jupyter environment, please rerun this cell to show the HTML representation or trust the notebook. <br />On GitHub, the HTML representation is unable to render, please try loading this page with nbviewer.org.</b></div><div class=\"sk-container\" hidden><div class=\"sk-item sk-dashed-wrapped\"><div class=\"sk-label-container\"><div class=\"sk-label sk-toggleable\"><input class=\"sk-toggleable__control sk-hidden--visually\" id=\"sk-estimator-id-44\" type=\"checkbox\" ><label for=\"sk-estimator-id-44\" class=\"sk-toggleable__label sk-toggleable__label-arrow\">GridSearchCV</label><div class=\"sk-toggleable__content\"><pre>GridSearchCV(cv=5, estimator=LinearSVC(random_state=0),\n",
       "             param_grid={&#x27;C&#x27;: [1, 10, 100, 1000]})</pre></div></div></div><div class=\"sk-parallel\"><div class=\"sk-parallel-item\"><div class=\"sk-item\"><div class=\"sk-label-container\"><div class=\"sk-label sk-toggleable\"><input class=\"sk-toggleable__control sk-hidden--visually\" id=\"sk-estimator-id-45\" type=\"checkbox\" ><label for=\"sk-estimator-id-45\" class=\"sk-toggleable__label sk-toggleable__label-arrow\">estimator: LinearSVC</label><div class=\"sk-toggleable__content\"><pre>LinearSVC(random_state=0)</pre></div></div></div><div class=\"sk-serial\"><div class=\"sk-item\"><div class=\"sk-estimator sk-toggleable\"><input class=\"sk-toggleable__control sk-hidden--visually\" id=\"sk-estimator-id-46\" type=\"checkbox\" ><label for=\"sk-estimator-id-46\" class=\"sk-toggleable__label sk-toggleable__label-arrow\">LinearSVC</label><div class=\"sk-toggleable__content\"><pre>LinearSVC(random_state=0)</pre></div></div></div></div></div></div></div></div></div></div>"
      ],
      "text/plain": [
       "GridSearchCV(cv=5, estimator=LinearSVC(random_state=0),\n",
       "             param_grid={'C': [1, 10, 100, 1000]})"
      ]
     },
     "execution_count": 56,
     "metadata": {},
     "output_type": "execute_result"
    }
   ],
   "source": [
    "from sklearn.svm import LinearSVC\n",
    "svc = LinearSVC(penalty = 'l2', random_state=0)\n",
    "grid_param = {'C':[1, 10, 100, 1000]}\n",
    "svc_grid = GridSearchCV(svc, grid_param, cv = 5)\n",
    "svc_grid.fit(X_train, y_train)"
   ]
  },
  {
   "cell_type": "code",
   "execution_count": 57,
   "metadata": {},
   "outputs": [
    {
     "name": "stdout",
     "output_type": "stream",
     "text": [
      "Best Parameters for Linear SVC:  {'C': 100}\n"
     ]
    }
   ],
   "source": [
    "print(\"Best Parameters for Linear SVC: \", svc_grid.best_params_)"
   ]
  },
  {
   "cell_type": "code",
   "execution_count": 58,
   "metadata": {},
   "outputs": [
    {
     "data": {
      "text/html": [
       "<style>#sk-container-id-14 {color: black;background-color: white;}#sk-container-id-14 pre{padding: 0;}#sk-container-id-14 div.sk-toggleable {background-color: white;}#sk-container-id-14 label.sk-toggleable__label {cursor: pointer;display: block;width: 100%;margin-bottom: 0;padding: 0.3em;box-sizing: border-box;text-align: center;}#sk-container-id-14 label.sk-toggleable__label-arrow:before {content: \"▸\";float: left;margin-right: 0.25em;color: #696969;}#sk-container-id-14 label.sk-toggleable__label-arrow:hover:before {color: black;}#sk-container-id-14 div.sk-estimator:hover label.sk-toggleable__label-arrow:before {color: black;}#sk-container-id-14 div.sk-toggleable__content {max-height: 0;max-width: 0;overflow: hidden;text-align: left;background-color: #f0f8ff;}#sk-container-id-14 div.sk-toggleable__content pre {margin: 0.2em;color: black;border-radius: 0.25em;background-color: #f0f8ff;}#sk-container-id-14 input.sk-toggleable__control:checked~div.sk-toggleable__content {max-height: 200px;max-width: 100%;overflow: auto;}#sk-container-id-14 input.sk-toggleable__control:checked~label.sk-toggleable__label-arrow:before {content: \"▾\";}#sk-container-id-14 div.sk-estimator input.sk-toggleable__control:checked~label.sk-toggleable__label {background-color: #d4ebff;}#sk-container-id-14 div.sk-label input.sk-toggleable__control:checked~label.sk-toggleable__label {background-color: #d4ebff;}#sk-container-id-14 input.sk-hidden--visually {border: 0;clip: rect(1px 1px 1px 1px);clip: rect(1px, 1px, 1px, 1px);height: 1px;margin: -1px;overflow: hidden;padding: 0;position: absolute;width: 1px;}#sk-container-id-14 div.sk-estimator {font-family: monospace;background-color: #f0f8ff;border: 1px dotted black;border-radius: 0.25em;box-sizing: border-box;margin-bottom: 0.5em;}#sk-container-id-14 div.sk-estimator:hover {background-color: #d4ebff;}#sk-container-id-14 div.sk-parallel-item::after {content: \"\";width: 100%;border-bottom: 1px solid gray;flex-grow: 1;}#sk-container-id-14 div.sk-label:hover label.sk-toggleable__label {background-color: #d4ebff;}#sk-container-id-14 div.sk-serial::before {content: \"\";position: absolute;border-left: 1px solid gray;box-sizing: border-box;top: 0;bottom: 0;left: 50%;z-index: 0;}#sk-container-id-14 div.sk-serial {display: flex;flex-direction: column;align-items: center;background-color: white;padding-right: 0.2em;padding-left: 0.2em;position: relative;}#sk-container-id-14 div.sk-item {position: relative;z-index: 1;}#sk-container-id-14 div.sk-parallel {display: flex;align-items: stretch;justify-content: center;background-color: white;position: relative;}#sk-container-id-14 div.sk-item::before, #sk-container-id-14 div.sk-parallel-item::before {content: \"\";position: absolute;border-left: 1px solid gray;box-sizing: border-box;top: 0;bottom: 0;left: 50%;z-index: -1;}#sk-container-id-14 div.sk-parallel-item {display: flex;flex-direction: column;z-index: 1;position: relative;background-color: white;}#sk-container-id-14 div.sk-parallel-item:first-child::after {align-self: flex-end;width: 50%;}#sk-container-id-14 div.sk-parallel-item:last-child::after {align-self: flex-start;width: 50%;}#sk-container-id-14 div.sk-parallel-item:only-child::after {width: 0;}#sk-container-id-14 div.sk-dashed-wrapped {border: 1px dashed gray;margin: 0 0.4em 0.5em 0.4em;box-sizing: border-box;padding-bottom: 0.4em;background-color: white;}#sk-container-id-14 div.sk-label label {font-family: monospace;font-weight: bold;display: inline-block;line-height: 1.2em;}#sk-container-id-14 div.sk-label-container {text-align: center;}#sk-container-id-14 div.sk-container {/* jupyter's `normalize.less` sets `[hidden] { display: none; }` but bootstrap.min.css set `[hidden] { display: none !important; }` so we also need the `!important` here to be able to override the default hidden behavior on the sphinx rendered scikit-learn.org. See: https://github.com/scikit-learn/scikit-learn/issues/21755 */display: inline-block !important;position: relative;}#sk-container-id-14 div.sk-text-repr-fallback {display: none;}</style><div id=\"sk-container-id-14\" class=\"sk-top-container\"><div class=\"sk-text-repr-fallback\"><pre>GridSearchCV(cv=5,\n",
       "             estimator=BaggingClassifier(estimator=LinearSVC(C=100,\n",
       "                                                             random_state=0),\n",
       "                                         random_state=0),\n",
       "             n_jobs=-1,\n",
       "             param_grid={&#x27;max_samples&#x27;: [0.1, 0.5, 1.0],\n",
       "                         &#x27;n_estimators&#x27;: [100, 500, 1000]},\n",
       "             return_train_score=True)</pre><b>In a Jupyter environment, please rerun this cell to show the HTML representation or trust the notebook. <br />On GitHub, the HTML representation is unable to render, please try loading this page with nbviewer.org.</b></div><div class=\"sk-container\" hidden><div class=\"sk-item sk-dashed-wrapped\"><div class=\"sk-label-container\"><div class=\"sk-label sk-toggleable\"><input class=\"sk-toggleable__control sk-hidden--visually\" id=\"sk-estimator-id-47\" type=\"checkbox\" ><label for=\"sk-estimator-id-47\" class=\"sk-toggleable__label sk-toggleable__label-arrow\">GridSearchCV</label><div class=\"sk-toggleable__content\"><pre>GridSearchCV(cv=5,\n",
       "             estimator=BaggingClassifier(estimator=LinearSVC(C=100,\n",
       "                                                             random_state=0),\n",
       "                                         random_state=0),\n",
       "             n_jobs=-1,\n",
       "             param_grid={&#x27;max_samples&#x27;: [0.1, 0.5, 1.0],\n",
       "                         &#x27;n_estimators&#x27;: [100, 500, 1000]},\n",
       "             return_train_score=True)</pre></div></div></div><div class=\"sk-parallel\"><div class=\"sk-parallel-item\"><div class=\"sk-item\"><div class=\"sk-label-container\"><div class=\"sk-label sk-toggleable\"><input class=\"sk-toggleable__control sk-hidden--visually\" id=\"sk-estimator-id-48\" type=\"checkbox\" ><label for=\"sk-estimator-id-48\" class=\"sk-toggleable__label sk-toggleable__label-arrow\">estimator: BaggingClassifier</label><div class=\"sk-toggleable__content\"><pre>BaggingClassifier(estimator=LinearSVC(C=100, random_state=0), random_state=0)</pre></div></div></div><div class=\"sk-serial\"><div class=\"sk-item sk-dashed-wrapped\"><div class=\"sk-parallel\"><div class=\"sk-parallel-item\"><div class=\"sk-item\"><div class=\"sk-label-container\"><div class=\"sk-label sk-toggleable\"><input class=\"sk-toggleable__control sk-hidden--visually\" id=\"sk-estimator-id-49\" type=\"checkbox\" ><label for=\"sk-estimator-id-49\" class=\"sk-toggleable__label sk-toggleable__label-arrow\">estimator: LinearSVC</label><div class=\"sk-toggleable__content\"><pre>LinearSVC(C=100, random_state=0)</pre></div></div></div><div class=\"sk-serial\"><div class=\"sk-item\"><div class=\"sk-estimator sk-toggleable\"><input class=\"sk-toggleable__control sk-hidden--visually\" id=\"sk-estimator-id-50\" type=\"checkbox\" ><label for=\"sk-estimator-id-50\" class=\"sk-toggleable__label sk-toggleable__label-arrow\">LinearSVC</label><div class=\"sk-toggleable__content\"><pre>LinearSVC(C=100, random_state=0)</pre></div></div></div></div></div></div></div></div></div></div></div></div></div></div></div>"
      ],
      "text/plain": [
       "GridSearchCV(cv=5,\n",
       "             estimator=BaggingClassifier(estimator=LinearSVC(C=100,\n",
       "                                                             random_state=0),\n",
       "                                         random_state=0),\n",
       "             n_jobs=-1,\n",
       "             param_grid={'max_samples': [0.1, 0.5, 1.0],\n",
       "                         'n_estimators': [100, 500, 1000]},\n",
       "             return_train_score=True)"
      ]
     },
     "execution_count": 58,
     "metadata": {},
     "output_type": "execute_result"
    }
   ],
   "source": [
    "#base model\n",
    "svc = LinearSVC(C = 100, penalty = 'l2', random_state=0)\n",
    "bag = BaggingClassifier(svc, random_state = 0)\n",
    "#model param\n",
    "grid_param = {'n_estimators': [100, 500, 1000],\n",
    "              'max_samples': [0.1, 0.5, 1.0]}\n",
    "\n",
    "#grid model\n",
    "bag_svc_grid = GridSearchCV(bag, grid_param, cv = 5, n_jobs = -1, return_train_score= True)\n",
    "\n",
    "#train grid model\n",
    "bag_svc_grid.fit(X_train, y_train)"
   ]
  },
  {
   "cell_type": "code",
   "execution_count": 59,
   "metadata": {},
   "outputs": [
    {
     "name": "stdout",
     "output_type": "stream",
     "text": [
      "Best Parameters for Bagging Classifier with Pasting:  {'max_samples': 1.0, 'n_estimators': 100}\n"
     ]
    }
   ],
   "source": [
    "print(\"Best Parameters for Bagging Classifier with Pasting: \", bag_svc_grid.best_params_)"
   ]
  },
  {
   "cell_type": "code",
   "execution_count": 60,
   "metadata": {},
   "outputs": [
    {
     "data": {
      "text/html": [
       "<style>#sk-container-id-15 {color: black;background-color: white;}#sk-container-id-15 pre{padding: 0;}#sk-container-id-15 div.sk-toggleable {background-color: white;}#sk-container-id-15 label.sk-toggleable__label {cursor: pointer;display: block;width: 100%;margin-bottom: 0;padding: 0.3em;box-sizing: border-box;text-align: center;}#sk-container-id-15 label.sk-toggleable__label-arrow:before {content: \"▸\";float: left;margin-right: 0.25em;color: #696969;}#sk-container-id-15 label.sk-toggleable__label-arrow:hover:before {color: black;}#sk-container-id-15 div.sk-estimator:hover label.sk-toggleable__label-arrow:before {color: black;}#sk-container-id-15 div.sk-toggleable__content {max-height: 0;max-width: 0;overflow: hidden;text-align: left;background-color: #f0f8ff;}#sk-container-id-15 div.sk-toggleable__content pre {margin: 0.2em;color: black;border-radius: 0.25em;background-color: #f0f8ff;}#sk-container-id-15 input.sk-toggleable__control:checked~div.sk-toggleable__content {max-height: 200px;max-width: 100%;overflow: auto;}#sk-container-id-15 input.sk-toggleable__control:checked~label.sk-toggleable__label-arrow:before {content: \"▾\";}#sk-container-id-15 div.sk-estimator input.sk-toggleable__control:checked~label.sk-toggleable__label {background-color: #d4ebff;}#sk-container-id-15 div.sk-label input.sk-toggleable__control:checked~label.sk-toggleable__label {background-color: #d4ebff;}#sk-container-id-15 input.sk-hidden--visually {border: 0;clip: rect(1px 1px 1px 1px);clip: rect(1px, 1px, 1px, 1px);height: 1px;margin: -1px;overflow: hidden;padding: 0;position: absolute;width: 1px;}#sk-container-id-15 div.sk-estimator {font-family: monospace;background-color: #f0f8ff;border: 1px dotted black;border-radius: 0.25em;box-sizing: border-box;margin-bottom: 0.5em;}#sk-container-id-15 div.sk-estimator:hover {background-color: #d4ebff;}#sk-container-id-15 div.sk-parallel-item::after {content: \"\";width: 100%;border-bottom: 1px solid gray;flex-grow: 1;}#sk-container-id-15 div.sk-label:hover label.sk-toggleable__label {background-color: #d4ebff;}#sk-container-id-15 div.sk-serial::before {content: \"\";position: absolute;border-left: 1px solid gray;box-sizing: border-box;top: 0;bottom: 0;left: 50%;z-index: 0;}#sk-container-id-15 div.sk-serial {display: flex;flex-direction: column;align-items: center;background-color: white;padding-right: 0.2em;padding-left: 0.2em;position: relative;}#sk-container-id-15 div.sk-item {position: relative;z-index: 1;}#sk-container-id-15 div.sk-parallel {display: flex;align-items: stretch;justify-content: center;background-color: white;position: relative;}#sk-container-id-15 div.sk-item::before, #sk-container-id-15 div.sk-parallel-item::before {content: \"\";position: absolute;border-left: 1px solid gray;box-sizing: border-box;top: 0;bottom: 0;left: 50%;z-index: -1;}#sk-container-id-15 div.sk-parallel-item {display: flex;flex-direction: column;z-index: 1;position: relative;background-color: white;}#sk-container-id-15 div.sk-parallel-item:first-child::after {align-self: flex-end;width: 50%;}#sk-container-id-15 div.sk-parallel-item:last-child::after {align-self: flex-start;width: 50%;}#sk-container-id-15 div.sk-parallel-item:only-child::after {width: 0;}#sk-container-id-15 div.sk-dashed-wrapped {border: 1px dashed gray;margin: 0 0.4em 0.5em 0.4em;box-sizing: border-box;padding-bottom: 0.4em;background-color: white;}#sk-container-id-15 div.sk-label label {font-family: monospace;font-weight: bold;display: inline-block;line-height: 1.2em;}#sk-container-id-15 div.sk-label-container {text-align: center;}#sk-container-id-15 div.sk-container {/* jupyter's `normalize.less` sets `[hidden] { display: none; }` but bootstrap.min.css set `[hidden] { display: none !important; }` so we also need the `!important` here to be able to override the default hidden behavior on the sphinx rendered scikit-learn.org. See: https://github.com/scikit-learn/scikit-learn/issues/21755 */display: inline-block !important;position: relative;}#sk-container-id-15 div.sk-text-repr-fallback {display: none;}</style><div id=\"sk-container-id-15\" class=\"sk-top-container\"><div class=\"sk-text-repr-fallback\"><pre>BaggingClassifier(bootstrap=False, estimator=LinearSVC(C=100, random_state=0),\n",
       "                  max_samples=0.1, n_estimators=100, n_jobs=-1, random_state=0)</pre><b>In a Jupyter environment, please rerun this cell to show the HTML representation or trust the notebook. <br />On GitHub, the HTML representation is unable to render, please try loading this page with nbviewer.org.</b></div><div class=\"sk-container\" hidden><div class=\"sk-item sk-dashed-wrapped\"><div class=\"sk-label-container\"><div class=\"sk-label sk-toggleable\"><input class=\"sk-toggleable__control sk-hidden--visually\" id=\"sk-estimator-id-51\" type=\"checkbox\" ><label for=\"sk-estimator-id-51\" class=\"sk-toggleable__label sk-toggleable__label-arrow\">BaggingClassifier</label><div class=\"sk-toggleable__content\"><pre>BaggingClassifier(bootstrap=False, estimator=LinearSVC(C=100, random_state=0),\n",
       "                  max_samples=0.1, n_estimators=100, n_jobs=-1, random_state=0)</pre></div></div></div><div class=\"sk-parallel\"><div class=\"sk-parallel-item\"><div class=\"sk-item\"><div class=\"sk-label-container\"><div class=\"sk-label sk-toggleable\"><input class=\"sk-toggleable__control sk-hidden--visually\" id=\"sk-estimator-id-52\" type=\"checkbox\" ><label for=\"sk-estimator-id-52\" class=\"sk-toggleable__label sk-toggleable__label-arrow\">estimator: LinearSVC</label><div class=\"sk-toggleable__content\"><pre>LinearSVC(C=100, random_state=0)</pre></div></div></div><div class=\"sk-serial\"><div class=\"sk-item\"><div class=\"sk-estimator sk-toggleable\"><input class=\"sk-toggleable__control sk-hidden--visually\" id=\"sk-estimator-id-53\" type=\"checkbox\" ><label for=\"sk-estimator-id-53\" class=\"sk-toggleable__label sk-toggleable__label-arrow\">LinearSVC</label><div class=\"sk-toggleable__content\"><pre>LinearSVC(C=100, random_state=0)</pre></div></div></div></div></div></div></div></div></div></div>"
      ],
      "text/plain": [
       "BaggingClassifier(bootstrap=False, estimator=LinearSVC(C=100, random_state=0),\n",
       "                  max_samples=0.1, n_estimators=100, n_jobs=-1, random_state=0)"
      ]
     },
     "execution_count": 60,
     "metadata": {},
     "output_type": "execute_result"
    }
   ],
   "source": [
    "bag = BaggingClassifier(svc, n_estimators= 100, max_samples= 0.1, bootstrap=False, n_jobs=-1, random_state=0)\n",
    "bag.fit(X_train, y_train)"
   ]
  },
  {
   "cell_type": "code",
   "execution_count": 61,
   "metadata": {
    "scrolled": true
   },
   "outputs": [
    {
     "name": "stdout",
     "output_type": "stream",
     "text": [
      "Linear SVC with Pasting Training Score:  0.980701754385965\n",
      "Linear SVC with Pasting Testing Score:  0.9631578947368421\n"
     ]
    }
   ],
   "source": [
    "print(\"Linear SVC with Pasting Training Score: \", bag.score(X_train, y_train))\n",
    "print(\"Linear SVC with Pasting Testing Score: \", bag.score(X_test, y_test))"
   ]
  },
  {
   "cell_type": "code",
   "execution_count": 62,
   "metadata": {},
   "outputs": [],
   "source": [
    "report_table_8 = ['Linear SVC with Pasting', 'C: 100, max_samples: 0.1, n_estimators: 100',bag.score(X_train, y_train), bag.score(X_test, y_test)]"
   ]
  },
  {
   "cell_type": "markdown",
   "metadata": {},
   "source": [
    "## Adaboost "
   ]
  },
  {
   "cell_type": "markdown",
   "metadata": {},
   "source": [
    "## Decision Tree with Adaboost"
   ]
  },
  {
   "cell_type": "markdown",
   "metadata": {},
   "source": [
    "Here, ``max_depth = 9`` is taken as the best parameter for Decision Tree as it is seen in the above Decision Tree section."
   ]
  },
  {
   "cell_type": "code",
   "execution_count": 63,
   "metadata": {},
   "outputs": [
    {
     "data": {
      "text/html": [
       "<style>#sk-container-id-16 {color: black;background-color: white;}#sk-container-id-16 pre{padding: 0;}#sk-container-id-16 div.sk-toggleable {background-color: white;}#sk-container-id-16 label.sk-toggleable__label {cursor: pointer;display: block;width: 100%;margin-bottom: 0;padding: 0.3em;box-sizing: border-box;text-align: center;}#sk-container-id-16 label.sk-toggleable__label-arrow:before {content: \"▸\";float: left;margin-right: 0.25em;color: #696969;}#sk-container-id-16 label.sk-toggleable__label-arrow:hover:before {color: black;}#sk-container-id-16 div.sk-estimator:hover label.sk-toggleable__label-arrow:before {color: black;}#sk-container-id-16 div.sk-toggleable__content {max-height: 0;max-width: 0;overflow: hidden;text-align: left;background-color: #f0f8ff;}#sk-container-id-16 div.sk-toggleable__content pre {margin: 0.2em;color: black;border-radius: 0.25em;background-color: #f0f8ff;}#sk-container-id-16 input.sk-toggleable__control:checked~div.sk-toggleable__content {max-height: 200px;max-width: 100%;overflow: auto;}#sk-container-id-16 input.sk-toggleable__control:checked~label.sk-toggleable__label-arrow:before {content: \"▾\";}#sk-container-id-16 div.sk-estimator input.sk-toggleable__control:checked~label.sk-toggleable__label {background-color: #d4ebff;}#sk-container-id-16 div.sk-label input.sk-toggleable__control:checked~label.sk-toggleable__label {background-color: #d4ebff;}#sk-container-id-16 input.sk-hidden--visually {border: 0;clip: rect(1px 1px 1px 1px);clip: rect(1px, 1px, 1px, 1px);height: 1px;margin: -1px;overflow: hidden;padding: 0;position: absolute;width: 1px;}#sk-container-id-16 div.sk-estimator {font-family: monospace;background-color: #f0f8ff;border: 1px dotted black;border-radius: 0.25em;box-sizing: border-box;margin-bottom: 0.5em;}#sk-container-id-16 div.sk-estimator:hover {background-color: #d4ebff;}#sk-container-id-16 div.sk-parallel-item::after {content: \"\";width: 100%;border-bottom: 1px solid gray;flex-grow: 1;}#sk-container-id-16 div.sk-label:hover label.sk-toggleable__label {background-color: #d4ebff;}#sk-container-id-16 div.sk-serial::before {content: \"\";position: absolute;border-left: 1px solid gray;box-sizing: border-box;top: 0;bottom: 0;left: 50%;z-index: 0;}#sk-container-id-16 div.sk-serial {display: flex;flex-direction: column;align-items: center;background-color: white;padding-right: 0.2em;padding-left: 0.2em;position: relative;}#sk-container-id-16 div.sk-item {position: relative;z-index: 1;}#sk-container-id-16 div.sk-parallel {display: flex;align-items: stretch;justify-content: center;background-color: white;position: relative;}#sk-container-id-16 div.sk-item::before, #sk-container-id-16 div.sk-parallel-item::before {content: \"\";position: absolute;border-left: 1px solid gray;box-sizing: border-box;top: 0;bottom: 0;left: 50%;z-index: -1;}#sk-container-id-16 div.sk-parallel-item {display: flex;flex-direction: column;z-index: 1;position: relative;background-color: white;}#sk-container-id-16 div.sk-parallel-item:first-child::after {align-self: flex-end;width: 50%;}#sk-container-id-16 div.sk-parallel-item:last-child::after {align-self: flex-start;width: 50%;}#sk-container-id-16 div.sk-parallel-item:only-child::after {width: 0;}#sk-container-id-16 div.sk-dashed-wrapped {border: 1px dashed gray;margin: 0 0.4em 0.5em 0.4em;box-sizing: border-box;padding-bottom: 0.4em;background-color: white;}#sk-container-id-16 div.sk-label label {font-family: monospace;font-weight: bold;display: inline-block;line-height: 1.2em;}#sk-container-id-16 div.sk-label-container {text-align: center;}#sk-container-id-16 div.sk-container {/* jupyter's `normalize.less` sets `[hidden] { display: none; }` but bootstrap.min.css set `[hidden] { display: none !important; }` so we also need the `!important` here to be able to override the default hidden behavior on the sphinx rendered scikit-learn.org. See: https://github.com/scikit-learn/scikit-learn/issues/21755 */display: inline-block !important;position: relative;}#sk-container-id-16 div.sk-text-repr-fallback {display: none;}</style><div id=\"sk-container-id-16\" class=\"sk-top-container\"><div class=\"sk-text-repr-fallback\"><pre>GridSearchCV(cv=5,\n",
       "             estimator=AdaBoostClassifier(estimator=DecisionTreeClassifier(max_depth=9,\n",
       "                                                                           random_state=0)),\n",
       "             n_jobs=-1,\n",
       "             param_grid={&#x27;learning_rate&#x27;: [0.1, 0.5, 1, 10],\n",
       "                         &#x27;n_estimators&#x27;: [100, 500, 1000]})</pre><b>In a Jupyter environment, please rerun this cell to show the HTML representation or trust the notebook. <br />On GitHub, the HTML representation is unable to render, please try loading this page with nbviewer.org.</b></div><div class=\"sk-container\" hidden><div class=\"sk-item sk-dashed-wrapped\"><div class=\"sk-label-container\"><div class=\"sk-label sk-toggleable\"><input class=\"sk-toggleable__control sk-hidden--visually\" id=\"sk-estimator-id-54\" type=\"checkbox\" ><label for=\"sk-estimator-id-54\" class=\"sk-toggleable__label sk-toggleable__label-arrow\">GridSearchCV</label><div class=\"sk-toggleable__content\"><pre>GridSearchCV(cv=5,\n",
       "             estimator=AdaBoostClassifier(estimator=DecisionTreeClassifier(max_depth=9,\n",
       "                                                                           random_state=0)),\n",
       "             n_jobs=-1,\n",
       "             param_grid={&#x27;learning_rate&#x27;: [0.1, 0.5, 1, 10],\n",
       "                         &#x27;n_estimators&#x27;: [100, 500, 1000]})</pre></div></div></div><div class=\"sk-parallel\"><div class=\"sk-parallel-item\"><div class=\"sk-item\"><div class=\"sk-label-container\"><div class=\"sk-label sk-toggleable\"><input class=\"sk-toggleable__control sk-hidden--visually\" id=\"sk-estimator-id-55\" type=\"checkbox\" ><label for=\"sk-estimator-id-55\" class=\"sk-toggleable__label sk-toggleable__label-arrow\">estimator: AdaBoostClassifier</label><div class=\"sk-toggleable__content\"><pre>AdaBoostClassifier(estimator=DecisionTreeClassifier(max_depth=9,\n",
       "                                                    random_state=0))</pre></div></div></div><div class=\"sk-serial\"><div class=\"sk-item sk-dashed-wrapped\"><div class=\"sk-parallel\"><div class=\"sk-parallel-item\"><div class=\"sk-item\"><div class=\"sk-label-container\"><div class=\"sk-label sk-toggleable\"><input class=\"sk-toggleable__control sk-hidden--visually\" id=\"sk-estimator-id-56\" type=\"checkbox\" ><label for=\"sk-estimator-id-56\" class=\"sk-toggleable__label sk-toggleable__label-arrow\">estimator: DecisionTreeClassifier</label><div class=\"sk-toggleable__content\"><pre>DecisionTreeClassifier(max_depth=9, random_state=0)</pre></div></div></div><div class=\"sk-serial\"><div class=\"sk-item\"><div class=\"sk-estimator sk-toggleable\"><input class=\"sk-toggleable__control sk-hidden--visually\" id=\"sk-estimator-id-57\" type=\"checkbox\" ><label for=\"sk-estimator-id-57\" class=\"sk-toggleable__label sk-toggleable__label-arrow\">DecisionTreeClassifier</label><div class=\"sk-toggleable__content\"><pre>DecisionTreeClassifier(max_depth=9, random_state=0)</pre></div></div></div></div></div></div></div></div></div></div></div></div></div></div></div>"
      ],
      "text/plain": [
       "GridSearchCV(cv=5,\n",
       "             estimator=AdaBoostClassifier(estimator=DecisionTreeClassifier(max_depth=9,\n",
       "                                                                           random_state=0)),\n",
       "             n_jobs=-1,\n",
       "             param_grid={'learning_rate': [0.1, 0.5, 1, 10],\n",
       "                         'n_estimators': [100, 500, 1000]})"
      ]
     },
     "execution_count": 63,
     "metadata": {},
     "output_type": "execute_result"
    }
   ],
   "source": [
    "from sklearn.ensemble import AdaBoostClassifier\n",
    "\n",
    "dt = DecisionTreeClassifier(max_depth = 9, random_state=0)\n",
    "ada = AdaBoostClassifier(dt)\n",
    "\n",
    "param = {'n_estimators' : [100,500,1000],\n",
    "        'learning_rate': [0.1, 0.5, 1, 10]}\n",
    "\n",
    "ada_grid = GridSearchCV(ada, param, cv=5, n_jobs= -1)\n",
    "\n",
    "ada_grid.fit(X_train_org, y_train)"
   ]
  },
  {
   "cell_type": "code",
   "execution_count": 64,
   "metadata": {},
   "outputs": [
    {
     "name": "stdout",
     "output_type": "stream",
     "text": [
      "Best Parameters for Adaboost Classifier:  {'learning_rate': 0.5, 'n_estimators': 1000}\n"
     ]
    }
   ],
   "source": [
    "print(\"Best Parameters for Adaboost Classifier: \", ada_grid.best_params_)"
   ]
  },
  {
   "cell_type": "code",
   "execution_count": 65,
   "metadata": {},
   "outputs": [
    {
     "data": {
      "text/html": [
       "<style>#sk-container-id-17 {color: black;background-color: white;}#sk-container-id-17 pre{padding: 0;}#sk-container-id-17 div.sk-toggleable {background-color: white;}#sk-container-id-17 label.sk-toggleable__label {cursor: pointer;display: block;width: 100%;margin-bottom: 0;padding: 0.3em;box-sizing: border-box;text-align: center;}#sk-container-id-17 label.sk-toggleable__label-arrow:before {content: \"▸\";float: left;margin-right: 0.25em;color: #696969;}#sk-container-id-17 label.sk-toggleable__label-arrow:hover:before {color: black;}#sk-container-id-17 div.sk-estimator:hover label.sk-toggleable__label-arrow:before {color: black;}#sk-container-id-17 div.sk-toggleable__content {max-height: 0;max-width: 0;overflow: hidden;text-align: left;background-color: #f0f8ff;}#sk-container-id-17 div.sk-toggleable__content pre {margin: 0.2em;color: black;border-radius: 0.25em;background-color: #f0f8ff;}#sk-container-id-17 input.sk-toggleable__control:checked~div.sk-toggleable__content {max-height: 200px;max-width: 100%;overflow: auto;}#sk-container-id-17 input.sk-toggleable__control:checked~label.sk-toggleable__label-arrow:before {content: \"▾\";}#sk-container-id-17 div.sk-estimator input.sk-toggleable__control:checked~label.sk-toggleable__label {background-color: #d4ebff;}#sk-container-id-17 div.sk-label input.sk-toggleable__control:checked~label.sk-toggleable__label {background-color: #d4ebff;}#sk-container-id-17 input.sk-hidden--visually {border: 0;clip: rect(1px 1px 1px 1px);clip: rect(1px, 1px, 1px, 1px);height: 1px;margin: -1px;overflow: hidden;padding: 0;position: absolute;width: 1px;}#sk-container-id-17 div.sk-estimator {font-family: monospace;background-color: #f0f8ff;border: 1px dotted black;border-radius: 0.25em;box-sizing: border-box;margin-bottom: 0.5em;}#sk-container-id-17 div.sk-estimator:hover {background-color: #d4ebff;}#sk-container-id-17 div.sk-parallel-item::after {content: \"\";width: 100%;border-bottom: 1px solid gray;flex-grow: 1;}#sk-container-id-17 div.sk-label:hover label.sk-toggleable__label {background-color: #d4ebff;}#sk-container-id-17 div.sk-serial::before {content: \"\";position: absolute;border-left: 1px solid gray;box-sizing: border-box;top: 0;bottom: 0;left: 50%;z-index: 0;}#sk-container-id-17 div.sk-serial {display: flex;flex-direction: column;align-items: center;background-color: white;padding-right: 0.2em;padding-left: 0.2em;position: relative;}#sk-container-id-17 div.sk-item {position: relative;z-index: 1;}#sk-container-id-17 div.sk-parallel {display: flex;align-items: stretch;justify-content: center;background-color: white;position: relative;}#sk-container-id-17 div.sk-item::before, #sk-container-id-17 div.sk-parallel-item::before {content: \"\";position: absolute;border-left: 1px solid gray;box-sizing: border-box;top: 0;bottom: 0;left: 50%;z-index: -1;}#sk-container-id-17 div.sk-parallel-item {display: flex;flex-direction: column;z-index: 1;position: relative;background-color: white;}#sk-container-id-17 div.sk-parallel-item:first-child::after {align-self: flex-end;width: 50%;}#sk-container-id-17 div.sk-parallel-item:last-child::after {align-self: flex-start;width: 50%;}#sk-container-id-17 div.sk-parallel-item:only-child::after {width: 0;}#sk-container-id-17 div.sk-dashed-wrapped {border: 1px dashed gray;margin: 0 0.4em 0.5em 0.4em;box-sizing: border-box;padding-bottom: 0.4em;background-color: white;}#sk-container-id-17 div.sk-label label {font-family: monospace;font-weight: bold;display: inline-block;line-height: 1.2em;}#sk-container-id-17 div.sk-label-container {text-align: center;}#sk-container-id-17 div.sk-container {/* jupyter's `normalize.less` sets `[hidden] { display: none; }` but bootstrap.min.css set `[hidden] { display: none !important; }` so we also need the `!important` here to be able to override the default hidden behavior on the sphinx rendered scikit-learn.org. See: https://github.com/scikit-learn/scikit-learn/issues/21755 */display: inline-block !important;position: relative;}#sk-container-id-17 div.sk-text-repr-fallback {display: none;}</style><div id=\"sk-container-id-17\" class=\"sk-top-container\"><div class=\"sk-text-repr-fallback\"><pre>AdaBoostClassifier(estimator=DecisionTreeClassifier(max_depth=9,\n",
       "                                                    random_state=0),\n",
       "                   learning_rate=0.1, n_estimators=100, random_state=0)</pre><b>In a Jupyter environment, please rerun this cell to show the HTML representation or trust the notebook. <br />On GitHub, the HTML representation is unable to render, please try loading this page with nbviewer.org.</b></div><div class=\"sk-container\" hidden><div class=\"sk-item sk-dashed-wrapped\"><div class=\"sk-label-container\"><div class=\"sk-label sk-toggleable\"><input class=\"sk-toggleable__control sk-hidden--visually\" id=\"sk-estimator-id-58\" type=\"checkbox\" ><label for=\"sk-estimator-id-58\" class=\"sk-toggleable__label sk-toggleable__label-arrow\">AdaBoostClassifier</label><div class=\"sk-toggleable__content\"><pre>AdaBoostClassifier(estimator=DecisionTreeClassifier(max_depth=9,\n",
       "                                                    random_state=0),\n",
       "                   learning_rate=0.1, n_estimators=100, random_state=0)</pre></div></div></div><div class=\"sk-parallel\"><div class=\"sk-parallel-item\"><div class=\"sk-item\"><div class=\"sk-label-container\"><div class=\"sk-label sk-toggleable\"><input class=\"sk-toggleable__control sk-hidden--visually\" id=\"sk-estimator-id-59\" type=\"checkbox\" ><label for=\"sk-estimator-id-59\" class=\"sk-toggleable__label sk-toggleable__label-arrow\">estimator: DecisionTreeClassifier</label><div class=\"sk-toggleable__content\"><pre>DecisionTreeClassifier(max_depth=9, random_state=0)</pre></div></div></div><div class=\"sk-serial\"><div class=\"sk-item\"><div class=\"sk-estimator sk-toggleable\"><input class=\"sk-toggleable__control sk-hidden--visually\" id=\"sk-estimator-id-60\" type=\"checkbox\" ><label for=\"sk-estimator-id-60\" class=\"sk-toggleable__label sk-toggleable__label-arrow\">DecisionTreeClassifier</label><div class=\"sk-toggleable__content\"><pre>DecisionTreeClassifier(max_depth=9, random_state=0)</pre></div></div></div></div></div></div></div></div></div></div>"
      ],
      "text/plain": [
       "AdaBoostClassifier(estimator=DecisionTreeClassifier(max_depth=9,\n",
       "                                                    random_state=0),\n",
       "                   learning_rate=0.1, n_estimators=100, random_state=0)"
      ]
     },
     "execution_count": 65,
     "metadata": {},
     "output_type": "execute_result"
    }
   ],
   "source": [
    "ada = AdaBoostClassifier(dt, n_estimators= 100, learning_rate= 0.1, algorithm=\"SAMME.R\", random_state=0)\n",
    "ada.fit(X_train_org, y_train)"
   ]
  },
  {
   "cell_type": "code",
   "execution_count": 66,
   "metadata": {
    "scrolled": true
   },
   "outputs": [
    {
     "name": "stdout",
     "output_type": "stream",
     "text": [
      "Decision Tree Classifier with Adaboost Training Score:  1.0\n",
      "Decision Tree Classifier with Adaboost Testing Score:  0.9789473684210527\n"
     ]
    }
   ],
   "source": [
    "print(\"Decision Tree Classifier with Adaboost Training Score: \", ada.score(X_train_org, y_train))\n",
    "print(\"Decision Tree Classifier with Adaboost Testing Score: \", ada.score(X_test_org, y_test))"
   ]
  },
  {
   "cell_type": "code",
   "execution_count": 67,
   "metadata": {},
   "outputs": [],
   "source": [
    "report_table_9 = ['Decision Tree Classifier with Adaboost', 'max_depth = 9, learning_rate = 0.1, n_estimators = 1000',\n",
    "                  ada.score(X_train_org, y_train), ada.score(X_test_org, y_test)]"
   ]
  },
  {
   "cell_type": "markdown",
   "metadata": {},
   "source": [
    "## Logistic Regression with Adaboost"
   ]
  },
  {
   "cell_type": "code",
   "execution_count": 68,
   "metadata": {},
   "outputs": [
    {
     "data": {
      "text/html": [
       "<style>#sk-container-id-18 {color: black;background-color: white;}#sk-container-id-18 pre{padding: 0;}#sk-container-id-18 div.sk-toggleable {background-color: white;}#sk-container-id-18 label.sk-toggleable__label {cursor: pointer;display: block;width: 100%;margin-bottom: 0;padding: 0.3em;box-sizing: border-box;text-align: center;}#sk-container-id-18 label.sk-toggleable__label-arrow:before {content: \"▸\";float: left;margin-right: 0.25em;color: #696969;}#sk-container-id-18 label.sk-toggleable__label-arrow:hover:before {color: black;}#sk-container-id-18 div.sk-estimator:hover label.sk-toggleable__label-arrow:before {color: black;}#sk-container-id-18 div.sk-toggleable__content {max-height: 0;max-width: 0;overflow: hidden;text-align: left;background-color: #f0f8ff;}#sk-container-id-18 div.sk-toggleable__content pre {margin: 0.2em;color: black;border-radius: 0.25em;background-color: #f0f8ff;}#sk-container-id-18 input.sk-toggleable__control:checked~div.sk-toggleable__content {max-height: 200px;max-width: 100%;overflow: auto;}#sk-container-id-18 input.sk-toggleable__control:checked~label.sk-toggleable__label-arrow:before {content: \"▾\";}#sk-container-id-18 div.sk-estimator input.sk-toggleable__control:checked~label.sk-toggleable__label {background-color: #d4ebff;}#sk-container-id-18 div.sk-label input.sk-toggleable__control:checked~label.sk-toggleable__label {background-color: #d4ebff;}#sk-container-id-18 input.sk-hidden--visually {border: 0;clip: rect(1px 1px 1px 1px);clip: rect(1px, 1px, 1px, 1px);height: 1px;margin: -1px;overflow: hidden;padding: 0;position: absolute;width: 1px;}#sk-container-id-18 div.sk-estimator {font-family: monospace;background-color: #f0f8ff;border: 1px dotted black;border-radius: 0.25em;box-sizing: border-box;margin-bottom: 0.5em;}#sk-container-id-18 div.sk-estimator:hover {background-color: #d4ebff;}#sk-container-id-18 div.sk-parallel-item::after {content: \"\";width: 100%;border-bottom: 1px solid gray;flex-grow: 1;}#sk-container-id-18 div.sk-label:hover label.sk-toggleable__label {background-color: #d4ebff;}#sk-container-id-18 div.sk-serial::before {content: \"\";position: absolute;border-left: 1px solid gray;box-sizing: border-box;top: 0;bottom: 0;left: 50%;z-index: 0;}#sk-container-id-18 div.sk-serial {display: flex;flex-direction: column;align-items: center;background-color: white;padding-right: 0.2em;padding-left: 0.2em;position: relative;}#sk-container-id-18 div.sk-item {position: relative;z-index: 1;}#sk-container-id-18 div.sk-parallel {display: flex;align-items: stretch;justify-content: center;background-color: white;position: relative;}#sk-container-id-18 div.sk-item::before, #sk-container-id-18 div.sk-parallel-item::before {content: \"\";position: absolute;border-left: 1px solid gray;box-sizing: border-box;top: 0;bottom: 0;left: 50%;z-index: -1;}#sk-container-id-18 div.sk-parallel-item {display: flex;flex-direction: column;z-index: 1;position: relative;background-color: white;}#sk-container-id-18 div.sk-parallel-item:first-child::after {align-self: flex-end;width: 50%;}#sk-container-id-18 div.sk-parallel-item:last-child::after {align-self: flex-start;width: 50%;}#sk-container-id-18 div.sk-parallel-item:only-child::after {width: 0;}#sk-container-id-18 div.sk-dashed-wrapped {border: 1px dashed gray;margin: 0 0.4em 0.5em 0.4em;box-sizing: border-box;padding-bottom: 0.4em;background-color: white;}#sk-container-id-18 div.sk-label label {font-family: monospace;font-weight: bold;display: inline-block;line-height: 1.2em;}#sk-container-id-18 div.sk-label-container {text-align: center;}#sk-container-id-18 div.sk-container {/* jupyter's `normalize.less` sets `[hidden] { display: none; }` but bootstrap.min.css set `[hidden] { display: none !important; }` so we also need the `!important` here to be able to override the default hidden behavior on the sphinx rendered scikit-learn.org. See: https://github.com/scikit-learn/scikit-learn/issues/21755 */display: inline-block !important;position: relative;}#sk-container-id-18 div.sk-text-repr-fallback {display: none;}</style><div id=\"sk-container-id-18\" class=\"sk-top-container\"><div class=\"sk-text-repr-fallback\"><pre>GridSearchCV(cv=5, estimator=AdaBoostClassifier(estimator=LogisticRegression()),\n",
       "             n_jobs=-1,\n",
       "             param_grid={&#x27;learning_rate&#x27;: [0.1, 0.5, 1],\n",
       "                         &#x27;n_estimators&#x27;: [100, 500, 1000]})</pre><b>In a Jupyter environment, please rerun this cell to show the HTML representation or trust the notebook. <br />On GitHub, the HTML representation is unable to render, please try loading this page with nbviewer.org.</b></div><div class=\"sk-container\" hidden><div class=\"sk-item sk-dashed-wrapped\"><div class=\"sk-label-container\"><div class=\"sk-label sk-toggleable\"><input class=\"sk-toggleable__control sk-hidden--visually\" id=\"sk-estimator-id-61\" type=\"checkbox\" ><label for=\"sk-estimator-id-61\" class=\"sk-toggleable__label sk-toggleable__label-arrow\">GridSearchCV</label><div class=\"sk-toggleable__content\"><pre>GridSearchCV(cv=5, estimator=AdaBoostClassifier(estimator=LogisticRegression()),\n",
       "             n_jobs=-1,\n",
       "             param_grid={&#x27;learning_rate&#x27;: [0.1, 0.5, 1],\n",
       "                         &#x27;n_estimators&#x27;: [100, 500, 1000]})</pre></div></div></div><div class=\"sk-parallel\"><div class=\"sk-parallel-item\"><div class=\"sk-item\"><div class=\"sk-label-container\"><div class=\"sk-label sk-toggleable\"><input class=\"sk-toggleable__control sk-hidden--visually\" id=\"sk-estimator-id-62\" type=\"checkbox\" ><label for=\"sk-estimator-id-62\" class=\"sk-toggleable__label sk-toggleable__label-arrow\">estimator: AdaBoostClassifier</label><div class=\"sk-toggleable__content\"><pre>AdaBoostClassifier(estimator=LogisticRegression())</pre></div></div></div><div class=\"sk-serial\"><div class=\"sk-item sk-dashed-wrapped\"><div class=\"sk-parallel\"><div class=\"sk-parallel-item\"><div class=\"sk-item\"><div class=\"sk-label-container\"><div class=\"sk-label sk-toggleable\"><input class=\"sk-toggleable__control sk-hidden--visually\" id=\"sk-estimator-id-63\" type=\"checkbox\" ><label for=\"sk-estimator-id-63\" class=\"sk-toggleable__label sk-toggleable__label-arrow\">estimator: LogisticRegression</label><div class=\"sk-toggleable__content\"><pre>LogisticRegression()</pre></div></div></div><div class=\"sk-serial\"><div class=\"sk-item\"><div class=\"sk-estimator sk-toggleable\"><input class=\"sk-toggleable__control sk-hidden--visually\" id=\"sk-estimator-id-64\" type=\"checkbox\" ><label for=\"sk-estimator-id-64\" class=\"sk-toggleable__label sk-toggleable__label-arrow\">LogisticRegression</label><div class=\"sk-toggleable__content\"><pre>LogisticRegression()</pre></div></div></div></div></div></div></div></div></div></div></div></div></div></div></div>"
      ],
      "text/plain": [
       "GridSearchCV(cv=5, estimator=AdaBoostClassifier(estimator=LogisticRegression()),\n",
       "             n_jobs=-1,\n",
       "             param_grid={'learning_rate': [0.1, 0.5, 1],\n",
       "                         'n_estimators': [100, 500, 1000]})"
      ]
     },
     "execution_count": 68,
     "metadata": {},
     "output_type": "execute_result"
    }
   ],
   "source": [
    "lr = LogisticRegression()\n",
    "ada = AdaBoostClassifier(lr)\n",
    "\n",
    "param = {'n_estimators' : [100,500,1000],\n",
    "        'learning_rate': [0.1, 0.5, 1]}\n",
    "\n",
    "ada_grid = GridSearchCV(ada, param, cv=5, n_jobs= -1)\n",
    "\n",
    "ada_grid.fit(X_train, y_train)"
   ]
  },
  {
   "cell_type": "code",
   "execution_count": 69,
   "metadata": {},
   "outputs": [
    {
     "name": "stdout",
     "output_type": "stream",
     "text": [
      "Best Parameters for Adaboost Classifier:  {'learning_rate': 1, 'n_estimators': 1000}\n"
     ]
    }
   ],
   "source": [
    "print(\"Best Parameters for Adaboost Classifier: \", ada_grid.best_params_)"
   ]
  },
  {
   "cell_type": "code",
   "execution_count": 70,
   "metadata": {},
   "outputs": [
    {
     "data": {
      "text/html": [
       "<style>#sk-container-id-19 {color: black;background-color: white;}#sk-container-id-19 pre{padding: 0;}#sk-container-id-19 div.sk-toggleable {background-color: white;}#sk-container-id-19 label.sk-toggleable__label {cursor: pointer;display: block;width: 100%;margin-bottom: 0;padding: 0.3em;box-sizing: border-box;text-align: center;}#sk-container-id-19 label.sk-toggleable__label-arrow:before {content: \"▸\";float: left;margin-right: 0.25em;color: #696969;}#sk-container-id-19 label.sk-toggleable__label-arrow:hover:before {color: black;}#sk-container-id-19 div.sk-estimator:hover label.sk-toggleable__label-arrow:before {color: black;}#sk-container-id-19 div.sk-toggleable__content {max-height: 0;max-width: 0;overflow: hidden;text-align: left;background-color: #f0f8ff;}#sk-container-id-19 div.sk-toggleable__content pre {margin: 0.2em;color: black;border-radius: 0.25em;background-color: #f0f8ff;}#sk-container-id-19 input.sk-toggleable__control:checked~div.sk-toggleable__content {max-height: 200px;max-width: 100%;overflow: auto;}#sk-container-id-19 input.sk-toggleable__control:checked~label.sk-toggleable__label-arrow:before {content: \"▾\";}#sk-container-id-19 div.sk-estimator input.sk-toggleable__control:checked~label.sk-toggleable__label {background-color: #d4ebff;}#sk-container-id-19 div.sk-label input.sk-toggleable__control:checked~label.sk-toggleable__label {background-color: #d4ebff;}#sk-container-id-19 input.sk-hidden--visually {border: 0;clip: rect(1px 1px 1px 1px);clip: rect(1px, 1px, 1px, 1px);height: 1px;margin: -1px;overflow: hidden;padding: 0;position: absolute;width: 1px;}#sk-container-id-19 div.sk-estimator {font-family: monospace;background-color: #f0f8ff;border: 1px dotted black;border-radius: 0.25em;box-sizing: border-box;margin-bottom: 0.5em;}#sk-container-id-19 div.sk-estimator:hover {background-color: #d4ebff;}#sk-container-id-19 div.sk-parallel-item::after {content: \"\";width: 100%;border-bottom: 1px solid gray;flex-grow: 1;}#sk-container-id-19 div.sk-label:hover label.sk-toggleable__label {background-color: #d4ebff;}#sk-container-id-19 div.sk-serial::before {content: \"\";position: absolute;border-left: 1px solid gray;box-sizing: border-box;top: 0;bottom: 0;left: 50%;z-index: 0;}#sk-container-id-19 div.sk-serial {display: flex;flex-direction: column;align-items: center;background-color: white;padding-right: 0.2em;padding-left: 0.2em;position: relative;}#sk-container-id-19 div.sk-item {position: relative;z-index: 1;}#sk-container-id-19 div.sk-parallel {display: flex;align-items: stretch;justify-content: center;background-color: white;position: relative;}#sk-container-id-19 div.sk-item::before, #sk-container-id-19 div.sk-parallel-item::before {content: \"\";position: absolute;border-left: 1px solid gray;box-sizing: border-box;top: 0;bottom: 0;left: 50%;z-index: -1;}#sk-container-id-19 div.sk-parallel-item {display: flex;flex-direction: column;z-index: 1;position: relative;background-color: white;}#sk-container-id-19 div.sk-parallel-item:first-child::after {align-self: flex-end;width: 50%;}#sk-container-id-19 div.sk-parallel-item:last-child::after {align-self: flex-start;width: 50%;}#sk-container-id-19 div.sk-parallel-item:only-child::after {width: 0;}#sk-container-id-19 div.sk-dashed-wrapped {border: 1px dashed gray;margin: 0 0.4em 0.5em 0.4em;box-sizing: border-box;padding-bottom: 0.4em;background-color: white;}#sk-container-id-19 div.sk-label label {font-family: monospace;font-weight: bold;display: inline-block;line-height: 1.2em;}#sk-container-id-19 div.sk-label-container {text-align: center;}#sk-container-id-19 div.sk-container {/* jupyter's `normalize.less` sets `[hidden] { display: none; }` but bootstrap.min.css set `[hidden] { display: none !important; }` so we also need the `!important` here to be able to override the default hidden behavior on the sphinx rendered scikit-learn.org. See: https://github.com/scikit-learn/scikit-learn/issues/21755 */display: inline-block !important;position: relative;}#sk-container-id-19 div.sk-text-repr-fallback {display: none;}</style><div id=\"sk-container-id-19\" class=\"sk-top-container\"><div class=\"sk-text-repr-fallback\"><pre>AdaBoostClassifier(estimator=DecisionTreeClassifier(max_depth=9,\n",
       "                                                    random_state=0),\n",
       "                   learning_rate=1, n_estimators=1000, random_state=0)</pre><b>In a Jupyter environment, please rerun this cell to show the HTML representation or trust the notebook. <br />On GitHub, the HTML representation is unable to render, please try loading this page with nbviewer.org.</b></div><div class=\"sk-container\" hidden><div class=\"sk-item sk-dashed-wrapped\"><div class=\"sk-label-container\"><div class=\"sk-label sk-toggleable\"><input class=\"sk-toggleable__control sk-hidden--visually\" id=\"sk-estimator-id-65\" type=\"checkbox\" ><label for=\"sk-estimator-id-65\" class=\"sk-toggleable__label sk-toggleable__label-arrow\">AdaBoostClassifier</label><div class=\"sk-toggleable__content\"><pre>AdaBoostClassifier(estimator=DecisionTreeClassifier(max_depth=9,\n",
       "                                                    random_state=0),\n",
       "                   learning_rate=1, n_estimators=1000, random_state=0)</pre></div></div></div><div class=\"sk-parallel\"><div class=\"sk-parallel-item\"><div class=\"sk-item\"><div class=\"sk-label-container\"><div class=\"sk-label sk-toggleable\"><input class=\"sk-toggleable__control sk-hidden--visually\" id=\"sk-estimator-id-66\" type=\"checkbox\" ><label for=\"sk-estimator-id-66\" class=\"sk-toggleable__label sk-toggleable__label-arrow\">estimator: DecisionTreeClassifier</label><div class=\"sk-toggleable__content\"><pre>DecisionTreeClassifier(max_depth=9, random_state=0)</pre></div></div></div><div class=\"sk-serial\"><div class=\"sk-item\"><div class=\"sk-estimator sk-toggleable\"><input class=\"sk-toggleable__control sk-hidden--visually\" id=\"sk-estimator-id-67\" type=\"checkbox\" ><label for=\"sk-estimator-id-67\" class=\"sk-toggleable__label sk-toggleable__label-arrow\">DecisionTreeClassifier</label><div class=\"sk-toggleable__content\"><pre>DecisionTreeClassifier(max_depth=9, random_state=0)</pre></div></div></div></div></div></div></div></div></div></div>"
      ],
      "text/plain": [
       "AdaBoostClassifier(estimator=DecisionTreeClassifier(max_depth=9,\n",
       "                                                    random_state=0),\n",
       "                   learning_rate=1, n_estimators=1000, random_state=0)"
      ]
     },
     "execution_count": 70,
     "metadata": {},
     "output_type": "execute_result"
    }
   ],
   "source": [
    "ada = AdaBoostClassifier(dt, n_estimators= 1000, learning_rate= 1, algorithm=\"SAMME.R\", random_state=0)\n",
    "ada.fit(X_train, y_train)"
   ]
  },
  {
   "cell_type": "code",
   "execution_count": 71,
   "metadata": {
    "scrolled": true
   },
   "outputs": [
    {
     "name": "stdout",
     "output_type": "stream",
     "text": [
      "Logistic Regression with Adaboost Training Score:  1.0\n",
      "Logistic Regression with Adaboost Testing Score:  0.9789473684210527\n"
     ]
    }
   ],
   "source": [
    "print(\"Logistic Regression with Adaboost Training Score: \", ada.score(X_train, y_train))\n",
    "print(\"Logistic Regression with Adaboost Testing Score: \", ada.score(X_test, y_test))"
   ]
  },
  {
   "cell_type": "code",
   "execution_count": 72,
   "metadata": {},
   "outputs": [],
   "source": [
    "report_table_10 = ['Logistic Regression with Adaboost', 'learning_rate = 1, n_estimators = 1000',\n",
    "                  ada.score(X_train, y_train), ada.score(X_test, y_test)]"
   ]
  },
  {
   "cell_type": "markdown",
   "metadata": {},
   "source": [
    "## Gradient Boosting Classifier"
   ]
  },
  {
   "cell_type": "code",
   "execution_count": 73,
   "metadata": {},
   "outputs": [
    {
     "data": {
      "text/html": [
       "<style>#sk-container-id-20 {color: black;background-color: white;}#sk-container-id-20 pre{padding: 0;}#sk-container-id-20 div.sk-toggleable {background-color: white;}#sk-container-id-20 label.sk-toggleable__label {cursor: pointer;display: block;width: 100%;margin-bottom: 0;padding: 0.3em;box-sizing: border-box;text-align: center;}#sk-container-id-20 label.sk-toggleable__label-arrow:before {content: \"▸\";float: left;margin-right: 0.25em;color: #696969;}#sk-container-id-20 label.sk-toggleable__label-arrow:hover:before {color: black;}#sk-container-id-20 div.sk-estimator:hover label.sk-toggleable__label-arrow:before {color: black;}#sk-container-id-20 div.sk-toggleable__content {max-height: 0;max-width: 0;overflow: hidden;text-align: left;background-color: #f0f8ff;}#sk-container-id-20 div.sk-toggleable__content pre {margin: 0.2em;color: black;border-radius: 0.25em;background-color: #f0f8ff;}#sk-container-id-20 input.sk-toggleable__control:checked~div.sk-toggleable__content {max-height: 200px;max-width: 100%;overflow: auto;}#sk-container-id-20 input.sk-toggleable__control:checked~label.sk-toggleable__label-arrow:before {content: \"▾\";}#sk-container-id-20 div.sk-estimator input.sk-toggleable__control:checked~label.sk-toggleable__label {background-color: #d4ebff;}#sk-container-id-20 div.sk-label input.sk-toggleable__control:checked~label.sk-toggleable__label {background-color: #d4ebff;}#sk-container-id-20 input.sk-hidden--visually {border: 0;clip: rect(1px 1px 1px 1px);clip: rect(1px, 1px, 1px, 1px);height: 1px;margin: -1px;overflow: hidden;padding: 0;position: absolute;width: 1px;}#sk-container-id-20 div.sk-estimator {font-family: monospace;background-color: #f0f8ff;border: 1px dotted black;border-radius: 0.25em;box-sizing: border-box;margin-bottom: 0.5em;}#sk-container-id-20 div.sk-estimator:hover {background-color: #d4ebff;}#sk-container-id-20 div.sk-parallel-item::after {content: \"\";width: 100%;border-bottom: 1px solid gray;flex-grow: 1;}#sk-container-id-20 div.sk-label:hover label.sk-toggleable__label {background-color: #d4ebff;}#sk-container-id-20 div.sk-serial::before {content: \"\";position: absolute;border-left: 1px solid gray;box-sizing: border-box;top: 0;bottom: 0;left: 50%;z-index: 0;}#sk-container-id-20 div.sk-serial {display: flex;flex-direction: column;align-items: center;background-color: white;padding-right: 0.2em;padding-left: 0.2em;position: relative;}#sk-container-id-20 div.sk-item {position: relative;z-index: 1;}#sk-container-id-20 div.sk-parallel {display: flex;align-items: stretch;justify-content: center;background-color: white;position: relative;}#sk-container-id-20 div.sk-item::before, #sk-container-id-20 div.sk-parallel-item::before {content: \"\";position: absolute;border-left: 1px solid gray;box-sizing: border-box;top: 0;bottom: 0;left: 50%;z-index: -1;}#sk-container-id-20 div.sk-parallel-item {display: flex;flex-direction: column;z-index: 1;position: relative;background-color: white;}#sk-container-id-20 div.sk-parallel-item:first-child::after {align-self: flex-end;width: 50%;}#sk-container-id-20 div.sk-parallel-item:last-child::after {align-self: flex-start;width: 50%;}#sk-container-id-20 div.sk-parallel-item:only-child::after {width: 0;}#sk-container-id-20 div.sk-dashed-wrapped {border: 1px dashed gray;margin: 0 0.4em 0.5em 0.4em;box-sizing: border-box;padding-bottom: 0.4em;background-color: white;}#sk-container-id-20 div.sk-label label {font-family: monospace;font-weight: bold;display: inline-block;line-height: 1.2em;}#sk-container-id-20 div.sk-label-container {text-align: center;}#sk-container-id-20 div.sk-container {/* jupyter's `normalize.less` sets `[hidden] { display: none; }` but bootstrap.min.css set `[hidden] { display: none !important; }` so we also need the `!important` here to be able to override the default hidden behavior on the sphinx rendered scikit-learn.org. See: https://github.com/scikit-learn/scikit-learn/issues/21755 */display: inline-block !important;position: relative;}#sk-container-id-20 div.sk-text-repr-fallback {display: none;}</style><div id=\"sk-container-id-20\" class=\"sk-top-container\"><div class=\"sk-text-repr-fallback\"><pre>GridSearchCV(cv=5, estimator=GradientBoostingClassifier(random_state=0),\n",
       "             param_grid={&#x27;learning_rate&#x27;: [0.01, 0.1, 0.5, 1.0],\n",
       "                         &#x27;max_depth&#x27;: [4, 5, 7, 9, 11, 15],\n",
       "                         &#x27;n_estimators&#x27;: [100, 500, 1000]},\n",
       "             return_train_score=True)</pre><b>In a Jupyter environment, please rerun this cell to show the HTML representation or trust the notebook. <br />On GitHub, the HTML representation is unable to render, please try loading this page with nbviewer.org.</b></div><div class=\"sk-container\" hidden><div class=\"sk-item sk-dashed-wrapped\"><div class=\"sk-label-container\"><div class=\"sk-label sk-toggleable\"><input class=\"sk-toggleable__control sk-hidden--visually\" id=\"sk-estimator-id-68\" type=\"checkbox\" ><label for=\"sk-estimator-id-68\" class=\"sk-toggleable__label sk-toggleable__label-arrow\">GridSearchCV</label><div class=\"sk-toggleable__content\"><pre>GridSearchCV(cv=5, estimator=GradientBoostingClassifier(random_state=0),\n",
       "             param_grid={&#x27;learning_rate&#x27;: [0.01, 0.1, 0.5, 1.0],\n",
       "                         &#x27;max_depth&#x27;: [4, 5, 7, 9, 11, 15],\n",
       "                         &#x27;n_estimators&#x27;: [100, 500, 1000]},\n",
       "             return_train_score=True)</pre></div></div></div><div class=\"sk-parallel\"><div class=\"sk-parallel-item\"><div class=\"sk-item\"><div class=\"sk-label-container\"><div class=\"sk-label sk-toggleable\"><input class=\"sk-toggleable__control sk-hidden--visually\" id=\"sk-estimator-id-69\" type=\"checkbox\" ><label for=\"sk-estimator-id-69\" class=\"sk-toggleable__label sk-toggleable__label-arrow\">estimator: GradientBoostingClassifier</label><div class=\"sk-toggleable__content\"><pre>GradientBoostingClassifier(random_state=0)</pre></div></div></div><div class=\"sk-serial\"><div class=\"sk-item\"><div class=\"sk-estimator sk-toggleable\"><input class=\"sk-toggleable__control sk-hidden--visually\" id=\"sk-estimator-id-70\" type=\"checkbox\" ><label for=\"sk-estimator-id-70\" class=\"sk-toggleable__label sk-toggleable__label-arrow\">GradientBoostingClassifier</label><div class=\"sk-toggleable__content\"><pre>GradientBoostingClassifier(random_state=0)</pre></div></div></div></div></div></div></div></div></div></div>"
      ],
      "text/plain": [
       "GridSearchCV(cv=5, estimator=GradientBoostingClassifier(random_state=0),\n",
       "             param_grid={'learning_rate': [0.01, 0.1, 0.5, 1.0],\n",
       "                         'max_depth': [4, 5, 7, 9, 11, 15],\n",
       "                         'n_estimators': [100, 500, 1000]},\n",
       "             return_train_score=True)"
      ]
     },
     "execution_count": 73,
     "metadata": {},
     "output_type": "execute_result"
    }
   ],
   "source": [
    "from  sklearn.ensemble import GradientBoostingClassifier\n",
    "\n",
    "gb = GradientBoostingClassifier(random_state=0)\n",
    "\n",
    "param = {'max_depth': [4,5,7,9,11,15],\n",
    "           'n_estimators': [100, 500, 1000],\n",
    "           'learning_rate': [0.01,0.1, 0.5, 1.0]}\n",
    "gb_grid = GridSearchCV(gb, param, cv = 5, return_train_score= True)\n",
    "gb_grid.fit(X_train, y_train)"
   ]
  },
  {
   "cell_type": "code",
   "execution_count": 74,
   "metadata": {},
   "outputs": [
    {
     "name": "stdout",
     "output_type": "stream",
     "text": [
      "Best Parameters for Gradient Boosting Classifier:  {'learning_rate': 0.01, 'max_depth': 4, 'n_estimators': 500}\n"
     ]
    }
   ],
   "source": [
    "print(\"Best Parameters for Gradient Boosting Classifier: \", gb_grid.best_params_)"
   ]
  },
  {
   "cell_type": "code",
   "execution_count": 75,
   "metadata": {},
   "outputs": [
    {
     "data": {
      "text/html": [
       "<style>#sk-container-id-21 {color: black;background-color: white;}#sk-container-id-21 pre{padding: 0;}#sk-container-id-21 div.sk-toggleable {background-color: white;}#sk-container-id-21 label.sk-toggleable__label {cursor: pointer;display: block;width: 100%;margin-bottom: 0;padding: 0.3em;box-sizing: border-box;text-align: center;}#sk-container-id-21 label.sk-toggleable__label-arrow:before {content: \"▸\";float: left;margin-right: 0.25em;color: #696969;}#sk-container-id-21 label.sk-toggleable__label-arrow:hover:before {color: black;}#sk-container-id-21 div.sk-estimator:hover label.sk-toggleable__label-arrow:before {color: black;}#sk-container-id-21 div.sk-toggleable__content {max-height: 0;max-width: 0;overflow: hidden;text-align: left;background-color: #f0f8ff;}#sk-container-id-21 div.sk-toggleable__content pre {margin: 0.2em;color: black;border-radius: 0.25em;background-color: #f0f8ff;}#sk-container-id-21 input.sk-toggleable__control:checked~div.sk-toggleable__content {max-height: 200px;max-width: 100%;overflow: auto;}#sk-container-id-21 input.sk-toggleable__control:checked~label.sk-toggleable__label-arrow:before {content: \"▾\";}#sk-container-id-21 div.sk-estimator input.sk-toggleable__control:checked~label.sk-toggleable__label {background-color: #d4ebff;}#sk-container-id-21 div.sk-label input.sk-toggleable__control:checked~label.sk-toggleable__label {background-color: #d4ebff;}#sk-container-id-21 input.sk-hidden--visually {border: 0;clip: rect(1px 1px 1px 1px);clip: rect(1px, 1px, 1px, 1px);height: 1px;margin: -1px;overflow: hidden;padding: 0;position: absolute;width: 1px;}#sk-container-id-21 div.sk-estimator {font-family: monospace;background-color: #f0f8ff;border: 1px dotted black;border-radius: 0.25em;box-sizing: border-box;margin-bottom: 0.5em;}#sk-container-id-21 div.sk-estimator:hover {background-color: #d4ebff;}#sk-container-id-21 div.sk-parallel-item::after {content: \"\";width: 100%;border-bottom: 1px solid gray;flex-grow: 1;}#sk-container-id-21 div.sk-label:hover label.sk-toggleable__label {background-color: #d4ebff;}#sk-container-id-21 div.sk-serial::before {content: \"\";position: absolute;border-left: 1px solid gray;box-sizing: border-box;top: 0;bottom: 0;left: 50%;z-index: 0;}#sk-container-id-21 div.sk-serial {display: flex;flex-direction: column;align-items: center;background-color: white;padding-right: 0.2em;padding-left: 0.2em;position: relative;}#sk-container-id-21 div.sk-item {position: relative;z-index: 1;}#sk-container-id-21 div.sk-parallel {display: flex;align-items: stretch;justify-content: center;background-color: white;position: relative;}#sk-container-id-21 div.sk-item::before, #sk-container-id-21 div.sk-parallel-item::before {content: \"\";position: absolute;border-left: 1px solid gray;box-sizing: border-box;top: 0;bottom: 0;left: 50%;z-index: -1;}#sk-container-id-21 div.sk-parallel-item {display: flex;flex-direction: column;z-index: 1;position: relative;background-color: white;}#sk-container-id-21 div.sk-parallel-item:first-child::after {align-self: flex-end;width: 50%;}#sk-container-id-21 div.sk-parallel-item:last-child::after {align-self: flex-start;width: 50%;}#sk-container-id-21 div.sk-parallel-item:only-child::after {width: 0;}#sk-container-id-21 div.sk-dashed-wrapped {border: 1px dashed gray;margin: 0 0.4em 0.5em 0.4em;box-sizing: border-box;padding-bottom: 0.4em;background-color: white;}#sk-container-id-21 div.sk-label label {font-family: monospace;font-weight: bold;display: inline-block;line-height: 1.2em;}#sk-container-id-21 div.sk-label-container {text-align: center;}#sk-container-id-21 div.sk-container {/* jupyter's `normalize.less` sets `[hidden] { display: none; }` but bootstrap.min.css set `[hidden] { display: none !important; }` so we also need the `!important` here to be able to override the default hidden behavior on the sphinx rendered scikit-learn.org. See: https://github.com/scikit-learn/scikit-learn/issues/21755 */display: inline-block !important;position: relative;}#sk-container-id-21 div.sk-text-repr-fallback {display: none;}</style><div id=\"sk-container-id-21\" class=\"sk-top-container\"><div class=\"sk-text-repr-fallback\"><pre>GradientBoostingClassifier(learning_rate=1.0, max_depth=4, random_state=0)</pre><b>In a Jupyter environment, please rerun this cell to show the HTML representation or trust the notebook. <br />On GitHub, the HTML representation is unable to render, please try loading this page with nbviewer.org.</b></div><div class=\"sk-container\" hidden><div class=\"sk-item\"><div class=\"sk-estimator sk-toggleable\"><input class=\"sk-toggleable__control sk-hidden--visually\" id=\"sk-estimator-id-71\" type=\"checkbox\" checked><label for=\"sk-estimator-id-71\" class=\"sk-toggleable__label sk-toggleable__label-arrow\">GradientBoostingClassifier</label><div class=\"sk-toggleable__content\"><pre>GradientBoostingClassifier(learning_rate=1.0, max_depth=4, random_state=0)</pre></div></div></div></div></div>"
      ],
      "text/plain": [
       "GradientBoostingClassifier(learning_rate=1.0, max_depth=4, random_state=0)"
      ]
     },
     "execution_count": 75,
     "metadata": {},
     "output_type": "execute_result"
    }
   ],
   "source": [
    "gb = GradientBoostingClassifier(max_depth=4, n_estimators=100, learning_rate=1.0, random_state=0)\n",
    "gb.fit(X_train, y_train)"
   ]
  },
  {
   "cell_type": "code",
   "execution_count": 76,
   "metadata": {
    "scrolled": true
   },
   "outputs": [
    {
     "name": "stdout",
     "output_type": "stream",
     "text": [
      "Gradient Boosting Classifier Training Score:  1.0\n",
      "Gradient Boosting Classifier Testing Score:  0.9736842105263158\n"
     ]
    }
   ],
   "source": [
    "print(\"Gradient Boosting Classifier Training Score: \", gb.score(X_train, y_train))\n",
    "print(\"Gradient Boosting Classifier Testing Score: \", gb.score(X_test, y_test))"
   ]
  },
  {
   "cell_type": "code",
   "execution_count": 77,
   "metadata": {},
   "outputs": [],
   "source": [
    "report_table_11 = ['Gradient Boosting Classifier', 'learning_rate = 1.0, max_depth = 4, n_estimators = 100',\n",
    "                  gb.score(X_train, y_train), gb.score(X_test, y_test)]"
   ]
  },
  {
   "cell_type": "markdown",
   "metadata": {},
   "source": [
    "## Voting, Boosting, Pasting and Bagging: Generating a Report table\n",
    "For comparing all the models, let's create a table and a plot."
   ]
  },
  {
   "cell_type": "code",
   "execution_count": 78,
   "metadata": {},
   "outputs": [],
   "source": [
    "report_table = pd.DataFrame(list(zip(report_table_1,\n",
    "             report_table_2,\n",
    "             report_table_3,\n",
    "             report_table_4,\n",
    "             report_table_5,\n",
    "             report_table_6,\n",
    "             report_table_7,\n",
    "             report_table_8,\n",
    "             report_table_9,\n",
    "             report_table_10,\n",
    "             report_table_11))).transpose()"
   ]
  },
  {
   "cell_type": "code",
   "execution_count": 79,
   "metadata": {},
   "outputs": [
    {
     "data": {
      "text/html": [
       "<div>\n",
       "<style scoped>\n",
       "    .dataframe tbody tr th:only-of-type {\n",
       "        vertical-align: middle;\n",
       "    }\n",
       "\n",
       "    .dataframe tbody tr th {\n",
       "        vertical-align: top;\n",
       "    }\n",
       "\n",
       "    .dataframe thead th {\n",
       "        text-align: right;\n",
       "    }\n",
       "</style>\n",
       "<table border=\"1\" class=\"dataframe\">\n",
       "  <thead>\n",
       "    <tr style=\"text-align: right;\">\n",
       "      <th></th>\n",
       "      <th>Model Name</th>\n",
       "      <th>Model Parameter</th>\n",
       "      <th>Training Score</th>\n",
       "      <th>Testing Score</th>\n",
       "    </tr>\n",
       "    <tr>\n",
       "      <th>Model Name</th>\n",
       "      <th></th>\n",
       "      <th></th>\n",
       "      <th></th>\n",
       "      <th></th>\n",
       "    </tr>\n",
       "  </thead>\n",
       "  <tbody>\n",
       "    <tr>\n",
       "      <th>Hard Voting Classifier 1</th>\n",
       "      <td>Hard Voting Classifier 1</td>\n",
       "      <td></td>\n",
       "      <td>0.978947</td>\n",
       "      <td>0.952632</td>\n",
       "    </tr>\n",
       "    <tr>\n",
       "      <th>Hard Voting Classifier 2</th>\n",
       "      <td>Hard Voting Classifier 2</td>\n",
       "      <td></td>\n",
       "      <td>0.989474</td>\n",
       "      <td>0.978947</td>\n",
       "    </tr>\n",
       "    <tr>\n",
       "      <th>Soft Voting Classifier 1</th>\n",
       "      <td>Soft Voting Classifier 1</td>\n",
       "      <td></td>\n",
       "      <td>0.978947</td>\n",
       "      <td>0.957895</td>\n",
       "    </tr>\n",
       "    <tr>\n",
       "      <th>Soft Voting Classifier 2</th>\n",
       "      <td>Soft Voting Classifier 2</td>\n",
       "      <td></td>\n",
       "      <td>0.994737</td>\n",
       "      <td>0.984211</td>\n",
       "    </tr>\n",
       "    <tr>\n",
       "      <th>KNN with Bagging</th>\n",
       "      <td>KNN with Bagging</td>\n",
       "      <td>n_neighbors: 3, max_samples: 1.0, n_estimators...</td>\n",
       "      <td>0.984211</td>\n",
       "      <td>0.963158</td>\n",
       "    </tr>\n",
       "    <tr>\n",
       "      <th>Logistic Regression with Bagging</th>\n",
       "      <td>Logistic Regression with Bagging</td>\n",
       "      <td>max_samples: 1.0, n_estimators: 500</td>\n",
       "      <td>0.952632</td>\n",
       "      <td>0.952632</td>\n",
       "    </tr>\n",
       "    <tr>\n",
       "      <th>Decision Tree Classifier with Pasting</th>\n",
       "      <td>Decision Tree Classifier with Pasting</td>\n",
       "      <td>max_depth: 9, max_samples: 1.0, n_estimators: 100</td>\n",
       "      <td>1.0</td>\n",
       "      <td>0.984211</td>\n",
       "    </tr>\n",
       "    <tr>\n",
       "      <th>Linear SVC with Pasting</th>\n",
       "      <td>Linear SVC with Pasting</td>\n",
       "      <td>C: 100, max_samples: 0.1, n_estimators: 100</td>\n",
       "      <td>0.980702</td>\n",
       "      <td>0.963158</td>\n",
       "    </tr>\n",
       "    <tr>\n",
       "      <th>Decision Tree Classifier with Adaboost</th>\n",
       "      <td>Decision Tree Classifier with Adaboost</td>\n",
       "      <td>max_depth = 9, learning_rate = 0.1, n_estimato...</td>\n",
       "      <td>1.0</td>\n",
       "      <td>0.978947</td>\n",
       "    </tr>\n",
       "    <tr>\n",
       "      <th>Logistic Regression with Adaboost</th>\n",
       "      <td>Logistic Regression with Adaboost</td>\n",
       "      <td>learning_rate = 1, n_estimators = 1000</td>\n",
       "      <td>1.0</td>\n",
       "      <td>0.978947</td>\n",
       "    </tr>\n",
       "  </tbody>\n",
       "</table>\n",
       "</div>"
      ],
      "text/plain": [
       "                                                                    Model Name  \\\n",
       "Model Name                                                                       \n",
       "Hard Voting Classifier 1                              Hard Voting Classifier 1   \n",
       "Hard Voting Classifier 2                              Hard Voting Classifier 2   \n",
       "Soft Voting Classifier 1                              Soft Voting Classifier 1   \n",
       "Soft Voting Classifier 2                              Soft Voting Classifier 2   \n",
       "KNN with Bagging                                              KNN with Bagging   \n",
       "Logistic Regression with Bagging              Logistic Regression with Bagging   \n",
       "Decision Tree Classifier with Pasting    Decision Tree Classifier with Pasting   \n",
       "Linear SVC with Pasting                                Linear SVC with Pasting   \n",
       "Decision Tree Classifier with Adaboost  Decision Tree Classifier with Adaboost   \n",
       "Logistic Regression with Adaboost            Logistic Regression with Adaboost   \n",
       "\n",
       "                                                                          Model Parameter  \\\n",
       "Model Name                                                                                  \n",
       "Hard Voting Classifier 1                                                                    \n",
       "Hard Voting Classifier 2                                                                    \n",
       "Soft Voting Classifier 1                                                                    \n",
       "Soft Voting Classifier 2                                                                    \n",
       "KNN with Bagging                        n_neighbors: 3, max_samples: 1.0, n_estimators...   \n",
       "Logistic Regression with Bagging                      max_samples: 1.0, n_estimators: 500   \n",
       "Decision Tree Classifier with Pasting   max_depth: 9, max_samples: 1.0, n_estimators: 100   \n",
       "Linear SVC with Pasting                       C: 100, max_samples: 0.1, n_estimators: 100   \n",
       "Decision Tree Classifier with Adaboost  max_depth = 9, learning_rate = 0.1, n_estimato...   \n",
       "Logistic Regression with Adaboost                  learning_rate = 1, n_estimators = 1000   \n",
       "\n",
       "                                       Training Score Testing Score  \n",
       "Model Name                                                           \n",
       "Hard Voting Classifier 1                     0.978947      0.952632  \n",
       "Hard Voting Classifier 2                     0.989474      0.978947  \n",
       "Soft Voting Classifier 1                     0.978947      0.957895  \n",
       "Soft Voting Classifier 2                     0.994737      0.984211  \n",
       "KNN with Bagging                             0.984211      0.963158  \n",
       "Logistic Regression with Bagging             0.952632      0.952632  \n",
       "Decision Tree Classifier with Pasting             1.0      0.984211  \n",
       "Linear SVC with Pasting                      0.980702      0.963158  \n",
       "Decision Tree Classifier with Adaboost            1.0      0.978947  \n",
       "Logistic Regression with Adaboost                 1.0      0.978947  "
      ]
     },
     "execution_count": 79,
     "metadata": {},
     "output_type": "execute_result"
    }
   ],
   "source": [
    "report_table.columns = ['Model Name', 'Model Parameter', 'Training Score', 'Testing Score']\n",
    "report_table.index = report_table['Model Name']\n",
    "report_table.head(10)"
   ]
  },
  {
   "cell_type": "markdown",
   "metadata": {},
   "source": [
    "# Principal Component Analysis"
   ]
  },
  {
   "cell_type": "code",
   "execution_count": 80,
   "metadata": {},
   "outputs": [],
   "source": [
    "from sklearn.decomposition import PCA\n",
    "\n",
    "pca = PCA(n_components=0.95)\n",
    "\n",
    "X_train_reduced = pca.fit_transform(X_train)\n",
    "X_test_reduced = pca.transform(X_test)"
   ]
  },
  {
   "cell_type": "code",
   "execution_count": 81,
   "metadata": {},
   "outputs": [
    {
     "name": "stdout",
     "output_type": "stream",
     "text": [
      "Number of PCA components:  6\n"
     ]
    }
   ],
   "source": [
    "print(\"Number of PCA components: \", pca.n_components_)"
   ]
  },
  {
   "cell_type": "markdown",
   "metadata": {},
   "source": [
    "## KNN Classifier with PCA"
   ]
  },
  {
   "cell_type": "code",
   "execution_count": 82,
   "metadata": {},
   "outputs": [
    {
     "data": {
      "text/html": [
       "<style>#sk-container-id-22 {color: black;background-color: white;}#sk-container-id-22 pre{padding: 0;}#sk-container-id-22 div.sk-toggleable {background-color: white;}#sk-container-id-22 label.sk-toggleable__label {cursor: pointer;display: block;width: 100%;margin-bottom: 0;padding: 0.3em;box-sizing: border-box;text-align: center;}#sk-container-id-22 label.sk-toggleable__label-arrow:before {content: \"▸\";float: left;margin-right: 0.25em;color: #696969;}#sk-container-id-22 label.sk-toggleable__label-arrow:hover:before {color: black;}#sk-container-id-22 div.sk-estimator:hover label.sk-toggleable__label-arrow:before {color: black;}#sk-container-id-22 div.sk-toggleable__content {max-height: 0;max-width: 0;overflow: hidden;text-align: left;background-color: #f0f8ff;}#sk-container-id-22 div.sk-toggleable__content pre {margin: 0.2em;color: black;border-radius: 0.25em;background-color: #f0f8ff;}#sk-container-id-22 input.sk-toggleable__control:checked~div.sk-toggleable__content {max-height: 200px;max-width: 100%;overflow: auto;}#sk-container-id-22 input.sk-toggleable__control:checked~label.sk-toggleable__label-arrow:before {content: \"▾\";}#sk-container-id-22 div.sk-estimator input.sk-toggleable__control:checked~label.sk-toggleable__label {background-color: #d4ebff;}#sk-container-id-22 div.sk-label input.sk-toggleable__control:checked~label.sk-toggleable__label {background-color: #d4ebff;}#sk-container-id-22 input.sk-hidden--visually {border: 0;clip: rect(1px 1px 1px 1px);clip: rect(1px, 1px, 1px, 1px);height: 1px;margin: -1px;overflow: hidden;padding: 0;position: absolute;width: 1px;}#sk-container-id-22 div.sk-estimator {font-family: monospace;background-color: #f0f8ff;border: 1px dotted black;border-radius: 0.25em;box-sizing: border-box;margin-bottom: 0.5em;}#sk-container-id-22 div.sk-estimator:hover {background-color: #d4ebff;}#sk-container-id-22 div.sk-parallel-item::after {content: \"\";width: 100%;border-bottom: 1px solid gray;flex-grow: 1;}#sk-container-id-22 div.sk-label:hover label.sk-toggleable__label {background-color: #d4ebff;}#sk-container-id-22 div.sk-serial::before {content: \"\";position: absolute;border-left: 1px solid gray;box-sizing: border-box;top: 0;bottom: 0;left: 50%;z-index: 0;}#sk-container-id-22 div.sk-serial {display: flex;flex-direction: column;align-items: center;background-color: white;padding-right: 0.2em;padding-left: 0.2em;position: relative;}#sk-container-id-22 div.sk-item {position: relative;z-index: 1;}#sk-container-id-22 div.sk-parallel {display: flex;align-items: stretch;justify-content: center;background-color: white;position: relative;}#sk-container-id-22 div.sk-item::before, #sk-container-id-22 div.sk-parallel-item::before {content: \"\";position: absolute;border-left: 1px solid gray;box-sizing: border-box;top: 0;bottom: 0;left: 50%;z-index: -1;}#sk-container-id-22 div.sk-parallel-item {display: flex;flex-direction: column;z-index: 1;position: relative;background-color: white;}#sk-container-id-22 div.sk-parallel-item:first-child::after {align-self: flex-end;width: 50%;}#sk-container-id-22 div.sk-parallel-item:last-child::after {align-self: flex-start;width: 50%;}#sk-container-id-22 div.sk-parallel-item:only-child::after {width: 0;}#sk-container-id-22 div.sk-dashed-wrapped {border: 1px dashed gray;margin: 0 0.4em 0.5em 0.4em;box-sizing: border-box;padding-bottom: 0.4em;background-color: white;}#sk-container-id-22 div.sk-label label {font-family: monospace;font-weight: bold;display: inline-block;line-height: 1.2em;}#sk-container-id-22 div.sk-label-container {text-align: center;}#sk-container-id-22 div.sk-container {/* jupyter's `normalize.less` sets `[hidden] { display: none; }` but bootstrap.min.css set `[hidden] { display: none !important; }` so we also need the `!important` here to be able to override the default hidden behavior on the sphinx rendered scikit-learn.org. See: https://github.com/scikit-learn/scikit-learn/issues/21755 */display: inline-block !important;position: relative;}#sk-container-id-22 div.sk-text-repr-fallback {display: none;}</style><div id=\"sk-container-id-22\" class=\"sk-top-container\"><div class=\"sk-text-repr-fallback\"><pre>GridSearchCV(cv=10, estimator=KNeighborsClassifier(),\n",
       "             param_grid={&#x27;n_neighbors&#x27;: [3, 4, 5, 6, 7, 8, 9, 10, 15]},\n",
       "             scoring=&#x27;roc_auc&#x27;)</pre><b>In a Jupyter environment, please rerun this cell to show the HTML representation or trust the notebook. <br />On GitHub, the HTML representation is unable to render, please try loading this page with nbviewer.org.</b></div><div class=\"sk-container\" hidden><div class=\"sk-item sk-dashed-wrapped\"><div class=\"sk-label-container\"><div class=\"sk-label sk-toggleable\"><input class=\"sk-toggleable__control sk-hidden--visually\" id=\"sk-estimator-id-72\" type=\"checkbox\" ><label for=\"sk-estimator-id-72\" class=\"sk-toggleable__label sk-toggleable__label-arrow\">GridSearchCV</label><div class=\"sk-toggleable__content\"><pre>GridSearchCV(cv=10, estimator=KNeighborsClassifier(),\n",
       "             param_grid={&#x27;n_neighbors&#x27;: [3, 4, 5, 6, 7, 8, 9, 10, 15]},\n",
       "             scoring=&#x27;roc_auc&#x27;)</pre></div></div></div><div class=\"sk-parallel\"><div class=\"sk-parallel-item\"><div class=\"sk-item\"><div class=\"sk-label-container\"><div class=\"sk-label sk-toggleable\"><input class=\"sk-toggleable__control sk-hidden--visually\" id=\"sk-estimator-id-73\" type=\"checkbox\" ><label for=\"sk-estimator-id-73\" class=\"sk-toggleable__label sk-toggleable__label-arrow\">estimator: KNeighborsClassifier</label><div class=\"sk-toggleable__content\"><pre>KNeighborsClassifier()</pre></div></div></div><div class=\"sk-serial\"><div class=\"sk-item\"><div class=\"sk-estimator sk-toggleable\"><input class=\"sk-toggleable__control sk-hidden--visually\" id=\"sk-estimator-id-74\" type=\"checkbox\" ><label for=\"sk-estimator-id-74\" class=\"sk-toggleable__label sk-toggleable__label-arrow\">KNeighborsClassifier</label><div class=\"sk-toggleable__content\"><pre>KNeighborsClassifier()</pre></div></div></div></div></div></div></div></div></div></div>"
      ],
      "text/plain": [
       "GridSearchCV(cv=10, estimator=KNeighborsClassifier(),\n",
       "             param_grid={'n_neighbors': [3, 4, 5, 6, 7, 8, 9, 10, 15]},\n",
       "             scoring='roc_auc')"
      ]
     },
     "execution_count": 82,
     "metadata": {},
     "output_type": "execute_result"
    }
   ],
   "source": [
    "knn = KNeighborsClassifier()\n",
    "param_grid = {'n_neighbors':[3, 4, 5, 6, 7, 8, 9, 10, 15]}\n",
    "\n",
    "grid_knn_clf = GridSearchCV(knn, param_grid=param_grid, cv = 10, scoring='roc_auc')\n",
    "grid_knn_clf.fit(X_train_reduced, y_train)"
   ]
  },
  {
   "cell_type": "code",
   "execution_count": 83,
   "metadata": {},
   "outputs": [
    {
     "name": "stdout",
     "output_type": "stream",
     "text": [
      "Best Parameters for KNN Classifier with PCA:  {'n_neighbors': 8}\n"
     ]
    }
   ],
   "source": [
    "print(\"Best Parameters for KNN Classifier with PCA: \", grid_knn_clf.best_params_)"
   ]
  },
  {
   "cell_type": "code",
   "execution_count": 84,
   "metadata": {},
   "outputs": [
    {
     "data": {
      "text/html": [
       "<style>#sk-container-id-23 {color: black;background-color: white;}#sk-container-id-23 pre{padding: 0;}#sk-container-id-23 div.sk-toggleable {background-color: white;}#sk-container-id-23 label.sk-toggleable__label {cursor: pointer;display: block;width: 100%;margin-bottom: 0;padding: 0.3em;box-sizing: border-box;text-align: center;}#sk-container-id-23 label.sk-toggleable__label-arrow:before {content: \"▸\";float: left;margin-right: 0.25em;color: #696969;}#sk-container-id-23 label.sk-toggleable__label-arrow:hover:before {color: black;}#sk-container-id-23 div.sk-estimator:hover label.sk-toggleable__label-arrow:before {color: black;}#sk-container-id-23 div.sk-toggleable__content {max-height: 0;max-width: 0;overflow: hidden;text-align: left;background-color: #f0f8ff;}#sk-container-id-23 div.sk-toggleable__content pre {margin: 0.2em;color: black;border-radius: 0.25em;background-color: #f0f8ff;}#sk-container-id-23 input.sk-toggleable__control:checked~div.sk-toggleable__content {max-height: 200px;max-width: 100%;overflow: auto;}#sk-container-id-23 input.sk-toggleable__control:checked~label.sk-toggleable__label-arrow:before {content: \"▾\";}#sk-container-id-23 div.sk-estimator input.sk-toggleable__control:checked~label.sk-toggleable__label {background-color: #d4ebff;}#sk-container-id-23 div.sk-label input.sk-toggleable__control:checked~label.sk-toggleable__label {background-color: #d4ebff;}#sk-container-id-23 input.sk-hidden--visually {border: 0;clip: rect(1px 1px 1px 1px);clip: rect(1px, 1px, 1px, 1px);height: 1px;margin: -1px;overflow: hidden;padding: 0;position: absolute;width: 1px;}#sk-container-id-23 div.sk-estimator {font-family: monospace;background-color: #f0f8ff;border: 1px dotted black;border-radius: 0.25em;box-sizing: border-box;margin-bottom: 0.5em;}#sk-container-id-23 div.sk-estimator:hover {background-color: #d4ebff;}#sk-container-id-23 div.sk-parallel-item::after {content: \"\";width: 100%;border-bottom: 1px solid gray;flex-grow: 1;}#sk-container-id-23 div.sk-label:hover label.sk-toggleable__label {background-color: #d4ebff;}#sk-container-id-23 div.sk-serial::before {content: \"\";position: absolute;border-left: 1px solid gray;box-sizing: border-box;top: 0;bottom: 0;left: 50%;z-index: 0;}#sk-container-id-23 div.sk-serial {display: flex;flex-direction: column;align-items: center;background-color: white;padding-right: 0.2em;padding-left: 0.2em;position: relative;}#sk-container-id-23 div.sk-item {position: relative;z-index: 1;}#sk-container-id-23 div.sk-parallel {display: flex;align-items: stretch;justify-content: center;background-color: white;position: relative;}#sk-container-id-23 div.sk-item::before, #sk-container-id-23 div.sk-parallel-item::before {content: \"\";position: absolute;border-left: 1px solid gray;box-sizing: border-box;top: 0;bottom: 0;left: 50%;z-index: -1;}#sk-container-id-23 div.sk-parallel-item {display: flex;flex-direction: column;z-index: 1;position: relative;background-color: white;}#sk-container-id-23 div.sk-parallel-item:first-child::after {align-self: flex-end;width: 50%;}#sk-container-id-23 div.sk-parallel-item:last-child::after {align-self: flex-start;width: 50%;}#sk-container-id-23 div.sk-parallel-item:only-child::after {width: 0;}#sk-container-id-23 div.sk-dashed-wrapped {border: 1px dashed gray;margin: 0 0.4em 0.5em 0.4em;box-sizing: border-box;padding-bottom: 0.4em;background-color: white;}#sk-container-id-23 div.sk-label label {font-family: monospace;font-weight: bold;display: inline-block;line-height: 1.2em;}#sk-container-id-23 div.sk-label-container {text-align: center;}#sk-container-id-23 div.sk-container {/* jupyter's `normalize.less` sets `[hidden] { display: none; }` but bootstrap.min.css set `[hidden] { display: none !important; }` so we also need the `!important` here to be able to override the default hidden behavior on the sphinx rendered scikit-learn.org. See: https://github.com/scikit-learn/scikit-learn/issues/21755 */display: inline-block !important;position: relative;}#sk-container-id-23 div.sk-text-repr-fallback {display: none;}</style><div id=\"sk-container-id-23\" class=\"sk-top-container\"><div class=\"sk-text-repr-fallback\"><pre>KNeighborsClassifier(n_neighbors=8)</pre><b>In a Jupyter environment, please rerun this cell to show the HTML representation or trust the notebook. <br />On GitHub, the HTML representation is unable to render, please try loading this page with nbviewer.org.</b></div><div class=\"sk-container\" hidden><div class=\"sk-item\"><div class=\"sk-estimator sk-toggleable\"><input class=\"sk-toggleable__control sk-hidden--visually\" id=\"sk-estimator-id-75\" type=\"checkbox\" checked><label for=\"sk-estimator-id-75\" class=\"sk-toggleable__label sk-toggleable__label-arrow\">KNeighborsClassifier</label><div class=\"sk-toggleable__content\"><pre>KNeighborsClassifier(n_neighbors=8)</pre></div></div></div></div></div>"
      ],
      "text/plain": [
       "KNeighborsClassifier(n_neighbors=8)"
      ]
     },
     "execution_count": 84,
     "metadata": {},
     "output_type": "execute_result"
    }
   ],
   "source": [
    "pca_knn = KNeighborsClassifier(n_neighbors=8)\n",
    "pca_knn.fit(X_train_reduced, y_train)"
   ]
  },
  {
   "cell_type": "code",
   "execution_count": 85,
   "metadata": {},
   "outputs": [
    {
     "name": "stdout",
     "output_type": "stream",
     "text": [
      "KNN Classifier with PCA Training Score:  0.9771929824561404\n",
      "KNN Classifier with PCA Testing Score:  0.9421052631578948\n"
     ]
    }
   ],
   "source": [
    "print(\"KNN Classifier with PCA Training Score: \", pca_knn.score(X_train_reduced, y_train))\n",
    "print(\"KNN Classifier with PCA Testing Score: \", pca_knn.score(X_test_reduced, y_test))"
   ]
  },
  {
   "cell_type": "code",
   "execution_count": 86,
   "metadata": {},
   "outputs": [],
   "source": [
    "pca_report_table_1 = ['KNN Classifier with PCA', 'n_neighbors = 8', \n",
    "                      pca_knn.score(X_train_reduced, y_train), pca_knn.score(X_test_reduced, y_test)]"
   ]
  },
  {
   "cell_type": "markdown",
   "metadata": {},
   "source": [
    "##  SVM Classifier with PCA"
   ]
  },
  {
   "cell_type": "code",
   "execution_count": 87,
   "metadata": {},
   "outputs": [
    {
     "data": {
      "text/html": [
       "<style>#sk-container-id-24 {color: black;background-color: white;}#sk-container-id-24 pre{padding: 0;}#sk-container-id-24 div.sk-toggleable {background-color: white;}#sk-container-id-24 label.sk-toggleable__label {cursor: pointer;display: block;width: 100%;margin-bottom: 0;padding: 0.3em;box-sizing: border-box;text-align: center;}#sk-container-id-24 label.sk-toggleable__label-arrow:before {content: \"▸\";float: left;margin-right: 0.25em;color: #696969;}#sk-container-id-24 label.sk-toggleable__label-arrow:hover:before {color: black;}#sk-container-id-24 div.sk-estimator:hover label.sk-toggleable__label-arrow:before {color: black;}#sk-container-id-24 div.sk-toggleable__content {max-height: 0;max-width: 0;overflow: hidden;text-align: left;background-color: #f0f8ff;}#sk-container-id-24 div.sk-toggleable__content pre {margin: 0.2em;color: black;border-radius: 0.25em;background-color: #f0f8ff;}#sk-container-id-24 input.sk-toggleable__control:checked~div.sk-toggleable__content {max-height: 200px;max-width: 100%;overflow: auto;}#sk-container-id-24 input.sk-toggleable__control:checked~label.sk-toggleable__label-arrow:before {content: \"▾\";}#sk-container-id-24 div.sk-estimator input.sk-toggleable__control:checked~label.sk-toggleable__label {background-color: #d4ebff;}#sk-container-id-24 div.sk-label input.sk-toggleable__control:checked~label.sk-toggleable__label {background-color: #d4ebff;}#sk-container-id-24 input.sk-hidden--visually {border: 0;clip: rect(1px 1px 1px 1px);clip: rect(1px, 1px, 1px, 1px);height: 1px;margin: -1px;overflow: hidden;padding: 0;position: absolute;width: 1px;}#sk-container-id-24 div.sk-estimator {font-family: monospace;background-color: #f0f8ff;border: 1px dotted black;border-radius: 0.25em;box-sizing: border-box;margin-bottom: 0.5em;}#sk-container-id-24 div.sk-estimator:hover {background-color: #d4ebff;}#sk-container-id-24 div.sk-parallel-item::after {content: \"\";width: 100%;border-bottom: 1px solid gray;flex-grow: 1;}#sk-container-id-24 div.sk-label:hover label.sk-toggleable__label {background-color: #d4ebff;}#sk-container-id-24 div.sk-serial::before {content: \"\";position: absolute;border-left: 1px solid gray;box-sizing: border-box;top: 0;bottom: 0;left: 50%;z-index: 0;}#sk-container-id-24 div.sk-serial {display: flex;flex-direction: column;align-items: center;background-color: white;padding-right: 0.2em;padding-left: 0.2em;position: relative;}#sk-container-id-24 div.sk-item {position: relative;z-index: 1;}#sk-container-id-24 div.sk-parallel {display: flex;align-items: stretch;justify-content: center;background-color: white;position: relative;}#sk-container-id-24 div.sk-item::before, #sk-container-id-24 div.sk-parallel-item::before {content: \"\";position: absolute;border-left: 1px solid gray;box-sizing: border-box;top: 0;bottom: 0;left: 50%;z-index: -1;}#sk-container-id-24 div.sk-parallel-item {display: flex;flex-direction: column;z-index: 1;position: relative;background-color: white;}#sk-container-id-24 div.sk-parallel-item:first-child::after {align-self: flex-end;width: 50%;}#sk-container-id-24 div.sk-parallel-item:last-child::after {align-self: flex-start;width: 50%;}#sk-container-id-24 div.sk-parallel-item:only-child::after {width: 0;}#sk-container-id-24 div.sk-dashed-wrapped {border: 1px dashed gray;margin: 0 0.4em 0.5em 0.4em;box-sizing: border-box;padding-bottom: 0.4em;background-color: white;}#sk-container-id-24 div.sk-label label {font-family: monospace;font-weight: bold;display: inline-block;line-height: 1.2em;}#sk-container-id-24 div.sk-label-container {text-align: center;}#sk-container-id-24 div.sk-container {/* jupyter's `normalize.less` sets `[hidden] { display: none; }` but bootstrap.min.css set `[hidden] { display: none !important; }` so we also need the `!important` here to be able to override the default hidden behavior on the sphinx rendered scikit-learn.org. See: https://github.com/scikit-learn/scikit-learn/issues/21755 */display: inline-block !important;position: relative;}#sk-container-id-24 div.sk-text-repr-fallback {display: none;}</style><div id=\"sk-container-id-24\" class=\"sk-top-container\"><div class=\"sk-text-repr-fallback\"><pre>GridSearchCV(cv=5, estimator=SVC(),\n",
       "             param_grid={&#x27;C&#x27;: [0.001, 0.01, 0.1, 1, 10, 100],\n",
       "                         &#x27;kernel&#x27;: [&#x27;linear&#x27;, &#x27;rbf&#x27;, &#x27;poly&#x27;]},\n",
       "             return_train_score=True, scoring=&#x27;roc_auc&#x27;)</pre><b>In a Jupyter environment, please rerun this cell to show the HTML representation or trust the notebook. <br />On GitHub, the HTML representation is unable to render, please try loading this page with nbviewer.org.</b></div><div class=\"sk-container\" hidden><div class=\"sk-item sk-dashed-wrapped\"><div class=\"sk-label-container\"><div class=\"sk-label sk-toggleable\"><input class=\"sk-toggleable__control sk-hidden--visually\" id=\"sk-estimator-id-76\" type=\"checkbox\" ><label for=\"sk-estimator-id-76\" class=\"sk-toggleable__label sk-toggleable__label-arrow\">GridSearchCV</label><div class=\"sk-toggleable__content\"><pre>GridSearchCV(cv=5, estimator=SVC(),\n",
       "             param_grid={&#x27;C&#x27;: [0.001, 0.01, 0.1, 1, 10, 100],\n",
       "                         &#x27;kernel&#x27;: [&#x27;linear&#x27;, &#x27;rbf&#x27;, &#x27;poly&#x27;]},\n",
       "             return_train_score=True, scoring=&#x27;roc_auc&#x27;)</pre></div></div></div><div class=\"sk-parallel\"><div class=\"sk-parallel-item\"><div class=\"sk-item\"><div class=\"sk-label-container\"><div class=\"sk-label sk-toggleable\"><input class=\"sk-toggleable__control sk-hidden--visually\" id=\"sk-estimator-id-77\" type=\"checkbox\" ><label for=\"sk-estimator-id-77\" class=\"sk-toggleable__label sk-toggleable__label-arrow\">estimator: SVC</label><div class=\"sk-toggleable__content\"><pre>SVC()</pre></div></div></div><div class=\"sk-serial\"><div class=\"sk-item\"><div class=\"sk-estimator sk-toggleable\"><input class=\"sk-toggleable__control sk-hidden--visually\" id=\"sk-estimator-id-78\" type=\"checkbox\" ><label for=\"sk-estimator-id-78\" class=\"sk-toggleable__label sk-toggleable__label-arrow\">SVC</label><div class=\"sk-toggleable__content\"><pre>SVC()</pre></div></div></div></div></div></div></div></div></div></div>"
      ],
      "text/plain": [
       "GridSearchCV(cv=5, estimator=SVC(),\n",
       "             param_grid={'C': [0.001, 0.01, 0.1, 1, 10, 100],\n",
       "                         'kernel': ['linear', 'rbf', 'poly']},\n",
       "             return_train_score=True, scoring='roc_auc')"
      ]
     },
     "execution_count": 87,
     "metadata": {},
     "output_type": "execute_result"
    }
   ],
   "source": [
    "svc = SVC()\n",
    "param_grid = {'C':[0.001, 0.01, 0.1, 1, 10, 100], 'kernel': ['linear', 'rbf', 'poly']}\n",
    "\n",
    "grid_svc_clf = GridSearchCV(svc, param_grid, cv = 5, scoring='roc_auc', return_train_score=True)\n",
    "grid_svc_clf.fit(X_train_reduced, y_train)"
   ]
  },
  {
   "cell_type": "code",
   "execution_count": 88,
   "metadata": {},
   "outputs": [
    {
     "name": "stdout",
     "output_type": "stream",
     "text": [
      "Best Parameters for LinearSVC with PCA:  {'C': 100, 'kernel': 'rbf'}\n"
     ]
    }
   ],
   "source": [
    "print(\"Best Parameters for LinearSVC with PCA: \", grid_svc_clf.best_params_)"
   ]
  },
  {
   "cell_type": "code",
   "execution_count": 89,
   "metadata": {},
   "outputs": [
    {
     "data": {
      "text/html": [
       "<style>#sk-container-id-25 {color: black;background-color: white;}#sk-container-id-25 pre{padding: 0;}#sk-container-id-25 div.sk-toggleable {background-color: white;}#sk-container-id-25 label.sk-toggleable__label {cursor: pointer;display: block;width: 100%;margin-bottom: 0;padding: 0.3em;box-sizing: border-box;text-align: center;}#sk-container-id-25 label.sk-toggleable__label-arrow:before {content: \"▸\";float: left;margin-right: 0.25em;color: #696969;}#sk-container-id-25 label.sk-toggleable__label-arrow:hover:before {color: black;}#sk-container-id-25 div.sk-estimator:hover label.sk-toggleable__label-arrow:before {color: black;}#sk-container-id-25 div.sk-toggleable__content {max-height: 0;max-width: 0;overflow: hidden;text-align: left;background-color: #f0f8ff;}#sk-container-id-25 div.sk-toggleable__content pre {margin: 0.2em;color: black;border-radius: 0.25em;background-color: #f0f8ff;}#sk-container-id-25 input.sk-toggleable__control:checked~div.sk-toggleable__content {max-height: 200px;max-width: 100%;overflow: auto;}#sk-container-id-25 input.sk-toggleable__control:checked~label.sk-toggleable__label-arrow:before {content: \"▾\";}#sk-container-id-25 div.sk-estimator input.sk-toggleable__control:checked~label.sk-toggleable__label {background-color: #d4ebff;}#sk-container-id-25 div.sk-label input.sk-toggleable__control:checked~label.sk-toggleable__label {background-color: #d4ebff;}#sk-container-id-25 input.sk-hidden--visually {border: 0;clip: rect(1px 1px 1px 1px);clip: rect(1px, 1px, 1px, 1px);height: 1px;margin: -1px;overflow: hidden;padding: 0;position: absolute;width: 1px;}#sk-container-id-25 div.sk-estimator {font-family: monospace;background-color: #f0f8ff;border: 1px dotted black;border-radius: 0.25em;box-sizing: border-box;margin-bottom: 0.5em;}#sk-container-id-25 div.sk-estimator:hover {background-color: #d4ebff;}#sk-container-id-25 div.sk-parallel-item::after {content: \"\";width: 100%;border-bottom: 1px solid gray;flex-grow: 1;}#sk-container-id-25 div.sk-label:hover label.sk-toggleable__label {background-color: #d4ebff;}#sk-container-id-25 div.sk-serial::before {content: \"\";position: absolute;border-left: 1px solid gray;box-sizing: border-box;top: 0;bottom: 0;left: 50%;z-index: 0;}#sk-container-id-25 div.sk-serial {display: flex;flex-direction: column;align-items: center;background-color: white;padding-right: 0.2em;padding-left: 0.2em;position: relative;}#sk-container-id-25 div.sk-item {position: relative;z-index: 1;}#sk-container-id-25 div.sk-parallel {display: flex;align-items: stretch;justify-content: center;background-color: white;position: relative;}#sk-container-id-25 div.sk-item::before, #sk-container-id-25 div.sk-parallel-item::before {content: \"\";position: absolute;border-left: 1px solid gray;box-sizing: border-box;top: 0;bottom: 0;left: 50%;z-index: -1;}#sk-container-id-25 div.sk-parallel-item {display: flex;flex-direction: column;z-index: 1;position: relative;background-color: white;}#sk-container-id-25 div.sk-parallel-item:first-child::after {align-self: flex-end;width: 50%;}#sk-container-id-25 div.sk-parallel-item:last-child::after {align-self: flex-start;width: 50%;}#sk-container-id-25 div.sk-parallel-item:only-child::after {width: 0;}#sk-container-id-25 div.sk-dashed-wrapped {border: 1px dashed gray;margin: 0 0.4em 0.5em 0.4em;box-sizing: border-box;padding-bottom: 0.4em;background-color: white;}#sk-container-id-25 div.sk-label label {font-family: monospace;font-weight: bold;display: inline-block;line-height: 1.2em;}#sk-container-id-25 div.sk-label-container {text-align: center;}#sk-container-id-25 div.sk-container {/* jupyter's `normalize.less` sets `[hidden] { display: none; }` but bootstrap.min.css set `[hidden] { display: none !important; }` so we also need the `!important` here to be able to override the default hidden behavior on the sphinx rendered scikit-learn.org. See: https://github.com/scikit-learn/scikit-learn/issues/21755 */display: inline-block !important;position: relative;}#sk-container-id-25 div.sk-text-repr-fallback {display: none;}</style><div id=\"sk-container-id-25\" class=\"sk-top-container\"><div class=\"sk-text-repr-fallback\"><pre>SVC(C=10)</pre><b>In a Jupyter environment, please rerun this cell to show the HTML representation or trust the notebook. <br />On GitHub, the HTML representation is unable to render, please try loading this page with nbviewer.org.</b></div><div class=\"sk-container\" hidden><div class=\"sk-item\"><div class=\"sk-estimator sk-toggleable\"><input class=\"sk-toggleable__control sk-hidden--visually\" id=\"sk-estimator-id-79\" type=\"checkbox\" checked><label for=\"sk-estimator-id-79\" class=\"sk-toggleable__label sk-toggleable__label-arrow\">SVC</label><div class=\"sk-toggleable__content\"><pre>SVC(C=10)</pre></div></div></div></div></div>"
      ],
      "text/plain": [
       "SVC(C=10)"
      ]
     },
     "execution_count": 89,
     "metadata": {},
     "output_type": "execute_result"
    }
   ],
   "source": [
    "pca_svc = SVC(C= 10, kernel= 'rbf')\n",
    "pca_svc.fit(X_train_reduced, y_train)"
   ]
  },
  {
   "cell_type": "code",
   "execution_count": 90,
   "metadata": {},
   "outputs": [
    {
     "name": "stdout",
     "output_type": "stream",
     "text": [
      "SVC with PCA Training Score:  0.9578947368421052\n",
      "SVC with PCA Testing Score:  0.9421052631578948\n"
     ]
    }
   ],
   "source": [
    "print(\"SVC with PCA Training Score: \", pca_svc.score(X_train_reduced, y_train))\n",
    "print(\"SVC with PCA Testing Score: \", pca_svc.score(X_test_reduced, y_test))"
   ]
  },
  {
   "cell_type": "code",
   "execution_count": 91,
   "metadata": {},
   "outputs": [],
   "source": [
    "pca_report_table_2 = ['SVC with PCA', 'C =10, kernel= rbf', \n",
    "                      pca_svc.score(X_train_reduced, y_train), pca_svc.score(X_test_reduced, y_test)]"
   ]
  },
  {
   "cell_type": "markdown",
   "metadata": {},
   "source": [
    "## Logistic Regression with PCA"
   ]
  },
  {
   "cell_type": "code",
   "execution_count": 92,
   "metadata": {},
   "outputs": [
    {
     "data": {
      "text/html": [
       "<style>#sk-container-id-26 {color: black;background-color: white;}#sk-container-id-26 pre{padding: 0;}#sk-container-id-26 div.sk-toggleable {background-color: white;}#sk-container-id-26 label.sk-toggleable__label {cursor: pointer;display: block;width: 100%;margin-bottom: 0;padding: 0.3em;box-sizing: border-box;text-align: center;}#sk-container-id-26 label.sk-toggleable__label-arrow:before {content: \"▸\";float: left;margin-right: 0.25em;color: #696969;}#sk-container-id-26 label.sk-toggleable__label-arrow:hover:before {color: black;}#sk-container-id-26 div.sk-estimator:hover label.sk-toggleable__label-arrow:before {color: black;}#sk-container-id-26 div.sk-toggleable__content {max-height: 0;max-width: 0;overflow: hidden;text-align: left;background-color: #f0f8ff;}#sk-container-id-26 div.sk-toggleable__content pre {margin: 0.2em;color: black;border-radius: 0.25em;background-color: #f0f8ff;}#sk-container-id-26 input.sk-toggleable__control:checked~div.sk-toggleable__content {max-height: 200px;max-width: 100%;overflow: auto;}#sk-container-id-26 input.sk-toggleable__control:checked~label.sk-toggleable__label-arrow:before {content: \"▾\";}#sk-container-id-26 div.sk-estimator input.sk-toggleable__control:checked~label.sk-toggleable__label {background-color: #d4ebff;}#sk-container-id-26 div.sk-label input.sk-toggleable__control:checked~label.sk-toggleable__label {background-color: #d4ebff;}#sk-container-id-26 input.sk-hidden--visually {border: 0;clip: rect(1px 1px 1px 1px);clip: rect(1px, 1px, 1px, 1px);height: 1px;margin: -1px;overflow: hidden;padding: 0;position: absolute;width: 1px;}#sk-container-id-26 div.sk-estimator {font-family: monospace;background-color: #f0f8ff;border: 1px dotted black;border-radius: 0.25em;box-sizing: border-box;margin-bottom: 0.5em;}#sk-container-id-26 div.sk-estimator:hover {background-color: #d4ebff;}#sk-container-id-26 div.sk-parallel-item::after {content: \"\";width: 100%;border-bottom: 1px solid gray;flex-grow: 1;}#sk-container-id-26 div.sk-label:hover label.sk-toggleable__label {background-color: #d4ebff;}#sk-container-id-26 div.sk-serial::before {content: \"\";position: absolute;border-left: 1px solid gray;box-sizing: border-box;top: 0;bottom: 0;left: 50%;z-index: 0;}#sk-container-id-26 div.sk-serial {display: flex;flex-direction: column;align-items: center;background-color: white;padding-right: 0.2em;padding-left: 0.2em;position: relative;}#sk-container-id-26 div.sk-item {position: relative;z-index: 1;}#sk-container-id-26 div.sk-parallel {display: flex;align-items: stretch;justify-content: center;background-color: white;position: relative;}#sk-container-id-26 div.sk-item::before, #sk-container-id-26 div.sk-parallel-item::before {content: \"\";position: absolute;border-left: 1px solid gray;box-sizing: border-box;top: 0;bottom: 0;left: 50%;z-index: -1;}#sk-container-id-26 div.sk-parallel-item {display: flex;flex-direction: column;z-index: 1;position: relative;background-color: white;}#sk-container-id-26 div.sk-parallel-item:first-child::after {align-self: flex-end;width: 50%;}#sk-container-id-26 div.sk-parallel-item:last-child::after {align-self: flex-start;width: 50%;}#sk-container-id-26 div.sk-parallel-item:only-child::after {width: 0;}#sk-container-id-26 div.sk-dashed-wrapped {border: 1px dashed gray;margin: 0 0.4em 0.5em 0.4em;box-sizing: border-box;padding-bottom: 0.4em;background-color: white;}#sk-container-id-26 div.sk-label label {font-family: monospace;font-weight: bold;display: inline-block;line-height: 1.2em;}#sk-container-id-26 div.sk-label-container {text-align: center;}#sk-container-id-26 div.sk-container {/* jupyter's `normalize.less` sets `[hidden] { display: none; }` but bootstrap.min.css set `[hidden] { display: none !important; }` so we also need the `!important` here to be able to override the default hidden behavior on the sphinx rendered scikit-learn.org. See: https://github.com/scikit-learn/scikit-learn/issues/21755 */display: inline-block !important;position: relative;}#sk-container-id-26 div.sk-text-repr-fallback {display: none;}</style><div id=\"sk-container-id-26\" class=\"sk-top-container\"><div class=\"sk-text-repr-fallback\"><pre>GridSearchCV(cv=5, estimator=LogisticRegression(random_state=0),\n",
       "             param_grid={&#x27;penalty&#x27;: [&#x27;l1&#x27;, &#x27;l2&#x27;]}, return_train_score=True,\n",
       "             scoring=&#x27;roc_auc&#x27;)</pre><b>In a Jupyter environment, please rerun this cell to show the HTML representation or trust the notebook. <br />On GitHub, the HTML representation is unable to render, please try loading this page with nbviewer.org.</b></div><div class=\"sk-container\" hidden><div class=\"sk-item sk-dashed-wrapped\"><div class=\"sk-label-container\"><div class=\"sk-label sk-toggleable\"><input class=\"sk-toggleable__control sk-hidden--visually\" id=\"sk-estimator-id-80\" type=\"checkbox\" ><label for=\"sk-estimator-id-80\" class=\"sk-toggleable__label sk-toggleable__label-arrow\">GridSearchCV</label><div class=\"sk-toggleable__content\"><pre>GridSearchCV(cv=5, estimator=LogisticRegression(random_state=0),\n",
       "             param_grid={&#x27;penalty&#x27;: [&#x27;l1&#x27;, &#x27;l2&#x27;]}, return_train_score=True,\n",
       "             scoring=&#x27;roc_auc&#x27;)</pre></div></div></div><div class=\"sk-parallel\"><div class=\"sk-parallel-item\"><div class=\"sk-item\"><div class=\"sk-label-container\"><div class=\"sk-label sk-toggleable\"><input class=\"sk-toggleable__control sk-hidden--visually\" id=\"sk-estimator-id-81\" type=\"checkbox\" ><label for=\"sk-estimator-id-81\" class=\"sk-toggleable__label sk-toggleable__label-arrow\">estimator: LogisticRegression</label><div class=\"sk-toggleable__content\"><pre>LogisticRegression(random_state=0)</pre></div></div></div><div class=\"sk-serial\"><div class=\"sk-item\"><div class=\"sk-estimator sk-toggleable\"><input class=\"sk-toggleable__control sk-hidden--visually\" id=\"sk-estimator-id-82\" type=\"checkbox\" ><label for=\"sk-estimator-id-82\" class=\"sk-toggleable__label sk-toggleable__label-arrow\">LogisticRegression</label><div class=\"sk-toggleable__content\"><pre>LogisticRegression(random_state=0)</pre></div></div></div></div></div></div></div></div></div></div>"
      ],
      "text/plain": [
       "GridSearchCV(cv=5, estimator=LogisticRegression(random_state=0),\n",
       "             param_grid={'penalty': ['l1', 'l2']}, return_train_score=True,\n",
       "             scoring='roc_auc')"
      ]
     },
     "execution_count": 92,
     "metadata": {},
     "output_type": "execute_result"
    }
   ],
   "source": [
    "pca_lr = LogisticRegression(random_state=0)\n",
    "\n",
    "param_grid = {'penalty':['l1', 'l2']}\n",
    "\n",
    "grid_log_clf = GridSearchCV(pca_lr , param_grid, cv = 5, return_train_score=True, scoring='roc_auc')\n",
    "grid_log_clf.fit(X_train_reduced, y_train)"
   ]
  },
  {
   "cell_type": "code",
   "execution_count": 93,
   "metadata": {},
   "outputs": [
    {
     "name": "stdout",
     "output_type": "stream",
     "text": [
      "Best Parameters for Logistic Regression with PCA:  {'penalty': 'l2'}\n"
     ]
    }
   ],
   "source": [
    "print(\"Best Parameters for Logistic Regression with PCA: \", grid_log_clf.best_params_)"
   ]
  },
  {
   "cell_type": "code",
   "execution_count": 96,
   "metadata": {},
   "outputs": [
    {
     "data": {
      "text/html": [
       "<style>#sk-container-id-28 {color: black;background-color: white;}#sk-container-id-28 pre{padding: 0;}#sk-container-id-28 div.sk-toggleable {background-color: white;}#sk-container-id-28 label.sk-toggleable__label {cursor: pointer;display: block;width: 100%;margin-bottom: 0;padding: 0.3em;box-sizing: border-box;text-align: center;}#sk-container-id-28 label.sk-toggleable__label-arrow:before {content: \"▸\";float: left;margin-right: 0.25em;color: #696969;}#sk-container-id-28 label.sk-toggleable__label-arrow:hover:before {color: black;}#sk-container-id-28 div.sk-estimator:hover label.sk-toggleable__label-arrow:before {color: black;}#sk-container-id-28 div.sk-toggleable__content {max-height: 0;max-width: 0;overflow: hidden;text-align: left;background-color: #f0f8ff;}#sk-container-id-28 div.sk-toggleable__content pre {margin: 0.2em;color: black;border-radius: 0.25em;background-color: #f0f8ff;}#sk-container-id-28 input.sk-toggleable__control:checked~div.sk-toggleable__content {max-height: 200px;max-width: 100%;overflow: auto;}#sk-container-id-28 input.sk-toggleable__control:checked~label.sk-toggleable__label-arrow:before {content: \"▾\";}#sk-container-id-28 div.sk-estimator input.sk-toggleable__control:checked~label.sk-toggleable__label {background-color: #d4ebff;}#sk-container-id-28 div.sk-label input.sk-toggleable__control:checked~label.sk-toggleable__label {background-color: #d4ebff;}#sk-container-id-28 input.sk-hidden--visually {border: 0;clip: rect(1px 1px 1px 1px);clip: rect(1px, 1px, 1px, 1px);height: 1px;margin: -1px;overflow: hidden;padding: 0;position: absolute;width: 1px;}#sk-container-id-28 div.sk-estimator {font-family: monospace;background-color: #f0f8ff;border: 1px dotted black;border-radius: 0.25em;box-sizing: border-box;margin-bottom: 0.5em;}#sk-container-id-28 div.sk-estimator:hover {background-color: #d4ebff;}#sk-container-id-28 div.sk-parallel-item::after {content: \"\";width: 100%;border-bottom: 1px solid gray;flex-grow: 1;}#sk-container-id-28 div.sk-label:hover label.sk-toggleable__label {background-color: #d4ebff;}#sk-container-id-28 div.sk-serial::before {content: \"\";position: absolute;border-left: 1px solid gray;box-sizing: border-box;top: 0;bottom: 0;left: 50%;z-index: 0;}#sk-container-id-28 div.sk-serial {display: flex;flex-direction: column;align-items: center;background-color: white;padding-right: 0.2em;padding-left: 0.2em;position: relative;}#sk-container-id-28 div.sk-item {position: relative;z-index: 1;}#sk-container-id-28 div.sk-parallel {display: flex;align-items: stretch;justify-content: center;background-color: white;position: relative;}#sk-container-id-28 div.sk-item::before, #sk-container-id-28 div.sk-parallel-item::before {content: \"\";position: absolute;border-left: 1px solid gray;box-sizing: border-box;top: 0;bottom: 0;left: 50%;z-index: -1;}#sk-container-id-28 div.sk-parallel-item {display: flex;flex-direction: column;z-index: 1;position: relative;background-color: white;}#sk-container-id-28 div.sk-parallel-item:first-child::after {align-self: flex-end;width: 50%;}#sk-container-id-28 div.sk-parallel-item:last-child::after {align-self: flex-start;width: 50%;}#sk-container-id-28 div.sk-parallel-item:only-child::after {width: 0;}#sk-container-id-28 div.sk-dashed-wrapped {border: 1px dashed gray;margin: 0 0.4em 0.5em 0.4em;box-sizing: border-box;padding-bottom: 0.4em;background-color: white;}#sk-container-id-28 div.sk-label label {font-family: monospace;font-weight: bold;display: inline-block;line-height: 1.2em;}#sk-container-id-28 div.sk-label-container {text-align: center;}#sk-container-id-28 div.sk-container {/* jupyter's `normalize.less` sets `[hidden] { display: none; }` but bootstrap.min.css set `[hidden] { display: none !important; }` so we also need the `!important` here to be able to override the default hidden behavior on the sphinx rendered scikit-learn.org. See: https://github.com/scikit-learn/scikit-learn/issues/21755 */display: inline-block !important;position: relative;}#sk-container-id-28 div.sk-text-repr-fallback {display: none;}</style><div id=\"sk-container-id-28\" class=\"sk-top-container\"><div class=\"sk-text-repr-fallback\"><pre>LogisticRegression()</pre><b>In a Jupyter environment, please rerun this cell to show the HTML representation or trust the notebook. <br />On GitHub, the HTML representation is unable to render, please try loading this page with nbviewer.org.</b></div><div class=\"sk-container\" hidden><div class=\"sk-item\"><div class=\"sk-estimator sk-toggleable\"><input class=\"sk-toggleable__control sk-hidden--visually\" id=\"sk-estimator-id-84\" type=\"checkbox\" checked><label for=\"sk-estimator-id-84\" class=\"sk-toggleable__label sk-toggleable__label-arrow\">LogisticRegression</label><div class=\"sk-toggleable__content\"><pre>LogisticRegression()</pre></div></div></div></div></div>"
      ],
      "text/plain": [
       "LogisticRegression()"
      ]
     },
     "execution_count": 96,
     "metadata": {},
     "output_type": "execute_result"
    }
   ],
   "source": [
    "pca_lr = LogisticRegression(penalty= 'l2')\n",
    "pca_lr.fit(X_train_reduced, y_train)"
   ]
  },
  {
   "cell_type": "code",
   "execution_count": 97,
   "metadata": {},
   "outputs": [
    {
     "name": "stdout",
     "output_type": "stream",
     "text": [
      "Logistic Regression with PCA Training Score:  0.9298245614035088\n",
      "Logistic Regression with PCA Testing Score:  0.9157894736842105\n"
     ]
    }
   ],
   "source": [
    "print(\"Logistic Regression with PCA Training Score: \", pca_lr.score(X_train_reduced, y_train))\n",
    "print(\"Logistic Regression with PCA Testing Score: \", pca_lr.score(X_test_reduced, y_test))"
   ]
  },
  {
   "cell_type": "code",
   "execution_count": 98,
   "metadata": {},
   "outputs": [],
   "source": [
    "pca_report_table_3 = ['Logistic Regression with PCA', 'penalty = l1', \n",
    "                      pca_lr.score(X_train_reduced, y_train), pca_lr.score(X_test_reduced, y_test)]"
   ]
  },
  {
   "cell_type": "markdown",
   "metadata": {},
   "source": [
    "## Decision Tree Classifier with PCA"
   ]
  },
  {
   "cell_type": "code",
   "execution_count": 99,
   "metadata": {},
   "outputs": [
    {
     "data": {
      "text/html": [
       "<style>#sk-container-id-29 {color: black;background-color: white;}#sk-container-id-29 pre{padding: 0;}#sk-container-id-29 div.sk-toggleable {background-color: white;}#sk-container-id-29 label.sk-toggleable__label {cursor: pointer;display: block;width: 100%;margin-bottom: 0;padding: 0.3em;box-sizing: border-box;text-align: center;}#sk-container-id-29 label.sk-toggleable__label-arrow:before {content: \"▸\";float: left;margin-right: 0.25em;color: #696969;}#sk-container-id-29 label.sk-toggleable__label-arrow:hover:before {color: black;}#sk-container-id-29 div.sk-estimator:hover label.sk-toggleable__label-arrow:before {color: black;}#sk-container-id-29 div.sk-toggleable__content {max-height: 0;max-width: 0;overflow: hidden;text-align: left;background-color: #f0f8ff;}#sk-container-id-29 div.sk-toggleable__content pre {margin: 0.2em;color: black;border-radius: 0.25em;background-color: #f0f8ff;}#sk-container-id-29 input.sk-toggleable__control:checked~div.sk-toggleable__content {max-height: 200px;max-width: 100%;overflow: auto;}#sk-container-id-29 input.sk-toggleable__control:checked~label.sk-toggleable__label-arrow:before {content: \"▾\";}#sk-container-id-29 div.sk-estimator input.sk-toggleable__control:checked~label.sk-toggleable__label {background-color: #d4ebff;}#sk-container-id-29 div.sk-label input.sk-toggleable__control:checked~label.sk-toggleable__label {background-color: #d4ebff;}#sk-container-id-29 input.sk-hidden--visually {border: 0;clip: rect(1px 1px 1px 1px);clip: rect(1px, 1px, 1px, 1px);height: 1px;margin: -1px;overflow: hidden;padding: 0;position: absolute;width: 1px;}#sk-container-id-29 div.sk-estimator {font-family: monospace;background-color: #f0f8ff;border: 1px dotted black;border-radius: 0.25em;box-sizing: border-box;margin-bottom: 0.5em;}#sk-container-id-29 div.sk-estimator:hover {background-color: #d4ebff;}#sk-container-id-29 div.sk-parallel-item::after {content: \"\";width: 100%;border-bottom: 1px solid gray;flex-grow: 1;}#sk-container-id-29 div.sk-label:hover label.sk-toggleable__label {background-color: #d4ebff;}#sk-container-id-29 div.sk-serial::before {content: \"\";position: absolute;border-left: 1px solid gray;box-sizing: border-box;top: 0;bottom: 0;left: 50%;z-index: 0;}#sk-container-id-29 div.sk-serial {display: flex;flex-direction: column;align-items: center;background-color: white;padding-right: 0.2em;padding-left: 0.2em;position: relative;}#sk-container-id-29 div.sk-item {position: relative;z-index: 1;}#sk-container-id-29 div.sk-parallel {display: flex;align-items: stretch;justify-content: center;background-color: white;position: relative;}#sk-container-id-29 div.sk-item::before, #sk-container-id-29 div.sk-parallel-item::before {content: \"\";position: absolute;border-left: 1px solid gray;box-sizing: border-box;top: 0;bottom: 0;left: 50%;z-index: -1;}#sk-container-id-29 div.sk-parallel-item {display: flex;flex-direction: column;z-index: 1;position: relative;background-color: white;}#sk-container-id-29 div.sk-parallel-item:first-child::after {align-self: flex-end;width: 50%;}#sk-container-id-29 div.sk-parallel-item:last-child::after {align-self: flex-start;width: 50%;}#sk-container-id-29 div.sk-parallel-item:only-child::after {width: 0;}#sk-container-id-29 div.sk-dashed-wrapped {border: 1px dashed gray;margin: 0 0.4em 0.5em 0.4em;box-sizing: border-box;padding-bottom: 0.4em;background-color: white;}#sk-container-id-29 div.sk-label label {font-family: monospace;font-weight: bold;display: inline-block;line-height: 1.2em;}#sk-container-id-29 div.sk-label-container {text-align: center;}#sk-container-id-29 div.sk-container {/* jupyter's `normalize.less` sets `[hidden] { display: none; }` but bootstrap.min.css set `[hidden] { display: none !important; }` so we also need the `!important` here to be able to override the default hidden behavior on the sphinx rendered scikit-learn.org. See: https://github.com/scikit-learn/scikit-learn/issues/21755 */display: inline-block !important;position: relative;}#sk-container-id-29 div.sk-text-repr-fallback {display: none;}</style><div id=\"sk-container-id-29\" class=\"sk-top-container\"><div class=\"sk-text-repr-fallback\"><pre>GridSearchCV(cv=5, estimator=DecisionTreeClassifier(random_state=0), n_jobs=-1,\n",
       "             param_grid={&#x27;max_depth&#x27;: [3, 5, 7, 9, 11, 15]})</pre><b>In a Jupyter environment, please rerun this cell to show the HTML representation or trust the notebook. <br />On GitHub, the HTML representation is unable to render, please try loading this page with nbviewer.org.</b></div><div class=\"sk-container\" hidden><div class=\"sk-item sk-dashed-wrapped\"><div class=\"sk-label-container\"><div class=\"sk-label sk-toggleable\"><input class=\"sk-toggleable__control sk-hidden--visually\" id=\"sk-estimator-id-85\" type=\"checkbox\" ><label for=\"sk-estimator-id-85\" class=\"sk-toggleable__label sk-toggleable__label-arrow\">GridSearchCV</label><div class=\"sk-toggleable__content\"><pre>GridSearchCV(cv=5, estimator=DecisionTreeClassifier(random_state=0), n_jobs=-1,\n",
       "             param_grid={&#x27;max_depth&#x27;: [3, 5, 7, 9, 11, 15]})</pre></div></div></div><div class=\"sk-parallel\"><div class=\"sk-parallel-item\"><div class=\"sk-item\"><div class=\"sk-label-container\"><div class=\"sk-label sk-toggleable\"><input class=\"sk-toggleable__control sk-hidden--visually\" id=\"sk-estimator-id-86\" type=\"checkbox\" ><label for=\"sk-estimator-id-86\" class=\"sk-toggleable__label sk-toggleable__label-arrow\">estimator: DecisionTreeClassifier</label><div class=\"sk-toggleable__content\"><pre>DecisionTreeClassifier(random_state=0)</pre></div></div></div><div class=\"sk-serial\"><div class=\"sk-item\"><div class=\"sk-estimator sk-toggleable\"><input class=\"sk-toggleable__control sk-hidden--visually\" id=\"sk-estimator-id-87\" type=\"checkbox\" ><label for=\"sk-estimator-id-87\" class=\"sk-toggleable__label sk-toggleable__label-arrow\">DecisionTreeClassifier</label><div class=\"sk-toggleable__content\"><pre>DecisionTreeClassifier(random_state=0)</pre></div></div></div></div></div></div></div></div></div></div>"
      ],
      "text/plain": [
       "GridSearchCV(cv=5, estimator=DecisionTreeClassifier(random_state=0), n_jobs=-1,\n",
       "             param_grid={'max_depth': [3, 5, 7, 9, 11, 15]})"
      ]
     },
     "execution_count": 99,
     "metadata": {},
     "output_type": "execute_result"
    }
   ],
   "source": [
    "#Base model\n",
    "dt = DecisionTreeClassifier(random_state = 0)\n",
    "\n",
    "#model param\n",
    "grid_param = {'max_depth': [3, 5, 7, 9, 11, 15]}\n",
    "\n",
    "#grid model\n",
    "dt_grid = GridSearchCV(dt, grid_param, cv = 5, n_jobs = -1)\n",
    "\n",
    "#train grid model\n",
    "dt_grid.fit(X_train_reduced, y_train)"
   ]
  },
  {
   "cell_type": "code",
   "execution_count": 100,
   "metadata": {
    "scrolled": true
   },
   "outputs": [
    {
     "name": "stdout",
     "output_type": "stream",
     "text": [
      "Best Parameters for Decision Tree Classifier:  {'max_depth': 5}\n"
     ]
    }
   ],
   "source": [
    "print(\"Best Parameters for Decision Tree Classifier: \", dt_grid.best_params_)"
   ]
  },
  {
   "cell_type": "code",
   "execution_count": 101,
   "metadata": {},
   "outputs": [
    {
     "data": {
      "text/html": [
       "<style>#sk-container-id-30 {color: black;background-color: white;}#sk-container-id-30 pre{padding: 0;}#sk-container-id-30 div.sk-toggleable {background-color: white;}#sk-container-id-30 label.sk-toggleable__label {cursor: pointer;display: block;width: 100%;margin-bottom: 0;padding: 0.3em;box-sizing: border-box;text-align: center;}#sk-container-id-30 label.sk-toggleable__label-arrow:before {content: \"▸\";float: left;margin-right: 0.25em;color: #696969;}#sk-container-id-30 label.sk-toggleable__label-arrow:hover:before {color: black;}#sk-container-id-30 div.sk-estimator:hover label.sk-toggleable__label-arrow:before {color: black;}#sk-container-id-30 div.sk-toggleable__content {max-height: 0;max-width: 0;overflow: hidden;text-align: left;background-color: #f0f8ff;}#sk-container-id-30 div.sk-toggleable__content pre {margin: 0.2em;color: black;border-radius: 0.25em;background-color: #f0f8ff;}#sk-container-id-30 input.sk-toggleable__control:checked~div.sk-toggleable__content {max-height: 200px;max-width: 100%;overflow: auto;}#sk-container-id-30 input.sk-toggleable__control:checked~label.sk-toggleable__label-arrow:before {content: \"▾\";}#sk-container-id-30 div.sk-estimator input.sk-toggleable__control:checked~label.sk-toggleable__label {background-color: #d4ebff;}#sk-container-id-30 div.sk-label input.sk-toggleable__control:checked~label.sk-toggleable__label {background-color: #d4ebff;}#sk-container-id-30 input.sk-hidden--visually {border: 0;clip: rect(1px 1px 1px 1px);clip: rect(1px, 1px, 1px, 1px);height: 1px;margin: -1px;overflow: hidden;padding: 0;position: absolute;width: 1px;}#sk-container-id-30 div.sk-estimator {font-family: monospace;background-color: #f0f8ff;border: 1px dotted black;border-radius: 0.25em;box-sizing: border-box;margin-bottom: 0.5em;}#sk-container-id-30 div.sk-estimator:hover {background-color: #d4ebff;}#sk-container-id-30 div.sk-parallel-item::after {content: \"\";width: 100%;border-bottom: 1px solid gray;flex-grow: 1;}#sk-container-id-30 div.sk-label:hover label.sk-toggleable__label {background-color: #d4ebff;}#sk-container-id-30 div.sk-serial::before {content: \"\";position: absolute;border-left: 1px solid gray;box-sizing: border-box;top: 0;bottom: 0;left: 50%;z-index: 0;}#sk-container-id-30 div.sk-serial {display: flex;flex-direction: column;align-items: center;background-color: white;padding-right: 0.2em;padding-left: 0.2em;position: relative;}#sk-container-id-30 div.sk-item {position: relative;z-index: 1;}#sk-container-id-30 div.sk-parallel {display: flex;align-items: stretch;justify-content: center;background-color: white;position: relative;}#sk-container-id-30 div.sk-item::before, #sk-container-id-30 div.sk-parallel-item::before {content: \"\";position: absolute;border-left: 1px solid gray;box-sizing: border-box;top: 0;bottom: 0;left: 50%;z-index: -1;}#sk-container-id-30 div.sk-parallel-item {display: flex;flex-direction: column;z-index: 1;position: relative;background-color: white;}#sk-container-id-30 div.sk-parallel-item:first-child::after {align-self: flex-end;width: 50%;}#sk-container-id-30 div.sk-parallel-item:last-child::after {align-self: flex-start;width: 50%;}#sk-container-id-30 div.sk-parallel-item:only-child::after {width: 0;}#sk-container-id-30 div.sk-dashed-wrapped {border: 1px dashed gray;margin: 0 0.4em 0.5em 0.4em;box-sizing: border-box;padding-bottom: 0.4em;background-color: white;}#sk-container-id-30 div.sk-label label {font-family: monospace;font-weight: bold;display: inline-block;line-height: 1.2em;}#sk-container-id-30 div.sk-label-container {text-align: center;}#sk-container-id-30 div.sk-container {/* jupyter's `normalize.less` sets `[hidden] { display: none; }` but bootstrap.min.css set `[hidden] { display: none !important; }` so we also need the `!important` here to be able to override the default hidden behavior on the sphinx rendered scikit-learn.org. See: https://github.com/scikit-learn/scikit-learn/issues/21755 */display: inline-block !important;position: relative;}#sk-container-id-30 div.sk-text-repr-fallback {display: none;}</style><div id=\"sk-container-id-30\" class=\"sk-top-container\"><div class=\"sk-text-repr-fallback\"><pre>DecisionTreeClassifier(max_depth=5, random_state=0)</pre><b>In a Jupyter environment, please rerun this cell to show the HTML representation or trust the notebook. <br />On GitHub, the HTML representation is unable to render, please try loading this page with nbviewer.org.</b></div><div class=\"sk-container\" hidden><div class=\"sk-item\"><div class=\"sk-estimator sk-toggleable\"><input class=\"sk-toggleable__control sk-hidden--visually\" id=\"sk-estimator-id-88\" type=\"checkbox\" checked><label for=\"sk-estimator-id-88\" class=\"sk-toggleable__label sk-toggleable__label-arrow\">DecisionTreeClassifier</label><div class=\"sk-toggleable__content\"><pre>DecisionTreeClassifier(max_depth=5, random_state=0)</pre></div></div></div></div></div>"
      ],
      "text/plain": [
       "DecisionTreeClassifier(max_depth=5, random_state=0)"
      ]
     },
     "execution_count": 101,
     "metadata": {},
     "output_type": "execute_result"
    }
   ],
   "source": [
    "pca_dt = DecisionTreeClassifier(max_depth= 5, random_state= 0)\n",
    "pca_dt.fit(X_train_reduced, y_train)"
   ]
  },
  {
   "cell_type": "code",
   "execution_count": 102,
   "metadata": {
    "scrolled": true
   },
   "outputs": [
    {
     "name": "stdout",
     "output_type": "stream",
     "text": [
      "Decision Tree Classifier with PCA Training Score:  0.9964912280701754\n",
      "Decision Tree Classifier with PCA Testing Score:  0.9578947368421052\n"
     ]
    }
   ],
   "source": [
    "print(\"Decision Tree Classifier with PCA Training Score: \", pca_dt.score(X_train_reduced, y_train))\n",
    "print(\"Decision Tree Classifier with PCA Testing Score: \", pca_dt.score(X_test_reduced, y_test))"
   ]
  },
  {
   "cell_type": "code",
   "execution_count": 103,
   "metadata": {},
   "outputs": [],
   "source": [
    "pca_report_table_4 = ['Decision Tree Classifier with PCA', 'max_depth: 5', \n",
    "                      pca_dt.score(X_train_reduced, y_train), pca_dt.score(X_test_reduced, y_test)]"
   ]
  },
  {
   "cell_type": "markdown",
   "metadata": {},
   "source": [
    "## Generating a Report table: PCA\n",
    "For comparing all the models, let's create a table and a plot."
   ]
  },
  {
   "cell_type": "code",
   "execution_count": 104,
   "metadata": {},
   "outputs": [],
   "source": [
    "pca_report_table = pd.DataFrame(list(zip(pca_report_table_1,\n",
    "             pca_report_table_2,\n",
    "             pca_report_table_3,\n",
    "             pca_report_table_4))).transpose()"
   ]
  },
  {
   "cell_type": "code",
   "execution_count": 105,
   "metadata": {},
   "outputs": [],
   "source": [
    "pca_report_table.columns = ['Model Name', 'Model Parameter', 'Training Score', 'Testing Score']\n",
    "pca_report_table.index = pca_report_table['Model Name']"
   ]
  },
  {
   "cell_type": "code",
   "execution_count": 106,
   "metadata": {
    "scrolled": true
   },
   "outputs": [
    {
     "data": {
      "text/html": [
       "<div>\n",
       "<style scoped>\n",
       "    .dataframe tbody tr th:only-of-type {\n",
       "        vertical-align: middle;\n",
       "    }\n",
       "\n",
       "    .dataframe tbody tr th {\n",
       "        vertical-align: top;\n",
       "    }\n",
       "\n",
       "    .dataframe thead th {\n",
       "        text-align: right;\n",
       "    }\n",
       "</style>\n",
       "<table border=\"1\" class=\"dataframe\">\n",
       "  <thead>\n",
       "    <tr style=\"text-align: right;\">\n",
       "      <th></th>\n",
       "      <th>Model Name</th>\n",
       "      <th>Model Parameter</th>\n",
       "      <th>Training Score</th>\n",
       "      <th>Testing Score</th>\n",
       "    </tr>\n",
       "    <tr>\n",
       "      <th>Model Name</th>\n",
       "      <th></th>\n",
       "      <th></th>\n",
       "      <th></th>\n",
       "      <th></th>\n",
       "    </tr>\n",
       "  </thead>\n",
       "  <tbody>\n",
       "    <tr>\n",
       "      <th>KNN Classifier with PCA</th>\n",
       "      <td>KNN Classifier with PCA</td>\n",
       "      <td>n_neighbors = 8</td>\n",
       "      <td>0.977193</td>\n",
       "      <td>0.942105</td>\n",
       "    </tr>\n",
       "    <tr>\n",
       "      <th>SVC with PCA</th>\n",
       "      <td>SVC with PCA</td>\n",
       "      <td>C =10, kernel= rbf</td>\n",
       "      <td>0.957895</td>\n",
       "      <td>0.942105</td>\n",
       "    </tr>\n",
       "    <tr>\n",
       "      <th>Logistic Regression with PCA</th>\n",
       "      <td>Logistic Regression with PCA</td>\n",
       "      <td>penalty = l1</td>\n",
       "      <td>0.929825</td>\n",
       "      <td>0.915789</td>\n",
       "    </tr>\n",
       "    <tr>\n",
       "      <th>Decision Tree Classifier with PCA</th>\n",
       "      <td>Decision Tree Classifier with PCA</td>\n",
       "      <td>max_depth: 5</td>\n",
       "      <td>0.996491</td>\n",
       "      <td>0.957895</td>\n",
       "    </tr>\n",
       "  </tbody>\n",
       "</table>\n",
       "</div>"
      ],
      "text/plain": [
       "                                                          Model Name  \\\n",
       "Model Name                                                             \n",
       "KNN Classifier with PCA                      KNN Classifier with PCA   \n",
       "SVC with PCA                                            SVC with PCA   \n",
       "Logistic Regression with PCA            Logistic Regression with PCA   \n",
       "Decision Tree Classifier with PCA  Decision Tree Classifier with PCA   \n",
       "\n",
       "                                      Model Parameter Training Score  \\\n",
       "Model Name                                                             \n",
       "KNN Classifier with PCA               n_neighbors = 8       0.977193   \n",
       "SVC with PCA                       C =10, kernel= rbf       0.957895   \n",
       "Logistic Regression with PCA             penalty = l1       0.929825   \n",
       "Decision Tree Classifier with PCA        max_depth: 5       0.996491   \n",
       "\n",
       "                                  Testing Score  \n",
       "Model Name                                       \n",
       "KNN Classifier with PCA                0.942105  \n",
       "SVC with PCA                           0.942105  \n",
       "Logistic Regression with PCA           0.915789  \n",
       "Decision Tree Classifier with PCA      0.957895  "
      ]
     },
     "execution_count": 106,
     "metadata": {},
     "output_type": "execute_result"
    }
   ],
   "source": [
    "pca_report_table.head(10)"
   ]
  },
  {
   "cell_type": "code",
   "execution_count": 108,
   "metadata": {
    "scrolled": true
   },
   "outputs": [
    {
     "data": {
      "text/html": [
       "<div>\n",
       "<style scoped>\n",
       "    .dataframe tbody tr th:only-of-type {\n",
       "        vertical-align: middle;\n",
       "    }\n",
       "\n",
       "    .dataframe tbody tr th {\n",
       "        vertical-align: top;\n",
       "    }\n",
       "\n",
       "    .dataframe thead th {\n",
       "        text-align: right;\n",
       "    }\n",
       "</style>\n",
       "<table border=\"1\" class=\"dataframe\">\n",
       "  <thead>\n",
       "    <tr style=\"text-align: right;\">\n",
       "      <th></th>\n",
       "      <th>Model Name</th>\n",
       "      <th>Model Name.1</th>\n",
       "      <th>Model Parameter</th>\n",
       "      <th>Training Score</th>\n",
       "      <th>Testing Score</th>\n",
       "    </tr>\n",
       "  </thead>\n",
       "  <tbody>\n",
       "    <tr>\n",
       "      <th>0</th>\n",
       "      <td>KNN Classifier</td>\n",
       "      <td>KNN Classifier</td>\n",
       "      <td>n_neighbors = 7</td>\n",
       "      <td>0.977193</td>\n",
       "      <td>0.952632</td>\n",
       "    </tr>\n",
       "    <tr>\n",
       "      <th>1</th>\n",
       "      <td>SVC with PCA</td>\n",
       "      <td>SVC with PCA</td>\n",
       "      <td>C =100, kernel= linear</td>\n",
       "      <td>0.987719</td>\n",
       "      <td>0.963158</td>\n",
       "    </tr>\n",
       "    <tr>\n",
       "      <th>2</th>\n",
       "      <td>Logistic Regression</td>\n",
       "      <td>Logistic Regression</td>\n",
       "      <td>penalty = l1</td>\n",
       "      <td>0.963158</td>\n",
       "      <td>0.957895</td>\n",
       "    </tr>\n",
       "    <tr>\n",
       "      <th>3</th>\n",
       "      <td>Decision Tree Classifier</td>\n",
       "      <td>Decision Tree Classifier</td>\n",
       "      <td>max_depth: 9</td>\n",
       "      <td>1.000000</td>\n",
       "      <td>0.989474</td>\n",
       "    </tr>\n",
       "  </tbody>\n",
       "</table>\n",
       "</div>"
      ],
      "text/plain": [
       "                 Model Name              Model Name.1         Model Parameter  \\\n",
       "0            KNN Classifier            KNN Classifier         n_neighbors = 7   \n",
       "1              SVC with PCA              SVC with PCA  C =100, kernel= linear   \n",
       "2       Logistic Regression       Logistic Regression            penalty = l1   \n",
       "3  Decision Tree Classifier  Decision Tree Classifier            max_depth: 9   \n",
       "\n",
       "   Training Score  Testing Score  \n",
       "0        0.977193       0.952632  \n",
       "1        0.987719       0.963158  \n",
       "2        0.963158       0.957895  \n",
       "3        1.000000       0.989474  "
      ]
     },
     "execution_count": 108,
     "metadata": {},
     "output_type": "execute_result"
    }
   ],
   "source": [
    "report_table_without_pca = pd.read_csv('Classification Report Table without PCA.csv')\n",
    "report_table_without_pca.head(5)"
   ]
  },
  {
   "cell_type": "code",
   "execution_count": 109,
   "metadata": {},
   "outputs": [
    {
     "data": {
      "image/png": "[encoded data removed]",
      "text/plain": [
       "<Figure size 800x800 with 1 Axes>"
      ]
     },
     "metadata": {},
     "output_type": "display_data"
    }
   ],
   "source": [
    "import matplotlib.pyplot as plt\n",
    "\n",
    "ax = pca_report_table[['Training Score','Testing Score']].plot(kind='bar',\n",
    "            title = \"Comparison of Accuracies of Different Models with PCA\", figsize=(8, 8), fontsize = 8)\n",
    "plt.show()"
   ]
  },
  {
   "cell_type": "code",
   "execution_count": 111,
   "metadata": {},
   "outputs": [
    {
     "data": {
      "text/plain": [
       "<matplotlib.image.AxesImage at 0x17f96d91fa0>"
      ]
     },
     "execution_count": 111,
     "metadata": {},
     "output_type": "execute_result"
    },
    {
     "data": {
      "image/png": "[encoded data removed]",
      "text/plain": [
       "<Figure size 800x800 with 1 Axes>"
      ]
     },
     "metadata": {},
     "output_type": "display_data"
    }
   ],
   "source": [
    "import matplotlib.pyplot as plt\n",
    "import matplotlib.image as mpimg\n",
    "\n",
    "fig = plt.figure(figsize=(8,8))\n",
    "ax = fig.add_axes([0, 0, 1, 1])\n",
    "\n",
    "# Hide spines, ticks, etc.\n",
    "ax.axis('off')\n",
    "\n",
    "# Display the image.\n",
    "img=mpimg.imread('Classification Report Table without PCA.PNG')\n",
    "ax.imshow(img, aspect='auto')"
   ]
  },
  {
   "cell_type": "markdown",
   "metadata": {},
   "source": [
    "## Neural Network Model"
   ]
  },
  {
   "cell_type": "code",
   "execution_count": 119,
   "metadata": {
    "scrolled": true
   },
   "outputs": [
    {
     "name": "stderr",
     "output_type": "stream",
     "text": [
      "Using TensorFlow backend.\n"
     ]
    },
    {
     "ename": "ImportError",
     "evalue": "cannot import name 'transpose_shape' from 'keras.utils.generic_utils' (C:\\Users\\M_Thiruveedula\\anaconda3\\lib\\site-packages\\keras\\utils\\generic_utils.py)",
     "output_type": "error",
     "traceback": [
      "\u001b[1;31m---------------------------------------------------------------------------\u001b[0m",
      "\u001b[1;31mImportError\u001b[0m                               Traceback (most recent call last)",
      "Cell \u001b[1;32mIn[119], line 9\u001b[0m\n\u001b[0;32m      6\u001b[0m \u001b[38;5;66;03m#from tensorflow.keras import layers\u001b[39;00m\n\u001b[0;32m      7\u001b[0m np\u001b[38;5;241m.\u001b[39mrandom\u001b[38;5;241m.\u001b[39mseed(\u001b[38;5;241m0\u001b[39m)\n\u001b[1;32m----> 9\u001b[0m model \u001b[38;5;241m=\u001b[39m \u001b[43mkeras\u001b[49m\u001b[38;5;241;43m.\u001b[39;49m\u001b[43mSequential\u001b[49m()\n\u001b[0;32m     10\u001b[0m model\u001b[38;5;241m.\u001b[39madd(Dense(\u001b[38;5;241m10\u001b[39m, input_dim \u001b[38;5;241m=\u001b[39m \u001b[38;5;241m10\u001b[39m, activation \u001b[38;5;241m=\u001b[39m \u001b[38;5;124m'\u001b[39m\u001b[38;5;124msigmoid\u001b[39m\u001b[38;5;124m'\u001b[39m))\n\u001b[0;32m     11\u001b[0m model\u001b[38;5;241m.\u001b[39madd(Dense(\u001b[38;5;241m1\u001b[39m))\n",
      "File \u001b[1;32m~\\anaconda3\\lib\\site-packages\\tensorflow\\python\\util\\lazy_loader.py:58\u001b[0m, in \u001b[0;36mLazyLoader.__getattr__\u001b[1;34m(self, item)\u001b[0m\n\u001b[0;32m     57\u001b[0m \u001b[38;5;28;01mdef\u001b[39;00m \u001b[38;5;21m__getattr__\u001b[39m(\u001b[38;5;28mself\u001b[39m, item):\n\u001b[1;32m---> 58\u001b[0m   module \u001b[38;5;241m=\u001b[39m \u001b[38;5;28;43mself\u001b[39;49m\u001b[38;5;241;43m.\u001b[39;49m\u001b[43m_load\u001b[49m\u001b[43m(\u001b[49m\u001b[43m)\u001b[49m\n\u001b[0;32m     59\u001b[0m   \u001b[38;5;28;01mreturn\u001b[39;00m \u001b[38;5;28mgetattr\u001b[39m(module, item)\n",
      "File \u001b[1;32m~\\anaconda3\\lib\\site-packages\\tensorflow\\python\\util\\lazy_loader.py:41\u001b[0m, in \u001b[0;36mLazyLoader._load\u001b[1;34m(self)\u001b[0m\n\u001b[0;32m     39\u001b[0m \u001b[38;5;124;03m\"\"\"Load the module and insert it into the parent's globals.\"\"\"\u001b[39;00m\n\u001b[0;32m     40\u001b[0m \u001b[38;5;66;03m# Import the target module and insert it into the parent's namespace\u001b[39;00m\n\u001b[1;32m---> 41\u001b[0m module \u001b[38;5;241m=\u001b[39m \u001b[43mimportlib\u001b[49m\u001b[38;5;241;43m.\u001b[39;49m\u001b[43mimport_module\u001b[49m\u001b[43m(\u001b[49m\u001b[38;5;28;43mself\u001b[39;49m\u001b[38;5;241;43m.\u001b[39;49m\u001b[38;5;18;43m__name__\u001b[39;49m\u001b[43m)\u001b[49m\n\u001b[0;32m     42\u001b[0m \u001b[38;5;28mself\u001b[39m\u001b[38;5;241m.\u001b[39m_parent_module_globals[\u001b[38;5;28mself\u001b[39m\u001b[38;5;241m.\u001b[39m_local_name] \u001b[38;5;241m=\u001b[39m module\n\u001b[0;32m     44\u001b[0m \u001b[38;5;66;03m# Emit a warning if one was specified\u001b[39;00m\n",
      "File \u001b[1;32m~\\anaconda3\\lib\\importlib\\__init__.py:127\u001b[0m, in \u001b[0;36mimport_module\u001b[1;34m(name, package)\u001b[0m\n\u001b[0;32m    125\u001b[0m             \u001b[38;5;28;01mbreak\u001b[39;00m\n\u001b[0;32m    126\u001b[0m         level \u001b[38;5;241m+\u001b[39m\u001b[38;5;241m=\u001b[39m \u001b[38;5;241m1\u001b[39m\n\u001b[1;32m--> 127\u001b[0m \u001b[38;5;28;01mreturn\u001b[39;00m \u001b[43m_bootstrap\u001b[49m\u001b[38;5;241;43m.\u001b[39;49m\u001b[43m_gcd_import\u001b[49m\u001b[43m(\u001b[49m\u001b[43mname\u001b[49m\u001b[43m[\u001b[49m\u001b[43mlevel\u001b[49m\u001b[43m:\u001b[49m\u001b[43m]\u001b[49m\u001b[43m,\u001b[49m\u001b[43m \u001b[49m\u001b[43mpackage\u001b[49m\u001b[43m,\u001b[49m\u001b[43m \u001b[49m\u001b[43mlevel\u001b[49m\u001b[43m)\u001b[49m\n",
      "File \u001b[1;32m<frozen importlib._bootstrap>:1030\u001b[0m, in \u001b[0;36m_gcd_import\u001b[1;34m(name, package, level)\u001b[0m\n",
      "File \u001b[1;32m<frozen importlib._bootstrap>:1007\u001b[0m, in \u001b[0;36m_find_and_load\u001b[1;34m(name, import_)\u001b[0m\n",
      "File \u001b[1;32m<frozen importlib._bootstrap>:972\u001b[0m, in \u001b[0;36m_find_and_load_unlocked\u001b[1;34m(name, import_)\u001b[0m\n",
      "File \u001b[1;32m<frozen importlib._bootstrap>:228\u001b[0m, in \u001b[0;36m_call_with_frames_removed\u001b[1;34m(f, *args, **kwds)\u001b[0m\n",
      "File \u001b[1;32m<frozen importlib._bootstrap>:1030\u001b[0m, in \u001b[0;36m_gcd_import\u001b[1;34m(name, package, level)\u001b[0m\n",
      "File \u001b[1;32m<frozen importlib._bootstrap>:1007\u001b[0m, in \u001b[0;36m_find_and_load\u001b[1;34m(name, import_)\u001b[0m\n",
      "File \u001b[1;32m<frozen importlib._bootstrap>:972\u001b[0m, in \u001b[0;36m_find_and_load_unlocked\u001b[1;34m(name, import_)\u001b[0m\n",
      "File \u001b[1;32m<frozen importlib._bootstrap>:228\u001b[0m, in \u001b[0;36m_call_with_frames_removed\u001b[1;34m(f, *args, **kwds)\u001b[0m\n",
      "File \u001b[1;32m<frozen importlib._bootstrap>:1030\u001b[0m, in \u001b[0;36m_gcd_import\u001b[1;34m(name, package, level)\u001b[0m\n",
      "File \u001b[1;32m<frozen importlib._bootstrap>:1007\u001b[0m, in \u001b[0;36m_find_and_load\u001b[1;34m(name, import_)\u001b[0m\n",
      "File \u001b[1;32m<frozen importlib._bootstrap>:972\u001b[0m, in \u001b[0;36m_find_and_load_unlocked\u001b[1;34m(name, import_)\u001b[0m\n",
      "File \u001b[1;32m<frozen importlib._bootstrap>:228\u001b[0m, in \u001b[0;36m_call_with_frames_removed\u001b[1;34m(f, *args, **kwds)\u001b[0m\n",
      "File \u001b[1;32m<frozen importlib._bootstrap>:1030\u001b[0m, in \u001b[0;36m_gcd_import\u001b[1;34m(name, package, level)\u001b[0m\n",
      "File \u001b[1;32m<frozen importlib._bootstrap>:1007\u001b[0m, in \u001b[0;36m_find_and_load\u001b[1;34m(name, import_)\u001b[0m\n",
      "File \u001b[1;32m<frozen importlib._bootstrap>:986\u001b[0m, in \u001b[0;36m_find_and_load_unlocked\u001b[1;34m(name, import_)\u001b[0m\n",
      "File \u001b[1;32m<frozen importlib._bootstrap>:680\u001b[0m, in \u001b[0;36m_load_unlocked\u001b[1;34m(spec)\u001b[0m\n",
      "File \u001b[1;32m<frozen importlib._bootstrap_external>:850\u001b[0m, in \u001b[0;36mexec_module\u001b[1;34m(self, module)\u001b[0m\n",
      "File \u001b[1;32m<frozen importlib._bootstrap>:228\u001b[0m, in \u001b[0;36m_call_with_frames_removed\u001b[1;34m(f, *args, **kwds)\u001b[0m\n",
      "File \u001b[1;32m~\\anaconda3\\lib\\site-packages\\keras\\__init__.py:21\u001b[0m\n\u001b[0;32m     15\u001b[0m \u001b[38;5;124;03m\"\"\"Implementation of the Keras API, the high-level API of TensorFlow.\u001b[39;00m\n\u001b[0;32m     16\u001b[0m \n\u001b[0;32m     17\u001b[0m \u001b[38;5;124;03mDetailed documentation and user guides are available at\u001b[39;00m\n\u001b[0;32m     18\u001b[0m \u001b[38;5;124;03m[keras.io](https://keras.io).\u001b[39;00m\n\u001b[0;32m     19\u001b[0m \u001b[38;5;124;03m\"\"\"\u001b[39;00m\n\u001b[0;32m     20\u001b[0m \u001b[38;5;28;01mfrom\u001b[39;00m \u001b[38;5;21;01mkeras\u001b[39;00m \u001b[38;5;28;01mimport\u001b[39;00m distribute\n\u001b[1;32m---> 21\u001b[0m \u001b[38;5;28;01mfrom\u001b[39;00m \u001b[38;5;21;01mkeras\u001b[39;00m \u001b[38;5;28;01mimport\u001b[39;00m models\n\u001b[0;32m     22\u001b[0m \u001b[38;5;28;01mfrom\u001b[39;00m \u001b[38;5;21;01mkeras\u001b[39;00m\u001b[38;5;21;01m.\u001b[39;00m\u001b[38;5;21;01mengine\u001b[39;00m\u001b[38;5;21;01m.\u001b[39;00m\u001b[38;5;21;01minput_layer\u001b[39;00m \u001b[38;5;28;01mimport\u001b[39;00m Input\n\u001b[0;32m     23\u001b[0m \u001b[38;5;28;01mfrom\u001b[39;00m \u001b[38;5;21;01mkeras\u001b[39;00m\u001b[38;5;21;01m.\u001b[39;00m\u001b[38;5;21;01mengine\u001b[39;00m\u001b[38;5;21;01m.\u001b[39;00m\u001b[38;5;21;01msequential\u001b[39;00m \u001b[38;5;28;01mimport\u001b[39;00m Sequential\n",
      "File \u001b[1;32m~\\anaconda3\\lib\\site-packages\\keras\\models\\__init__.py:18\u001b[0m\n\u001b[0;32m      1\u001b[0m \u001b[38;5;66;03m# Copyright 2022 The TensorFlow Authors. All Rights Reserved.\u001b[39;00m\n\u001b[0;32m      2\u001b[0m \u001b[38;5;66;03m#\u001b[39;00m\n\u001b[0;32m      3\u001b[0m \u001b[38;5;66;03m# Licensed under the Apache License, Version 2.0 (the \"License\");\u001b[39;00m\n\u001b[1;32m   (...)\u001b[0m\n\u001b[0;32m     13\u001b[0m \u001b[38;5;66;03m# limitations under the License.\u001b[39;00m\n\u001b[0;32m     14\u001b[0m \u001b[38;5;66;03m# ==============================================================================\u001b[39;00m\n\u001b[0;32m     15\u001b[0m \u001b[38;5;124;03m\"\"\"Keras models API.\"\"\"\u001b[39;00m\n\u001b[1;32m---> 18\u001b[0m \u001b[38;5;28;01mfrom\u001b[39;00m \u001b[38;5;21;01mkeras\u001b[39;00m\u001b[38;5;21;01m.\u001b[39;00m\u001b[38;5;21;01mengine\u001b[39;00m\u001b[38;5;21;01m.\u001b[39;00m\u001b[38;5;21;01mfunctional\u001b[39;00m \u001b[38;5;28;01mimport\u001b[39;00m Functional\n\u001b[0;32m     19\u001b[0m \u001b[38;5;28;01mfrom\u001b[39;00m \u001b[38;5;21;01mkeras\u001b[39;00m\u001b[38;5;21;01m.\u001b[39;00m\u001b[38;5;21;01mengine\u001b[39;00m\u001b[38;5;21;01m.\u001b[39;00m\u001b[38;5;21;01msequential\u001b[39;00m \u001b[38;5;28;01mimport\u001b[39;00m Sequential\n\u001b[0;32m     20\u001b[0m \u001b[38;5;28;01mfrom\u001b[39;00m \u001b[38;5;21;01mkeras\u001b[39;00m\u001b[38;5;21;01m.\u001b[39;00m\u001b[38;5;21;01mengine\u001b[39;00m\u001b[38;5;21;01m.\u001b[39;00m\u001b[38;5;21;01mtraining\u001b[39;00m \u001b[38;5;28;01mimport\u001b[39;00m Model\n",
      "File \u001b[1;32m~\\anaconda3\\lib\\site-packages\\keras\\engine\\functional.py:26\u001b[0m\n\u001b[0;32m     22\u001b[0m \u001b[38;5;28;01mimport\u001b[39;00m \u001b[38;5;21;01mwarnings\u001b[39;00m\n\u001b[0;32m     24\u001b[0m \u001b[38;5;28;01mimport\u001b[39;00m \u001b[38;5;21;01mtensorflow\u001b[39;00m\u001b[38;5;21;01m.\u001b[39;00m\u001b[38;5;21;01mcompat\u001b[39;00m\u001b[38;5;21;01m.\u001b[39;00m\u001b[38;5;21;01mv2\u001b[39;00m \u001b[38;5;28;01mas\u001b[39;00m \u001b[38;5;21;01mtf\u001b[39;00m\n\u001b[1;32m---> 26\u001b[0m \u001b[38;5;28;01mfrom\u001b[39;00m \u001b[38;5;21;01mkeras\u001b[39;00m \u001b[38;5;28;01mimport\u001b[39;00m backend\n\u001b[0;32m     27\u001b[0m \u001b[38;5;28;01mfrom\u001b[39;00m \u001b[38;5;21;01mkeras\u001b[39;00m\u001b[38;5;21;01m.\u001b[39;00m\u001b[38;5;21;01mdtensor\u001b[39;00m \u001b[38;5;28;01mimport\u001b[39;00m layout_map \u001b[38;5;28;01mas\u001b[39;00m layout_map_lib\n\u001b[0;32m     28\u001b[0m \u001b[38;5;28;01mfrom\u001b[39;00m \u001b[38;5;21;01mkeras\u001b[39;00m\u001b[38;5;21;01m.\u001b[39;00m\u001b[38;5;21;01mengine\u001b[39;00m \u001b[38;5;28;01mimport\u001b[39;00m base_layer\n",
      "File \u001b[1;32m~\\anaconda3\\lib\\site-packages\\keras\\backend\\__init__.py:1\u001b[0m\n\u001b[1;32m----> 1\u001b[0m \u001b[38;5;28;01mfrom\u001b[39;00m \u001b[38;5;21;01m.\u001b[39;00m\u001b[38;5;21;01mload_backend\u001b[39;00m \u001b[38;5;28;01mimport\u001b[39;00m epsilon\n\u001b[0;32m      2\u001b[0m \u001b[38;5;28;01mfrom\u001b[39;00m \u001b[38;5;21;01m.\u001b[39;00m\u001b[38;5;21;01mload_backend\u001b[39;00m \u001b[38;5;28;01mimport\u001b[39;00m set_epsilon\n\u001b[0;32m      3\u001b[0m \u001b[38;5;28;01mfrom\u001b[39;00m \u001b[38;5;21;01m.\u001b[39;00m\u001b[38;5;21;01mload_backend\u001b[39;00m \u001b[38;5;28;01mimport\u001b[39;00m floatx\n",
      "File \u001b[1;32m~\\anaconda3\\lib\\site-packages\\keras\\backend\\load_backend.py:89\u001b[0m\n\u001b[0;32m     87\u001b[0m \u001b[38;5;28;01melif\u001b[39;00m _BACKEND \u001b[38;5;241m==\u001b[39m \u001b[38;5;124m'\u001b[39m\u001b[38;5;124mtensorflow\u001b[39m\u001b[38;5;124m'\u001b[39m:\n\u001b[0;32m     88\u001b[0m     sys\u001b[38;5;241m.\u001b[39mstderr\u001b[38;5;241m.\u001b[39mwrite(\u001b[38;5;124m'\u001b[39m\u001b[38;5;124mUsing TensorFlow backend.\u001b[39m\u001b[38;5;130;01m\\n\u001b[39;00m\u001b[38;5;124m'\u001b[39m)\n\u001b[1;32m---> 89\u001b[0m     \u001b[38;5;28;01mfrom\u001b[39;00m \u001b[38;5;21;01m.\u001b[39;00m\u001b[38;5;21;01mtensorflow_backend\u001b[39;00m \u001b[38;5;28;01mimport\u001b[39;00m \u001b[38;5;241m*\u001b[39m\n\u001b[0;32m     90\u001b[0m \u001b[38;5;28;01melse\u001b[39;00m:\n\u001b[0;32m     91\u001b[0m     \u001b[38;5;66;03m# Try and load external backend.\u001b[39;00m\n\u001b[0;32m     92\u001b[0m     \u001b[38;5;28;01mtry\u001b[39;00m:\n",
      "File \u001b[1;32m~\\anaconda3\\lib\\site-packages\\keras\\backend\\tensorflow_backend.py:24\u001b[0m\n\u001b[0;32m     22\u001b[0m \u001b[38;5;28;01mfrom\u001b[39;00m \u001b[38;5;21;01m.\u001b[39;00m\u001b[38;5;21;01mcommon\u001b[39;00m \u001b[38;5;28;01mimport\u001b[39;00m epsilon\n\u001b[0;32m     23\u001b[0m \u001b[38;5;28;01mfrom\u001b[39;00m \u001b[38;5;21;01m.\u001b[39;00m\u001b[38;5;21;01mcommon\u001b[39;00m \u001b[38;5;28;01mimport\u001b[39;00m normalize_data_format\n\u001b[1;32m---> 24\u001b[0m \u001b[38;5;28;01mfrom\u001b[39;00m \u001b[38;5;21;01m.\u001b[39;00m\u001b[38;5;21;01m.\u001b[39;00m\u001b[38;5;21;01mutils\u001b[39;00m\u001b[38;5;21;01m.\u001b[39;00m\u001b[38;5;21;01mgeneric_utils\u001b[39;00m \u001b[38;5;28;01mimport\u001b[39;00m transpose_shape\n\u001b[0;32m     25\u001b[0m \u001b[38;5;28;01mfrom\u001b[39;00m \u001b[38;5;21;01m.\u001b[39;00m\u001b[38;5;21;01m.\u001b[39;00m\u001b[38;5;21;01mutils\u001b[39;00m\u001b[38;5;21;01m.\u001b[39;00m\u001b[38;5;21;01mgeneric_utils\u001b[39;00m \u001b[38;5;28;01mimport\u001b[39;00m has_arg\n\u001b[0;32m     27\u001b[0m \u001b[38;5;66;03m# Legacy functions\u001b[39;00m\n",
      "\u001b[1;31mImportError\u001b[0m: cannot import name 'transpose_shape' from 'keras.utils.generic_utils' (C:\\Users\\M_Thiruveedula\\anaconda3\\lib\\site-packages\\keras\\utils\\generic_utils.py)"
     ]
    }
   ],
   "source": [
    "#from keras.models import Sequential\n",
    "#from keras.layers import Dense,MaxPooling1D\n",
    "#import tensorflow.python.keras.utils as generic_utils\n",
    "import tensorflow as tf\n",
    "from tensorflow import keras\n",
    "from keras.utils.generic_utils import transpose_shape\n",
    "#from tensorflow.keras import layers\n",
    "np.random.seed(0)\n",
    "\n",
    "model = keras.Sequential()\n",
    "model.add(Dense(10, input_dim = 10, activation = 'sigmoid'))\n",
    "model.add(Dense(1))\n",
    "\n",
    "model.compile(loss = 'binary_crossentropy', optimizer = 'adam', metrics = ['accuracy'])\n",
    "\n",
    "model.fit(X_train, y_train, epochs = 40, batch_size = 50)"
   ]
  },
  {
   "cell_type": "code",
   "execution_count": 113,
   "metadata": {},
   "outputs": [
    {
     "ename": "NameError",
     "evalue": "name 'model' is not defined",
     "output_type": "error",
     "traceback": [
      "\u001b[1;31m---------------------------------------------------------------------------\u001b[0m",
      "\u001b[1;31mNameError\u001b[0m                                 Traceback (most recent call last)",
      "Cell \u001b[1;32mIn[113], line 2\u001b[0m\n\u001b[0;32m      1\u001b[0m \u001b[38;5;28;01mfrom\u001b[39;00m \u001b[38;5;21;01msklearn\u001b[39;00m\u001b[38;5;21;01m.\u001b[39;00m\u001b[38;5;21;01mmetrics\u001b[39;00m \u001b[38;5;28;01mimport\u001b[39;00m accuracy_score\n\u001b[1;32m----> 2\u001b[0m y_train_pred \u001b[38;5;241m=\u001b[39m \u001b[43mmodel\u001b[49m\u001b[38;5;241m.\u001b[39mpredict(X_train)\n\u001b[0;32m      3\u001b[0m y_train_pred \u001b[38;5;241m=\u001b[39m np\u001b[38;5;241m.\u001b[39mwhere(y_train_pred \u001b[38;5;241m>\u001b[39m\u001b[38;5;241m=\u001b[39m \u001b[38;5;241m0.5\u001b[39m , \u001b[38;5;241m1\u001b[39m, \u001b[38;5;241m0\u001b[39m)\n\u001b[0;32m      4\u001b[0m y_test_pred \u001b[38;5;241m=\u001b[39m model\u001b[38;5;241m.\u001b[39mpredict(X_test)\n",
      "\u001b[1;31mNameError\u001b[0m: name 'model' is not defined"
     ]
    }
   ],
   "source": [
    "from sklearn.metrics import accuracy_score\n",
    "y_train_pred = model.predict(X_train)\n",
    "y_train_pred = np.where(y_train_pred >= 0.5 , 1, 0)\n",
    "y_test_pred = model.predict(X_test)\n",
    "y_test_pred = np.where(y_test_pred >= 0.5 , 1, 0)\n",
    "print(\"NN Train Score: \",accuracy_score(y_train, y_train_pred))\n",
    "print(\"NN Test Score: \", accuracy_score(y_test, y_test_pred))"
   ]
  },
  {
   "cell_type": "markdown",
   "metadata": {},
   "source": [
    "# Model Selection"
   ]
  },
  {
   "cell_type": "markdown",
   "metadata": {},
   "source": [
    "Amongst all the models Logistic Regression model with PCA seems to be the best model. "
   ]
  },
  {
   "cell_type": "code",
   "execution_count": null,
   "metadata": {},
   "outputs": [],
   "source": [
    "print(\"Logistic Regression with PCA Training Score: \", pca_lr.score(X_train_reduced, y_train))\n",
    "print(\"Logistic Regression with PCA Testing Score: \", pca_lr.score(X_test_reduced, y_test))"
   ]
  },
  {
   "cell_type": "code",
   "execution_count": null,
   "metadata": {},
   "outputs": [],
   "source": [
    "y_predicted = pca_lr.predict(X_test_reduced)\n",
    "print(\"Predicted value for 1st testing row: \", y_predicted[0])\n",
    "print(\"Original value for 1st testing row: \", y_test.values[0])\n",
    "print(\"\")\n",
    "print(\"Predicted value for 5th testing row: \", y_predicted[4])\n",
    "print(\"Original value for 5th testing row: \", y_test.values[4])"
   ]
  },
  {
   "cell_type": "markdown",
   "metadata": {},
   "source": [
    "The model works pretty well on the test data as well.\n",
    "\n",
    "**Training and testing score of around 0.95 was achieved using Logistic Regression.** "
   ]
  }
 ],
 "metadata": {
  "kernelspec": {
   "display_name": "Python 3 (ipykernel)",
   "language": "python",
   "name": "python3"
  },
  "language_info": {
   "codemirror_mode": {
    "name": "ipython",
    "version": 3
   },
   "file_extension": ".py",
   "mimetype": "text/x-python",
   "name": "python",
   "nbconvert_exporter": "python",
   "pygments_lexer": "ipython3",
   "version": "3.9.13"
  }
 },
 "nbformat": 4,
 "nbformat_minor": 2
}
